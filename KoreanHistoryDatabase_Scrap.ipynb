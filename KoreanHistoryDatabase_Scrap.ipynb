{
  "nbformat": 4,
  "nbformat_minor": 0,
  "metadata": {
    "colab": {
      "provenance": [],
      "include_colab_link": true
    },
    "kernelspec": {
      "name": "python3",
      "display_name": "Python 3"
    },
    "language_info": {
      "name": "python"
    },
    "widgets": {
      "application/vnd.jupyter.widget-state+json": {
        "f0d426ede3cd48188366868530ec6f26": {
          "model_module": "@jupyter-widgets/controls",
          "model_name": "HBoxModel",
          "model_module_version": "1.5.0",
          "state": {
            "_dom_classes": [],
            "_model_module": "@jupyter-widgets/controls",
            "_model_module_version": "1.5.0",
            "_model_name": "HBoxModel",
            "_view_count": null,
            "_view_module": "@jupyter-widgets/controls",
            "_view_module_version": "1.5.0",
            "_view_name": "HBoxView",
            "box_style": "",
            "children": [
              "IPY_MODEL_0483ac7b9331441c87990b8891fdafed",
              "IPY_MODEL_a80c262e51f346efb096bb6407c88052",
              "IPY_MODEL_5cb8df32c57b43da836c29bdc42257ef"
            ],
            "layout": "IPY_MODEL_f63c6c4eeaf94712b053581bf94e6c60"
          }
        },
        "0483ac7b9331441c87990b8891fdafed": {
          "model_module": "@jupyter-widgets/controls",
          "model_name": "HTMLModel",
          "model_module_version": "1.5.0",
          "state": {
            "_dom_classes": [],
            "_model_module": "@jupyter-widgets/controls",
            "_model_module_version": "1.5.0",
            "_model_name": "HTMLModel",
            "_view_count": null,
            "_view_module": "@jupyter-widgets/controls",
            "_view_module_version": "1.5.0",
            "_view_name": "HTMLView",
            "description": "",
            "description_tooltip": null,
            "layout": "IPY_MODEL_a818eed066ee433a909949ec4ccc870a",
            "placeholder": "​",
            "style": "IPY_MODEL_ff7a7b08836e4102b2ed4bebb150e756",
            "value": "  8%"
          }
        },
        "a80c262e51f346efb096bb6407c88052": {
          "model_module": "@jupyter-widgets/controls",
          "model_name": "FloatProgressModel",
          "model_module_version": "1.5.0",
          "state": {
            "_dom_classes": [],
            "_model_module": "@jupyter-widgets/controls",
            "_model_module_version": "1.5.0",
            "_model_name": "FloatProgressModel",
            "_view_count": null,
            "_view_module": "@jupyter-widgets/controls",
            "_view_module_version": "1.5.0",
            "_view_name": "ProgressView",
            "bar_style": "danger",
            "description": "",
            "description_tooltip": null,
            "layout": "IPY_MODEL_e3aa8678c17e4c728294f18276c46576",
            "max": 50,
            "min": 0,
            "orientation": "horizontal",
            "style": "IPY_MODEL_ccd7463449784ca3a1bce4928cc64fcf",
            "value": 4
          }
        },
        "5cb8df32c57b43da836c29bdc42257ef": {
          "model_module": "@jupyter-widgets/controls",
          "model_name": "HTMLModel",
          "model_module_version": "1.5.0",
          "state": {
            "_dom_classes": [],
            "_model_module": "@jupyter-widgets/controls",
            "_model_module_version": "1.5.0",
            "_model_name": "HTMLModel",
            "_view_count": null,
            "_view_module": "@jupyter-widgets/controls",
            "_view_module_version": "1.5.0",
            "_view_name": "HTMLView",
            "description": "",
            "description_tooltip": null,
            "layout": "IPY_MODEL_95fc1b554d364df99943808cc9b58a35",
            "placeholder": "​",
            "style": "IPY_MODEL_bad99d6833f640d2a63a24c817cbce70",
            "value": " 4/50 [04:23&lt;50:34, 65.96s/it]"
          }
        },
        "f63c6c4eeaf94712b053581bf94e6c60": {
          "model_module": "@jupyter-widgets/base",
          "model_name": "LayoutModel",
          "model_module_version": "1.2.0",
          "state": {
            "_model_module": "@jupyter-widgets/base",
            "_model_module_version": "1.2.0",
            "_model_name": "LayoutModel",
            "_view_count": null,
            "_view_module": "@jupyter-widgets/base",
            "_view_module_version": "1.2.0",
            "_view_name": "LayoutView",
            "align_content": null,
            "align_items": null,
            "align_self": null,
            "border": null,
            "bottom": null,
            "display": null,
            "flex": null,
            "flex_flow": null,
            "grid_area": null,
            "grid_auto_columns": null,
            "grid_auto_flow": null,
            "grid_auto_rows": null,
            "grid_column": null,
            "grid_gap": null,
            "grid_row": null,
            "grid_template_areas": null,
            "grid_template_columns": null,
            "grid_template_rows": null,
            "height": null,
            "justify_content": null,
            "justify_items": null,
            "left": null,
            "margin": null,
            "max_height": null,
            "max_width": null,
            "min_height": null,
            "min_width": null,
            "object_fit": null,
            "object_position": null,
            "order": null,
            "overflow": null,
            "overflow_x": null,
            "overflow_y": null,
            "padding": null,
            "right": null,
            "top": null,
            "visibility": null,
            "width": null
          }
        },
        "a818eed066ee433a909949ec4ccc870a": {
          "model_module": "@jupyter-widgets/base",
          "model_name": "LayoutModel",
          "model_module_version": "1.2.0",
          "state": {
            "_model_module": "@jupyter-widgets/base",
            "_model_module_version": "1.2.0",
            "_model_name": "LayoutModel",
            "_view_count": null,
            "_view_module": "@jupyter-widgets/base",
            "_view_module_version": "1.2.0",
            "_view_name": "LayoutView",
            "align_content": null,
            "align_items": null,
            "align_self": null,
            "border": null,
            "bottom": null,
            "display": null,
            "flex": null,
            "flex_flow": null,
            "grid_area": null,
            "grid_auto_columns": null,
            "grid_auto_flow": null,
            "grid_auto_rows": null,
            "grid_column": null,
            "grid_gap": null,
            "grid_row": null,
            "grid_template_areas": null,
            "grid_template_columns": null,
            "grid_template_rows": null,
            "height": null,
            "justify_content": null,
            "justify_items": null,
            "left": null,
            "margin": null,
            "max_height": null,
            "max_width": null,
            "min_height": null,
            "min_width": null,
            "object_fit": null,
            "object_position": null,
            "order": null,
            "overflow": null,
            "overflow_x": null,
            "overflow_y": null,
            "padding": null,
            "right": null,
            "top": null,
            "visibility": null,
            "width": null
          }
        },
        "ff7a7b08836e4102b2ed4bebb150e756": {
          "model_module": "@jupyter-widgets/controls",
          "model_name": "DescriptionStyleModel",
          "model_module_version": "1.5.0",
          "state": {
            "_model_module": "@jupyter-widgets/controls",
            "_model_module_version": "1.5.0",
            "_model_name": "DescriptionStyleModel",
            "_view_count": null,
            "_view_module": "@jupyter-widgets/base",
            "_view_module_version": "1.2.0",
            "_view_name": "StyleView",
            "description_width": ""
          }
        },
        "e3aa8678c17e4c728294f18276c46576": {
          "model_module": "@jupyter-widgets/base",
          "model_name": "LayoutModel",
          "model_module_version": "1.2.0",
          "state": {
            "_model_module": "@jupyter-widgets/base",
            "_model_module_version": "1.2.0",
            "_model_name": "LayoutModel",
            "_view_count": null,
            "_view_module": "@jupyter-widgets/base",
            "_view_module_version": "1.2.0",
            "_view_name": "LayoutView",
            "align_content": null,
            "align_items": null,
            "align_self": null,
            "border": null,
            "bottom": null,
            "display": null,
            "flex": null,
            "flex_flow": null,
            "grid_area": null,
            "grid_auto_columns": null,
            "grid_auto_flow": null,
            "grid_auto_rows": null,
            "grid_column": null,
            "grid_gap": null,
            "grid_row": null,
            "grid_template_areas": null,
            "grid_template_columns": null,
            "grid_template_rows": null,
            "height": null,
            "justify_content": null,
            "justify_items": null,
            "left": null,
            "margin": null,
            "max_height": null,
            "max_width": null,
            "min_height": null,
            "min_width": null,
            "object_fit": null,
            "object_position": null,
            "order": null,
            "overflow": null,
            "overflow_x": null,
            "overflow_y": null,
            "padding": null,
            "right": null,
            "top": null,
            "visibility": null,
            "width": null
          }
        },
        "ccd7463449784ca3a1bce4928cc64fcf": {
          "model_module": "@jupyter-widgets/controls",
          "model_name": "ProgressStyleModel",
          "model_module_version": "1.5.0",
          "state": {
            "_model_module": "@jupyter-widgets/controls",
            "_model_module_version": "1.5.0",
            "_model_name": "ProgressStyleModel",
            "_view_count": null,
            "_view_module": "@jupyter-widgets/base",
            "_view_module_version": "1.2.0",
            "_view_name": "StyleView",
            "bar_color": null,
            "description_width": ""
          }
        },
        "95fc1b554d364df99943808cc9b58a35": {
          "model_module": "@jupyter-widgets/base",
          "model_name": "LayoutModel",
          "model_module_version": "1.2.0",
          "state": {
            "_model_module": "@jupyter-widgets/base",
            "_model_module_version": "1.2.0",
            "_model_name": "LayoutModel",
            "_view_count": null,
            "_view_module": "@jupyter-widgets/base",
            "_view_module_version": "1.2.0",
            "_view_name": "LayoutView",
            "align_content": null,
            "align_items": null,
            "align_self": null,
            "border": null,
            "bottom": null,
            "display": null,
            "flex": null,
            "flex_flow": null,
            "grid_area": null,
            "grid_auto_columns": null,
            "grid_auto_flow": null,
            "grid_auto_rows": null,
            "grid_column": null,
            "grid_gap": null,
            "grid_row": null,
            "grid_template_areas": null,
            "grid_template_columns": null,
            "grid_template_rows": null,
            "height": null,
            "justify_content": null,
            "justify_items": null,
            "left": null,
            "margin": null,
            "max_height": null,
            "max_width": null,
            "min_height": null,
            "min_width": null,
            "object_fit": null,
            "object_position": null,
            "order": null,
            "overflow": null,
            "overflow_x": null,
            "overflow_y": null,
            "padding": null,
            "right": null,
            "top": null,
            "visibility": null,
            "width": null
          }
        },
        "bad99d6833f640d2a63a24c817cbce70": {
          "model_module": "@jupyter-widgets/controls",
          "model_name": "DescriptionStyleModel",
          "model_module_version": "1.5.0",
          "state": {
            "_model_module": "@jupyter-widgets/controls",
            "_model_module_version": "1.5.0",
            "_model_name": "DescriptionStyleModel",
            "_view_count": null,
            "_view_module": "@jupyter-widgets/base",
            "_view_module_version": "1.2.0",
            "_view_name": "StyleView",
            "description_width": ""
          }
        }
      }
    }
  },
  "cells": [
    {
      "cell_type": "markdown",
      "metadata": {
        "id": "view-in-github",
        "colab_type": "text"
      },
      "source": [
        "<a href=\"https://colab.research.google.com/github/ByungjunKim/KoreanHistoryDatabase/blob/master/KoreanHistoryDatabase_Scrap.ipynb\" target=\"_parent\"><img src=\"https://colab.research.google.com/assets/colab-badge.svg\" alt=\"Open In Colab\"/></a>"
      ]
    },
    {
      "cell_type": "markdown",
      "source": [
        "# 한국사데이터베이스 - 한국근현대잡지자료\n",
        "작성자 : 김병준(KAIST)"
      ],
      "metadata": {
        "id": "NPBaJcRommrz"
      }
    },
    {
      "cell_type": "markdown",
      "source": [
        "### 스크래핑 준비"
      ],
      "metadata": {
        "id": "5X2clL4-mkwG"
      }
    },
    {
      "cell_type": "code",
      "source": [
        "pip install -U requests"
      ],
      "metadata": {
        "colab": {
          "base_uri": "https://localhost:8080/"
        },
        "id": "m7k0VTzrRtsX",
        "outputId": "d07b87eb-fc98-4bb3-cbdc-8a28d3160380"
      },
      "execution_count": null,
      "outputs": [
        {
          "output_type": "stream",
          "name": "stdout",
          "text": [
            "Requirement already satisfied: requests in /usr/local/lib/python3.10/dist-packages (2.31.0)\n",
            "Requirement already satisfied: charset-normalizer<4,>=2 in /usr/local/lib/python3.10/dist-packages (from requests) (3.3.2)\n",
            "Requirement already satisfied: idna<4,>=2.5 in /usr/local/lib/python3.10/dist-packages (from requests) (3.6)\n",
            "Requirement already satisfied: urllib3<3,>=1.21.1 in /usr/local/lib/python3.10/dist-packages (from requests) (2.0.7)\n",
            "Requirement already satisfied: certifi>=2017.4.17 in /usr/local/lib/python3.10/dist-packages (from requests) (2023.11.17)\n"
          ]
        }
      ]
    },
    {
      "cell_type": "code",
      "execution_count": null,
      "metadata": {
        "id": "DSikDPOrQgPq"
      },
      "outputs": [],
      "source": [
        "import pandas as pd\n",
        "import numpy as np\n",
        "import requests\n",
        "from bs4 import BeautifulSoup\n",
        "import urllib3\n",
        "urllib3.disable_warnings(urllib3.exceptions.InsecureRequestWarning)\n",
        "import time\n",
        "from tqdm.auto import tqdm"
      ]
    },
    {
      "cell_type": "code",
      "source": [
        "# 한국근현대잡지자료 - 대강자강회월보\n",
        "url = 'http://db.history.go.kr/id/ma_001_0010_0010'"
      ],
      "metadata": {
        "id": "Ld5fflnRRB11"
      },
      "execution_count": null,
      "outputs": []
    },
    {
      "cell_type": "code",
      "source": [
        "# Create a session object with SSL verification disabled\n",
        "session = requests.Session()\n",
        "session.verify = False\n",
        "\n",
        "# Make a request using the session object\n",
        "response = session.get(url)\n",
        "\n",
        "# Print the response\n",
        "# print(response.text)"
      ],
      "metadata": {
        "id": "pWkj2E-ORhuM"
      },
      "execution_count": null,
      "outputs": []
    },
    {
      "cell_type": "code",
      "source": [
        "# Parse the HTML document\n",
        "soup = BeautifulSoup(response.content, 'lxml')\n",
        "soup"
      ],
      "metadata": {
        "id": "eTPi2p2tSSD_"
      },
      "execution_count": null,
      "outputs": []
    },
    {
      "cell_type": "code",
      "source": [
        "main = soup.find(class_=\"cont_view\")\n",
        "main"
      ],
      "metadata": {
        "id": "GPw7JT0aT0Xl"
      },
      "execution_count": null,
      "outputs": []
    },
    {
      "cell_type": "markdown",
      "source": [
        "### 메타 데이터"
      ],
      "metadata": {
        "id": "Ko8Bx7TnUKKm"
      }
    },
    {
      "cell_type": "code",
      "source": [
        "# Find the table element\n",
        "table = main.find('table')\n",
        "\n",
        "# Extract the data from the table\n",
        "metadata = {}\n",
        "for row in table.find_all('tr'):\n",
        "    key = row.th.text\n",
        "    value = row.td.text.strip()  # Remove leading/trailing whitespace\n",
        "    metadata[key] = value\n",
        "metadata"
      ],
      "metadata": {
        "colab": {
          "base_uri": "https://localhost:8080/"
        },
        "id": "QM8CPdo_Rl14",
        "outputId": "5a581e9f-aad5-459d-ad2c-a2438fdd0216"
      },
      "execution_count": null,
      "outputs": [
        {
          "output_type": "execute_result",
          "data": {
            "text/plain": [
              "{'잡지명': '대한자강회월보 제1호',\n",
              " '발행일': '1906년 07월\\xa031일',\n",
              " '기사제목': '大韓自强會月報序［三編］',\n",
              " '기사형태': '논설'}"
            ]
          },
          "metadata": {},
          "execution_count": 40
        }
      ]
    },
    {
      "cell_type": "markdown",
      "source": [
        "### 본문"
      ],
      "metadata": {
        "id": "Vl-iEOPXUO2s"
      }
    },
    {
      "cell_type": "code",
      "source": [
        "main.find(id=\"cont_view\")"
      ],
      "metadata": {
        "colab": {
          "base_uri": "https://localhost:8080/"
        },
        "id": "j0SjQG2SRQpD",
        "outputId": "d6617684-6855-44cb-d041-b974cb2ec485"
      },
      "execution_count": null,
      "outputs": [
        {
          "output_type": "execute_result",
          "data": {
            "text/plain": [
              "<div id=\"cont_view\" style=\"margin-left:20px;\"><div style=\"text-align:justify;word-break:break-all;\"><b>大韓自强會月報序［三編］</b><br/></div><div style=\"text-align:justify;word-break:break-all;\">日에 有客이 促膝附耳고 叩之于余 曰 <span style=\"color:#336666\" title=\"단체\">自强會</span>之名稱과 及 其 趣旨 業己公佈大世矣라. 固不容再問이어니와 必其裏情이 或有니 願一聞之노라. 余ㅣ 曰 惡라 是何言也오 君之 所謂 裏情은 表面으로 稱云自强이라고 其 內容은 浮沈渾敦야 阿私作俑을 是云者歟아 抑或外假華名고 內挾僞雜야 以營營於肥已之私 是云者歟아 抑 或 形式上으로 腐敗 攻擊되 實地 情衷은 徒藉美名고 終無事行之可能結局者 是云歟아 於 此三者에 有一焉이면 其 已强者도 必衰弱乃己어늘 況如今萎 微懦弱之吾人이 奚暇에 有自强之希望哉아 本會 趣旨 及 名稱은 表裏 均一야 無他裏情은 斷然靡間이어늘 今 君之問이 有此訝點니 是 謂自强之必無其力而恐有有初鮮終之歎歟아 此ㅣ 吾國 所以蒙未開之誚也라 君如未信커던 請訂諸本會之月報라 此 卽 本會之機關 精神也니 於是乎에 其可觀乎져 客이 唯唯曰 果然 乎哉아.</div><div style=\"text-align:justify;word-break:break-all;\"><span style=\"color:#336666\" title=\"이름\">光武</span> 十年 七月 日 會長 <span style=\"color:#336666\" title=\"이름\">尹致昊</span></div><div style=\"text-align:justify;word-break:break-all;\">●會之有報 何歟오 曰 使會員讀之也니라 其 使 會員讀之 何歟오 曰 欲其求自强之道也니라. 其 不許非會員讀之 何歟오 曰 否라 讀之 自會員始오 非不許非會員也라. 苟求自强之道면 則 普天下仁人君子ㅣ 皆將讀之니 而況爲我韓人者哉리오 然我韓之委靡至＜1＞此 皆尙文之罪也어늘 而今又使之讀書 何歟오 曰 書能令人弱이오 亦能令人强이니 愚請因是而痛論之호리라. 夫黃老之談이 足以亡晋氏오 奉天之詔ㅣ 足以復唐室니 書之感人이 其效固不淺尠矣오 且自古俊傑之士ㅣ 必要識時務니 時務者 非他也라 吾旣生今日之世니 則 當服今日之衣고 當喫今日之飯고 當讀今日之書고 當圖今日之强也라. 近見迂儒輩ㅣ 每以古昔稱道나 然不知世殊者 人亦殊고 人殊者 事亦殊고 事殊者 書亦殊니 唐虞三代之書ㅣ 果盡의 則不必更有秦漢書오 秦漢書ㅣ 果盡의 則不必更有唐宋書오 唐宋書ㅣ 果盡의 則不必更有明淸書오 明淸書ㅣ 果盡矣 則不必更有泰西書오 泰西書ㅣ 果盡의 則不必更有<span style=\"color:#336666\" title=\"단체\">自强會</span>月報書也라 夫然則會報之行이 是豈得己者耶아 吾已勉吾自强고 而又復勉公者 誠恐志不一而力分 故耳라 吾己自强고 公又復自强이면 則是得二人之自强也오 公이 又復勉公之傍人고 公之傍人이 又 復勉其傍人이면 則是得四人之自强也니 由此而至於得二千萬口之自强이면 則國家之政治 可以改善이오 世界之羈絆을 可以出脫이니 然則 諸公之讀會報ㅣ 亦豈得己者耶아 嗚呼라 鷄旣鳴의오 東方이 旣白의라 其以兩手로 擦開睡餘之眼而讀之면 非惟吾之幸이라 亦 諸公之幸也오 非惟諸公之幸이라 亦 全國之幸也라 노라.＜2＞</div><div style=\"text-align:justify;word-break:break-all;\"><span style=\"color:#336666\" title=\"이름\">南嶽居士</span><span style=\"color:#336666\" title=\"이름\">李沂</span> 識</div><div style=\"text-align:justify;word-break:break-all;\">●韓國介在乎日淸俄三國間國弱小而民未開當初受淸國壓制國勢日萎苶日淸交戰後雖脫 淸國羈絆不堪於日本警醒竊欲依俄國以避之日俄開仗俄國連敗東亞之大勢將歸於日本也愕然失色復賴於日本矣嗚呼隣强竟勢間者爲强者所左右如韓國者亦難哉雖然使韓國爲韓國豈無其道也哉然而韓國當路者少達觀乏勇斷每一逢國難左顧右盻徒欲依隣强以謀苟安故聞俄國强大冠歐洲則心動焉見日本勃興如旭日則心傾焉聞淸國尨大如眠獅子他年富强不可測則復動其意徒事大附勢陽爲信賴陰懷狐疑如斯而其國獨立者天下未嘗有之也.</div><div style=\"text-align:justify;word-break:break-all;\">蓋韓國二千萬人中豈無達者也哉余嘗結交其士君子知有老練精達之人傑見有少壯有爲之人士而今則如此何也政治法制未完備人才不得其處君民不共利害上下不同喜憂故也若君民共利害上下同喜憂施敎育進人智勸殖産開富源破四色仕路擇用人才使人心不倦有所自恃則韓國富强可期而待而已矣今也世界文明列國環視之下誰能以兵强之故擅得侵略他國哉天道無親常與正義國雖小勿自畏人雖貧勿自侮唯顧正義如何耳國旣守正義上下協力則雖不養兵練武亦足以對峙列强矣蓋小國之所以强在守正義貧國之所以富在敎育殖産上下協力守正義施敎育勸殖産＜3＞是在今日實爲韓國之急務也嗚呼韓國官民僉君子欲謀其自主獨立而列於世界文明國則在蹈其爲文明國之軏道而莫敢或反其通義通法而已矣是<span style=\"color:#336666\" title=\"단체\">大韓自强會</span>之趣旨目的而月報則 本會言動之寫眞機關也遂記一言於卷端以代序文</div><div style=\"text-align:justify;word-break:break-all;\"><span style=\"color:#336666\" title=\"이름\">金陵</span><span style=\"color:#336666\" title=\"이름\">大垣丈夫</span></div><div style=\"text-align:justify;word-break:break-all;\"><span style=\"color:#336666\" title=\"이름\">南嵩山人</span>曰誰道日本之少文章哉此篇文字明確正大其組織極精緻極宏博至其論國家正義處尤切時病令人神動意踴下頂門之一針撞警世之大鐘讀者須三復玩繹焉＜4＞</div><div style=\"text-align:justify;word-break:break-all;\">＜1-4＞</div><br/></div>"
            ]
          },
          "metadata": {},
          "execution_count": 41
        }
      ]
    },
    {
      "cell_type": "code",
      "source": [
        "paragraphs = main.find(id=\"cont_view\").find_all('div')"
      ],
      "metadata": {
        "id": "3PeKLnLbUzmE"
      },
      "execution_count": null,
      "outputs": []
    },
    {
      "cell_type": "code",
      "source": [
        "[p.text.strip() for p in paragraphs]"
      ],
      "metadata": {
        "colab": {
          "base_uri": "https://localhost:8080/"
        },
        "id": "SI3TBSPSW-bm",
        "outputId": "f2a33fa5-7aa0-48fd-8e60-360bc47c0387"
      },
      "execution_count": null,
      "outputs": [
        {
          "output_type": "execute_result",
          "data": {
            "text/plain": [
              "['大韓自强會月報序［三編］',\n",
              " '日에 有客이 促膝附耳\\uf537고 叩之于余 曰 自强會之名稱과 及 其 趣旨\\ue285 業己公佈大世矣라. 固不容再問이어니와 必其裏情이 或有\\uf537니 願一聞之\\uf537노라. 余ㅣ 曰 惡라 是何言也오 君之 所謂 裏情은 表面으로 稱云自强이라\\uf537고 其 內容은 浮沈渾敦\\uf537야 阿私作俑을 是云者歟아 抑或外假華名\\uf537고 內挾僞雜\\uf537야 以營營於肥已之私\\ue470 是云者歟아 抑 或 形式上으로 腐敗\\ue470 攻擊\\uf537되 實地 情衷은 徒藉美名\\uf537고 終無事行之可能結局者\\ue470 是云歟아 於 此三者에 有一焉이면 其 已强者도 必衰弱乃己어늘 況如今萎 微懦弱之吾人이 奚暇에 有自强之希望哉아 本會 趣旨 及 名稱은 表裏 均一\\uf537야 無他裏情은 斷然靡間이어늘 今 君之問이 有此訝點\\uf537니 是\\ue285 謂自强之必無其力而恐有有初鮮終之歎歟아 此ㅣ 吾國 所以蒙未開之誚也라 君如未信커던 請訂諸本會之月報\\uf537라 此 卽 本會之機關 精神也니 於是乎에 其可觀乎\\ue0cd져 客이 唯唯曰 果然 乎哉아.',\n",
              " '光武 十年 七月 日 會長 尹致昊',\n",
              " '●會之有報\\ue285 何歟오 曰 使會員讀之也니라 其 使 會員讀之\\ue285 何歟오 曰 欲其求自强之道也니라. 其 不許非會員讀之\\ue285 何歟오 曰 否라 讀之\\ue470 自會員始오 非不許非會員也라. 苟求自强之道면 則 普天下仁人君子ㅣ 皆將讀之니 而況爲我韓人者哉리오 然我韓之委靡至＜1＞此\\ue285 皆尙文之罪也어늘 而今又使之讀書\\ue285 何歟오 曰 書能令人弱이오 亦能令人强이니 愚請因是而痛論之호리라. 夫黃老之談이 足以亡晋氏오 奉天之詔ㅣ 足以復唐室\\uf537니 書之感人이 其效固不淺尠矣오 且自古俊傑之士ㅣ 必要識時務니 時務者\\ue285 非他也라 吾旣生今日之世\\uf537니 則 當服今日之衣\\uf537고 當喫今日之飯\\uf537고 當讀今日之書\\uf537고 當圖今日之强也라. 近見迂儒輩ㅣ 每以古昔稱道나 然不知世殊者\\ue285 人亦殊\\uf537고 人殊者\\ue285 事亦殊\\uf537고 事殊者\\ue285 書亦殊\\uf537니 唐虞三代之書ㅣ 果盡의\\ue3aa 則不必更有秦漢書오 秦漢書ㅣ 果盡의\\ue3aa 則不必更有唐宋書오 唐宋書ㅣ 果盡의\\ue3aa 則不必更有明淸書오 明淸書ㅣ 果盡矣\\ue3aa 則不必更有泰西書오 泰西書ㅣ 果盡의\\ue3aa 則不必更有自强會月報書也라 夫然則會報之行이 是豈得己者耶아 吾已勉吾自强\\uf537고 而又復勉公者\\ue285 誠恐志不一而力分 故耳라 吾己自强\\uf537고 公又復自强이면 則是得二人之自强也오 公이 又復勉公之傍人\\uf537고 公之傍人이 又 復勉其傍人이면 則是得四人之自强也니 由此而至於得二千萬口之自强이면 則國家之政治\\ue470 可以改善이오 世界之羈絆을 可以出脫이니 然則 諸公之讀會報ㅣ 亦豈得己者耶아 嗚呼라 鷄旣鳴의오 東方이 旣白의라 其以兩手로 擦開睡餘之眼而讀之면 非惟吾之幸이라 亦 諸公之幸也오 非惟諸公之幸이라 亦 全國之幸也라 \\uf537노라.＜2＞',\n",
              " '南嶽居士李沂 識',\n",
              " '●韓國介在乎日淸俄三國間國弱小而民未開當初受淸國壓制國勢日萎苶日淸交戰後雖脫 淸國羈絆不堪於日本警醒竊欲依俄國以避之日俄開仗俄國連敗東亞之大勢將歸於日本也愕然失色復賴於日本矣嗚呼隣强竟勢間者爲强者所左右如韓國者亦難哉雖然使韓國爲韓國豈無其道也哉然而韓國當路者少達觀乏勇斷每一逢國難左顧右盻徒欲依隣强以謀苟安故聞俄國强大冠歐洲則心動焉見日本勃興如旭日則心傾焉聞淸國尨大如眠獅子他年富强不可測則復動其意徒事大附勢陽爲信賴陰懷狐疑如斯而其國獨立者天下未嘗有之也.',\n",
              " '蓋韓國二千萬人中豈無達者也哉余嘗結交其士君子知有老練精達之人傑見有少壯有爲之人士而今則如此何也政治法制未完備人才不得其處君民不共利害上下不同喜憂故也若君民共利害上下同喜憂施敎育進人智勸殖産開富源破四色仕路擇用人才使人心不倦有所自恃則韓國富强可期而待而已矣今也世界文明列國環視之下誰能以兵强之故擅得侵略他國哉天道無親常與正義國雖小勿自畏人雖貧勿自侮唯顧正義如何耳國旣守正義上下協力則雖不養兵練武亦足以對峙列强矣蓋小國之所以强在守正義貧國之所以富在敎育殖産上下協力守正義施敎育勸殖産＜3＞是在今日實爲韓國之急務也嗚呼韓國官民僉君子欲謀其自主獨立而列於世界文明國則在蹈其爲文明國之軏道而莫敢或反其通義通法而已矣是大韓自强會之趣旨目的而月報則 本會言動之寫眞機關也遂記一言於卷端以代序文',\n",
              " '金陵大垣丈夫',\n",
              " '南嵩山人曰誰道日本之少文章哉此篇文字明確正大其組織極精緻極宏博至其論國家正義處尤切時病令人神動意踴下頂門之一針撞警世之大鐘讀者須三復玩繹焉＜4＞',\n",
              " '＜1-4＞']"
            ]
          },
          "metadata": {},
          "execution_count": 47
        }
      ]
    },
    {
      "cell_type": "markdown",
      "source": [
        "### 색인어"
      ],
      "metadata": {
        "id": "i4QZr1b9Y0ru"
      }
    },
    {
      "cell_type": "code",
      "source": [
        "index = soup.find(class_=\"cont_side\")\n",
        "index"
      ],
      "metadata": {
        "colab": {
          "base_uri": "https://localhost:8080/"
        },
        "id": "jY9GIF8AY1i2",
        "outputId": "d76a4090-e5c6-4336-a81e-f32b8274276a"
      },
      "execution_count": null,
      "outputs": [
        {
          "output_type": "execute_result",
          "data": {
            "text/plain": [
              "<div class=\"cont_side\"><div class=\"csdan\"><strong><img alt=\"색인어\" src=\"/images/sub/txt_cinf0_t02.gif\"/></strong><div><b>이름\n",
              "\t\t\t\t:\n",
              "\t\t\t</b><a href=\"javascript:;\" style=\"cursor:default;\"><span style=\"color:#336666\" title=\"이름\">光武</span></a>,<a href=\"javascript:;\" style=\"cursor:default;\"><span style=\"color:#336666\" title=\"이름\">尹致昊</span></a>,<a href=\"javascript:;\" style=\"cursor:default;\"><span style=\"color:#336666\" title=\"이름\">南嶽居士</span></a>,<a href=\"javascript:;\" style=\"cursor:default;\"><span style=\"color:#336666\" title=\"이름\">李沂</span></a>,<a href=\"javascript:;\" style=\"cursor:default;\"><span style=\"color:#336666\" title=\"이름\">金陵</span></a>,<a href=\"javascript:;\" style=\"cursor:default;\"><span style=\"color:#336666\" title=\"이름\">大垣丈夫</span></a>,<a href=\"javascript:;\" style=\"cursor:default;\"><span style=\"color:#336666\" title=\"이름\">南嵩山人</span></a><br/><b>단체\n",
              "\t\t\t\t:\n",
              "\t\t\t</b><a href=\"javascript:;\" style=\"cursor:default;\"><span style=\"color:#336666\" title=\"단체\">自强會</span></a>,<a href=\"javascript:;\" style=\"cursor:default;\"><span style=\"color:#336666\" title=\"단체\">自强會</span></a>,<a href=\"javascript:;\" style=\"cursor:default;\"><span style=\"color:#336666\" title=\"단체\">大韓自强會</span></a><br/></div></div></div>"
            ]
          },
          "metadata": {},
          "execution_count": 49
        }
      ]
    },
    {
      "cell_type": "code",
      "source": [
        "# Find all a elements with the title attribute\n",
        "links = index.find_all('a')\n",
        "\n",
        "# Create a dictionary with title as key and text as value\n",
        "result = {}\n",
        "for link in links:\n",
        "    title = link.span['title']\n",
        "    text = link.span.text\n",
        "    if title not in result:\n",
        "        result[title] = []\n",
        "    result[title].append(text)\n",
        "\n",
        "# Print the dictionary\n",
        "print(result)"
      ],
      "metadata": {
        "colab": {
          "base_uri": "https://localhost:8080/"
        },
        "id": "lStxkcufalkh",
        "outputId": "5413165c-de1d-40a9-bf7c-71f9eb34049d"
      },
      "execution_count": null,
      "outputs": [
        {
          "output_type": "stream",
          "name": "stdout",
          "text": [
            "{'이름': ['光武', '尹致昊', '南嶽居士', '李沂', '金陵', '大垣丈夫', '南嵩山人'], '단체': ['自强會', '自强會', '大韓自强會']}\n"
          ]
        }
      ]
    },
    {
      "cell_type": "markdown",
      "source": [
        "### 함수화"
      ],
      "metadata": {
        "id": "ghOZ8BiIa-RK"
      }
    },
    {
      "cell_type": "code",
      "source": [
        "def fill_missing_keys_with_none(dict, keys):\n",
        "  \"\"\"\n",
        "  Fills missing keys in a dictionary with None.\n",
        "\n",
        "  Args:\n",
        "    dict: The dictionary to fill.\n",
        "    keys: A list of keys to check.\n",
        "\n",
        "  Returns:\n",
        "    A new dictionary with all keys filled with None if they are missing.\n",
        "  \"\"\"\n",
        "\n",
        "  new_dict = {}\n",
        "  for key in keys:\n",
        "    new_dict[key] = dict.get(key, None)\n",
        "\n",
        "  return new_dict"
      ],
      "metadata": {
        "id": "ZdHQsw62ny_p"
      },
      "execution_count": null,
      "outputs": []
    },
    {
      "cell_type": "code",
      "source": [
        "def extract_data(url):\n",
        "  data ={}\n",
        "  data['url'] = url\n",
        "  # Make a request using the session object\n",
        "  session = requests.Session()\n",
        "  session.verify = False\n",
        "  response = session.get(url)\n",
        "  soup = BeautifulSoup(response.content, 'lxml')\n",
        "  main = soup.find(class_=\"cont_view\")\n",
        "\n",
        "  #메타 정보\n",
        "  table = main.find('table')\n",
        "  for row in table.find_all('tr'):\n",
        "      key = row.th.text\n",
        "      value = row.td.text.strip()  # Remove leading/trailing whitespace\n",
        "      data[key] = value\n",
        "  data = fill_missing_keys_with_none(data,['url','잡지명','발행일','가사제목','필자','기사형태'])\n",
        "\n",
        "  #본문\n",
        "  paragraphs = main.find(id=\"cont_view\").find_all('div')\n",
        "  data['paragraphs'] = [p.text.strip() for p in paragraphs]\n",
        "\n",
        "  #색인어\n",
        "  try:\n",
        "    links = soup.find(class_=\"cont_side\").find_all('a')\n",
        "    idx_dict={}\n",
        "    for link in links:\n",
        "        title = link.span['title']\n",
        "        text = link.span.text\n",
        "        if title not in idx_dict:\n",
        "            idx_dict[title] = []\n",
        "        idx_dict[title].append(text)\n",
        "    # 없는 색인어에 None 추가\n",
        "    idx_dict = fill_missing_keys_with_none(idx_dict,['이름','지명','단체','관서','기타'])\n",
        "    data.update(idx_dict)\n",
        "  except AttributeError:\n",
        "    # print('색인어 없음')\n",
        "    idx_dict = {'이름':None,'지명':None,'단체':None,'관서':None,'기타':None}\n",
        "    data.update(idx_dict)\n",
        "  return data"
      ],
      "metadata": {
        "id": "SjFZhyxHa_a-"
      },
      "execution_count": null,
      "outputs": []
    },
    {
      "cell_type": "code",
      "source": [
        "extract_data('http://db.history.go.kr/id/ma_001_0030_0020')"
      ],
      "metadata": {
        "colab": {
          "base_uri": "https://localhost:8080/"
        },
        "id": "B1hLyvRzcn0_",
        "outputId": "4c16f9d4-9265-4fe6-add6-f41b5691b94c"
      },
      "execution_count": null,
      "outputs": [
        {
          "output_type": "execute_result",
          "data": {
            "text/plain": [
              "{'url': 'http://db.history.go.kr/id/ma_001_0030_0020',\n",
              " '잡지명': '대한자강회월보 제3호',\n",
              " '발행일': '1906년 09월\\xa025일',\n",
              " '가사제목': None,\n",
              " '필자': '李 沂',\n",
              " '기사형태': '학술',\n",
              " 'paragraphs': ['大韓地圖說李 沂',\n",
              "  '○ 右卷衣에 以紅色界畫者\\ue285 卽 我韓地圖也라. 本報 第一號之發刊也에 有一 搢紳君子ㅣ 指以問於會員 李鍾一氏 曰 此\\ue285 何物件也오 氏ㅣ 黙然良久에 曰 令監識見이 胡爲落此地頭오 \\uf537니 嗚呼라 氏之言이 蓋出於悶時病俗之意나 然國不敎而民不學이 今且數白年矣라 愚未知全國之土ㅣ 購覽本報而能識此者ㅣ 復有幾人耶아 夫有生則必有身이오 有身則必有家오 有家則必有國이니 國之不可去ㅣ 亦明甚矣라 橘渡淮而爲枳\\uf537고 貉踰汶則死\\uf537나니 草木昆蟲之物도 猶然커든 而況爲人者乎아 今以吾輩로 寘諸印度洋海之南과 戈壁沙漠之北則恐不免死矣오 脫或免死라도 恐不免病矣라. 故로 人不愛殊國\\uf537고 而愛其國者\\ue285 亦天理人情之自然者也라 近見外人之來駐我韓者ㅣ 或半年 或一二年 或 十年而未必以終身期也라 然其至之日에 必求我韓地圖而加察焉\\uf537나니 而況我韓人則豈獨爲一身計哉아 自吾父로 上以推之乎遠祖\\uf537야 皆己生於斯家於斯食於斯葬於斯矣오 自吾子로 下以推之乎雲孫\\uf537야 亦將生於斯家於斯食於斯葬於斯矣라. 故로 其山川之險夷와 風氣之寒暖과 道里之遠邇와 戶口之稀稠와 俗尙之好惡와 物産之多寡와 錢穀之生消를 是皆不可不知者니 則地圖之干繁於國計民生者ㅣ 固不輕矣어\\ue288 而竟至於不識爲何物件事\\uf537니 亦莫非＜1＞學問之誤之所致也라 蓋我韓學問이 槪有二種\\uf537니 其一은 曰 道學家니 國朝諸賢이 多出其中이나 然叔季以來로 爲時宰者ㅣ 忌嫉其人\\uf537야 遂以遺逸之稱으로 成其枳塞之路\\uf537고 而其人者ㅣ 亦甘於虛名\\uf537고 安於實害\\uf537야 有語及於朝廷則輒曰 此非儒者所知라 \\uf537야 一切世務를 棄於閒境\\uf537고 其ㅡ은 曰 科學家니 此卽唐太宗愚民之餘術也라 雖或由此而進得郡守觀察\\uf537고 再進得判書大臣이라도 文學政事가 兩途背馳\\uf537야 考其今日之所行이 皆非往年之所習이라 於是에 勢豪子弟ㅣ 遂生輕學之意\\uf537야 轉相模效\\uf537야 極於野昧라. 故로 不論道學科學家人\\uf537고 如或問以我韓幅員之幾何와 程路之幾何면 則其僅能記憶者ㅣ 不過曰 義州千里海南千里東萊千里而共三千里已矣라. 奚暇與論於山川風氣道里戶口俗尙物産錢穀之類哉아 夫如是則吾人愛國之心이 亦安從而生歟아 伏乞諸公伏乞諸公은 試看今日之所牢籠我韓\\uf537고 拑制我韓者ㅣ 其非諸公平日高談峻論으로 謂之夷狄之國之人乎아 有目則必見之矣오 有耳則必聞之矣라 於諸公에 果不傷情否아 曰 不傷情則便不成語 故로 必曰 傷情也라 \\uf537리라. 旣傷情則亦果有恢復之意否아 曰無意則又不成語 故로 必曰 有意也라 \\uf537리라. 旣有意則亦果能愛國否아 曰 不愛國則又不成語 故로 必曰愛國也라 \\uf537리라. 旣愛國則當從何始否아 吾雖未承諸公之敎나 然請以一言代俵之曰 當自土地始라＜2＞\\uf537노라 今此我衣所繪圖者ㅣ 縱不滿周尺一尺이오 橫不滿三寸이로\\ue3a8 而是固我韓土地也라 其彊域則三千里오 其人口則二千萬而亦吾受之父祖\\uf537고 傳之子孫者也라 伏乞諸公伏乞諸公은 其自今日로 每於讀本報時에 必抱卷而同聲人哭\\uf537야 曰 吾不自强이연뎡 苟能自强인\\ue3aa 則寧有以三千里彊域과 二千萬人口로 而受人之牢籠拑制至是者耶아 朝而一哭\\uf537고 暮而一哭\\uf537야 哭不得盡其情이어든 則愚當繼此而有告者矣리라.＜3＞',\n",
              "  '＜1-3＞'],\n",
              " '이름': ['李鍾一'],\n",
              " '지명': ['義州', '海南', '東萊'],\n",
              " '단체': None,\n",
              " '관서': None,\n",
              " '기타': ['印度']}"
            ]
          },
          "metadata": {},
          "execution_count": 113
        }
      ]
    },
    {
      "cell_type": "markdown",
      "source": [
        "### 자동 수집\n",
        "1번(대한자강회월보)부터 95번(호남평론)까지"
      ],
      "metadata": {
        "id": "-_s--ONDpuQn"
      }
    },
    {
      "cell_type": "code",
      "source": [
        "data_list = []\n",
        "for book_number in range(1, 96):\n",
        "  print(f'{book_number} 번째 책 수집')\n",
        "  for volume_number in tqdm(range(10, 510, 10)):\n",
        "    for article_number in range(10, 510, 10):\n",
        "      id = f\"ma_{book_number:03}_{volume_number:04}_{article_number:04}\"\n",
        "      url = f\"https://db.history.go.kr/id/{id}\"\n",
        "      try:\n",
        "        data_list.append(extract_data(url))\n",
        "      except AttributeError:\n",
        "        break # 다음 호수로 넘기기\n",
        "      time.sleep(0.5)"
      ],
      "metadata": {
        "colab": {
          "base_uri": "https://localhost:8080/",
          "height": 465,
          "referenced_widgets": [
            "f0d426ede3cd48188366868530ec6f26",
            "0483ac7b9331441c87990b8891fdafed",
            "a80c262e51f346efb096bb6407c88052",
            "5cb8df32c57b43da836c29bdc42257ef",
            "f63c6c4eeaf94712b053581bf94e6c60",
            "a818eed066ee433a909949ec4ccc870a",
            "ff7a7b08836e4102b2ed4bebb150e756",
            "e3aa8678c17e4c728294f18276c46576",
            "ccd7463449784ca3a1bce4928cc64fcf",
            "95fc1b554d364df99943808cc9b58a35",
            "bad99d6833f640d2a63a24c817cbce70"
          ]
        },
        "id": "wKv38-_lpwD5",
        "outputId": "69f9e269-eaba-4338-dcd4-a6599d0220f8"
      },
      "execution_count": null,
      "outputs": [
        {
          "output_type": "stream",
          "name": "stdout",
          "text": [
            "1 번째 책 수집\n"
          ]
        },
        {
          "output_type": "display_data",
          "data": {
            "text/plain": [
              "  0%|          | 0/50 [00:00<?, ?it/s]"
            ],
            "application/vnd.jupyter.widget-view+json": {
              "version_major": 2,
              "version_minor": 0,
              "model_id": "f0d426ede3cd48188366868530ec6f26"
            }
          },
          "metadata": {}
        },
        {
          "output_type": "error",
          "ename": "KeyboardInterrupt",
          "evalue": "",
          "traceback": [
            "\u001b[0;31m---------------------------------------------------------------------------\u001b[0m",
            "\u001b[0;31mKeyboardInterrupt\u001b[0m                         Traceback (most recent call last)",
            "\u001b[0;32m<ipython-input-115-e76e9492d739>\u001b[0m in \u001b[0;36m<cell line: 2>\u001b[0;34m()\u001b[0m\n\u001b[1;32m      7\u001b[0m       \u001b[0murl\u001b[0m \u001b[0;34m=\u001b[0m \u001b[0;34mf\"https://db.history.go.kr/id/{id}\"\u001b[0m\u001b[0;34m\u001b[0m\u001b[0;34m\u001b[0m\u001b[0m\n\u001b[1;32m      8\u001b[0m       \u001b[0;32mtry\u001b[0m\u001b[0;34m:\u001b[0m\u001b[0;34m\u001b[0m\u001b[0;34m\u001b[0m\u001b[0m\n\u001b[0;32m----> 9\u001b[0;31m         \u001b[0mdata_list\u001b[0m\u001b[0;34m.\u001b[0m\u001b[0mappend\u001b[0m\u001b[0;34m(\u001b[0m\u001b[0mextract_data\u001b[0m\u001b[0;34m(\u001b[0m\u001b[0murl\u001b[0m\u001b[0;34m)\u001b[0m\u001b[0;34m)\u001b[0m\u001b[0;34m\u001b[0m\u001b[0;34m\u001b[0m\u001b[0m\n\u001b[0m\u001b[1;32m     10\u001b[0m       \u001b[0;32mexcept\u001b[0m \u001b[0mAttributeError\u001b[0m\u001b[0;34m:\u001b[0m\u001b[0;34m\u001b[0m\u001b[0;34m\u001b[0m\u001b[0m\n\u001b[1;32m     11\u001b[0m         \u001b[0;32mbreak\u001b[0m \u001b[0;31m# 다음 호수로 넘기기\u001b[0m\u001b[0;34m\u001b[0m\u001b[0;34m\u001b[0m\u001b[0m\n",
            "\u001b[0;32m<ipython-input-111-0d8d161ac640>\u001b[0m in \u001b[0;36mextract_data\u001b[0;34m(url)\u001b[0m\n\u001b[1;32m      5\u001b[0m   \u001b[0msession\u001b[0m \u001b[0;34m=\u001b[0m \u001b[0mrequests\u001b[0m\u001b[0;34m.\u001b[0m\u001b[0mSession\u001b[0m\u001b[0;34m(\u001b[0m\u001b[0;34m)\u001b[0m\u001b[0;34m\u001b[0m\u001b[0;34m\u001b[0m\u001b[0m\n\u001b[1;32m      6\u001b[0m   \u001b[0msession\u001b[0m\u001b[0;34m.\u001b[0m\u001b[0mverify\u001b[0m \u001b[0;34m=\u001b[0m \u001b[0;32mFalse\u001b[0m\u001b[0;34m\u001b[0m\u001b[0;34m\u001b[0m\u001b[0m\n\u001b[0;32m----> 7\u001b[0;31m   \u001b[0mresponse\u001b[0m \u001b[0;34m=\u001b[0m \u001b[0msession\u001b[0m\u001b[0;34m.\u001b[0m\u001b[0mget\u001b[0m\u001b[0;34m(\u001b[0m\u001b[0murl\u001b[0m\u001b[0;34m)\u001b[0m\u001b[0;34m\u001b[0m\u001b[0;34m\u001b[0m\u001b[0m\n\u001b[0m\u001b[1;32m      8\u001b[0m   \u001b[0msoup\u001b[0m \u001b[0;34m=\u001b[0m \u001b[0mBeautifulSoup\u001b[0m\u001b[0;34m(\u001b[0m\u001b[0mresponse\u001b[0m\u001b[0;34m.\u001b[0m\u001b[0mcontent\u001b[0m\u001b[0;34m,\u001b[0m \u001b[0;34m'lxml'\u001b[0m\u001b[0;34m)\u001b[0m\u001b[0;34m\u001b[0m\u001b[0;34m\u001b[0m\u001b[0m\n\u001b[1;32m      9\u001b[0m   \u001b[0mmain\u001b[0m \u001b[0;34m=\u001b[0m \u001b[0msoup\u001b[0m\u001b[0;34m.\u001b[0m\u001b[0mfind\u001b[0m\u001b[0;34m(\u001b[0m\u001b[0mclass_\u001b[0m\u001b[0;34m=\u001b[0m\u001b[0;34m\"cont_view\"\u001b[0m\u001b[0;34m)\u001b[0m\u001b[0;34m\u001b[0m\u001b[0;34m\u001b[0m\u001b[0m\n",
            "\u001b[0;32m/usr/local/lib/python3.10/dist-packages/requests/sessions.py\u001b[0m in \u001b[0;36mget\u001b[0;34m(self, url, **kwargs)\u001b[0m\n\u001b[1;32m    600\u001b[0m \u001b[0;34m\u001b[0m\u001b[0m\n\u001b[1;32m    601\u001b[0m         \u001b[0mkwargs\u001b[0m\u001b[0;34m.\u001b[0m\u001b[0msetdefault\u001b[0m\u001b[0;34m(\u001b[0m\u001b[0;34m\"allow_redirects\"\u001b[0m\u001b[0;34m,\u001b[0m \u001b[0;32mTrue\u001b[0m\u001b[0;34m)\u001b[0m\u001b[0;34m\u001b[0m\u001b[0;34m\u001b[0m\u001b[0m\n\u001b[0;32m--> 602\u001b[0;31m         \u001b[0;32mreturn\u001b[0m \u001b[0mself\u001b[0m\u001b[0;34m.\u001b[0m\u001b[0mrequest\u001b[0m\u001b[0;34m(\u001b[0m\u001b[0;34m\"GET\"\u001b[0m\u001b[0;34m,\u001b[0m \u001b[0murl\u001b[0m\u001b[0;34m,\u001b[0m \u001b[0;34m**\u001b[0m\u001b[0mkwargs\u001b[0m\u001b[0;34m)\u001b[0m\u001b[0;34m\u001b[0m\u001b[0;34m\u001b[0m\u001b[0m\n\u001b[0m\u001b[1;32m    603\u001b[0m \u001b[0;34m\u001b[0m\u001b[0m\n\u001b[1;32m    604\u001b[0m     \u001b[0;32mdef\u001b[0m \u001b[0moptions\u001b[0m\u001b[0;34m(\u001b[0m\u001b[0mself\u001b[0m\u001b[0;34m,\u001b[0m \u001b[0murl\u001b[0m\u001b[0;34m,\u001b[0m \u001b[0;34m**\u001b[0m\u001b[0mkwargs\u001b[0m\u001b[0;34m)\u001b[0m\u001b[0;34m:\u001b[0m\u001b[0;34m\u001b[0m\u001b[0;34m\u001b[0m\u001b[0m\n",
            "\u001b[0;32m/usr/local/lib/python3.10/dist-packages/requests/sessions.py\u001b[0m in \u001b[0;36mrequest\u001b[0;34m(self, method, url, params, data, headers, cookies, files, auth, timeout, allow_redirects, proxies, hooks, stream, verify, cert, json)\u001b[0m\n\u001b[1;32m    587\u001b[0m         }\n\u001b[1;32m    588\u001b[0m         \u001b[0msend_kwargs\u001b[0m\u001b[0;34m.\u001b[0m\u001b[0mupdate\u001b[0m\u001b[0;34m(\u001b[0m\u001b[0msettings\u001b[0m\u001b[0;34m)\u001b[0m\u001b[0;34m\u001b[0m\u001b[0;34m\u001b[0m\u001b[0m\n\u001b[0;32m--> 589\u001b[0;31m         \u001b[0mresp\u001b[0m \u001b[0;34m=\u001b[0m \u001b[0mself\u001b[0m\u001b[0;34m.\u001b[0m\u001b[0msend\u001b[0m\u001b[0;34m(\u001b[0m\u001b[0mprep\u001b[0m\u001b[0;34m,\u001b[0m \u001b[0;34m**\u001b[0m\u001b[0msend_kwargs\u001b[0m\u001b[0;34m)\u001b[0m\u001b[0;34m\u001b[0m\u001b[0;34m\u001b[0m\u001b[0m\n\u001b[0m\u001b[1;32m    590\u001b[0m \u001b[0;34m\u001b[0m\u001b[0m\n\u001b[1;32m    591\u001b[0m         \u001b[0;32mreturn\u001b[0m \u001b[0mresp\u001b[0m\u001b[0;34m\u001b[0m\u001b[0;34m\u001b[0m\u001b[0m\n",
            "\u001b[0;32m/usr/local/lib/python3.10/dist-packages/requests/sessions.py\u001b[0m in \u001b[0;36msend\u001b[0;34m(self, request, **kwargs)\u001b[0m\n\u001b[1;32m    745\u001b[0m \u001b[0;34m\u001b[0m\u001b[0m\n\u001b[1;32m    746\u001b[0m         \u001b[0;32mif\u001b[0m \u001b[0;32mnot\u001b[0m \u001b[0mstream\u001b[0m\u001b[0;34m:\u001b[0m\u001b[0;34m\u001b[0m\u001b[0;34m\u001b[0m\u001b[0m\n\u001b[0;32m--> 747\u001b[0;31m             \u001b[0mr\u001b[0m\u001b[0;34m.\u001b[0m\u001b[0mcontent\u001b[0m\u001b[0;34m\u001b[0m\u001b[0;34m\u001b[0m\u001b[0m\n\u001b[0m\u001b[1;32m    748\u001b[0m \u001b[0;34m\u001b[0m\u001b[0m\n\u001b[1;32m    749\u001b[0m         \u001b[0;32mreturn\u001b[0m \u001b[0mr\u001b[0m\u001b[0;34m\u001b[0m\u001b[0;34m\u001b[0m\u001b[0m\n",
            "\u001b[0;32m/usr/local/lib/python3.10/dist-packages/requests/models.py\u001b[0m in \u001b[0;36mcontent\u001b[0;34m(self)\u001b[0m\n\u001b[1;32m    897\u001b[0m                 \u001b[0mself\u001b[0m\u001b[0;34m.\u001b[0m\u001b[0m_content\u001b[0m \u001b[0;34m=\u001b[0m \u001b[0;32mNone\u001b[0m\u001b[0;34m\u001b[0m\u001b[0;34m\u001b[0m\u001b[0m\n\u001b[1;32m    898\u001b[0m             \u001b[0;32melse\u001b[0m\u001b[0;34m:\u001b[0m\u001b[0;34m\u001b[0m\u001b[0;34m\u001b[0m\u001b[0m\n\u001b[0;32m--> 899\u001b[0;31m                 \u001b[0mself\u001b[0m\u001b[0;34m.\u001b[0m\u001b[0m_content\u001b[0m \u001b[0;34m=\u001b[0m \u001b[0;34mb\"\"\u001b[0m\u001b[0;34m.\u001b[0m\u001b[0mjoin\u001b[0m\u001b[0;34m(\u001b[0m\u001b[0mself\u001b[0m\u001b[0;34m.\u001b[0m\u001b[0miter_content\u001b[0m\u001b[0;34m(\u001b[0m\u001b[0mCONTENT_CHUNK_SIZE\u001b[0m\u001b[0;34m)\u001b[0m\u001b[0;34m)\u001b[0m \u001b[0;32mor\u001b[0m \u001b[0;34mb\"\"\u001b[0m\u001b[0;34m\u001b[0m\u001b[0;34m\u001b[0m\u001b[0m\n\u001b[0m\u001b[1;32m    900\u001b[0m \u001b[0;34m\u001b[0m\u001b[0m\n\u001b[1;32m    901\u001b[0m         \u001b[0mself\u001b[0m\u001b[0;34m.\u001b[0m\u001b[0m_content_consumed\u001b[0m \u001b[0;34m=\u001b[0m \u001b[0;32mTrue\u001b[0m\u001b[0;34m\u001b[0m\u001b[0;34m\u001b[0m\u001b[0m\n",
            "\u001b[0;32m/usr/local/lib/python3.10/dist-packages/requests/models.py\u001b[0m in \u001b[0;36mgenerate\u001b[0;34m()\u001b[0m\n\u001b[1;32m    814\u001b[0m             \u001b[0;32mif\u001b[0m \u001b[0mhasattr\u001b[0m\u001b[0;34m(\u001b[0m\u001b[0mself\u001b[0m\u001b[0;34m.\u001b[0m\u001b[0mraw\u001b[0m\u001b[0;34m,\u001b[0m \u001b[0;34m\"stream\"\u001b[0m\u001b[0;34m)\u001b[0m\u001b[0;34m:\u001b[0m\u001b[0;34m\u001b[0m\u001b[0;34m\u001b[0m\u001b[0m\n\u001b[1;32m    815\u001b[0m                 \u001b[0;32mtry\u001b[0m\u001b[0;34m:\u001b[0m\u001b[0;34m\u001b[0m\u001b[0;34m\u001b[0m\u001b[0m\n\u001b[0;32m--> 816\u001b[0;31m                     \u001b[0;32myield\u001b[0m \u001b[0;32mfrom\u001b[0m \u001b[0mself\u001b[0m\u001b[0;34m.\u001b[0m\u001b[0mraw\u001b[0m\u001b[0;34m.\u001b[0m\u001b[0mstream\u001b[0m\u001b[0;34m(\u001b[0m\u001b[0mchunk_size\u001b[0m\u001b[0;34m,\u001b[0m \u001b[0mdecode_content\u001b[0m\u001b[0;34m=\u001b[0m\u001b[0;32mTrue\u001b[0m\u001b[0;34m)\u001b[0m\u001b[0;34m\u001b[0m\u001b[0;34m\u001b[0m\u001b[0m\n\u001b[0m\u001b[1;32m    817\u001b[0m                 \u001b[0;32mexcept\u001b[0m \u001b[0mProtocolError\u001b[0m \u001b[0;32mas\u001b[0m \u001b[0me\u001b[0m\u001b[0;34m:\u001b[0m\u001b[0;34m\u001b[0m\u001b[0;34m\u001b[0m\u001b[0m\n\u001b[1;32m    818\u001b[0m                     \u001b[0;32mraise\u001b[0m \u001b[0mChunkedEncodingError\u001b[0m\u001b[0;34m(\u001b[0m\u001b[0me\u001b[0m\u001b[0;34m)\u001b[0m\u001b[0;34m\u001b[0m\u001b[0;34m\u001b[0m\u001b[0m\n",
            "\u001b[0;32m/usr/local/lib/python3.10/dist-packages/urllib3/response.py\u001b[0m in \u001b[0;36mstream\u001b[0;34m(self, amt, decode_content)\u001b[0m\n\u001b[1;32m    931\u001b[0m         \"\"\"\n\u001b[1;32m    932\u001b[0m         \u001b[0;32mif\u001b[0m \u001b[0mself\u001b[0m\u001b[0;34m.\u001b[0m\u001b[0mchunked\u001b[0m \u001b[0;32mand\u001b[0m \u001b[0mself\u001b[0m\u001b[0;34m.\u001b[0m\u001b[0msupports_chunked_reads\u001b[0m\u001b[0;34m(\u001b[0m\u001b[0;34m)\u001b[0m\u001b[0;34m:\u001b[0m\u001b[0;34m\u001b[0m\u001b[0;34m\u001b[0m\u001b[0m\n\u001b[0;32m--> 933\u001b[0;31m             \u001b[0;32myield\u001b[0m \u001b[0;32mfrom\u001b[0m \u001b[0mself\u001b[0m\u001b[0;34m.\u001b[0m\u001b[0mread_chunked\u001b[0m\u001b[0;34m(\u001b[0m\u001b[0mamt\u001b[0m\u001b[0;34m,\u001b[0m \u001b[0mdecode_content\u001b[0m\u001b[0;34m=\u001b[0m\u001b[0mdecode_content\u001b[0m\u001b[0;34m)\u001b[0m\u001b[0;34m\u001b[0m\u001b[0;34m\u001b[0m\u001b[0m\n\u001b[0m\u001b[1;32m    934\u001b[0m         \u001b[0;32melse\u001b[0m\u001b[0;34m:\u001b[0m\u001b[0;34m\u001b[0m\u001b[0;34m\u001b[0m\u001b[0m\n\u001b[1;32m    935\u001b[0m             \u001b[0;32mwhile\u001b[0m \u001b[0;32mnot\u001b[0m \u001b[0mis_fp_closed\u001b[0m\u001b[0;34m(\u001b[0m\u001b[0mself\u001b[0m\u001b[0;34m.\u001b[0m\u001b[0m_fp\u001b[0m\u001b[0;34m)\u001b[0m \u001b[0;32mor\u001b[0m \u001b[0mlen\u001b[0m\u001b[0;34m(\u001b[0m\u001b[0mself\u001b[0m\u001b[0;34m.\u001b[0m\u001b[0m_decoded_buffer\u001b[0m\u001b[0;34m)\u001b[0m \u001b[0;34m>\u001b[0m \u001b[0;36m0\u001b[0m\u001b[0;34m:\u001b[0m\u001b[0;34m\u001b[0m\u001b[0;34m\u001b[0m\u001b[0m\n",
            "\u001b[0;32m/usr/local/lib/python3.10/dist-packages/urllib3/response.py\u001b[0m in \u001b[0;36mread_chunked\u001b[0;34m(self, amt, decode_content)\u001b[0m\n\u001b[1;32m   1074\u001b[0m                 \u001b[0;32mif\u001b[0m \u001b[0mself\u001b[0m\u001b[0;34m.\u001b[0m\u001b[0mchunk_left\u001b[0m \u001b[0;34m==\u001b[0m \u001b[0;36m0\u001b[0m\u001b[0;34m:\u001b[0m\u001b[0;34m\u001b[0m\u001b[0;34m\u001b[0m\u001b[0m\n\u001b[1;32m   1075\u001b[0m                     \u001b[0;32mbreak\u001b[0m\u001b[0;34m\u001b[0m\u001b[0;34m\u001b[0m\u001b[0m\n\u001b[0;32m-> 1076\u001b[0;31m                 \u001b[0mchunk\u001b[0m \u001b[0;34m=\u001b[0m \u001b[0mself\u001b[0m\u001b[0;34m.\u001b[0m\u001b[0m_handle_chunk\u001b[0m\u001b[0;34m(\u001b[0m\u001b[0mamt\u001b[0m\u001b[0;34m)\u001b[0m\u001b[0;34m\u001b[0m\u001b[0;34m\u001b[0m\u001b[0m\n\u001b[0m\u001b[1;32m   1077\u001b[0m                 decoded = self._decode(\n\u001b[1;32m   1078\u001b[0m                     \u001b[0mchunk\u001b[0m\u001b[0;34m,\u001b[0m \u001b[0mdecode_content\u001b[0m\u001b[0;34m=\u001b[0m\u001b[0mdecode_content\u001b[0m\u001b[0;34m,\u001b[0m \u001b[0mflush_decoder\u001b[0m\u001b[0;34m=\u001b[0m\u001b[0;32mFalse\u001b[0m\u001b[0;34m\u001b[0m\u001b[0;34m\u001b[0m\u001b[0m\n",
            "\u001b[0;32m/usr/local/lib/python3.10/dist-packages/urllib3/response.py\u001b[0m in \u001b[0;36m_handle_chunk\u001b[0;34m(self, amt)\u001b[0m\n\u001b[1;32m   1025\u001b[0m             \u001b[0mreturned_chunk\u001b[0m \u001b[0;34m=\u001b[0m \u001b[0mvalue\u001b[0m\u001b[0;34m\u001b[0m\u001b[0;34m\u001b[0m\u001b[0m\n\u001b[1;32m   1026\u001b[0m         \u001b[0;32melse\u001b[0m\u001b[0;34m:\u001b[0m  \u001b[0;31m# amt > self.chunk_left\u001b[0m\u001b[0;34m\u001b[0m\u001b[0;34m\u001b[0m\u001b[0m\n\u001b[0;32m-> 1027\u001b[0;31m             \u001b[0mreturned_chunk\u001b[0m \u001b[0;34m=\u001b[0m \u001b[0mself\u001b[0m\u001b[0;34m.\u001b[0m\u001b[0m_fp\u001b[0m\u001b[0;34m.\u001b[0m\u001b[0m_safe_read\u001b[0m\u001b[0;34m(\u001b[0m\u001b[0mself\u001b[0m\u001b[0;34m.\u001b[0m\u001b[0mchunk_left\u001b[0m\u001b[0;34m)\u001b[0m  \u001b[0;31m# type: ignore[union-attr]\u001b[0m\u001b[0;34m\u001b[0m\u001b[0;34m\u001b[0m\u001b[0m\n\u001b[0m\u001b[1;32m   1028\u001b[0m             \u001b[0mself\u001b[0m\u001b[0;34m.\u001b[0m\u001b[0m_fp\u001b[0m\u001b[0;34m.\u001b[0m\u001b[0m_safe_read\u001b[0m\u001b[0;34m(\u001b[0m\u001b[0;36m2\u001b[0m\u001b[0;34m)\u001b[0m  \u001b[0;31m# type: ignore[union-attr] # Toss the CRLF at the end of the chunk.\u001b[0m\u001b[0;34m\u001b[0m\u001b[0;34m\u001b[0m\u001b[0m\n\u001b[1;32m   1029\u001b[0m             \u001b[0mself\u001b[0m\u001b[0;34m.\u001b[0m\u001b[0mchunk_left\u001b[0m \u001b[0;34m=\u001b[0m \u001b[0;32mNone\u001b[0m\u001b[0;34m\u001b[0m\u001b[0;34m\u001b[0m\u001b[0m\n",
            "\u001b[0;32m/usr/lib/python3.10/http/client.py\u001b[0m in \u001b[0;36m_safe_read\u001b[0;34m(self, amt)\u001b[0m\n\u001b[1;32m    629\u001b[0m         \u001b[0mIncompleteRead\u001b[0m \u001b[0mexception\u001b[0m \u001b[0mcan\u001b[0m \u001b[0mbe\u001b[0m \u001b[0mused\u001b[0m \u001b[0mto\u001b[0m \u001b[0mdetect\u001b[0m \u001b[0mthe\u001b[0m \u001b[0mproblem\u001b[0m\u001b[0;34m.\u001b[0m\u001b[0;34m\u001b[0m\u001b[0;34m\u001b[0m\u001b[0m\n\u001b[1;32m    630\u001b[0m         \"\"\"\n\u001b[0;32m--> 631\u001b[0;31m         \u001b[0mdata\u001b[0m \u001b[0;34m=\u001b[0m \u001b[0mself\u001b[0m\u001b[0;34m.\u001b[0m\u001b[0mfp\u001b[0m\u001b[0;34m.\u001b[0m\u001b[0mread\u001b[0m\u001b[0;34m(\u001b[0m\u001b[0mamt\u001b[0m\u001b[0;34m)\u001b[0m\u001b[0;34m\u001b[0m\u001b[0;34m\u001b[0m\u001b[0m\n\u001b[0m\u001b[1;32m    632\u001b[0m         \u001b[0;32mif\u001b[0m \u001b[0mlen\u001b[0m\u001b[0;34m(\u001b[0m\u001b[0mdata\u001b[0m\u001b[0;34m)\u001b[0m \u001b[0;34m<\u001b[0m \u001b[0mamt\u001b[0m\u001b[0;34m:\u001b[0m\u001b[0;34m\u001b[0m\u001b[0;34m\u001b[0m\u001b[0m\n\u001b[1;32m    633\u001b[0m             \u001b[0;32mraise\u001b[0m \u001b[0mIncompleteRead\u001b[0m\u001b[0;34m(\u001b[0m\u001b[0mdata\u001b[0m\u001b[0;34m,\u001b[0m \u001b[0mamt\u001b[0m\u001b[0;34m-\u001b[0m\u001b[0mlen\u001b[0m\u001b[0;34m(\u001b[0m\u001b[0mdata\u001b[0m\u001b[0;34m)\u001b[0m\u001b[0;34m)\u001b[0m\u001b[0;34m\u001b[0m\u001b[0;34m\u001b[0m\u001b[0m\n",
            "\u001b[0;32m/usr/lib/python3.10/socket.py\u001b[0m in \u001b[0;36mreadinto\u001b[0;34m(self, b)\u001b[0m\n\u001b[1;32m    703\u001b[0m         \u001b[0;32mwhile\u001b[0m \u001b[0;32mTrue\u001b[0m\u001b[0;34m:\u001b[0m\u001b[0;34m\u001b[0m\u001b[0;34m\u001b[0m\u001b[0m\n\u001b[1;32m    704\u001b[0m             \u001b[0;32mtry\u001b[0m\u001b[0;34m:\u001b[0m\u001b[0;34m\u001b[0m\u001b[0;34m\u001b[0m\u001b[0m\n\u001b[0;32m--> 705\u001b[0;31m                 \u001b[0;32mreturn\u001b[0m \u001b[0mself\u001b[0m\u001b[0;34m.\u001b[0m\u001b[0m_sock\u001b[0m\u001b[0;34m.\u001b[0m\u001b[0mrecv_into\u001b[0m\u001b[0;34m(\u001b[0m\u001b[0mb\u001b[0m\u001b[0;34m)\u001b[0m\u001b[0;34m\u001b[0m\u001b[0;34m\u001b[0m\u001b[0m\n\u001b[0m\u001b[1;32m    706\u001b[0m             \u001b[0;32mexcept\u001b[0m \u001b[0mtimeout\u001b[0m\u001b[0;34m:\u001b[0m\u001b[0;34m\u001b[0m\u001b[0;34m\u001b[0m\u001b[0m\n\u001b[1;32m    707\u001b[0m                 \u001b[0mself\u001b[0m\u001b[0;34m.\u001b[0m\u001b[0m_timeout_occurred\u001b[0m \u001b[0;34m=\u001b[0m \u001b[0;32mTrue\u001b[0m\u001b[0;34m\u001b[0m\u001b[0;34m\u001b[0m\u001b[0m\n",
            "\u001b[0;32m/usr/lib/python3.10/ssl.py\u001b[0m in \u001b[0;36mrecv_into\u001b[0;34m(self, buffer, nbytes, flags)\u001b[0m\n\u001b[1;32m   1301\u001b[0m                   \u001b[0;34m\"non-zero flags not allowed in calls to recv_into() on %s\"\u001b[0m \u001b[0;34m%\u001b[0m\u001b[0;34m\u001b[0m\u001b[0;34m\u001b[0m\u001b[0m\n\u001b[1;32m   1302\u001b[0m                   self.__class__)\n\u001b[0;32m-> 1303\u001b[0;31m             \u001b[0;32mreturn\u001b[0m \u001b[0mself\u001b[0m\u001b[0;34m.\u001b[0m\u001b[0mread\u001b[0m\u001b[0;34m(\u001b[0m\u001b[0mnbytes\u001b[0m\u001b[0;34m,\u001b[0m \u001b[0mbuffer\u001b[0m\u001b[0;34m)\u001b[0m\u001b[0;34m\u001b[0m\u001b[0;34m\u001b[0m\u001b[0m\n\u001b[0m\u001b[1;32m   1304\u001b[0m         \u001b[0;32melse\u001b[0m\u001b[0;34m:\u001b[0m\u001b[0;34m\u001b[0m\u001b[0;34m\u001b[0m\u001b[0m\n\u001b[1;32m   1305\u001b[0m             \u001b[0;32mreturn\u001b[0m \u001b[0msuper\u001b[0m\u001b[0;34m(\u001b[0m\u001b[0;34m)\u001b[0m\u001b[0;34m.\u001b[0m\u001b[0mrecv_into\u001b[0m\u001b[0;34m(\u001b[0m\u001b[0mbuffer\u001b[0m\u001b[0;34m,\u001b[0m \u001b[0mnbytes\u001b[0m\u001b[0;34m,\u001b[0m \u001b[0mflags\u001b[0m\u001b[0;34m)\u001b[0m\u001b[0;34m\u001b[0m\u001b[0;34m\u001b[0m\u001b[0m\n",
            "\u001b[0;32m/usr/lib/python3.10/ssl.py\u001b[0m in \u001b[0;36mread\u001b[0;34m(self, len, buffer)\u001b[0m\n\u001b[1;32m   1157\u001b[0m         \u001b[0;32mtry\u001b[0m\u001b[0;34m:\u001b[0m\u001b[0;34m\u001b[0m\u001b[0;34m\u001b[0m\u001b[0m\n\u001b[1;32m   1158\u001b[0m             \u001b[0;32mif\u001b[0m \u001b[0mbuffer\u001b[0m \u001b[0;32mis\u001b[0m \u001b[0;32mnot\u001b[0m \u001b[0;32mNone\u001b[0m\u001b[0;34m:\u001b[0m\u001b[0;34m\u001b[0m\u001b[0;34m\u001b[0m\u001b[0m\n\u001b[0;32m-> 1159\u001b[0;31m                 \u001b[0;32mreturn\u001b[0m \u001b[0mself\u001b[0m\u001b[0;34m.\u001b[0m\u001b[0m_sslobj\u001b[0m\u001b[0;34m.\u001b[0m\u001b[0mread\u001b[0m\u001b[0;34m(\u001b[0m\u001b[0mlen\u001b[0m\u001b[0;34m,\u001b[0m \u001b[0mbuffer\u001b[0m\u001b[0;34m)\u001b[0m\u001b[0;34m\u001b[0m\u001b[0;34m\u001b[0m\u001b[0m\n\u001b[0m\u001b[1;32m   1160\u001b[0m             \u001b[0;32melse\u001b[0m\u001b[0;34m:\u001b[0m\u001b[0;34m\u001b[0m\u001b[0;34m\u001b[0m\u001b[0m\n\u001b[1;32m   1161\u001b[0m                 \u001b[0;32mreturn\u001b[0m \u001b[0mself\u001b[0m\u001b[0;34m.\u001b[0m\u001b[0m_sslobj\u001b[0m\u001b[0;34m.\u001b[0m\u001b[0mread\u001b[0m\u001b[0;34m(\u001b[0m\u001b[0mlen\u001b[0m\u001b[0;34m)\u001b[0m\u001b[0;34m\u001b[0m\u001b[0;34m\u001b[0m\u001b[0m\n",
            "\u001b[0;31mKeyboardInterrupt\u001b[0m: "
          ]
        }
      ]
    },
    {
      "cell_type": "code",
      "source": [
        "df = pd.DataFrame(data_list)\n",
        "df"
      ],
      "metadata": {
        "colab": {
          "base_uri": "https://localhost:8080/",
          "height": 1000
        },
        "id": "C7yTriWa1dsa",
        "outputId": "4412dd72-8b66-4df3-f17e-28907a2d1119"
      },
      "execution_count": null,
      "outputs": [
        {
          "output_type": "execute_result",
          "data": {
            "text/plain": [
              "                                             url          잡지명            발행일  \\\n",
              "0   https://db.history.go.kr/id/ma_001_0010_0010  대한자강회월보 제1호  1906년 07월 31일   \n",
              "1   https://db.history.go.kr/id/ma_001_0010_0020  대한자강회월보 제1호  1906년 07월 31일   \n",
              "2   https://db.history.go.kr/id/ma_001_0010_0030  대한자강회월보 제1호  1906년 07월 31일   \n",
              "3   https://db.history.go.kr/id/ma_001_0010_0040  대한자강회월보 제1호  1906년 07월 31일   \n",
              "4   https://db.history.go.kr/id/ma_001_0010_0050  대한자강회월보 제1호  1906년 07월 31일   \n",
              "..                                           ...          ...            ...   \n",
              "85  https://db.history.go.kr/id/ma_001_0040_0210  대한자강회월보 제4호  1906년 10월 25일   \n",
              "86  https://db.history.go.kr/id/ma_001_0040_0220  대한자강회월보 제4호  1906년 10월 25일   \n",
              "87  https://db.history.go.kr/id/ma_001_0050_0010  대한자강회월보 제5호  1906년 11월 25일   \n",
              "88  https://db.history.go.kr/id/ma_001_0050_0020  대한자강회월보 제5호  1906년 11월 25일   \n",
              "89  https://db.history.go.kr/id/ma_001_0050_0030  대한자강회월보 제5호  1906년 11월 25일   \n",
              "\n",
              "    가사제목           필자 기사형태                                         paragraphs  \\\n",
              "0   None         None   논설  [大韓自强會月報序［三編］, 日에 有客이 促膝附耳고 叩之于余 曰 自强會之名稱과 及 ...   \n",
              "1   None         None   논설  [大韓自强會月報刊行祝辭, 此 月에 知現世此月之事고 來月에 知現世來月之事야 有參互...   \n",
              "2   None       尹孝定 編纂   소식  [本會會報尹孝定 編纂, 光武 十年 四月 二日에 大韓自强會 趣旨書 及 規則으로 發起...   \n",
              "3   None       謙谷 朴殷植   논설  [大韓精神謙谷 朴殷植, 普天之下大陸之上에 各種 人類가 野蠻土番을 除 外에 個個 ...   \n",
              "4   None        雲草 玄은   논설  [殖産部雲草 玄은, 夫 國家의 文明이 發達됨은 專히 富强의 實力에 係으로 現에 泰...   \n",
              "..   ...          ...  ...                                                ...   \n",
              "85  None         None   잡저  [議會通用規則, 國家 一大社會인즉 社會에 立 人은 此 萬國에 通用 議會規則을...   \n",
              "86  None         None   소식  [會員名簿, （橫看）入會認證을 領有야 會員資格이 完全 人으로만 限홈., 李承謨盧...   \n",
              "87  None  著者 南嵩山人 張志淵   논설  [團體然後民族可保著者 南嵩山人 張志淵, ○夫國家之所以成立者 由乎其民族之團體集合耳라...   \n",
              "88  None          朴殷植   잡저  [謝布哇同胞朴殷植, ○美領布哇에 住在 我韓同胞의 敎會報를 接讀니 本自强會의 主旨...   \n",
              "89  None      評議員 沈宜性   논설  [論我敎育界의 時急方針評議員 沈宜性, ○嗚呼라 皆日敎育敎育者가 但知敎育之意而未知敎育...   \n",
              "\n",
              "                                                   이름  \\\n",
              "0                 [光武, 尹致昊, 南嶽居士, 李沂, 金陵, 大垣丈夫, 南嵩山人]   \n",
              "1   [雲庭, 尹孝定, 春湖, 金相範, 金碩桓, 海土, 尹敦求, 太原, 池錫永, 太明軾,...   \n",
              "2   [光武, 尹孝定, 張志淵, 沈宜性, 林珍洙, 金相範, 檀, 箕, 光武, 張志淵, 尹...   \n",
              "3                                                None   \n",
              "4                                          [堯舜, 檀, 箕]   \n",
              "..                                                ...   \n",
              "85                                               None   \n",
              "86  [李承謨, 盧日壽, 張錫建, 康基煥, 金時權, 金丁哉, 金奎弼, 金奎植, 張起學, ...   \n",
              "87                                              [金庾信]   \n",
              "88                                               None   \n",
              "89                                               [孔孟]   \n",
              "\n",
              "                                      지명  \\\n",
              "0                                   None   \n",
              "1                                   None   \n",
              "2   [漢城, 園洞, 典洞, 桑港, 桑港, 典洞, 北京, 西郡, 桑港]   \n",
              "3                                   None   \n",
              "4                                   None   \n",
              "..                                   ...   \n",
              "85                                  None   \n",
              "86                             [東萊郡, 義州]   \n",
              "87                                  [蒙古]   \n",
              "88                              [布哇, 布哇]   \n",
              "89                                  None   \n",
              "\n",
              "                                                   단체  \\\n",
              "0                                   [自强會, 自强會, 大韓自强會]   \n",
              "1      [大韓自强會, 大韓自强會, 大韓自强會, 自强會, 自强會, 自强會, 自强會, 自强會]   \n",
              "2   [大韓自强會, 大韓自强會, 自强會, 大韓自强會, 大韓自强會, 自强會, 大韓自强會, ...   \n",
              "3                                             [大韓自强會]   \n",
              "4                                                None   \n",
              "..                                                ...   \n",
              "85                                               None   \n",
              "86                                               None   \n",
              "87                                               None   \n",
              "88                           [自强會, 大韓自强會, 大韓自强會, 自强會]   \n",
              "89                                               None   \n",
              "\n",
              "                            관서                             기타  \n",
              "0                         None                           None  \n",
              "1                         None                           None  \n",
              "2   [警務廳, 總理, 警務廳, 學部, 學部, 學部]          [耶蘇, 白蓮庵, 大韓每日申報, 儒敎]  \n",
              "3                         None                           None  \n",
              "4                         None  [禹謨, 禹貢, 洪範, 管子, 詩經, 春秋, 高句麗]  \n",
              "..                         ...                            ...  \n",
              "85                        None                           None  \n",
              "86                        None                           None  \n",
              "87                        [內閣]                   [波蘭, 越南, 三韓]  \n",
              "88                        None                           None  \n",
              "89                        None                          [耶蘇敎]  \n",
              "\n",
              "[90 rows x 12 columns]"
            ],
            "text/html": [
              "\n",
              "  <div id=\"df-70dfc25d-2368-4a92-bb5d-54138bd42676\" class=\"colab-df-container\">\n",
              "    <div>\n",
              "<style scoped>\n",
              "    .dataframe tbody tr th:only-of-type {\n",
              "        vertical-align: middle;\n",
              "    }\n",
              "\n",
              "    .dataframe tbody tr th {\n",
              "        vertical-align: top;\n",
              "    }\n",
              "\n",
              "    .dataframe thead th {\n",
              "        text-align: right;\n",
              "    }\n",
              "</style>\n",
              "<table border=\"1\" class=\"dataframe\">\n",
              "  <thead>\n",
              "    <tr style=\"text-align: right;\">\n",
              "      <th></th>\n",
              "      <th>url</th>\n",
              "      <th>잡지명</th>\n",
              "      <th>발행일</th>\n",
              "      <th>가사제목</th>\n",
              "      <th>필자</th>\n",
              "      <th>기사형태</th>\n",
              "      <th>paragraphs</th>\n",
              "      <th>이름</th>\n",
              "      <th>지명</th>\n",
              "      <th>단체</th>\n",
              "      <th>관서</th>\n",
              "      <th>기타</th>\n",
              "    </tr>\n",
              "  </thead>\n",
              "  <tbody>\n",
              "    <tr>\n",
              "      <th>0</th>\n",
              "      <td>https://db.history.go.kr/id/ma_001_0010_0010</td>\n",
              "      <td>대한자강회월보 제1호</td>\n",
              "      <td>1906년 07월 31일</td>\n",
              "      <td>None</td>\n",
              "      <td>None</td>\n",
              "      <td>논설</td>\n",
              "      <td>[大韓自强會月報序［三編］, 日에 有客이 促膝附耳고 叩之于余 曰 自强會之名稱과 及 ...</td>\n",
              "      <td>[光武, 尹致昊, 南嶽居士, 李沂, 金陵, 大垣丈夫, 南嵩山人]</td>\n",
              "      <td>None</td>\n",
              "      <td>[自强會, 自强會, 大韓自强會]</td>\n",
              "      <td>None</td>\n",
              "      <td>None</td>\n",
              "    </tr>\n",
              "    <tr>\n",
              "      <th>1</th>\n",
              "      <td>https://db.history.go.kr/id/ma_001_0010_0020</td>\n",
              "      <td>대한자강회월보 제1호</td>\n",
              "      <td>1906년 07월 31일</td>\n",
              "      <td>None</td>\n",
              "      <td>None</td>\n",
              "      <td>논설</td>\n",
              "      <td>[大韓自强會月報刊行祝辭, 此 月에 知現世此月之事고 來月에 知現世來月之事야 有參互...</td>\n",
              "      <td>[雲庭, 尹孝定, 春湖, 金相範, 金碩桓, 海土, 尹敦求, 太原, 池錫永, 太明軾,...</td>\n",
              "      <td>None</td>\n",
              "      <td>[大韓自强會, 大韓自强會, 大韓自强會, 自强會, 自强會, 自强會, 自强會, 自强會]</td>\n",
              "      <td>None</td>\n",
              "      <td>None</td>\n",
              "    </tr>\n",
              "    <tr>\n",
              "      <th>2</th>\n",
              "      <td>https://db.history.go.kr/id/ma_001_0010_0030</td>\n",
              "      <td>대한자강회월보 제1호</td>\n",
              "      <td>1906년 07월 31일</td>\n",
              "      <td>None</td>\n",
              "      <td>尹孝定 編纂</td>\n",
              "      <td>소식</td>\n",
              "      <td>[本會會報尹孝定 編纂, 光武 十年 四月 二日에 大韓自强會 趣旨書 及 規則으로 發起...</td>\n",
              "      <td>[光武, 尹孝定, 張志淵, 沈宜性, 林珍洙, 金相範, 檀, 箕, 光武, 張志淵, 尹...</td>\n",
              "      <td>[漢城, 園洞, 典洞, 桑港, 桑港, 典洞, 北京, 西郡, 桑港]</td>\n",
              "      <td>[大韓自强會, 大韓自强會, 自强會, 大韓自强會, 大韓自强會, 自强會, 大韓自强會, ...</td>\n",
              "      <td>[警務廳, 總理, 警務廳, 學部, 學部, 學部]</td>\n",
              "      <td>[耶蘇, 白蓮庵, 大韓每日申報, 儒敎]</td>\n",
              "    </tr>\n",
              "    <tr>\n",
              "      <th>3</th>\n",
              "      <td>https://db.history.go.kr/id/ma_001_0010_0040</td>\n",
              "      <td>대한자강회월보 제1호</td>\n",
              "      <td>1906년 07월 31일</td>\n",
              "      <td>None</td>\n",
              "      <td>謙谷 朴殷植</td>\n",
              "      <td>논설</td>\n",
              "      <td>[大韓精神謙谷 朴殷植, 普天之下大陸之上에 各種 人類가 野蠻土番을 除 外에 個個 ...</td>\n",
              "      <td>None</td>\n",
              "      <td>None</td>\n",
              "      <td>[大韓自强會]</td>\n",
              "      <td>None</td>\n",
              "      <td>None</td>\n",
              "    </tr>\n",
              "    <tr>\n",
              "      <th>4</th>\n",
              "      <td>https://db.history.go.kr/id/ma_001_0010_0050</td>\n",
              "      <td>대한자강회월보 제1호</td>\n",
              "      <td>1906년 07월 31일</td>\n",
              "      <td>None</td>\n",
              "      <td>雲草 玄은</td>\n",
              "      <td>논설</td>\n",
              "      <td>[殖産部雲草 玄은, 夫 國家의 文明이 發達됨은 專히 富强의 實力에 係으로 現에 泰...</td>\n",
              "      <td>[堯舜, 檀, 箕]</td>\n",
              "      <td>None</td>\n",
              "      <td>None</td>\n",
              "      <td>None</td>\n",
              "      <td>[禹謨, 禹貢, 洪範, 管子, 詩經, 春秋, 高句麗]</td>\n",
              "    </tr>\n",
              "    <tr>\n",
              "      <th>...</th>\n",
              "      <td>...</td>\n",
              "      <td>...</td>\n",
              "      <td>...</td>\n",
              "      <td>...</td>\n",
              "      <td>...</td>\n",
              "      <td>...</td>\n",
              "      <td>...</td>\n",
              "      <td>...</td>\n",
              "      <td>...</td>\n",
              "      <td>...</td>\n",
              "      <td>...</td>\n",
              "      <td>...</td>\n",
              "    </tr>\n",
              "    <tr>\n",
              "      <th>85</th>\n",
              "      <td>https://db.history.go.kr/id/ma_001_0040_0210</td>\n",
              "      <td>대한자강회월보 제4호</td>\n",
              "      <td>1906년 10월 25일</td>\n",
              "      <td>None</td>\n",
              "      <td>None</td>\n",
              "      <td>잡저</td>\n",
              "      <td>[議會通用規則, 國家 一大社會인즉 社會에 立 人은 此 萬國에 通用 議會規則을...</td>\n",
              "      <td>None</td>\n",
              "      <td>None</td>\n",
              "      <td>None</td>\n",
              "      <td>None</td>\n",
              "      <td>None</td>\n",
              "    </tr>\n",
              "    <tr>\n",
              "      <th>86</th>\n",
              "      <td>https://db.history.go.kr/id/ma_001_0040_0220</td>\n",
              "      <td>대한자강회월보 제4호</td>\n",
              "      <td>1906년 10월 25일</td>\n",
              "      <td>None</td>\n",
              "      <td>None</td>\n",
              "      <td>소식</td>\n",
              "      <td>[會員名簿, （橫看）入會認證을 領有야 會員資格이 完全 人으로만 限홈., 李承謨盧...</td>\n",
              "      <td>[李承謨, 盧日壽, 張錫建, 康基煥, 金時權, 金丁哉, 金奎弼, 金奎植, 張起學, ...</td>\n",
              "      <td>[東萊郡, 義州]</td>\n",
              "      <td>None</td>\n",
              "      <td>None</td>\n",
              "      <td>None</td>\n",
              "    </tr>\n",
              "    <tr>\n",
              "      <th>87</th>\n",
              "      <td>https://db.history.go.kr/id/ma_001_0050_0010</td>\n",
              "      <td>대한자강회월보 제5호</td>\n",
              "      <td>1906년 11월 25일</td>\n",
              "      <td>None</td>\n",
              "      <td>著者 南嵩山人 張志淵</td>\n",
              "      <td>논설</td>\n",
              "      <td>[團體然後民族可保著者 南嵩山人 張志淵, ○夫國家之所以成立者 由乎其民族之團體集合耳라...</td>\n",
              "      <td>[金庾信]</td>\n",
              "      <td>[蒙古]</td>\n",
              "      <td>None</td>\n",
              "      <td>[內閣]</td>\n",
              "      <td>[波蘭, 越南, 三韓]</td>\n",
              "    </tr>\n",
              "    <tr>\n",
              "      <th>88</th>\n",
              "      <td>https://db.history.go.kr/id/ma_001_0050_0020</td>\n",
              "      <td>대한자강회월보 제5호</td>\n",
              "      <td>1906년 11월 25일</td>\n",
              "      <td>None</td>\n",
              "      <td>朴殷植</td>\n",
              "      <td>잡저</td>\n",
              "      <td>[謝布哇同胞朴殷植, ○美領布哇에 住在 我韓同胞의 敎會報를 接讀니 本自强會의 主旨...</td>\n",
              "      <td>None</td>\n",
              "      <td>[布哇, 布哇]</td>\n",
              "      <td>[自强會, 大韓自强會, 大韓自强會, 自强會]</td>\n",
              "      <td>None</td>\n",
              "      <td>None</td>\n",
              "    </tr>\n",
              "    <tr>\n",
              "      <th>89</th>\n",
              "      <td>https://db.history.go.kr/id/ma_001_0050_0030</td>\n",
              "      <td>대한자강회월보 제5호</td>\n",
              "      <td>1906년 11월 25일</td>\n",
              "      <td>None</td>\n",
              "      <td>評議員 沈宜性</td>\n",
              "      <td>논설</td>\n",
              "      <td>[論我敎育界의 時急方針評議員 沈宜性, ○嗚呼라 皆日敎育敎育者가 但知敎育之意而未知敎育...</td>\n",
              "      <td>[孔孟]</td>\n",
              "      <td>None</td>\n",
              "      <td>None</td>\n",
              "      <td>None</td>\n",
              "      <td>[耶蘇敎]</td>\n",
              "    </tr>\n",
              "  </tbody>\n",
              "</table>\n",
              "<p>90 rows × 12 columns</p>\n",
              "</div>\n",
              "    <div class=\"colab-df-buttons\">\n",
              "\n",
              "  <div class=\"colab-df-container\">\n",
              "    <button class=\"colab-df-convert\" onclick=\"convertToInteractive('df-70dfc25d-2368-4a92-bb5d-54138bd42676')\"\n",
              "            title=\"Convert this dataframe to an interactive table.\"\n",
              "            style=\"display:none;\">\n",
              "\n",
              "  <svg xmlns=\"http://www.w3.org/2000/svg\" height=\"24px\" viewBox=\"0 -960 960 960\">\n",
              "    <path d=\"M120-120v-720h720v720H120Zm60-500h600v-160H180v160Zm220 220h160v-160H400v160Zm0 220h160v-160H400v160ZM180-400h160v-160H180v160Zm440 0h160v-160H620v160ZM180-180h160v-160H180v160Zm440 0h160v-160H620v160Z\"/>\n",
              "  </svg>\n",
              "    </button>\n",
              "\n",
              "  <style>\n",
              "    .colab-df-container {\n",
              "      display:flex;\n",
              "      gap: 12px;\n",
              "    }\n",
              "\n",
              "    .colab-df-convert {\n",
              "      background-color: #E8F0FE;\n",
              "      border: none;\n",
              "      border-radius: 50%;\n",
              "      cursor: pointer;\n",
              "      display: none;\n",
              "      fill: #1967D2;\n",
              "      height: 32px;\n",
              "      padding: 0 0 0 0;\n",
              "      width: 32px;\n",
              "    }\n",
              "\n",
              "    .colab-df-convert:hover {\n",
              "      background-color: #E2EBFA;\n",
              "      box-shadow: 0px 1px 2px rgba(60, 64, 67, 0.3), 0px 1px 3px 1px rgba(60, 64, 67, 0.15);\n",
              "      fill: #174EA6;\n",
              "    }\n",
              "\n",
              "    .colab-df-buttons div {\n",
              "      margin-bottom: 4px;\n",
              "    }\n",
              "\n",
              "    [theme=dark] .colab-df-convert {\n",
              "      background-color: #3B4455;\n",
              "      fill: #D2E3FC;\n",
              "    }\n",
              "\n",
              "    [theme=dark] .colab-df-convert:hover {\n",
              "      background-color: #434B5C;\n",
              "      box-shadow: 0px 1px 3px 1px rgba(0, 0, 0, 0.15);\n",
              "      filter: drop-shadow(0px 1px 2px rgba(0, 0, 0, 0.3));\n",
              "      fill: #FFFFFF;\n",
              "    }\n",
              "  </style>\n",
              "\n",
              "    <script>\n",
              "      const buttonEl =\n",
              "        document.querySelector('#df-70dfc25d-2368-4a92-bb5d-54138bd42676 button.colab-df-convert');\n",
              "      buttonEl.style.display =\n",
              "        google.colab.kernel.accessAllowed ? 'block' : 'none';\n",
              "\n",
              "      async function convertToInteractive(key) {\n",
              "        const element = document.querySelector('#df-70dfc25d-2368-4a92-bb5d-54138bd42676');\n",
              "        const dataTable =\n",
              "          await google.colab.kernel.invokeFunction('convertToInteractive',\n",
              "                                                    [key], {});\n",
              "        if (!dataTable) return;\n",
              "\n",
              "        const docLinkHtml = 'Like what you see? Visit the ' +\n",
              "          '<a target=\"_blank\" href=https://colab.research.google.com/notebooks/data_table.ipynb>data table notebook</a>'\n",
              "          + ' to learn more about interactive tables.';\n",
              "        element.innerHTML = '';\n",
              "        dataTable['output_type'] = 'display_data';\n",
              "        await google.colab.output.renderOutput(dataTable, element);\n",
              "        const docLink = document.createElement('div');\n",
              "        docLink.innerHTML = docLinkHtml;\n",
              "        element.appendChild(docLink);\n",
              "      }\n",
              "    </script>\n",
              "  </div>\n",
              "\n",
              "\n",
              "<div id=\"df-9b703ff3-2d73-43be-8435-89cbee2f6ed6\">\n",
              "  <button class=\"colab-df-quickchart\" onclick=\"quickchart('df-9b703ff3-2d73-43be-8435-89cbee2f6ed6')\"\n",
              "            title=\"Suggest charts\"\n",
              "            style=\"display:none;\">\n",
              "\n",
              "<svg xmlns=\"http://www.w3.org/2000/svg\" height=\"24px\"viewBox=\"0 0 24 24\"\n",
              "     width=\"24px\">\n",
              "    <g>\n",
              "        <path d=\"M19 3H5c-1.1 0-2 .9-2 2v14c0 1.1.9 2 2 2h14c1.1 0 2-.9 2-2V5c0-1.1-.9-2-2-2zM9 17H7v-7h2v7zm4 0h-2V7h2v10zm4 0h-2v-4h2v4z\"/>\n",
              "    </g>\n",
              "</svg>\n",
              "  </button>\n",
              "\n",
              "<style>\n",
              "  .colab-df-quickchart {\n",
              "      --bg-color: #E8F0FE;\n",
              "      --fill-color: #1967D2;\n",
              "      --hover-bg-color: #E2EBFA;\n",
              "      --hover-fill-color: #174EA6;\n",
              "      --disabled-fill-color: #AAA;\n",
              "      --disabled-bg-color: #DDD;\n",
              "  }\n",
              "\n",
              "  [theme=dark] .colab-df-quickchart {\n",
              "      --bg-color: #3B4455;\n",
              "      --fill-color: #D2E3FC;\n",
              "      --hover-bg-color: #434B5C;\n",
              "      --hover-fill-color: #FFFFFF;\n",
              "      --disabled-bg-color: #3B4455;\n",
              "      --disabled-fill-color: #666;\n",
              "  }\n",
              "\n",
              "  .colab-df-quickchart {\n",
              "    background-color: var(--bg-color);\n",
              "    border: none;\n",
              "    border-radius: 50%;\n",
              "    cursor: pointer;\n",
              "    display: none;\n",
              "    fill: var(--fill-color);\n",
              "    height: 32px;\n",
              "    padding: 0;\n",
              "    width: 32px;\n",
              "  }\n",
              "\n",
              "  .colab-df-quickchart:hover {\n",
              "    background-color: var(--hover-bg-color);\n",
              "    box-shadow: 0 1px 2px rgba(60, 64, 67, 0.3), 0 1px 3px 1px rgba(60, 64, 67, 0.15);\n",
              "    fill: var(--button-hover-fill-color);\n",
              "  }\n",
              "\n",
              "  .colab-df-quickchart-complete:disabled,\n",
              "  .colab-df-quickchart-complete:disabled:hover {\n",
              "    background-color: var(--disabled-bg-color);\n",
              "    fill: var(--disabled-fill-color);\n",
              "    box-shadow: none;\n",
              "  }\n",
              "\n",
              "  .colab-df-spinner {\n",
              "    border: 2px solid var(--fill-color);\n",
              "    border-color: transparent;\n",
              "    border-bottom-color: var(--fill-color);\n",
              "    animation:\n",
              "      spin 1s steps(1) infinite;\n",
              "  }\n",
              "\n",
              "  @keyframes spin {\n",
              "    0% {\n",
              "      border-color: transparent;\n",
              "      border-bottom-color: var(--fill-color);\n",
              "      border-left-color: var(--fill-color);\n",
              "    }\n",
              "    20% {\n",
              "      border-color: transparent;\n",
              "      border-left-color: var(--fill-color);\n",
              "      border-top-color: var(--fill-color);\n",
              "    }\n",
              "    30% {\n",
              "      border-color: transparent;\n",
              "      border-left-color: var(--fill-color);\n",
              "      border-top-color: var(--fill-color);\n",
              "      border-right-color: var(--fill-color);\n",
              "    }\n",
              "    40% {\n",
              "      border-color: transparent;\n",
              "      border-right-color: var(--fill-color);\n",
              "      border-top-color: var(--fill-color);\n",
              "    }\n",
              "    60% {\n",
              "      border-color: transparent;\n",
              "      border-right-color: var(--fill-color);\n",
              "    }\n",
              "    80% {\n",
              "      border-color: transparent;\n",
              "      border-right-color: var(--fill-color);\n",
              "      border-bottom-color: var(--fill-color);\n",
              "    }\n",
              "    90% {\n",
              "      border-color: transparent;\n",
              "      border-bottom-color: var(--fill-color);\n",
              "    }\n",
              "  }\n",
              "</style>\n",
              "\n",
              "  <script>\n",
              "    async function quickchart(key) {\n",
              "      const quickchartButtonEl =\n",
              "        document.querySelector('#' + key + ' button');\n",
              "      quickchartButtonEl.disabled = true;  // To prevent multiple clicks.\n",
              "      quickchartButtonEl.classList.add('colab-df-spinner');\n",
              "      try {\n",
              "        const charts = await google.colab.kernel.invokeFunction(\n",
              "            'suggestCharts', [key], {});\n",
              "      } catch (error) {\n",
              "        console.error('Error during call to suggestCharts:', error);\n",
              "      }\n",
              "      quickchartButtonEl.classList.remove('colab-df-spinner');\n",
              "      quickchartButtonEl.classList.add('colab-df-quickchart-complete');\n",
              "    }\n",
              "    (() => {\n",
              "      let quickchartButtonEl =\n",
              "        document.querySelector('#df-9b703ff3-2d73-43be-8435-89cbee2f6ed6 button');\n",
              "      quickchartButtonEl.style.display =\n",
              "        google.colab.kernel.accessAllowed ? 'block' : 'none';\n",
              "    })();\n",
              "  </script>\n",
              "</div>\n",
              "\n",
              "  <div id=\"id_a06352d3-a793-44b8-8b7f-ac19b6cfd886\">\n",
              "    <style>\n",
              "      .colab-df-generate {\n",
              "        background-color: #E8F0FE;\n",
              "        border: none;\n",
              "        border-radius: 50%;\n",
              "        cursor: pointer;\n",
              "        display: none;\n",
              "        fill: #1967D2;\n",
              "        height: 32px;\n",
              "        padding: 0 0 0 0;\n",
              "        width: 32px;\n",
              "      }\n",
              "\n",
              "      .colab-df-generate:hover {\n",
              "        background-color: #E2EBFA;\n",
              "        box-shadow: 0px 1px 2px rgba(60, 64, 67, 0.3), 0px 1px 3px 1px rgba(60, 64, 67, 0.15);\n",
              "        fill: #174EA6;\n",
              "      }\n",
              "\n",
              "      [theme=dark] .colab-df-generate {\n",
              "        background-color: #3B4455;\n",
              "        fill: #D2E3FC;\n",
              "      }\n",
              "\n",
              "      [theme=dark] .colab-df-generate:hover {\n",
              "        background-color: #434B5C;\n",
              "        box-shadow: 0px 1px 3px 1px rgba(0, 0, 0, 0.15);\n",
              "        filter: drop-shadow(0px 1px 2px rgba(0, 0, 0, 0.3));\n",
              "        fill: #FFFFFF;\n",
              "      }\n",
              "    </style>\n",
              "    <button class=\"colab-df-generate\" onclick=\"generateWithVariable('df')\"\n",
              "            title=\"Generate code using this dataframe.\"\n",
              "            style=\"display:none;\">\n",
              "\n",
              "  <svg xmlns=\"http://www.w3.org/2000/svg\" height=\"24px\"viewBox=\"0 0 24 24\"\n",
              "       width=\"24px\">\n",
              "    <path d=\"M7,19H8.4L18.45,9,17,7.55,7,17.6ZM5,21V16.75L18.45,3.32a2,2,0,0,1,2.83,0l1.4,1.43a1.91,1.91,0,0,1,.58,1.4,1.91,1.91,0,0,1-.58,1.4L9.25,21ZM18.45,9,17,7.55Zm-12,3A5.31,5.31,0,0,0,4.9,8.1,5.31,5.31,0,0,0,1,6.5,5.31,5.31,0,0,0,4.9,4.9,5.31,5.31,0,0,0,6.5,1,5.31,5.31,0,0,0,8.1,4.9,5.31,5.31,0,0,0,12,6.5,5.46,5.46,0,0,0,6.5,12Z\"/>\n",
              "  </svg>\n",
              "    </button>\n",
              "    <script>\n",
              "      (() => {\n",
              "      const buttonEl =\n",
              "        document.querySelector('#id_a06352d3-a793-44b8-8b7f-ac19b6cfd886 button.colab-df-generate');\n",
              "      buttonEl.style.display =\n",
              "        google.colab.kernel.accessAllowed ? 'block' : 'none';\n",
              "\n",
              "      buttonEl.onclick = () => {\n",
              "        google.colab.notebook.generateWithVariable('df');\n",
              "      }\n",
              "      })();\n",
              "    </script>\n",
              "  </div>\n",
              "\n",
              "    </div>\n",
              "  </div>\n"
            ]
          },
          "metadata": {},
          "execution_count": 116
        }
      ]
    },
    {
      "cell_type": "code",
      "source": [
        "# 엑셀로 저장\n",
        "df.to_excel('./한국근현대잡지자료.xlsx',index=None)\n",
        "\n",
        "# pickle로 저장\n",
        "df.to_pickle('./한국근현대잡지자료.pkl')"
      ],
      "metadata": {
        "id": "FtxI6qDx1hci"
      },
      "execution_count": null,
      "outputs": []
    }
  ]
}