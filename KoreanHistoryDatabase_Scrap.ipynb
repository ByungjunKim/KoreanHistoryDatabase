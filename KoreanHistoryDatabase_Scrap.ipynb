{
  "cells": [
    {
      "cell_type": "markdown",
      "metadata": {
        "colab_type": "text",
        "id": "view-in-github"
      },
      "source": [
        "<a href=\"https://colab.research.google.com/github/ByungjunKim/KoreanHistoryDatabase/blob/master/KoreanHistoryDatabase_Scrap.ipynb\" target=\"_parent\"><img src=\"https://colab.research.google.com/assets/colab-badge.svg\" alt=\"Open In Colab\"/></a>"
      ]
    },
    {
      "cell_type": "markdown",
      "metadata": {
        "id": "NPBaJcRommrz"
      },
      "source": [
        "# 한국사데이터베이스 - 한국근현대잡지자료\n",
        "작성자 : 김병준(KAIST)"
      ]
    },
    {
      "cell_type": "markdown",
      "metadata": {
        "id": "5X2clL4-mkwG"
      },
      "source": [
        "### 스크래핑 준비"
      ]
    },
    {
      "cell_type": "code",
      "execution_count": null,
      "metadata": {
        "colab": {
          "base_uri": "https://localhost:8080/"
        },
        "id": "m7k0VTzrRtsX",
        "outputId": "d07b87eb-fc98-4bb3-cbdc-8a28d3160380"
      },
      "outputs": [
        {
          "name": "stdout",
          "output_type": "stream",
          "text": [
            "Requirement already satisfied: requests in /usr/local/lib/python3.10/dist-packages (2.31.0)\n",
            "Requirement already satisfied: charset-normalizer<4,>=2 in /usr/local/lib/python3.10/dist-packages (from requests) (3.3.2)\n",
            "Requirement already satisfied: idna<4,>=2.5 in /usr/local/lib/python3.10/dist-packages (from requests) (3.6)\n",
            "Requirement already satisfied: urllib3<3,>=1.21.1 in /usr/local/lib/python3.10/dist-packages (from requests) (2.0.7)\n",
            "Requirement already satisfied: certifi>=2017.4.17 in /usr/local/lib/python3.10/dist-packages (from requests) (2023.11.17)\n"
          ]
        }
      ],
      "source": [
        "pip install -U requests"
      ]
    },
    {
      "cell_type": "code",
      "execution_count": 1,
      "metadata": {
        "id": "DSikDPOrQgPq"
      },
      "outputs": [],
      "source": [
        "import pandas as pd\n",
        "import numpy as np\n",
        "import requests\n",
        "from bs4 import BeautifulSoup\n",
        "import urllib3\n",
        "urllib3.disable_warnings(urllib3.exceptions.InsecureRequestWarning)\n",
        "import time\n",
        "from tqdm.auto import tqdm"
      ]
    },
    {
      "cell_type": "code",
      "execution_count": 19,
      "metadata": {
        "id": "Ld5fflnRRB11"
      },
      "outputs": [],
      "source": [
        "# 한국근현대잡지자료 - 대강자강회월보\n",
        "url = 'http://db.history.go.kr/id/ma_001_0010_0010'"
      ]
    },
    {
      "cell_type": "code",
      "execution_count": 20,
      "metadata": {
        "id": "pWkj2E-ORhuM"
      },
      "outputs": [],
      "source": [
        "# Create a session object with SSL verification disabled\n",
        "session = requests.Session()\n",
        "session.verify = False\n",
        "\n",
        "# Make a request using the session object\n",
        "response = session.get(url)\n",
        "\n",
        "# Print the response\n",
        "# print(response.text)"
      ]
    },
    {
      "cell_type": "code",
      "execution_count": 21,
      "metadata": {
        "id": "eTPi2p2tSSD_"
      },
      "outputs": [
        {
          "data": {
            "text/plain": [
              "<!DOCTYPE html>\n",
              "<html lang=\"ko\">\n",
              "<head>\n",
              "<meta content=\"IE=edge\" http-equiv=\"X-UA-Compatible\"/>\n",
              "<meta content=\"text/html; charset=utf-8\" http-equiv=\"Content-Type\"/>\n",
              "<title>자료일람 | 한국사데이터베이스</title>\n",
              "<link href=\"/favicon.ico\" rel=\"shortcut icon\" type=\"image/x-icon\"/>\n",
              "<link href=\"/css/basic.css?ver=1.5\" rel=\"stylesheet\" type=\"text/css\"/>\n",
              "<link href=\"/css/common.css?ver=4.1\" rel=\"stylesheet\" type=\"text/css\"/>\n",
              "<link href=\"/css/bbs.css?ver=3.0\" rel=\"stylesheet\" type=\"text/css\"/>\n",
              "<link href=\"/js/jquery-cluetip-master/jquery.cluetip.css\" rel=\"stylesheet\" type=\"text/css\"/>\n",
              "<style type=\"text/css\">\n",
              "\t\t\t#ilram_pop {display:none}\n",
              "\t\t\t/*\n",
              "\t\t\t.btn_image_view{position:relative;float:right;}\n",
              "\t\t\t.btn_image_view .oriList{position:absolute;background:white;}\n",
              "\t\t\t*/\n",
              "\t\t\t/* 본문상세 Front 출력조정*/\n",
              "\t\t\t.dl_data_pru th{width:initial;}\n",
              "\t\t\t.dl_data_pru td{width:initial;}\n",
              "\t\t\t/* 자료일람 리스트 항목 간격 조정 */\n",
              "\t\t\t.data_list_step .dl_liCont p{padding-left:0px;padding-right:0px;}\n",
              "\t\t\t/* 자료일람 리스트 원문이미지 판본 */\n",
              "\t\t\t.Layorg_img .oriList{margin-top: 4px;margin-left: 80px;}\n",
              "\t\t\t/* 고어 출력 */\n",
              "\t\t\t.oldHan { font-family : \"한컴바탕\", \"함초롬바탕\" }\t\n",
              "\t\t\t\n",
              "\t\t\t.dl_liCont p.dlP01{padding-left:10px;}\n",
              "\t\t</style>\n",
              "<style media=\"print\" type=\"text/css\">\n",
              "            @page  {\n",
              "        \t        size: auto;   /* auto is the current printer page size */\n",
              "                    margin: 10mm;  /* this affects the margin in the printer settings */\n",
              "             }\n",
              "        </style>\n",
              "<!-- <script  src=\"http://code.jquery.com/jquery-latest.min.js\"></script> -->\n",
              "<script src=\"/jQuery/jquery-1.8.3.js\" type=\"text/javascript\"></script>\n",
              "<script src=\"/js/jquery-cluetip-master/lib/jquery.hoverIntent.js\" type=\"text/javascript\"></script>\n",
              "<script src=\"/js/jquery-cluetip-master/jquery.cluetip.js\" type=\"text/javascript\"></script>\n",
              "<script src=\"/js/jquery.selectbox-0.2.js?ver=0.21\" type=\"text/javascript\"></script>\n",
              "<script src=\"/js/bookPage.js\" type=\"text/javascript\"></script>\n",
              "<script src=\"/js/common.js?ver=1.5\" type=\"text/javascript\"></script>\n",
              "<script src=\"/js/makePCookie.js\" type=\"text/javascript\"></script>\n",
              "<script src=\"/js/nikhhdb.js\" type=\"text/javascript\"></script>\n",
              "<script src=\"/js/jquery.oldHan.js\" type=\"text/javascript\"></script>\n",
              "<script src=\"/js/javascriptLib.js\" type=\"text/javascript\"></script>\n",
              "<script src=\"/js/map.js\" type=\"text/javascript\"></script>\n",
              "<script src=\"/js/webime/search.js\" type=\"text/javascript\"></script>\n",
              "<script src=\"/js/webime/common.js\" type=\"text/javascript\"></script>\n",
              "<script src=\"/js/webime/detailSearch.js\" type=\"text/javascript\"></script>\n",
              "<script src=\"/js/webime/detailCommon.js\" type=\"text/javascript\"></script>\n",
              "<script src=\"/js/webime/tiny_mce_src.js\" type=\"text/javascript\"></script>\n",
              "<script src=\"/js/webime/jquery.blockUI.js\" type=\"text/javascript\"></script>\n",
              "<script type=\"text/javascript\">\n",
              "\t    $(document).ready(function() {\n",
              "\t    \ttotalSearchFormInit();\n",
              "\t    \t\n",
              "\t    \t$(\"body\").replaceOldHan();\t\n",
              "\t    \t\n",
              "\t    \t\n",
              "\t\t\t\n",
              "\t\t\t//$(\"ul.data_list_step.step01\").css(\"padding-top\",\"20px\");\n",
              "\t\t\t\n",
              "\t\t\t//주석 팝업\n",
              "\t\t\t$('a.annotation_comment').cluetip({\n",
              "\t\t\t//$('#husa_\\$2exp_0001_comment').cluetip({\n",
              "\t\t\t\tcluetipClass: 'rounded',\n",
              "\t\t \t\tarrows:false,\n",
              "\t\t \t\twidth:440,\n",
              "\t\t \t\tdropShadow: false,\n",
              "\t\t \t\tcursor:'hand',\n",
              "\t\t \t\tcluetipClass:'none',\n",
              "\t\t \t\tpositionBy:'auto', \n",
              "\t\t \t\tleftOffset:-10,\n",
              "\t\t \t\tlocal:true,  \n",
              "\t\t \t\tsticky: true,\n",
              "\t\t \t\tshowTitle: false,\n",
              "\t\t \t\tmouseOutClose: true,\n",
              "\t\t \t\tclosePosition: 'title',\n",
              "\t\t \t\tcloseText: '<img src=\"/js/jquery-cluetip-master/demo/cross.png\" title=\"닫기\" />'\n",
              "\t\t\t});\n",
              "\t\t\t$(\".lyrpop_close\").click(function(){\n",
              "\t\t\t\t$(this).parent().hide();\n",
              "\t\t\t});\n",
              "\t    \t//화면시나리오 시작\n",
              "\t    \t//전체보기버튼 감추기\n",
              "\t\t\t$(\"div.btnWline\").children().first().css(\"display\", \"none\");\t\n",
              "\t\t\t//닫기버튼 감추기\n",
              "\t\t\t$(\"div.btnWline\").children().last().css(\"display\", \"none\");\n",
              "\t\t\t\n",
              "\t    \t\n",
              "\t\t\t\t\n",
              "\t\t\t\t\t\n",
              "    \t\t//페이지 자료수 안내\n",
              "\t\t\tvar remainingData = 0-(20);\n",
              "\t\t\t$(\"p.bfdsc\").empty();\n",
              "\t\t\tif(remainingData > 0){\n",
              "\t\t\t\t$(\"p.bfdsc\").html(\"총<span class='pit'> 0</span> 중 <span class='pit'>\"+ remainingData + \"</span>건의 자료가 더 있습니다.\");\n",
              "\t\t\t}else{\n",
              "\t\t\t\t\n",
              "\t\t\t\t\t\n",
              "\t\t\t\t\t\n",
              "\t\t\t\t\t\t$(\"p.bfdsc\").html(\"총<span class='pit'> 0</span>건. 마지막 페이지입니다.\");\n",
              "\t\t\t\t\t\n",
              "\t\t\t\t\n",
              "\t\t\t\t\n",
              "\t\t\t}\n",
              "\t\t\t\t\n",
              "\t\t\t\t\n",
              "\t\t\t\n",
              "\t\t\t\n",
              "\t\t\t//자료일람\n",
              "\t\t\t$(\"#directoryAll\").click(function(){\n",
              "\t\t\t\tif($(\"#ilram_pop\").css(\"display\") == \"none\"){\n",
              "\t\t\t\t\t//시대별일람 기본출력\n",
              "\t\t\t\t\t$(\"#ilram_pop .ilram_cont\").hide();\n",
              "\t\t\t\t\t$(\"#ilram_pop .ilram_cont\").eq(0).show();\n",
              "\t\t\t\t\t\n",
              "\t\t\t\t    $(\"#ilram_pop\").show();\n",
              "\t\t\t\t} else {\n",
              "\t\t\t\t    $(\"#ilram_pop\").hide();\n",
              "\t\t\t\t}\n",
              "\t\t\t});\n",
              "\t\t\t//자료일람 분류항목 이벤트처리\n",
              "\t\t\t$(\"#ilram_pop strong\").each(function(){\n",
              "\t\t\t\t$(this).click(function(){\n",
              "\t\t\t\t\t//분류아이템 모두 감춤\n",
              "\t\t\t\t\t$(\"#ilram_pop .ilram_cont\").hide();\n",
              "\t\t\t\t\t//다음 ilram_pop show\n",
              "\t\t\t\t\t$(this).next().show();\n",
              "\t\t\t\t});\n",
              "\t\t\t});\n",
              "\t\t\t\n",
              "\t\t\t//자료일람 감추기\n",
              "\t\t\t$(\"#ilram_pop\").css(\"display\", \"none\");\n",
              "\n",
              "\t\t\t//원문이미지리스트\n",
              "\t\t\t$(\"ul.oriList\").css(\"display\", \"none\");\n",
              "\t\t\t\n",
              "\t\t\t//ID복사이벤트처리\n",
              "\t\t\t$(\".Layorg_img\").mouseover(function(){\n",
              "\t\t\t\t$(this).find(\".oriList\").show();\n",
              "\t\t\t});\n",
              "\t\t\t$(\".Layorg_img\").mouseout(function(){\n",
              "\t\t\t\t$(this).find(\".oriList\").hide();\n",
              "\t\t\t});\n",
              "\t\t\t\n",
              "\t\t\t//ID복사이벤트처리\n",
              "\t\t\t$(\".hoiArea\").mouseover(function(){\n",
              "\t\t\t\t$(\".hoiList\").show();\n",
              "\t\t\t});\n",
              "\t\t\t$(\".hoiArea\").mouseout(function(){\n",
              "\t\t\t\t$(\".hoiList\").hide();\n",
              "\t\t\t});\n",
              "\t\t\t//ID복사 감추기\n",
              "\t\t\t$(\".hoiList\").css(\"display\", \"none\");\n",
              "\t\t\t\n",
              "\t\t\t$(\"#copyId\").click(function(){\n",
              "\t    \t\t//NIKH 시작위치부터\n",
              "\t    \t\tvar labelId = $(\".hoi\").html();\n",
              "\t    \t\t//labelId = labelId.substring(labelId.indexOf('N'));\n",
              "\t    \t\tcopyClipBoard(labelId);\n",
              "\t    \t});\n",
              "\t    \t$(\"#copyUrl\").click(function(){\n",
              "\t    \t\tvar labelId = $(\".hoi\").html();\n",
              "\t    \t\t//labelId = labelId.substring(labelId.indexOf('N'));\n",
              "\t    \t\tvar url = 'http://db.history.go.kr/id/' + labelId;\n",
              "\t    \t\tcopyClipBoard(url);\n",
              "\t    \t});\n",
              "\t    \t$(\"#hoiHelp\").click(function(){\n",
              "\t    \t\twindow.open('/item/itemQuote.do', '', 'toolbar=no,location=no,directories=no,status=no,menubar=no,scrollbars=yes,resizable=no,top=100,left=250,width=810,height=420');\n",
              "\t    \t});\n",
              "\t    \t\n",
              "\t    \t//관련사이트 링크 선택시 \n",
              "\t    \t$(\"select#ft_slt\").change(function() {\n",
              "\t\t\t\twindow.open($(this).val(), \"_blank\");\n",
              "\t    \t});\n",
              "\t    });\n",
              "\t    \n",
              "\t    // 본문 출력\n",
              "\t    function bodyPrint() {\n",
              "\t    \t$(\"#footerWrap\").hide();\n",
              "            $(\"#headerWrap\").hide();\n",
              "            if(document.getElementById('cont_view')){\n",
              "\t            beforePrintFontSize =  startSize;\n",
              "\t            startSize = 4;\n",
              "\t            ts('cont_view',1);\n",
              "            }\n",
              "            window.print();\n",
              "            var recoverView = window.setInterval(function(){\n",
              "                if ( $(\"#headerWrap\").is(\":hidden\") ) {\n",
              "                \tif(document.getElementById('cont_view')){\n",
              "\t\t                 startSize = beforePrintFontSize+1;\n",
              "\t\t                 ts('cont_view',-1);\n",
              "                \t}\n",
              "\t\t\t\t\t$(\"#footerWrap\").show();\n",
              "\t\t\t\t\t$(\"#headerWrap\").show();\n",
              "                } else {\n",
              "                    clearInterval(recoverView);\n",
              "                }\n",
              "            },100);\n",
              "\t    }\n",
              "\t    \n",
              "\t  \t//상세검색이동\n",
              "\t    function searchDetail(){\n",
              "\t    \tvar keyword = \"\";\n",
              "\t    \tif($.trim($(\"#totalKeyword\").val())){\n",
              "\t    \t\tkeyword = \"?keyword=\" + $(\"#totalKeyword\").val();\n",
              "            }\n",
              "\t    \tlocation.href=\"/search/searchDetail.do\"+encodeURI(keyword);\n",
              "\t    }\n",
              "\t   \t//시소러스검색이동\n",
              "\t    function searchThesaurus(){\n",
              "\t    \tvar keyword = \"\";\n",
              "\t    \tif($.trim($(\"#totalKeyword\").val())){\n",
              "\t    \t\tkeyword = \"?keyword=\" + $(\"#totalKeyword\").val();\n",
              "            }\n",
              "\t    \tlocation.href=\"/search/thesaurus.do\"+encodeURI(keyword);\n",
              "\t    }\n",
              "\t   \t//아이템검색결과화면으로 이동\n",
              "\t    function searchResultList(){\n",
              "\t\t\tvar perPage = $(\"#itemSearchForm input[name='rowPerPage']\").val();\n",
              "\t\t\tvar currentRow = -1;\n",
              "\t\t\tvar page = 1;\n",
              "\t\t\tif(currentRow >= perPage){\n",
              "\t\t\t\tpage = parseInt(currentRow/perPage) + 1;\n",
              "\t\t\t}\n",
              "\t\t\t\n",
              "\t\t\t$(\"#itemSearchForm input[name='page']\").val(page.toString());\n",
              "\t\t\t$('#itemSearchForm').submit();\n",
              "\t\t}\n",
              "\t    \n",
              "\t    //자료일람닫기\n",
              "\t    function hideIlram(){\n",
              "\t    \t//자료일람 감추기\n",
              "\t\t\t$(\"#ilram_pop\").css(\"display\", \"none\");\n",
              "\t    }\n",
              "\t    \n",
              "\t\t// 페이지이동\n",
              "\t\tfunction goPage(page) {\n",
              "\t\t\t\n",
              "\t\t\t\n",
              "\t\t\tvar paramCate = getParameters('cate');\n",
              "\t\t\t\n",
              "\t\t\t\t\n",
              "\t\t\t\t\n",
              "\t\t\t\t\n",
              "\t\t\t\t\t$(\"#searchCommand input[name='start']\").val(page);\n",
              "\t\t\t\t\t$(\"#searchCommand input[name='pre_page']\").val($(\"#searchCommand input[name='page']\").val());\n",
              "\t\t\t\t\t$(\"#searchCommand input[name='page']\").val(page);\n",
              "\t\t\t\t\t$(\"#searchCommand input[name='limit']\").val('20');\n",
              "\t\t\t\t\t$(\"#searchCommand\").submit();\n",
              "\t\t\t\t\n",
              "\t\t\t\n",
              "\t\t}\n",
              "\t\t\n",
              "\t\t// 전체보기\n",
              "\t\tfunction goPageAll(total){\n",
              "\t\t\t// 현재의 페이징조건은 이전 페이징조건으로 옮긴다.\n",
              "\t\t\tvar limit = \"20\";\n",
              "\t\t\tvar page = \"1\";\n",
              "\t\t\t\n",
              "\t\t\t\n",
              "\t\t\tvar paramCate = getParameters('cate');\n",
              "\t\t\t\n",
              "\t\t\t\t\n",
              "\t\t\t\t\n",
              "\t\t\t\t\n",
              "\t\t\t\t\t/* $(\"#searchCommand input[name='start']\").val(page);\n",
              "\t\t\t\t\t$(\"#searchCommand input[name='page']\").val(page);\n",
              "\t\t\t\t\t$(\"#searchCommand input[name='limit']\").val('20');\n",
              "\t\t\t\t\t$(\"#searchCommand\").submit(); */\n",
              "\t\t\t\t\t$(\"#searchCommand input[name='prevLimit']\").val(limit);\n",
              "\t\t\t\t\t$(\"#searchCommand input[name='prevPage']\").val(page);\n",
              "\t\t\t\t\t$(\"#searchCommand input[name='page']\").val(1);\n",
              "\t\t\t\t\t$(\"#searchCommand input[name='pre_page']\").val(0);\n",
              "\t\t\t\t\t$(\"#searchCommand input[name='brokerPagingInfo']\").val(\"\");\n",
              "\t\t\t\t\t$(\"#searchCommand input[name='limit']\").val(total);\n",
              "\t\t\t\t\t$(\"#searchCommand\").submit();\n",
              "\t\t\t\t\n",
              "\t\t\t\n",
              "\t\t}\n",
              "\t\t\n",
              "\t\t// 닫기\n",
              "\t\tfunction goPageBack() {\n",
              "\t\t\tvar limit = $(\"#searchCommand input[name='prevLimit']\").val();\n",
              "\t\t\tvar page = $(\"#searchCommand input[name='prevPage']\").val();\n",
              "\t\t\t\n",
              "\t\t\tvar paramCate = getParameters('cate');\n",
              "\t\t\t\n",
              "\t\t\t\t\n",
              "\t\t\t\t\n",
              "\t\t\t\t\n",
              "\t\t\t\t\t$(\"#searchCommand input[name='page']\").val(page);\n",
              "\t\t\t\t\t$(\"#searchCommand input[name='limit']\").val(limit);\n",
              "\t\t\t\t\t$(\"#searchCommand input[name='brokerPagingInfo']\").val(\"\");\n",
              "\t\t\t\t\t$(\"#searchCommand\").submit();\n",
              "\t\t\t\t\n",
              "\t\t\t\n",
              "\t\t}\n",
              "\t    \n",
              "\t    //다운로드\n",
              "\t    function downloadItemLevel() {\n",
              "\t    \t\n",
              "\t    \t\n",
              "\t    \tremoveAllSearchConditionSet($(\"#searchCommand\"));\n",
              "\t    \t\n",
              "\t    \t$(\"#searchCommand\").attr('action', '/item/downloadItemLevel.do').submit();\n",
              "\t    \t$(\"#searchCommand\").attr('action', '/item/level.do');//원래상태로\n",
              "\t    }\n",
              "\t  \t//##글씨크게/작게------------------------------------------------------------\n",
              "\t\t//Specify affected tags. Add or remove from list:\n",
              "\t\tvar targets = new Array( 'div','td','tr','li','ul','h1','h2','h3','h4','h5','h6','span', 'input', 'em','a');\n",
              "\t\t//Specify spectrum of different font sizes:\n",
              "\t\tvar sizes = new Array( '9pt','10pt','11pt', '12pt', '14pt', '16pt', '18pt', '21pt', '24pt','28pt'  );\n",
              "\t\tvar startSize = 3;\n",
              "\t\tfunction ts( target, inc ) {\n",
              "\t\t\tif (!document.getElementById) return;\n",
              "\t\t \tvar d = document, cEl = null, size = startSize, i, j, cTags;\n",
              "\t\t \tsize += inc;\n",
              "\t\t\tif ( size < 0 ){ //폰트 크기를 0 이하로 내릴 수 없게 설정\n",
              "\t\t\t\tsize = 0;\n",
              "\t\t\t}\n",
              "\t\t \tif ( size > sizes.length ){ //폰트 크기를 6 이상으로 올릴 수 없게 설정\n",
              "\t\t  \t\tsize = sizes.length;\n",
              "\t\t \t}\n",
              "\t\t \tstartSize = size; \n",
              "\t\t \tif ( !( cEl = d.getElementById( target ) ) ){\n",
              "\t\t  \t\tcEl = d.getElementsByTagName( target )[ 0 ];\n",
              "\t\t \t}\n",
              "\t\t \tif(cEl){\n",
              "\t\t\t \tcEl.style.fontSize = sizes[ size ];\n",
              "\t\t\t \tfor ( i = 0 ; i < targets.length ; i++ ) {\n",
              "\t\t\t  \t\tcTags = cEl.getElementsByTagName( targets[ i ] ); //getElementsByTagName을 사용하면 배열로 받아짐\n",
              "\t\t\t  \t\tfor ( j = 0 ; j < cTags.length ; j++ ){\n",
              "\t\t\t   \t\t\tcTags[ j ].style.fontSize = sizes[ size ];\n",
              "\t\t\t  \t\t}\n",
              "\t\t\t \t}\n",
              "\t\t\t}\n",
              "\t\t}\n",
              "\t\t//##글씨크게/작게------------------------------------------------------------\n",
              "\t\t\n",
              "\t\t// 동적구성 공통모듈\n",
              "\t\tvar jqxhr = null;\n",
              "\t\tfunction retrieveListItemLevelChild(levelId, level) {\n",
              "\t\t\tif (!isEmpty(levelId)) {\n",
              "\t\t\t\tif (!level) {\n",
              "\t\t\t\t\tlevel = 0;\n",
              "\t\t\t\t}\n",
              "\t\t\t\t\n",
              "\t\t\t\t/*\n",
              "\t\t\t\t\t2018-10-24 수정\n",
              "\t\t\t\t\tlevelId 에 특수문자 $ 가 들어가는 경우가 있다. (예 : wj_001_$3exp)\n",
              "\t\t\t\t\tjQuery 의 경우 ELEMENT SELECTOR 시 id 에 특수문자가 있는 경우 에러 발생.\n",
              "\t\t\t\t\t예) $(\"#wj_001_$3exp\").addClass(\"loading\"); --> 스크립트 에러\n",
              "\t\t\t\t*/\n",
              "\t\t\t\t// jQuery SELECTOR 를 위한 levelId\n",
              "\t\t\t\tvar levelIdForJQuery = levelId;\n",
              "\t\t\t\tif (levelIdForJQuery.indexOf(\"$\") > -1) {\n",
              "\t\t\t\t\tlevelIdForJQuery = levelIdForJQuery.split(\"$\").join(\"\\\\$\");\n",
              "\t\t\t\t\t//console.log(\"levelId=\" + levelId + \" -> levelIdForJQuery=\" + levelIdForJQuery);\n",
              "\t\t\t\t}\n",
              "\t\t\t\t\n",
              "\t\t\t\t// 이미 읽어온 하위레벨이 있는지 확인\n",
              "\t\t\t\tif ($(\"ul[parentid='\" + levelId + \"']\").length <= 0) {\n",
              "\t\t\t\t\t$(\"#\" + levelIdForJQuery).addClass(\"loading\");\n",
              "\t\t\t\t\t\n",
              "\t\t\t\t\t// 읽어온 하위레벨이 없을경우만 호출한다.\n",
              "\t\t\t\t\tjqxhr = $.getJSON('/item/retrieveListItemLevelChild.process?levelId=' + levelId + '&level=' + level, function(data) {\n",
              "\t\t\t\t\t\t// 동적으로 구해야한다.\n",
              "\t\t\t\t\t\tvar step = getChildStep($(\"#\" + levelIdForJQuery).parents('ul').eq(0), levelId);\n",
              "\t\t\t\t\t\tvar $li = $(\"<li />\");\t// 새로만들어진 $li는 하위레벨 모두가 들어갈 컨테이너다.\n",
              "\t\t\t\t\t\tvar $ul = $(\"<ul class='data_list_step \" + step + \"' parentid='\" + levelId + \"' />\");\n",
              "\t\t\t\t\t\t$li.append($ul);\n",
              "\t\t\t\t\t\t\n",
              "\t\t\t\t\t\t// 선택된 상위(li)의 다음에 하위레벨들이 속할 li는 무조건 추가된다.\n",
              "\t\t\t\t\t\tvar $parentLi = $(\"#\" + levelIdForJQuery).parents('li').eq(0);\n",
              "\t\t\t\t\t\t$parentLi.after($li);\n",
              "\t\t\t\t\t\t\n",
              "\t\t\t\t\t\tvar parentList = data.childList;\n",
              "\t\t\t\t\t\t\n",
              "\t\t\t\t\t\tvar $parentUl = $ul;\t// 상위Ul. 동적으로 찾아야한다.\n",
              "\t\t\t\t\t\tvar parentId = levelId;\t// 동적으로 찾아야하는 기준\n",
              "\t\t\t\t\t\tfor (var i = 0; i < parentList.length; i++) {\n",
              "\t\t\t\t\t\t\tvar itemLevel = parentList[i];\n",
              "\t\t\t\t\t\t\t\n",
              "\t\t\t\t\t\t\t// 부모(Ul)을 새로 구해야하는 기준\n",
              "\t\t\t\t\t\t\tif (parentId != itemLevel.parentId) {\n",
              "\t\t\t\t\t\t\t\t// 기존에 추가된 부모가 있는지 확인. 부모의 id(parentid)를 갖는 ul이 있는지\n",
              "\t\t\t\t\t\t\t\tif ($li.find(\"ul[parentid='\" + itemLevel.parentId + \"']\").length > 0) {\n",
              "\t\t\t\t\t\t\t\t\t// 있다면 해당 부모Ul에\n",
              "\t\t\t\t\t\t\t\t\t$parentUl = $li.find(\"ul[parentid='\" + itemLevel.parentId + \"']\").eq(0);\n",
              "\t\t\t\t\t\t\t\t} else {\n",
              "\t\t\t\t\t\t\t\t\t// 없다면 부모 li의 형제(li>ul)를 만들어야한다.\n",
              "\t\t\t\t\t\t\t\t\t// 부모li를 찾는다.\n",
              "\t\t\t\t\t\t\t\t\tvar tmpParentIdForJQuery = itemLevel.parentId;\n",
              "\t\t\t\t\t\t\t\t\tif (tmpParentIdForJQuery.indexOf(\"$\") > -1) {\n",
              "\t\t\t\t\t\t\t\t\t\ttmpParentIdForJQuery = tmpParentIdForJQuery.split(\"$\").join(\"\\\\$\");\n",
              "\t\t\t\t\t\t\t\t\t}\n",
              "\t\t\t\t\t\t\t\t\tvar $tmpParentUl = $li.find(\"#\" + tmpParentIdForJQuery).parents('ul').eq(0);\n",
              "\t\t\t\t\t\t\t\t\tstep = getChildStep($tmpParentUl, itemLevel.parentId);\n",
              "\t\t\t\t\t\t\t\t\tvar $tempLi = $(\"<li />\");\n",
              "\t\t\t\t\t\t\t\t\tvar $tempUl = $(\"<ul class='data_list_step \" + step + \"' parentid='\" + itemLevel.parentId + \"' />\");\n",
              "\t\t\t\t\t\t\t\t\t$tempLi.append($tempUl);\n",
              "\t\t\t\t\t\t\t\t\t$tmpParentUl.append($tempLi);\n",
              "\t\t\t\t\t\t\t\t\t$parentUl = $tempUl;\n",
              "\t\t\t\t\t\t\t\t}\n",
              "\t\t\t\t\t\t\t\tparentId = itemLevel.parentId;\n",
              "\t\t\t\t\t\t\t\tvar parentIdForJQuery = parentId;\n",
              "\t\t\t\t\t\t\t\tif (parentIdForJQuery.indexOf(\"$\") > -1) {\n",
              "\t\t\t\t\t\t\t\t\tparentIdForJQuery = parentIdForJQuery.split(\"$\").join(\"\\\\$\");\n",
              "\t\t\t\t\t\t\t\t}\n",
              "\t\t\t\t\t\t\t\t$li.find(\"#\" + parentIdForJQuery).children(\"strong\").eq(0).removeClass(\"expandable\");\n",
              "\t\t\t\t\t\t\t\t$li.find(\"#\" + parentIdForJQuery).children(\"strong\").eq(0).addClass(\"expanded\");\n",
              "\t\t\t\t\t\t\t}\n",
              "\t\t\t\t\t\t\t\n",
              "\t\t\t\t\t\t\t// 무조건 추가되는 하위레벨 컨텐츠\n",
              "\t\t\t\t\t\t\tvar $contentDiv = makeItemLevelColumn(itemLevel);\n",
              "\t\t\t\t\t\t\tvar $levelLi = $(\"<li />\");\n",
              "\t\t\t\t\t\t\t$levelLi.append($contentDiv);\n",
              "\t\t\t\t\t\t\t$parentUl.append($levelLi);\t// <- 요넘은 바뀌어야한다.\n",
              "\t\t\t\t\t\t}\n",
              "\t\t\t\t\t\t\n",
              "\t\t\t\t\t\t$(\"#\" + levelIdForJQuery).removeClass(\"loading\");\n",
              "\t\t\t\t\t\t$(\"#\" + levelIdForJQuery).children(\"strong\").eq(0).removeClass(\"expandable\");\n",
              "\t\t\t\t\t\t$(\"#\" + levelIdForJQuery).children(\"strong\").eq(0).addClass(\"expanded\");\n",
              "\t\t\t\t\t}).done(function() {\n",
              "\t\t\t\t\t\t\n",
              "\t\t\t\t\t}).fail(function() {\n",
              "\t\t\t\t\t\talert('일시적인 오류가 발생하였습니다. 새로고침 후 이용해주시기 바랍니다.');\n",
              "\t\t\t\t\t}).always(function() {\n",
              "\t\t\t\t\t\t\n",
              "\t\t\t\t\t});\n",
              "\t\t\t\t\t\n",
              "\t\t\t\t\tjqxhr.complete(function() {\n",
              "\t\t\t\t\t\tvar lvlId = \"\";\n",
              "\t\t\t\t\t\tif (parentLevelQueue.length() > 0) {\n",
              "\t\t\t\t\t\t\tlvlId = parentLevelQueue.get();\n",
              "\t\t\t\t\t\t\tretrieveListItemLevelChild(lvlId);\n",
              "\t\t\t\t\t\t}\n",
              "\t\t\t\t\t\tif (!isEmpty(lvlId)) {\n",
              "\t\t\t\t\t\t\t// 마지막 레벨 강조처리\n",
              "\t\t\t\t\t\t\t//$(\"#\" + lvlId).children().eq(0).addClass(\"select\");\n",
              "\t\t\t\t\t\t}\n",
              "\t\t\t\t\t});\n",
              "\t\t\t\t} else {\n",
              "\t\t\t\t\tif ($(\"#\" + levelIdForJQuery).children(\"strong\").eq(0).hasClass('expanded')) {\n",
              "\t\t\t\t\t\t$(\"#\" + levelIdForJQuery).children(\"strong\").eq(0).removeClass('expanded');\n",
              "\t\t\t\t\t\t$(\"#\" + levelIdForJQuery).children(\"strong\").eq(0).addClass('expandable');\n",
              "\t\t\t\t\t\t\n",
              "\t\t\t\t\t\t$(\"#\" + levelIdForJQuery).parents('li').eq(0).next().slideUp();\n",
              "\t\t\t\t\t} else if ($(\"#\" + levelIdForJQuery).children(\"strong\").eq(0).hasClass('expandable')) {\n",
              "\t\t\t\t\t\t$(\"#\" + levelIdForJQuery).children(\"strong\").eq(0).removeClass('expandable');\n",
              "\t\t\t\t\t\t$(\"#\" + levelIdForJQuery).children(\"strong\").eq(0).addClass('expanded');\n",
              "\t\t\t\t\t\t$(\"#\" + levelIdForJQuery).parents('li').eq(0).next().slideDown();\n",
              "\t\t\t\t\t}\n",
              "\t\t\t\t}\n",
              "\t\t\t}\n",
              "\t\t}\n",
              "\t\t/* function retrieveListItemLevelChild(levelId, level){\n",
              "\t    \tif(!isEmpty(levelId)){\n",
              "\t    \t\tif(!level)level=0;\n",
              "\t\t    \t//이미 읽어온 하위레벨이 있는지 확인\n",
              "\t\t    \tif($(\"ul[parentid='\"+ levelId +\"']\").length <= 0){\n",
              "\t\t    \t\t$(\"#\"+levelId).addClass(\"loading\");\n",
              "\t\t    \t\n",
              "\t\t\t\t\t//읽어온 하위레벨이 없을경우만 호출한다\n",
              "\t\t\t\t\tjqxhr = $.getJSON('/item/retrieveListItemLevelChild.process?levelId='+levelId + '&level='+ level, function(data) {\n",
              "\t\t\t\t\t\t\n",
              "\t\t\t\t\t\t//동적으로 구해야한다\n",
              "\t\t\t\t\t\tvar step = getChildStep($(\"#\"+levelId).parents('ul').eq(0), levelId);\n",
              "\t\t\t\t    \tvar $li = $(\"<li/>\");//새로만들어진 $li는 하위레벨 모두가 들어갈 컨테이너다\n",
              "\t\t\t\t    \tvar $ul = $(\"<ul class='data_list_step \"+step+\"'  parentid='\"+ levelId +\"'/>\");\n",
              "\t\t\t\t    \t$li.append($ul);\n",
              "\t\t\t\t    \t//선택된 상위(li)의 다음에 하위레벨들이 속할 li는 무조건 추가된다.\n",
              "\t\t\t\t\t\tvar $parentLi = $(\"#\"+levelId).parents('li').eq(0);\n",
              "\t\t\t\t\t\t$parentLi.after($li);\n",
              "\t\t\t\t\t\t\n",
              "\t\t\t\t\t\tvar parentList = data.childList;\n",
              "\t\t\t\t\t\t\n",
              "\t\t\t\t\t\tvar $parentUl = $ul;//상위Ul. 동적으로 찾아야한다\n",
              "\t\t\t\t\t\tvar parentId = levelId;//동적으로 찾아야하는 기준\n",
              "\t\t\t\t\t\tfor(var i = 0; i < parentList.length;i++){\n",
              "\t\t\t\t\t\t\tvar itemLevel = parentList[i];\n",
              "\t\t\t\t\t\t\t//부모(Ul)을 새로 구해야하는 기준\n",
              "\t\t\t\t\t\t\tif(parentId != itemLevel.parentId){\n",
              "\t\t\t\t\t\t\t\t//기존에 추가된 부모가 있는지 확인. 부모의 id(parentid)를 갖는 ul이 있는지\n",
              "\t\t\t\t\t\t\t\tif($li.find(\"ul[parentid='\"+ itemLevel.parentId +\"']\").length > 0){\n",
              "\t\t\t\t\t\t\t\t\t//있다면 해당 부모Ul에 \n",
              "\t\t\t\t\t\t\t\t\t$parentUl = $li.find(\"ul[parentid='\"+ itemLevel.parentId +\"']\").eq(0);\n",
              "\t\t\t\t\t\t\t\t}else{\n",
              "\t\t\t\t\t\t\t\t//없다면 부모Li의 형제(li>ul)를 만들어야한다.\n",
              "\t\t\t\t\t\t\t\t\t//부모li를 찾는다\n",
              "\t\t\t\t\t\t\t\t\tvar $tmpParentUl = $li.find(\"#\"+ itemLevel.parentId).parents('ul').eq(0);\n",
              "\t\t\t\t\t\t\t\t\tstep = getChildStep($tmpParentUl, itemLevel.parentId);\n",
              "\t\t\t\t\t\t\t\t\t\n",
              "\t\t\t\t\t\t\t\t\tvar $tempLi = $(\"<li/>\");\n",
              "\t\t\t\t\t\t\t    \tvar $tempUl = $(\"<ul class='data_list_step \"+step+\"'  parentid='\"+ itemLevel.parentId +\"'/>\");\n",
              "\t\t\t\t\t\t\t    \t$tempLi.append($tempUl);\n",
              "\t\t\t\t\t\t\t\t\t$tmpParentUl.append($tempLi);\n",
              "\t\t\t\t\t\t\t\t\t$parentUl = $tempUl;\n",
              "\t\t\t\t\t\t\t\t}\n",
              "\t\t\t\t\t\t\t\tparentId = itemLevel.parentId;\n",
              "\t\t\t\t\t\t\t\t$li.find(\"#\"+parentId).children(\"strong\").eq(0).removeClass(\"expandable\");\n",
              "\t\t\t\t\t\t\t\t$li.find(\"#\"+parentId).children(\"strong\").eq(0).addClass(\"expanded\");\n",
              "\t\t\t\t\t\t\t}\n",
              "\t\t\t\t\t\t\t//무조건 추가되는 하위레벨 컨텐츠\n",
              "\t\t\t\t\t\t\tvar $contentDiv = makeItemLevelColumn(itemLevel);\n",
              "\t\t\t\t\t\t\tvar $levelLi = $(\"<li/>\");\n",
              "\t\t\t\t\t\t\t$levelLi.append($contentDiv);\n",
              "\t\t\t\t\t\t\t$parentUl.append($levelLi);// <- 요넘은 바뀌어야한다\n",
              "\t\t\t\t\t\t}\n",
              "\t\t\t\t\t\t\n",
              "\t\t\t\t    \t$(\"#\"+levelId).removeClass(\"loading\");\n",
              "\t\t\t\t    \t$(\"#\"+levelId).children(\"strong\").eq(0).removeClass(\"expandable\");\n",
              "\t\t\t\t    \t$(\"#\"+levelId).children(\"strong\").eq(0).addClass(\"expanded\");\n",
              "\t\t\t\t\t}).done(function() {\n",
              "\t\t\t\t\t    \n",
              "\t\t\t\t\t  })\n",
              "\t\t\t\t\t  .fail(function() {\n",
              "\t\t\t\t\t    alert('일시적인 오류가 발생하였습니다. 새로고침 후 이용해주시기 바랍니다.');\n",
              "\t\t\t\t\t  })\n",
              "\t\t\t\t\t  .always(function() {\n",
              "\t\t\t\t\t    \n",
              "\t\t\t\t\t  });\n",
              "\t\t\t\t\tjqxhr.complete(function() {\n",
              "\t\t\t\t\t\tvar lvlId = \"\";\n",
              "\t\t\t\t\t\tif(parentLevelQueue.length() > 0){\n",
              "\t\t\t\t\t\t\tlvlId = parentLevelQueue.get();\n",
              "\t\t\t\t\t\t\tretrieveListItemLevelChild(lvlId);\n",
              "\t\t\t\t\t\t}\n",
              "\t\t\t\t\t\tif(!isEmpty(lvlId)){\n",
              "\t\t\t\t\t\t\t//마지막 레벨 강조처리\n",
              "\t\t\t\t\t\t\t//$(\"#\"+lvlId).children().eq(0).addClass(\"select\");\n",
              "\t\t\t\t\t\t}\n",
              "\t\t\t\t   \t});\n",
              "\t\t    \t}else{\n",
              "\t\t    \t\tif($(\"#\"+levelId).children(\"strong\").eq(0).hasClass('expanded')){\n",
              "\t\t\t\t\t\t\n",
              "\t\t\t\t\t\t$(\"#\"+levelId).children(\"strong\").eq(0).removeClass('expanded');\n",
              "\t\t\t\t\t\t$(\"#\"+levelId).children(\"strong\").eq(0).addClass('expandable');\n",
              "\t\t\t\t\t\t\n",
              "\t\t\t\t\t\t$(\"#\"+levelId).parents('li').eq(0).next().slideUp();\n",
              "\t\t\t\t\t}else if($(\"#\"+levelId).children(\"strong\").eq(0).hasClass('expandable')){\n",
              "\t\t\t\t\t\t\n",
              "\t\t\t\t\t\t$(\"#\"+levelId).children(\"strong\").eq(0).removeClass('expandable');\n",
              "\t\t\t\t\t\t$(\"#\"+levelId).children(\"strong\").eq(0).addClass('expanded');\n",
              "\t\t\t\t\t\t$(\"#\"+levelId).parents('li').eq(0).next().slideDown();\n",
              "\t\t\t\t\t}\n",
              "\t\t    \t}\n",
              "\t    \t}\n",
              "\t    } */\n",
              "\t    \n",
              "\t    function getChildStep($parentUl, levelId){\n",
              "\t    \t//# 상위레벨의 step를 구해야한다.\n",
              "\t    \tvar step = \"step02\";\n",
              "\t    \tif($parentUl.hasClass('step01')){\n",
              "\t    \t\tstep = \"step02\";\n",
              "\t    \t} else if($parentUl.hasClass('step02')){\n",
              "\t    \t\tstep = \"step03\";\n",
              "\t    \t}else if($parentUl.hasClass('step03')){\n",
              "\t    \t\tstep = \"step04\";\n",
              "\t    \t}else if($parentUl.hasClass('step04')){\n",
              "\t    \t\tstep = \"step05\";\n",
              "\t    \t}else if($parentUl.hasClass('step05')){\n",
              "\t    \t\tstep = \"step06\";\n",
              "\t    \t}\n",
              "\t    \treturn step;\n",
              "\t    }\n",
              "\t    \n",
              "\t  //오류신고폼\n",
              "\t    function registerErrorReport(){\n",
              "\t        var itemId = 'ma';\n",
              "\t        var levelId = 'ma_001_0010_0010';\n",
              "\t        \n",
              "\t        \n",
              "\t        \n",
              "\t        var mainTitle = \"大韓自强會月報序［三編］\";\n",
              "\t        \n",
              "\t        \n",
              "\t        \n",
              "\t        var location = '자료일람화면';\n",
              "\t        if(levelId){\n",
              "\t            location = '자료상세화면';\n",
              "\t        }\n",
              "\t        window.open(\"/errorReport/errorReportWrite.do?itemId=\"+itemId+\"&levelId=\"+levelId +\"&mainTitle=\" + encodeURI(mainTitle)+\"&location=\" + encodeURI(location), '','toolbar=no,location=no,directories=no,status=no,menubar=no,scrollbars=yes,resizable=no,top=100,left=250,width=815,height=600');\n",
              "\t    }\n",
              "\t    </script>\n",
              "</head>\n",
              "<body>\n",
              "<div id=\"wrap\">\n",
              "<!-- header -->\n",
              "<script>\n",
              "function getContextPath(){\n",
              "\treturn '';\n",
              "}\n",
              "\n",
              "/*Enter키검색*/\n",
              "function handleEnter(e){\t//검색입력 이벤트 체크\n",
              "\tif (window.event) {\n",
              "\t\te = window.event;\n",
              "\t};\n",
              "\tif(e.keyCode == 13 || e.which == 13 || e.keyCode == 0 || e.which == 0) {\n",
              "        \n",
              "        var searchTerm = getImevar(\"totalKeyword\");\n",
              "    \t$(\"#totalKeyword\").val(searchTerm);\n",
              "        if($.trim($(\"#totalKeyword\").val()  !=\"\")){\n",
              "        \tsearchResult($(\"#totalKeywordType\").val(), $.trim($(\"#totalKeyword\").val()));\n",
              "        }else{\n",
              "            alert(\"검색어를 입력해주세요\");\n",
              "        }\n",
              "\t\treturn false;\n",
              "\t}\n",
              "\telse {\n",
              "\t\treturn true;\n",
              "\t}\n",
              "}\n",
              "\n",
              "$(document).ready(function() {\n",
              "\t//하위자료 키워드입력란 엔터 처리\n",
              "    $(\"#inputChildSearchKeyword\").keyup(function(e){\n",
              "        if(e.keyCode == 13){\n",
              "            if($.trim($(this).val())){\n",
              "            \tsearchResultListChild();\n",
              "            }else{\n",
              "                alert(\"검색어를 입력해주세요\");\n",
              "            }\n",
              "        }\n",
              "    });\n",
              "});\n",
              "\n",
              "function showChildSearch(){\n",
              "\tif($(\".hdata_srch_low\").css(\"display\") == \"none\"){\n",
              "\t      $(\".hdata_srch_low\").show();\n",
              "\t} else {\n",
              "\t      $(\".hdata_srch_low\").hide();\n",
              "\t}\n",
              "}\n",
              "\n",
              "/**\n",
              " * 하위자료검색 수행\n",
              " */\n",
              "function searchResultListChild(){\n",
              "\tvar query = $(\"#inputChildSearchKeyword\").val();\n",
              "\tquery = removeSpecialChar(query);\n",
              "\t\n",
              "\tif($.trim(query)){\n",
              "\t\tremoveAllSearchConditionSet($(\"#itemSearchForm\"));\n",
              "\t\t\n",
              "\t\tvar levelId = $(\"#searchCommand #levelId\").val();\n",
              "\n",
              "\t\tappendSearchConditionSet($(\"#itemSearchForm\"), \"BI\", 'EQ', $.trim(query) , \"AND\");\n",
              "\t\tif(levelId != \"\") {\n",
              "\t\t\tquery = levelId +\" \"+ query;\n",
              "\t\t\tappendSearchConditionSet($(\"#itemSearchForm\"), \"SparentId\", 'EQ', $.trim(levelId) , \"AND\");\n",
              "\t\t}\n",
              "\n",
              "\t \t$(\"#itemSearchForm #searchTermImages\").val($(\"#inputChildSearchKeyword\").val());\n",
              "\t \t \n",
              "        $(\"#itemSearchForm input[name='kristalProtocol']\").val(\"RETRIEVE\");\n",
              "        $(\"#itemSearchForm input[name='page']\").val(1);\n",
              "        $(\"#itemSearchForm input[name='limit']\").val(20);\n",
              "        //$(\"#itemSearchForm input[name='sort']\").val(\"levelId\");\n",
              "        //$(\"#itemSearchForm input[name='dir']\").val(\"ASC\");\n",
              "        $(\"#itemSearchForm input[name='setId']\").val(\"\");\n",
              "        $(\"#itemSearchForm input[name='totalCount']\").val(\"0\");\n",
              "        $('#itemSearchForm').submit();\n",
              "    }else{\n",
              "        alert(\"검색어를 입력해주세요\");\n",
              "    }\n",
              "}\n",
              "\n",
              "/*\n",
              " * 상세보기\n",
              " */\n",
              "function goItemView(itemid, levelid, position){\n",
              "\tvar pre_page = 1;\n",
              "\tif(itemid == 'ch' || itemid == 'dh' || itemid == 'im' || itemid == 'an'){\n",
              "\t\tremoveAllSearchConditionSet($(\"#detailCommand\"));\n",
              "\t}else if(itemid == 'gj' || itemid == 'su' ){\n",
              "\t\tif(position == \"\"){\n",
              "\t\t\tremoveAllSearchConditionSet($(\"#detailCommand\"));\n",
              "\t\t}\n",
              "\t}else if((itemid == 'tcct'|| itemid == 'prc') && levelid != \"\"){\n",
              "\t\tremoveAllSearchConditionSet($(\"#detailCommand\"));\n",
              "\t\tappendSearchConditionSet($(\"#detailCommand\"), \"levelId\", 'LIKE', levelid, \"AND\");\n",
              "    \tappendSearchConditionSet($(\"#detailCommand\"), \"isLeaf\", 'EQ', '1', \"AND\");\n",
              "\t}else if((itemid == 'tcko') && levelid != \"\"){\n",
              "\t\tremoveAllSearchConditionSet($(\"#detailCommand\"));\n",
              "\t\tappendSearchConditionSet($(\"#detailCommand\"), \"itemInfo.itemId\", 'EQ', 'tcko', \"AND\");\n",
              "\t\tappendSearchConditionSet($(\"#detailCommand\"), \"isLeaf\", 'EQ', \"1\", \"AND\");\n",
              "\t}else if((itemid == 'sa') && (levelid == \"prev\" || levelid == \"post\")){\n",
              "\t\tif(levelid == \"prev\"){\n",
              "\t\t\tpre_page = 0;\n",
              "\t\t}else{\n",
              "\t\t\tpre_page = 2;\n",
              "\t\t}\n",
              "\t\tlevelid = \"\";\n",
              "\t\t$(\"#detailCommand input[name='brokerPagingInfo']\").val(\"\");\n",
              "\t}else if((itemid == 'sa') && (levelid !=\"\" && levelid != \"prev\" && levelid != \"post\")){\n",
              "\t\t$(\"#detailCommand input[name='brokerPagingInfo']\").val(\"\");\n",
              "\t}\n",
              "\t\n",
              "\tif((itemid == \"sk\" || itemid == \"tcko\" || itemid == \"tcct\" ) &&  position ==\"\"){\n",
              "\t\t$(\"#detailCommand input[name='setId']\").val(\"-1\");\n",
              "\t}\n",
              "\tvar hidden_position = $(\"<input type='hidden' name='position'></input>\"); //position\n",
              "\tif(position == '') position = \"-1\";\n",
              "\thidden_position.val(position);\n",
              "\t\n",
              "\t$(\"#detailCommand input[name='levelId']\").val(levelid);\n",
              "\t$('#detailCommand').append(hidden_position);\n",
              "\t$(\"#detailCommand input[name='start']\").val(\"1\");\n",
              "\t$(\"#detailCommand input[name='page']\").val(\"1\");\n",
              "\t$(\"#detailCommand input[name='pre_page']\").val(pre_page);\n",
              "\t\n",
              "\tif($(\"#detailCommand input[name='prevLimit']\").val() !=''){\n",
              "\t\t$(\"#detailCommand input[name='limit']\").val($(\"#detailCommand input[name='prevLimit']\").val());\n",
              "\t\t$(\"#detailCommand input[name='prevLimit']\").val(\"\");\n",
              "\t}else{\n",
              "\t\t//$(\"#detailCommand input[name='limit']\").val(\"20\");\n",
              "\t\t$(\"#detailCommand input[name='prevLimit']\").val(\"\");\n",
              "\t}\n",
              "\t$(\"#detailCommand input[name='sort']\").val(\"levelId\");\t\n",
              "\t$(\"#detailCommand input[name='dir']\").val(\"ASC\");\n",
              "\t$(\"#detailCommand\")[0].action = \"/item/level.do\";\n",
              "\t\n",
              "\tif(levelid == \"\") {\n",
              "\t\t\n",
              "\t}\n",
              "\t\n",
              "\t$('#detailCommand').submit();\n",
              "}\n",
              "\n",
              "function goItemView_sibling(itemid, levelid, position){\n",
              "\tif(itemid == 'ch' || itemid == 'dh' || itemid == 'im' || itemid == 'an'){\n",
              "\t\tremoveAllSearchConditionSet($(\"#detailCommand\"));\n",
              "\t}else if(itemid == 'gj' || itemid == 'su' ){\n",
              "\t\tif(position == \"\"){\n",
              "\t\t\tremoveAllSearchConditionSet($(\"#detailCommand\"));\n",
              "\t\t}\n",
              "\t}else if((itemid == 'tcct'|| itemid == 'prc') && levelid != \"\"){\n",
              "\t\tremoveAllSearchConditionSet($(\"#detailCommand\"));\n",
              "\t\tappendSearchConditionSet($(\"#detailCommand\"), \"levelId\", 'LIKE', levelid, \"AND\");\n",
              "    \tappendSearchConditionSet($(\"#detailCommand\"), \"isLeaf\", 'EQ', '1', \"AND\");\n",
              "\t}else if((itemid == 'tcko') && levelid != \"\"){\n",
              "\t\tremoveAllSearchConditionSet($(\"#detailCommand\"));\n",
              "\t\tappendSearchConditionSet($(\"#detailCommand\"), \"itemInfo.itemId\", 'EQ', 'tcko', \"AND\");\n",
              "\t\tappendSearchConditionSet($(\"#detailCommand\"), \"isLeaf\", 'EQ', \"1\", \"AND\");\n",
              "\t}\n",
              "\t\n",
              "\tif((itemid == \"sk\" || itemid == \"tcko\" || itemid == \"tcct\" ) &&  position ==\"\"){\n",
              "\t\t$(\"#detailCommand input[name='setId']\").val(\"-1\");\n",
              "\t}\n",
              "\tvar hidden_position = $(\"<input type='hidden' name='position'></input>\"); //position\n",
              "\tif(position == '') position = \"-1\";\n",
              "\thidden_position.val(position);\n",
              "\t\n",
              "\t$(\"#detailCommand input[name='levelId']\").val(levelid);\n",
              "\t$('#detailCommand').append(hidden_position);\n",
              "\t$(\"#detailCommand input[name='start']\").val(\"1\");\n",
              "\t$(\"#detailCommand input[name='page']\").val(\"1\");\n",
              "\tif($(\"#detailCommand input[name='prevLimit']\").val() !=''){\n",
              "\t\t$(\"#detailCommand input[name='limit']\").val($(\"#detailCommand input[name='prevLimit']\").val());\n",
              "\t\t$(\"#detailCommand input[name='prevLimit']\").val(\"\");\n",
              "\t}else{\n",
              "\t\t$(\"#detailCommand input[name='limit']\").val(\"20\");\n",
              "\t\t$(\"#detailCommand input[name='prevLimit']\").val(\"\");\n",
              "\t}\n",
              "\t$(\"#detailCommand input[name='sort']\").val(\"levelId\");\t\n",
              "\t$(\"#detailCommand input[name='dir']\").val(\"ASC\");\n",
              "\t$(\"#detailCommand\")[0].target = \"_blank\";\n",
              "\t$(\"#detailCommand\")[0].action = \"/item/level.do\";\n",
              "\t$('#detailCommand').submit();\n",
              "\t\n",
              "}\n",
              "</script>\n",
              "<div id=\"headerWrap\">\n",
              "<div id=\"header\">\n",
              "<div class=\"top_util\">\n",
              "<h2><a href=\"http://www.history.go.kr\" target=\"_blank\"><img src=\"/images/common/h2_logo.gif\" title=\"국사편찬위원회\"/></a></h2>\n",
              "<ul>\n",
              "<li class=\"nobg\"><a href=\"/introduction/e_intro.html\"><img src=\"/images/common/txt_tut_intro.gif\" title=\"소개\"/></a></li>\n",
              "<li><a href=\"/help/e_help.html\"><img src=\"/images/common/txt_tut_guide.gif\" title=\"도움말\"/></a></li>\n",
              "<li><a href=\"/notice/noticeList.do\"><img src=\"/images/common/txt_tut_notice.gif\" title=\"공지\"/></a></li>\n",
              "<li><a href=\"/inmul\" target=\"_blank\"><img src=\"/images/common/txt_tut_people.gif\" title=\"인물별 기사 열람\"/></a></li>\n",
              "</ul>\n",
              "</div>\n",
              "<div class=\"top_hd\">\n",
              "<a href=\"/\"><img src=\"/images/common/h1_logo.png\" title=\"한국사 데이터베이스\"/></a>\n",
              "<div class=\"top_srch\">\n",
              "<div class=\"bx_srch\">\n",
              "<div class=\"hd_sltArea\">\n",
              "<select class=\"hd_slt\" id=\"totalKeywordType\" title=\"검색\">\n",
              "<option value=\"BI\">전체</option>\n",
              "<option value=\"BI_TITLE\">제목</option>\n",
              "<option value=\"BI_DOC\">본문</option>\n",
              "<option value=\"levelId\">ID</option>\n",
              "</select>\n",
              "</div>\n",
              "<form action=\"/\" name=\"totSearchForm\" onsubmit=\"searchResult();return false;\">\n",
              "<div class=\"hd_input\"><input id=\"totalKeyword\" name=\"totalKeyword\" onkeydown=\"handleEnter(event);\" title=\"검색입력박스\" type=\"text\"/><a href=\"javascript:OpenHanjaInput('totalKeyword')\" style=\"position:absolute;right:28px;top:7px;\" title=\"문자입력기\"><img alt=\"문자입력기\" src=\"/images/common/icon_key_s.png\"/></a><a class=\"btn_srch\" href=\"javascript:;\"><img id=\"btnTotalSearch\" src=\"/images/button/btn_srch.png\" title=\"검색\"/></a></div>\n",
              "<script type=\"text/javascript\">\n",
              "\t\t\t\t\t\t\t\t$(document).ready(function() { embedIme(\"totalKeyword\"); });\n",
              "\t\t\t\t\t\t\t</script>\n",
              "</form>\n",
              "</div>\n",
              "<ul>\n",
              "<li class=\"bd\"><a href=\"javascript:;\" onclick=\"searchDetail();\"><img src=\"/images/common/txt_detail_srch.png\" title=\"상세검색\"/></a></li>\n",
              "<li><a href=\"javascript:;\" onclick=\"searchThesaurus();\"><img src=\"/images/common/txt_thesaurus.png\" title=\"시소러스검색\"/></a></li>\n",
              "</ul>\n",
              "</div>\n",
              "</div>\n",
              "<!-- 레벨2이상 하위레벨인 경우 처리 -->\n",
              "<div class=\"cont_hd\">\n",
              "<div class=\"chd_info\">\n",
              "<strong class=\"titmkr titmkr_mint\" id=\"directoryAll\" style=\"cursor:pointer;\"> <!-- 자료일람 titmkr_mint 추가  -->\n",
              "<span class=\"blind\">자료일람</span>\n",
              "</strong>\n",
              "<div class=\"titleArea\">\n",
              "<div class=\"title\">\n",
              "<h3><a href=\"/item/level.do?itemId=ma\"><img src=\"/images/item/titleList_ma.gif?ver=1.1\" title=\"한국근현대잡지자료\"/></a></h3>\n",
              "</div>\n",
              "<div class=\"title_list\" style=\"width:200px;overflow:hidden;\">\n",
              "<strong style=\"overflow:hidden;\"><a href=\"#\">대한자강회월보</a></strong>\n",
              "<ul>\n",
              "<li><a href=\"javascript:goItemView('ma', 'ma_001', '');\">대한자강회월보</a></li>\n",
              "<li><a href=\"javascript:goItemView('ma', 'ma_002', '');\">대한협회회보</a></li>\n",
              "<li><a href=\"javascript:goItemView('ma', 'ma_003', '');\">서우</a></li>\n",
              "<li><a href=\"javascript:goItemView('ma', 'ma_004', '');\">서북학회월보</a></li>\n",
              "<li><a href=\"javascript:goItemView('ma', 'ma_005', '');\">기호흥학회월보</a></li>\n",
              "<li><a href=\"javascript:goItemView('ma', 'ma_006', '');\">대조선독립협회회보</a></li>\n",
              "<li><a href=\"javascript:goItemView('ma', 'ma_007', '');\">태극학보</a></li>\n",
              "<li><a href=\"javascript:goItemView('ma', 'ma_008', '');\">호남학보</a></li>\n",
              "<li><a href=\"javascript:goItemView('ma', 'ma_009', '');\">대한학회월보</a></li>\n",
              "<li><a href=\"javascript:goItemView('ma', 'ma_010', '');\">대한유학생회학보</a></li>\n",
              "<li><a href=\"javascript:goItemView('ma', 'ma_011', '');\">대한흥학보</a></li>\n",
              "<li><a href=\"javascript:goItemView('ma', 'ma_012', '');\">대동학회월보</a></li>\n",
              "<li><a href=\"javascript:goItemView('ma', 'ma_013', '');\">개벽</a></li>\n",
              "<li><a href=\"javascript:goItemView('ma', 'ma_014', '');\">동광</a></li>\n",
              "<li><a href=\"javascript:goItemView('ma', 'ma_015', '');\">별건곤</a></li>\n",
              "<li><a href=\"javascript:goItemView('ma', 'ma_016', '');\">삼천리</a></li>\n",
              "<li><a href=\"javascript:goItemView('ma', 'ma_017', '');\">대동아</a></li>\n",
              "<li><a href=\"javascript:goItemView('ma', 'ma_018', '');\">삼천리문학</a></li>\n",
              "<li><a href=\"javascript:goItemView('ma', 'ma_019', '');\">만국부인</a></li>\n",
              "<li><a href=\"javascript:goItemView('ma', 'ma_020', '');\">경무휘보</a></li>\n",
              "<li><a href=\"javascript:goItemView('ma', 'ma_021', '');\">문교의 조선</a></li>\n",
              "<li><a href=\"javascript:goItemView('ma', 'ma_022', '');\">사상월보</a></li>\n",
              "<li><a href=\"javascript:goItemView('ma', 'ma_023', '');\">사상휘보</a></li>\n",
              "<li><a href=\"javascript:goItemView('ma', 'ma_024', '');\">조선</a></li>\n",
              "<li><a href=\"javascript:goItemView('ma', 'ma_025', '');\">조선급만주</a></li>\n",
              "<li><a href=\"javascript:goItemView('ma', 'ma_026', '');\">조선의교육연구</a></li>\n",
              "<li><a href=\"javascript:goItemView('ma', 'ma_027', '');\">조선총독부월보</a></li>\n",
              "<li><a href=\"javascript:goItemView('ma', 'ma_028', '');\">조선총독부조사월보</a></li>\n",
              "<li><a href=\"javascript:goItemView('ma', 'ma_029', '');\">조선행정</a></li>\n",
              "<li><a href=\"javascript:goItemView('ma', 'ma_030', '');\">조선휘보</a></li>\n",
              "<li><a href=\"javascript:goItemView('ma', 'ma_031', '');\">개벽</a></li>\n",
              "<li><a href=\"javascript:goItemView('ma', 'ma_032', '');\">대조</a></li>\n",
              "<li><a href=\"javascript:goItemView('ma', 'ma_033', '');\">문예</a></li>\n",
              "<li><a href=\"javascript:goItemView('ma', 'ma_034', '');\">민성</a></li>\n",
              "<li><a href=\"javascript:goItemView('ma', 'ma_035', '');\">민심</a></li>\n",
              "<li><a href=\"javascript:goItemView('ma', 'ma_036', '');\">민족문화</a></li>\n",
              "<li><a href=\"javascript:goItemView('ma', 'ma_037', '');\">민주조선</a></li>\n",
              "<li><a href=\"javascript:goItemView('ma', 'ma_038', '');\">민중조선</a></li>\n",
              "<li><a href=\"javascript:goItemView('ma', 'ma_039', '');\">백민</a></li>\n",
              "<li><a href=\"javascript:goItemView('ma', 'ma_040', '');\">신문평론</a></li>\n",
              "<li><a href=\"javascript:goItemView('ma', 'ma_041', '');\">신사조</a></li>\n",
              "<li><a href=\"javascript:goItemView('ma', 'ma_042', '');\">신세대</a></li>\n",
              "<li><a href=\"javascript:goItemView('ma', 'ma_043', '');\">신천지</a></li>\n",
              "<li><a href=\"javascript:goItemView('ma', 'ma_044', '');\">조선교육</a></li>\n",
              "<li><a href=\"javascript:goItemView('ma', 'ma_045', '');\">학풍</a></li>\n",
              "<li><a href=\"javascript:goItemView('ma', 'ma_046', '');\">향토</a></li>\n",
              "<li><a href=\"javascript:goItemView('ma', 'ma_047', '');\">협동</a></li>\n",
              "<li><a href=\"javascript:goItemView('ma', 'ma_048', '');\">교남교육회잡지</a></li>\n",
              "<li><a href=\"javascript:goItemView('ma', 'ma_061', '');\">공제</a></li>\n",
              "<li><a href=\"javascript:goItemView('ma', 'ma_062', '');\">근우</a></li>\n",
              "<li><a href=\"javascript:goItemView('ma', 'ma_063', '');\">농민</a></li>\n",
              "<li><a href=\"javascript:goItemView('ma', 'ma_064', '');\">대중</a></li>\n",
              "<li><a href=\"javascript:goItemView('ma', 'ma_065', '');\">대중공론</a></li>\n",
              "<li><a href=\"javascript:goItemView('ma', 'ma_066', '');\">동명</a></li>\n",
              "<li><a href=\"javascript:goItemView('ma', 'ma_067', '');\">동방평론</a></li>\n",
              "<li><a href=\"javascript:goItemView('ma', 'ma_068', '');\">반도시론</a></li>\n",
              "<li><a href=\"javascript:goItemView('ma', 'ma_069', '');\">사상운동</a></li>\n",
              "<li><a href=\"javascript:goItemView('ma', 'ma_070', '');\">사해공론</a></li>\n",
              "<li><a href=\"javascript:goItemView('ma', 'ma_071', '');\">산업계</a></li>\n",
              "<li><a href=\"javascript:goItemView('ma', 'ma_072', '');\">서광</a></li>\n",
              "<li><a href=\"javascript:goItemView('ma', 'ma_073', '');\">서울</a></li>\n",
              "<li><a href=\"javascript:goItemView('ma', 'ma_074', '');\">시사평론</a></li>\n",
              "<li><a href=\"javascript:goItemView('ma', 'ma_075', '');\">신계단</a></li>\n",
              "<li><a href=\"javascript:goItemView('ma', 'ma_076', '');\">신문계</a></li>\n",
              "<li><a href=\"javascript:goItemView('ma', 'ma_077', '');\">신민</a></li>\n",
              "<li><a href=\"javascript:goItemView('ma', 'ma_078', '');\">신조선</a></li>\n",
              "<li><a href=\"javascript:goItemView('ma', 'ma_079', '');\">신흥</a></li>\n",
              "<li><a href=\"javascript:goItemView('ma', 'ma_080', '');\">신흥과학</a></li>\n",
              "<li><a href=\"javascript:goItemView('ma', 'ma_081', '');\">아성</a></li>\n",
              "<li><a href=\"javascript:goItemView('ma', 'ma_082', '');\">여자계</a></li>\n",
              "<li><a href=\"javascript:goItemView('ma', 'ma_083', '');\">여자시론</a></li>\n",
              "<li><a href=\"javascript:goItemView('ma', 'ma_084', '');\">우라키</a></li>\n",
              "<li><a href=\"javascript:goItemView('ma', 'ma_085', '');\">이론투쟁</a></li>\n",
              "<li><a href=\"javascript:goItemView('ma', 'ma_086', '');\">제일선</a></li>\n",
              "<li><a href=\"javascript:goItemView('ma', 'ma_087', '');\">조선농민</a></li>\n",
              "<li><a href=\"javascript:goItemView('ma', 'ma_088', '');\">쩌날리즘</a></li>\n",
              "<li><a href=\"javascript:goItemView('ma', 'ma_089', '');\">철필</a></li>\n",
              "<li><a href=\"javascript:goItemView('ma', 'ma_090', '');\">청년조선</a></li>\n",
              "<li><a href=\"javascript:goItemView('ma', 'ma_091', '');\">학지광</a></li>\n",
              "<li><a href=\"javascript:goItemView('ma', 'ma_092', '');\">현계단</a></li>\n",
              "<li><a href=\"javascript:goItemView('ma', 'ma_093', '');\">현대평론</a></li>\n",
              "<li><a href=\"javascript:goItemView('ma', 'ma_094', '');\">혜성</a></li>\n",
              "<li><a href=\"javascript:goItemView('ma', 'ma_095', '');\">호남평론</a></li>\n",
              "</ul>\n",
              "<span class=\"arrow\"><img src=\"/images/button/btn_chd_tit_arrow.gif\" title=\"레벨1리스트\"/></span>\n",
              "</div>\n",
              "</div>\n",
              "<!-- 최종레벨인경우 로케이션 -->\n",
              "<div class=\"cnt_loc_list\">\n",
              "<ul>\n",
              "<li class=\"list1st\"><a href=\"javascript:goItemView('ma', 'ma_001', '');\" style=\"font-size:13px;\">대한자강회월보</a></li><br/>\n",
              "<li><a href=\"javascript:goItemView('ma', 'ma_001_0010', '');\" style=\"font-size:13px;\">\n",
              "\t\t\t\t\t\t\t\t\t\t\n",
              "\t\t\t\t\t\t\t\t       \t\t\n",
              "\t\t\t\t\t\t\t\t       \t\t대한자강회월보 제1호\n",
              "\t\t\t\t\t\t\t\t       \t\n",
              "\t\t\t\t\t\t\t\t\t\t</a></li>\n",
              "<li class=\"nobg\">\n",
              "\t\t\t\t\t\t\t\t\t\t\n",
              "\t\t\t\t\t\t\t\t       \t\t\n",
              "\t\t\t\t\t\t\t\t       \t\t大韓自强會月報序［三編］\n",
              "\t\t\t\t\t\t\t\t       \t\n",
              "\t\t\t\t\t\t\t\t\t\t</li>\n",
              "</ul>\n",
              "</div>\n",
              "<!-- \n",
              "\t\t\t\t\t\t<div class=\"cnt_loc_list\">\n",
              "\t\t\t\t\t\t\t<ul>\n",
              "\t\t\t\t\t\t\t\t<li class=\"nobg\" style=\"display:block;\"><a href=\"/item/level.do?levelId=\"><b>첫번째</b></a></li>\n",
              "\t\t\t\t\t\t\t\t<li class=\"nobg\">최종</li>\n",
              "\t\t\t\t\t\t\t\t<li><a href=\"/item/level.do?levelId=\">중간</a></li>\n",
              "\t\t\t\t\t\t\t</ul>\n",
              "\t\t\t\t\t\t</div>\n",
              "\t\t\t\t\t\t -->\n",
              "<div class=\"chd_option\">\n",
              "<div class=\"chd_optArea\">\n",
              "<div class=\"chd_opt_top\">\n",
              "<span class=\"nobg\">\n",
              "<a href=\"javascript:;\" onclick=\"goIntroduction('/introduction/intro_ma.html');\"><img src=\"/images/common/txt_data_info02.gif\" title=\"자료소개\"/></a>\n",
              "</span>\n",
              "<span><a href=\"javascript:;\" onclick=\"showChildSearch();\"><img src=\"/images/common/txt_hdata_srch02.gif\" title=\"하위자료검색\"/></a></span>\n",
              "<span><a href=\"/search/itemDetail.do?itemId=ma\"><img src=\"/images/common/txt_hdata_dti.gif\" title=\"자료상세검색\"/></a></span>\n",
              "<div class=\"hdata_srch_low\">\n",
              "<form onsubmit=\"return false;\">\n",
              "<div class=\"hsl_srchArea\">\n",
              "<input class=\"hsl_itxt\" id=\"inputChildSearchKeyword\" title=\"하위자료검색입력\" type=\"text\"/><a href=\"javascript:;\" onclick=\"searchResultListChild();\"><img src=\"/images/button/btn_hsl_srch.gif\" title=\"검색\"/></a>\n",
              "</div>\n",
              "</form>\n",
              "</div>\n",
              "</div>\n",
              "<div class=\"chd_opt_btm\">\n",
              "<span class=\"chd_opt_txt\">\n",
              "</span>\n",
              "<span class=\"chd_opt_ty\">\n",
              "<a href=\"javascript:;\" onclick=\"ts('cont_view',+1);\"><img src=\"/images/button/btn_fplus.gif\" title=\"글자크게\"/></a><a href=\"javascript:;\" onclick=\"ts('cont_view',-1);\"><img src=\"/images/button/btn_fmin.gif\" title=\"글자작게\"/></a>\n",
              "<!-- \n",
              "\t\t\t\t\t\t\t\t\t\t<a href=\"/item/level.do?levelId=ma_001_0010_0010&viewType=print\"><img src=\"/images/button/btn_print.gif\" title=\"인쇄\"/></a><a href=\"javascript:;\" onclick=\"registerErrorReport();\"><img src=\"/images/button/btn_info.gif\" title=\"오류신고\"/></a>\n",
              "\t\t\t\t\t\t\t\t\t\t -->\n",
              "<a href=\"javascript:bodyPrint();\"><img src=\"/images/button/btn_print.gif\" title=\"인쇄\"/></a><a href=\"javascript:;\" onclick=\"registerErrorReport();\"><img src=\"/images/button/btn_info.gif\" title=\"오류신고\"/></a>\n",
              "</span>\n",
              "</div>\n",
              "</div>\n",
              "<span class=\"chd_book\"><a href=\"javascript:;\" onclick=\"goBookViewer('ma_001_0010_0010');\"><img src=\"/images/button/btn_chd_book.gif\" title=\"책보기\"/></a></span>\n",
              "</div>\n",
              "</div>\n",
              "</div>\n",
              "<!-- 일람 팝업 -->\n",
              "<div id=\"ilram_pop\">\n",
              "<div class=\"close\"><a href=\"javascript:;\" onclick=\"hideIlram();\">자료일람 닫기</a></div>\n",
              "<strong class=\"tab01\"><!-- 탭 활성화 class=\"on\" -->\n",
              "<a href=\"#\"><img src=\"/images/sub/tab_ilram_01.gif\" title=\"시대별 일람\"/></a>\n",
              "</strong>\n",
              "<div class=\"ilram_cont\">\n",
              "<table>\n",
              "<caption>시대별 자료일람 목록</caption>\n",
              "<tr>\n",
              "<th><strong><img src=\"/images/sub/txt_ilram_s01.gif\" title=\"통사\"/></strong></th>\n",
              "<td>\n",
              "<ul class=\"ilram_cont_list\">\n",
              "<li><a href=\"/item/level.do?itemId=oh\">한국사</a></li>\n",
              "<li><a href=\"/item/level.do?itemId=nh\">신편한국사</a></li>\n",
              "<li><a href=\"/item/level.do?itemId=hn\">한국사론</a></li>\n",
              "<li><a href=\"/item/level.do?itemId=kn\">국사관논총</a></li>\n",
              "<li><a href=\"/item/level.do?itemId=sa\">한국사료총서</a></li>\n",
              "<li><a href=\"/item/level.do?itemId=fs\">해외사료총서</a></li>\n",
              "<li><a href=\"/item/level.do?itemId=jo\">중국정사조선전</a></li>\n",
              "<li><a href=\"/item/level.do?itemId=hb\">한국사연구휘보</a></li>\n",
              "<li><a href=\"/item/level.do?itemId=prb\">동학농민혁명사논저목록</a></li>\n",
              "<li><a href=\"/item/level.do?itemId=oksr\">재외동포사총서</a></li>\n",
              "<li><a href=\"/item/level.do?itemId=hhcs\">학술회의총서</a></li>\n",
              "<li><a href=\"/item/level.do?itemId=ch\">주제별연표</a></li>\n",
              "<li><a href=\"/item/level.do?itemId=okch\">재외동포사연표</a></li>\n",
              "</ul>\n",
              "</td>\n",
              "</tr>\n",
              "<tr>\n",
              "<th><strong><img src=\"/images/sub/txt_ilram_s02.gif\" title=\"고대\"/></strong></th>\n",
              "<td>\n",
              "<ul class=\"ilram_cont_list\">\n",
              "<li><a href=\"/item/level.do?itemId=sg\">삼국사기</a></li>\n",
              "<li><a href=\"/item/level.do?itemId=sy\">삼국유사</a></li>\n",
              "<li><a href=\"/item/level.do?itemId=hg\">해동고승전</a></li>\n",
              "<li><a href=\"/item/level.do?itemId=gskh\">한국고대금석문</a></li>\n",
              "<li><a href=\"/item/level.do?itemId=mg\">한국목간자료</a></li>\n",
              "<li><a href=\"/item/level.do?itemId=ko\">한국고대사료집성 중국편</a></li>\n",
              "<li><a href=\"/item/level.do?itemId=jo\">중국정사조선전</a></li>\n",
              "<li><a href=\"/item/level.do?itemId=jm\">일본육국사 한국관계기사</a></li>\n",
              "<li><a href=\"/item/level.do?itemId=ds\">입당구법순례행기</a></li>\n",
              "<li><a href=\"/item/level.do?itemId=tcko\">고대사연표</a></li>\n",
              "</ul>\n",
              "</td>\n",
              "</tr>\n",
              "<tr>\n",
              "<th><strong><img src=\"/images/sub/txt_ilram_s03.gif\" title=\"고려시대\"/></strong></th>\n",
              "<td>\n",
              "<ul class=\"ilram_cont_list\">\n",
              "<li><a href=\"/KOREA/item/level.do?itemId=kr&amp;types=r\">고려사</a></li>\n",
              "<li><a href=\"/KOREA/item/level.do?itemId=kj&amp;types=r\">고려사절요</a></li>\n",
              "<li><a href=\"/KOREA/item/level.do?itemId=muds&amp;types=r\">동인지문사륙</a></li>\n",
              "<li><a href=\"/KOREA/item/level.do?itemId=mudo&amp;types=r\">동인지문오칠</a></li>\n",
              "<li><a href=\"/KOREA/item/level.do?itemId=mujw&amp;types=r\">제왕운기</a></li>\n",
              "<li><a href=\"/KOREA/item/level.do?itemId=mubh&amp;types=r\">보한집</a></li>\n",
              "<li><a href=\"/KOREA/item/level.do?itemId=muph&amp;types=r\">파한집</a></li>\n",
              "<li><a href=\"/KOREA/item/level.do?itemId=cnkd&amp;types=r\">선화봉사고려도경</a></li>\n",
              "<li><a href=\"/KOREA/item/level.do?itemId=cnwk&amp;types=r\">원고려기사</a></li>\n",
              "<li><a href=\"/KOREA/item/level.do?itemId=cnkb&amp;types=r\">중국사서 고려·발해유민 기사</a></li>\n",
              "<li><a href=\"/KOREA/item/jpkrList.do\">고려관련 일본사료</a></li>\n",
              "<li><a href=\"/KOREA/item/gskoList.do\">고려시대 금석문·문자자료</a></li>\n",
              "<li><a href=\"/KOREA/item/gkIdxList.do\">개경기초자료</a></li>\n",
              "<li><a href=\"http://db.history.go.kr/hgis/kor_g1/main.do\" target=\"_blank\">개경지리정보</a></li>\n",
              "</ul>\n",
              "</td>\n",
              "</tr>\n",
              "<tr>\n",
              "<th><strong><img src=\"/images/sub/txt_ilram_s04.gif\" title=\"조선시대\"/></strong></th>\n",
              "<td>\n",
              "<ul class=\"ilram_cont_list\">\n",
              "<li><a href=\"http://sillok.history.go.kr\" target=\"_blank\">조선왕조실록</a></li>\n",
              "<li><a href=\"/item/level.do?itemId=bb\">비변사등록</a></li>\n",
              "<li><a href=\"http://sjw.history.go.kr\" target=\"_blank\">승정원일기</a></li>\n",
              "<li><a href=\"/item/level.do?itemId=ks\">각사등록</a></li>\n",
              "<li><a href=\"/item/level.do?itemId=mk\">각사등록 근대편</a></li>\n",
              "<li><a href=\"/item/level.do?itemId=sk\">사료 고종시대사</a></li>\n",
              "<li><a href=\"/item/level.do?itemId=gj\">고종시대사</a></li>\n",
              "<li><a href=\"/item/level.do?itemId=jh\">주한일본공사관기록 &amp; 통감부문서</a></li>\n",
              "<li><a href=\"/item/level.do?itemId=prd\">동학농민혁명자료총서</a></li>\n",
              "<li><a href=\"/item/level.do?itemId=pry\">동학농민혁명사일지</a></li>\n",
              "<li><a href=\"/item/level.do?itemId=prc\">동학농민혁명연표</a></li>\n",
              "<li><a href=\"/item/level.do?itemId=ts\">대마도종가문서자료집</a></li>\n",
              "<li><a href=\"/item/level.do?itemId=om\">한국고지도목록</a></li>\n",
              "<li><a href=\"http://sillok.history.go.kr/mc/main.do\" target=\"_blank\">명실록</a></li>\n",
              "<li><a href=\"http://sillok.history.go.kr/mc/main.do\" target=\"_blank\">청실록</a></li>\n",
              "<li><a href=\"/law/\">조선시대법령자료</a></li>\n",
              "<li><a href=\"/item/level.do?itemId=ss\">수집사료해제집</a></li>\n",
              "<li><a href=\"/item/level.do?itemId=odi\">한국고문서입문</a></li>\n",
              "</ul>\n",
              "</td>\n",
              "</tr>\n",
              "<tr>\n",
              "<th><strong><img src=\"/images/sub/txt_ilram_s05.gif\" title=\"대한제국\"/></strong></th>\n",
              "<td>\n",
              "<ul class=\"ilram_cont_list\">\n",
              "<li><a href=\"/item/level.do?itemId=sk\">사료 고종시대사</a></li>\n",
              "<li><a href=\"/item/level.do?itemId=gj\">고종시대사</a></li>\n",
              "<li><a href=\"/item/level.do?itemId=mk\">각사등록 근대편</a></li>\n",
              "<li><a href=\"/item/level.do?itemId=jh\">주한일본공사관기록 &amp; 통감부문서</a></li>\n",
              "<li><a href=\"/item/level.do?itemId=hk\">한국근대사자료집성</a></li>\n",
              "<li><a href=\"/item/level.do?itemId=mh\">한국근대사기초자료집</a></li>\n",
              "<li><a href=\"/item/level.do?itemId=jw\">직원록자료</a></li>\n",
              "<li><a href=\"/item/level.do?itemId=ma\">한국근현대잡지자료</a></li>\n",
              "<li><a href=\"/item/level.do?itemId=tcmd\">근대사연표</a></li>\n",
              "<li><a href=\"http://db.history.go.kr/hgis/\" target=\"_blank\">역사지리정보 데이터베이스</a></li>\n",
              "<li><a href=\"/item/level.do?itemId=gbdh\">조선·대한제국 관보</a></li>\n",
              "<li><a href=\"/item/level.do?itemId=gbtg\">통감부 공보</a></li>\n",
              "</ul>\n",
              "</td>\n",
              "</tr>\n",
              "<tr>\n",
              "<th><strong><img src=\"/images/sub/txt_ilram_s06.gif\" title=\"일제강점기\"/></strong></th>\n",
              "<td>\n",
              "<ul class=\"ilram_cont_list\">\n",
              "<li><a href=\"http://db.history.go.kr/samil/\" target=\"_blank\">삼일운동격문</a></li>\n",
              "<li><a href=\"/item/level.do?itemId=ia\">일제감시대상인물카드</a></li>\n",
              "<li><a href=\"/item/level.do?itemId=su\">일제침략하한국36년사</a></li>\n",
              "<li><a href=\"/item/level.do?itemId=hdsr\">한민족독립운동사</a></li>\n",
              "<li><a href=\"/item/level.do?itemId=kd\">한국독립운동사자료</a></li>\n",
              "<li><a href=\"/item/level.do?itemId=hd\">한민족독립운동사자료집</a></li>\n",
              "<li><a href=\"/item/level.do?itemId=ij\">대한민국임시정부자료집</a></li>\n",
              "<li><a href=\"/item/level.do?itemId=had\">국내 항일운동 자료 : 경성지방법원 검사국 문서</a></li>\n",
              "<li><a href=\"/item/level.do?itemId=pro\">소요사건에 관한 도장관 보고철</a></li>\n",
              "<li><a href=\"/item/level.do?itemId=jssy\">조선소요사건관계서류</a></li>\n",
              "<li><a href=\"/item/level.do?itemId=haf\">국외 항일운동 자료 : 일본 외무성기록</a></li>\n",
              "<li><a href=\"/item/level.do?itemId=ju\">중추원조사자료</a></li>\n",
              "<li><a href=\"/item/level.do?itemId=hk\">한국근대사자료집성</a></li>\n",
              "<li><a href=\"/item/level.do?itemId=mh\">한국근대사기초자료집</a></li>\n",
              "<li><a href=\"/item/level.do?itemId=jw\">직원록자료</a></li>\n",
              "<li><a href=\"/item/level.do?itemId=im\">한국근현대인물자료</a></li>\n",
              "<li><a href=\"/item/level.do?itemId=hs\">한국근현대회사조합자료</a></li>\n",
              "<li><a href=\"/item/level.do?itemId=jnm\">한국근대지도자료</a></li>\n",
              "<li><a href=\"http://db.history.go.kr/hgis/mod_g1/main.do\" target=\"_blank\">한국근대지리정보</a></li>\n",
              "<li><a href=\"/item/level.do?itemId=jng\">한국근대지지자료</a></li>\n",
              "<li><a href=\"/item/level.do?itemId=smlb\">일제시기 희귀자료</a></li>\n",
              "<li><a href=\"/item/level.do?itemId=smla\">근대한일외교자료</a></li>\n",
              "<li><a href=\"/item/level.do?itemId=ma\">한국근현대잡지자료</a></li>\n",
              "<li><a href=\"/item/level.do?itemId=npda\">동아일보</a></li>\n",
              "<li><a href=\"/item/level.do?itemId=npsd\">시대일보</a></li>\n",
              "<li><a href=\"/item/level.do?itemId=npjo\">중외일보</a></li>\n",
              "<li><a href=\"/item/level.do?itemId=npja\">중앙일보</a></li>\n",
              "<li><a href=\"/item/level.do?itemId=npjj\">조선중앙일보</a></li>\n",
              "<li><a href=\"/item/level.do?itemId=npgr\">공립신보</a></li>\n",
              "<li><a href=\"/item/level.do?itemId=npsh\">신한민보</a></li>\n",
              "<li><a href=\"/item/level.do?itemId=npbs\">부산일보</a></li>\n",
              "<li><a href=\"/item/level.do?itemId=npjs\">조선시보</a></li>\n",
              "<li><a href=\"/item/level.do?itemId=npsc\">신문스크랩자료</a></li>\n",
              "<li><a href=\"/item/level.do?itemId=fl\">사진유리필름자료</a></li>\n",
              "<li><a href=\"/item/level.do?itemId=tcmd\">근대사연표</a></li>\n",
              "<li><a href=\"/item/level.do?itemId=ss\">수집사료해제집</a></li>\n",
              "<li><a href=\"/item/level.do?itemId=wj\">일본군 ‘위안부’·전쟁범죄 자료집</a></li>\n",
              "<li><a href=\"http://db.history.go.kr/hgis/\" target=\"_blank\">역사지리정보 데이터베이스</a></li>\n",
              "<li><a href=\"/item/level.do?itemId=gb\">조선총독부 관보</a></li>\n",
              "<li><a href=\"/item/level.do?itemId=gsdc\">일제강점기 경성지방법원 기록 해제</a></li>\n",
              "</ul>\n",
              "</td>\n",
              "</tr>\n",
              "<tr>\n",
              "<th><strong><img src=\"/images/sub/txt_ilram_s07.gif\" title=\"대한민국\"/></strong></th>\n",
              "<td>\n",
              "<ul class=\"ilram_cont_list\">\n",
              "<li><a href=\"/item/level.do?itemId=dh\">자료대한민국사</a></li>\n",
              "<li><a href=\"/item/cons/main.do\">헌정사 자료 DB</a></li>\n",
              "<li><a href=\"/item/level.do?itemId=frus\">FRUS 자료</a></li>\n",
              "<li><a href=\"/item/level.do?itemId=an\">반민특위조사기록</a></li>\n",
              "<li><a href=\"/item/level.do?itemId=pj\">친일파관련문헌</a></li>\n",
              "<li><a href=\"/item/level.do?itemId=pm\">미군정기군정단·군정중대문서</a></li>\n",
              "<li><a href=\"/item/level.do?itemId=ps\">유엔의 한국문제처리에 관한 미국무부의 문서</a></li>\n",
              "<li><a href=\"/item/level.do?itemId=pu\">유엔한국임시위원단 관계 문서</a></li>\n",
              "<li><a href=\"item/level.do?itemId=husa\">미군정기 자료 주한미군사</a></li>\n",
              "<li><a href=\"/item/level.do?itemId=swncc\">SWNCC 자료</a></li>\n",
              "<li><a href=\"/item/level.do?itemId=le\">이승만서한철</a></li>\n",
              "<li><a href=\"/item/powr/main.do\">포로신문보고서</a></li>\n",
              "<li><a href=\"/item/level.do?itemId=pn\">휴전회담회의록</a></li>\n",
              "<li><a href=\"/item/level.do?itemId=uthr\">유태하 보고서</a></li>\n",
              "<li><a href=\"/item/level.do?itemId=im\">한국근현대인물자료</a></li>\n",
              "<li><a href=\"/item/level.do?itemId=npda\">동아일보</a></li>\n",
              "<li><a href=\"/item/level.do?itemId=npfp\">자유신문</a></li>\n",
              "<li><a href=\"/item/level.do?itemId=npgn\">경남신문계열</a></li>\n",
              "<li><a href=\"/item/level.do?itemId=tcct\">대한민국사연표</a></li>\n",
              "<li><a href=\"/item/level.do?itemId=prw\">동학농민혁명증언록</a></li>\n",
              "<li><a href=\"/item/level.do?itemId=nkhc\">북한관계사료집</a></li>\n",
              "<li><a href=\"/item/level.do?itemId=nkgb\">북한공보</a></li>\n",
              "</ul>\n",
              "</td>\n",
              "</tr>\n",
              "</table>\n",
              "</div>\n",
              "<strong class=\"tab02\">\n",
              "<a href=\"#\"><img src=\"/images/sub/tab_ilram_02.gif\" title=\"형태별 일람\"/></a>\n",
              "</strong>\n",
              "<div class=\"ilram_cont\">\n",
              "<table>\n",
              "<caption>형태별 자료일람 목록</caption>\n",
              "<tr>\n",
              "<th><strong><img src=\"/images/sub/txt_ilram_d01.gif\" title=\"도서\"/></strong></th>\n",
              "<td>\n",
              "<ul class=\"ilram_cont_list\">\n",
              "<li><a href=\"/KOREA/item/gkIdxList.do\">개경기초자료</a></li>\n",
              "<li><a href=\"/KOREA/item/level.do?itemId=kr&amp;types=r\">고려사</a></li>\n",
              "<li><a href=\"/KOREA/item/level.do?itemId=muds&amp;types=r\">동인지문사륙</a></li>\n",
              "<li><a href=\"/KOREA/item/level.do?itemId=mudo&amp;types=r\">동인지문오칠</a></li>\n",
              "<li><a href=\"/item/level.do?itemId=prd\">동학농민혁명자료총서</a></li>\n",
              "<li><a href=\"/item/level.do?itemId=prw\">동학농민혁명증언록</a></li>\n",
              "<li><a href=\"item/level.do?itemId=husa\">미군정기 자료 주한미군사</a></li>\n",
              "<li><a href=\"/KOREA/item/level.do?itemId=mubh&amp;types=r\">보한집</a></li>\n",
              "<li><a href=\"/item/level.do?itemId=sg\">삼국사기</a></li>\n",
              "<li><a href=\"/item/level.do?itemId=sy\">삼국유사</a></li>\n",
              "<li><a href=\"/KOREA/item/level.do?itemId=cnkd&amp;types=r\">선화봉사고려도경</a></li>\n",
              "<li><a href=\"/item/level.do?itemId=ss\">수집사료해제집</a></li>\n",
              "<li><a href=\"/KOREA/item/level.do?itemId=cnwk&amp;types=r\">원고려기사</a></li>\n",
              "<li><a href=\"/KOREA/item/jpkrList.do\">고려관련 일본사료</a></li>\n",
              "<li><a href=\"/item/level.do?itemId=jm\">일본육국사 한국관계기사</a></li>\n",
              "<li><a href=\"/item/level.do?itemId=gsdc\">일제강점기 경성지방법원 기록 해제</a></li>\n",
              "<li><a href=\"/item/level.do?itemId=smlb\">일제시기 희귀자료</a></li>\n",
              "<li><a href=\"/item/level.do?itemId=ds\">입당구법순례행기</a></li>\n",
              "<li><a href=\"/item/level.do?itemId=oksr\">재외동포사총서</a></li>\n",
              "<li><a href=\"/KOREA/item/level.do?itemId=mujw&amp;types=r\">제왕운기</a></li>\n",
              "<li><a href=\"/law/\">조선시대법령자료</a></li>\n",
              "<li><a href=\"/KOREA/item/level.do?itemId=cnkb&amp;types=r\">중국사서 고려·발해유민 기사</a></li>\n",
              "<li><a href=\"/item/level.do?itemId=jo\">중국정사조선전</a></li>\n",
              "<li><a href=\"/item/level.do?itemId=pj\">친일파관련문헌</a></li>\n",
              "<li><a href=\"/KOREA/item/level.do?itemId=muph&amp;types=r\">파한집</a></li>\n",
              "<li><a href=\"/item/level.do?itemId=ko\">한국고대사료집성 중국편</a></li>\n",
              "<li><a href=\"/item/level.do?itemId=odi\">한국고문서입문</a></li>\n",
              "<li><a href=\"/item/level.do?itemId=mh\">한국근대사기초자료집</a></li>\n",
              "<li><a href=\"/item/level.do?itemId=jng\">한국근대지지자료</a></li>\n",
              "<li><a href=\"/item/level.do?itemId=hs\">한국근현대회사조합자료</a></li>\n",
              "<li><a href=\"/item/level.do?itemId=sa\">한국사료총서</a></li>\n",
              "<li><a href=\"/item/level.do?itemId=hdsr\">한민족독립운동사</a></li>\n",
              "<li><a href=\"/item/level.do?itemId=hg\">해동고승전</a></li>\n",
              "<li><a href=\"/item/level.do?itemId=fs\">해외사료총서</a></li>\n",
              "<li><a href=\"/item/cons/main.do\">헌정사 자료 DB</a></li>\n",
              "</ul>\n",
              "</td>\n",
              "</tr>\n",
              "<tr>\n",
              "<th><strong><img src=\"/images/sub/txt_ilram_d02.gif\" title=\"문서\"/></strong></th>\n",
              "<td>\n",
              "<ul class=\"ilram_cont_list\">\n",
              "<li><a href=\"/item/level.do?itemId=ks\">각사등록</a></li>\n",
              "<li><a href=\"/item/level.do?itemId=mk\">각사등록 근대편</a></li>\n",
              "<li><a href=\"/item/level.do?itemId=had\">국내 항일운동 자료 : 경성지방법원 검사국 문서</a></li>\n",
              "<li><a href=\"/item/level.do?itemId=haf\">국외 항일운동 자료 : 일본 외무성기록</a></li>\n",
              "<li><a href=\"/item/level.do?itemId=smla\">근대한일외교자료</a></li>\n",
              "<li><a href=\"/item/level.do?itemId=ts\">대마도종가문서자료집</a></li>\n",
              "<li><a href=\"/item/level.do?itemId=ij\">대한민국임시정부자료집</a></li>\n",
              "<li><a href=\"/item/level.do?itemId=pm\">미군정기군정단·군정중대문서</a></li>\n",
              "<li><a href=\"/item/level.do?itemId=an\">반민특위조사기록</a></li>\n",
              "<li><a href=\"/item/level.do?itemId=nkhc\">북한관계사료집</a></li>\n",
              "<li><a href=\"http://db.history.go.kr/samil/\" target=\"_blank\">삼일운동격문</a></li>\n",
              "<li><a href=\"/item/level.do?itemId=pro\">소요사건에 관한 도장관 보고철</a></li>\n",
              "<li><a href=\"/item/level.do?itemId=ps\">유엔의 한국문제처리에 관한 미국무부의 문서</a></li>\n",
              "<li><a href=\"/item/level.do?itemId=pu\">유엔한국임시위원단 관계 문서</a></li>\n",
              "<li><a href=\"/item/level.do?itemId=uthr\">유태하 보고서</a></li>\n",
              "<li><a href=\"/item/level.do?itemId=le\">이승만서한철</a></li>\n",
              "<li><a href=\"/item/level.do?itemId=wj\">일본군 ‘위안부’·전쟁범죄 자료집</a></li>\n",
              "<li><a href=\"/item/level.do?itemId=ia\">일제감시대상인물카드</a></li>\n",
              "<li><a href=\"/item/level.do?itemId=jssy\">조선소요사건관계서류</a></li>\n",
              "<li><a href=\"/item/level.do?itemId=jh\">주한일본공사관기록 &amp; 통감부문서</a></li>\n",
              "<li><a href=\"/item/level.do?itemId=ju\">중추원조사자료</a></li>\n",
              "<li><a href=\"/item/powr/main.do\">포로신문보고서</a></li>\n",
              "<li><a href=\"/item/level.do?itemId=hk\">한국근대사자료집성</a></li>\n",
              "<li><a href=\"/item/level.do?itemId=kd\">한국독립운동사자료</a></li>\n",
              "<li><a href=\"/item/level.do?itemId=hd\">한민족독립운동사자료집</a></li>\n",
              "<li><a href=\"/item/level.do?itemId=pn\">휴전회담회의록</a></li>\n",
              "<li><a href=\"/item/level.do?itemId=frus\">FRUS 자료</a></li>\n",
              "<li><a href=\"/item/level.do?itemId=swncc\">SWNCC 자료</a></li>\n",
              "</ul>\n",
              "</td>\n",
              "</tr>\n",
              "<tr>\n",
              "<th><strong><img src=\"/images/sub/txt_ilram_d03.gif\" title=\"편년자료\"/></strong></th>\n",
              "<td>\n",
              "<ul class=\"ilram_cont_list\">\n",
              "<li><a href=\"/KOREA/item/level.do?itemId=kj&amp;types=r\">고려사절요</a></li>\n",
              "<li><a href=\"/item/level.do?itemId=gj\">고종시대사</a></li>\n",
              "<li><a href=\"/item/level.do?itemId=pry\">동학농민혁명사일지</a></li>\n",
              "<li><a href=\"http://sillok.history.go.kr/mc/main.do\" target=\"_blank\">명실록</a></li>\n",
              "<li><a href=\"/item/level.do?itemId=bb\">비변사등록</a></li>\n",
              "<li><a href=\"/item/level.do?itemId=sk\">사료 고종시대사</a></li>\n",
              "<li><a href=\"http://sjw.history.go.kr\" target=\"_blank\">승정원일기</a></li>\n",
              "<li><a href=\"/item/level.do?itemId=su\">일제침략하한국36년사</a></li>\n",
              "<li><a href=\"/item/level.do?itemId=dh\">자료대한민국사</a></li>\n",
              "<li><a href=\"http://sillok.history.go.kr\" target=\"_blank\">조선왕조실록</a></li>\n",
              "<li><a href=\"http://sillok.history.go.kr/mc/main.do\" target=\"_blank\">청실록</a></li>\n",
              "</ul>\n",
              "</td>\n",
              "</tr>\n",
              "<tr>\n",
              "<th><strong><img src=\"/images/sub/txt_ilram_d04.gif\" title=\"연속간행물\"/></strong></th>\n",
              "<td>\n",
              "<ul class=\"ilram_cont_list\">\n",
              "<li><a href=\"/item/level.do?itemId=npgn\">경남신문계열</a></li>\n",
              "<li><a href=\"/item/level.do?itemId=npgr\">공립신보</a></li>\n",
              "<li><a href=\"/item/level.do?itemId=gbdh\">조선·대한제국 관보</a></li>\n",
              "<li><a href=\"/item/level.do?itemId=npda\">동아일보</a></li>\n",
              "<li><a href=\"/item/level.do?itemId=npbs\">부산일보</a></li>\n",
              "<li><a href=\"/item/level.do?itemId=nkgb\">북한공보</a></li>\n",
              "<li><a href=\"/item/level.do?itemId=npsd\">시대일보</a></li>\n",
              "<li><a href=\"/item/level.do?itemId=npsc\">신문스크랩자료</a></li>\n",
              "<li><a href=\"/item/level.do?itemId=npsh\">신한민보</a></li>\n",
              "<li><a href=\"/item/level.do?itemId=npfp\">자유신문</a></li>\n",
              "<li><a href=\"/item/level.do?itemId=npjs\">조선시보</a></li>\n",
              "<li><a href=\"/item/level.do?itemId=npjj\">조선중앙일보</a></li>\n",
              "<li><a href=\"/item/level.do?itemId=gb\">조선총독부 관보</a></li>\n",
              "<li><a href=\"/item/level.do?itemId=npja\">중앙일보</a></li>\n",
              "<li><a href=\"/item/level.do?itemId=npjo\">중외일보</a></li>\n",
              "<li><a href=\"/item/level.do?itemId=gbtg\">통감부 공보</a></li>\n",
              "<li><a href=\"/item/level.do?itemId=ma\">한국근현대잡지자료</a></li>\n",
              "</ul>\n",
              "</td>\n",
              "</tr>\n",
              "<tr>\n",
              "<th><strong><img src=\"/images/sub/txt_ilram_d05.gif\" title=\"인물\"/></strong></th>\n",
              "<td>\n",
              "<ul class=\"ilram_cont_list\">\n",
              "<li><a href=\"/item/level.do?itemId=jw\">직원록자료</a></li>\n",
              "<li><a href=\"/item/level.do?itemId=im\">한국근현대인물자료</a></li>\n",
              "</ul>\n",
              "</td>\n",
              "</tr>\n",
              "<tr>\n",
              "<th><strong><img src=\"/images/sub/txt_ilram_d06.gif\" title=\"한국사연표\"/></strong></th>\n",
              "<td>\n",
              "<ul class=\"ilram_cont_list\">\n",
              "<li><a href=\"/item/level.do?itemId=tcko\">고대사연표</a></li>\n",
              "<li><a href=\"/item/level.do?itemId=tcmd\">근대사연표</a></li>\n",
              "<li><a href=\"/item/level.do?itemId=tcct\">대한민국사연표</a></li>\n",
              "<li><a href=\"/item/level.do?itemId=prc\">동학농민혁명연표</a></li>\n",
              "<li><a href=\"/item/level.do?itemId=okch\">재외동포사연표</a></li>\n",
              "<li><a href=\"/item/level.do?itemId=ch\">주제별연표</a></li>\n",
              "</ul>\n",
              "</td>\n",
              "</tr>\n",
              "<tr>\n",
              "<th><strong><img src=\"/images/sub/txt_ilram_d07.gif\" title=\"지도\"/></strong></th>\n",
              "<td>\n",
              "<ul class=\"ilram_cont_list\">\n",
              "<li><a href=\"/item/level.do?itemId=jnm\">한국근대지도자료</a></li>\n",
              "<li><a href=\"http://db.history.go.kr/hgis/mod_g1/main.do\" target=\"_blank\">한국근대지리정보</a></li>\n",
              "<li><a href=\"http://db.history.go.kr/hgis/kor_g1/main.do\" target=\"_blank\">개경지리정보</a></li>\n",
              "<li><a href=\"http://db.history.go.kr/hgis/\" target=\"_blank\">역사지리정보 데이터베이스</a></li>\n",
              "</ul>\n",
              "</td>\n",
              "</tr>\n",
              "<tr>\n",
              "<th><strong><img src=\"/images/sub/txt_ilram_d08.gif\" title=\"멀티미디어자료\"/></strong></th>\n",
              "<td>\n",
              "<ul class=\"ilram_cont_list\">\n",
              "<li><a href=\"/KOREA/item/gskoList.do\">고려시대 금석문·문자자료</a></li>\n",
              "<li><a href=\"/item/level.do?itemId=fl\">사진유리필름자료</a></li>\n",
              "<li><a href=\"/item/level.do?itemId=gskh\">한국고대금석문</a></li>\n",
              "<li><a href=\"/item/level.do?itemId=mg\">한국목간자료</a></li>\n",
              "</ul>\n",
              "</td>\n",
              "</tr>\n",
              "<tr>\n",
              "<th><strong><img src=\"/images/sub/txt_ilram_d09.gif\" title=\"목록‧연구논저\"/></strong></th>\n",
              "<td>\n",
              "<ul class=\"ilram_cont_list\">\n",
              "<li><a href=\"/item/level.do?itemId=kn\">국사관논총</a></li>\n",
              "<li><a href=\"/item/level.do?itemId=prb\">동학농민혁명사논저목록</a></li>\n",
              "<li><a href=\"/item/level.do?itemId=nh\">신편한국사</a></li>\n",
              "<li><a href=\"/item/level.do?itemId=hhcs\">학술회의총서</a></li>\n",
              "<li><a href=\"/item/level.do?itemId=om\">한국고지도목록</a></li>\n",
              "<li><a href=\"/item/level.do?itemId=oh\">한국사</a></li>\n",
              "<li><a href=\"/item/level.do?itemId=hn\">한국사론</a></li>\n",
              "<li><a href=\"/item/level.do?itemId=hb\">한국사연구휘보</a></li>\n",
              "</ul>\n",
              "</td>\n",
              "</tr>\n",
              "</table>\n",
              "</div>\n",
              "<strong class=\"tab03\">\n",
              "<a href=\"#\"><img src=\"/images/sub/tab_ilram_04.gif\" title=\"가나다 일람\"/></a>\n",
              "</strong>\n",
              "<div class=\"ilram_cont\">\n",
              "<table>\n",
              "<caption>가나다 자료일람 목록</caption>\n",
              "<tr>\n",
              "<th><strong><img src=\"/images/sub/txt_ilram_a01.gif\" title=\"가\"/></strong></th>\n",
              "<td>\n",
              "<ul class=\"ilram_cont_list\">\n",
              "<li><a href=\"/item/level.do?itemId=ks\">각사등록</a></li>\n",
              "<li><a href=\"/item/level.do?itemId=mk\">각사등록 근대편</a></li>\n",
              "<li><a href=\"/KOREA/item/gkIdxList.do\">개경기초자료</a></li>\n",
              "<li><a href=\"http://db.history.go.kr/hgis/kor_g1/main.do\" target=\"_blank\">개경지리정보</a></li>\n",
              "<li><a href=\"/item/level.do?itemId=npgn\">경남신문계열</a></li>\n",
              "<li><a href=\"/item/level.do?itemId=tcko\">고대사연표</a></li>\n",
              "<li><a href=\"/KOREA/item/jpkrList.do\">고려관련 일본사료</a></li>\n",
              "<li><a href=\"/KOREA/item/level.do?itemId=kr&amp;types=r\">고려사</a></li>\n",
              "<li><a href=\"/KOREA/item/level.do?itemId=kj&amp;types=r\">고려사절요</a></li>\n",
              "<li><a href=\"/KOREA/item/gskoList.do\">고려시대 금석문·문자자료</a></li>\n",
              "<li><a href=\"/item/level.do?itemId=gj\">고종시대사</a></li>\n",
              "<li><a href=\"/item/level.do?itemId=npgr\">공립신보</a></li>\n",
              "<li><a href=\"/item/level.do?itemId=had\">국내 항일운동 자료 : 경성지방법원 검사국 문서</a></li>\n",
              "<li><a href=\"/item/level.do?itemId=kn\">국사관논총</a></li>\n",
              "<li><a href=\"/item/level.do?itemId=haf\">국외 항일운동 자료 : 일본 외무성기록</a></li>\n",
              "<li><a href=\"/item/level.do?itemId=tcmd\">근대사연표</a></li>\n",
              "<li><a href=\"/item/level.do?itemId=smla\">근대한일외교자료</a></li>\n",
              "</ul>\n",
              "</td>\n",
              "</tr>\n",
              "<tr>\n",
              "<th><strong><img src=\"/images/sub/txt_ilram_a03.gif\" title=\"다\"/></strong></th>\n",
              "<td>\n",
              "<ul class=\"ilram_cont_list\">\n",
              "<li><a href=\"/item/level.do?itemId=ts\">대마도종가문서자료집</a></li>\n",
              "<li><a href=\"/item/level.do?itemId=tcct\">대한민국사연표</a></li>\n",
              "<li><a href=\"/item/level.do?itemId=ij\">대한민국임시정부자료집</a></li>\n",
              "<li><a href=\"/item/level.do?itemId=npda\">동아일보</a></li>\n",
              "<li><a href=\"/KOREA/item/level.do?itemId=muds&amp;types=r\">동인지문사륙</a></li>\n",
              "<li><a href=\"/KOREA/item/level.do?itemId=mudo&amp;types=r\">동인지문오칠</a></li>\n",
              "<li><a href=\"/item/level.do?itemId=prb\">동학농민혁명사논저목록</a></li>\n",
              "<li><a href=\"/item/level.do?itemId=pry\">동학농민혁명사일지</a></li>\n",
              "<li><a href=\"/item/level.do?itemId=prc\">동학농민혁명연표</a></li>\n",
              "<li><a href=\"/item/level.do?itemId=prd\">동학농민혁명자료총서</a></li>\n",
              "<li><a href=\"/item/level.do?itemId=prw\">동학농민혁명증언록</a></li>\n",
              "</ul>\n",
              "</td>\n",
              "</tr>\n",
              "<tr>\n",
              "<th><strong><img src=\"/images/sub/txt_ilram_a05.gif\" title=\"마\"/></strong></th>\n",
              "<td>\n",
              "<ul class=\"ilram_cont_list\">\n",
              "<li><a href=\"http://sillok.history.go.kr/mc/main.do\" target=\"_blank\">명실록</a></li>\n",
              "<li><a href=\"item/level.do?itemId=husa\">미군정기 자료 주한미군사</a></li>\n",
              "<li><a href=\"/item/level.do?itemId=pm\">미군정기군정단·군정중대문서</a></li>\n",
              "</ul>\n",
              "</td>\n",
              "</tr>\n",
              "<tr>\n",
              "<th><strong><img src=\"/images/sub/txt_ilram_a06.gif\" title=\"바\"/></strong></th>\n",
              "<td>\n",
              "<ul class=\"ilram_cont_list\">\n",
              "<li><a href=\"/item/level.do?itemId=an\">반민특위조사기록</a></li>\n",
              "<li><a href=\"/KOREA/item/level.do?itemId=mubh&amp;types=r\">보한집</a></li>\n",
              "<li><a href=\"/item/level.do?itemId=npbs\">부산일보</a></li>\n",
              "<li><a href=\"/item/level.do?itemId=nkgb\">북한공보</a></li>\n",
              "<li><a href=\"/item/level.do?itemId=nkhc\">북한관계사료집</a></li>\n",
              "<li><a href=\"/item/level.do?itemId=bb\">비변사등록</a></li>\n",
              "</ul>\n",
              "</td>\n",
              "</tr>\n",
              "<tr>\n",
              "<th><strong><img src=\"/images/sub/txt_ilram_a07.gif\" title=\"사\"/></strong></th>\n",
              "<td>\n",
              "<ul class=\"ilram_cont_list\">\n",
              "<li><a href=\"/item/level.do?itemId=sk\">사료 고종시대사</a></li>\n",
              "<li><a href=\"/item/level.do?itemId=fl\">사진유리필름자료</a></li>\n",
              "<li><a href=\"/item/level.do?itemId=sg\">삼국사기</a></li>\n",
              "<li><a href=\"/item/level.do?itemId=sy\">삼국유사</a></li>\n",
              "<li><a href=\"http://db.history.go.kr/samil/\" target=\"_blank\">삼일운동격문</a></li>\n",
              "<li><a href=\"/KOREA/item/level.do?itemId=cnkd&amp;types=r\">선화봉사고려도경</a></li>\n",
              "<li><a href=\"/item/level.do?itemId=pro\">소요사건에 관한 도장관 보고철</a></li>\n",
              "<li><a href=\"/item/level.do?itemId=ss\">수집사료해제집</a></li>\n",
              "<li><a href=\"http://sjw.history.go.kr\" target=\"_blank\">승정원일기</a></li>\n",
              "<li><a href=\"/item/level.do?itemId=npsd\">시대일보</a></li>\n",
              "<li><a href=\"/item/level.do?itemId=npsc\">신문스크랩자료</a></li>\n",
              "<li><a href=\"/item/level.do?itemId=nh\">신편한국사</a></li>\n",
              "<li><a href=\"/item/level.do?itemId=npsh\">신한민보</a></li>\n",
              "</ul>\n",
              "</td>\n",
              "</tr>\n",
              "<tr>\n",
              "<th><strong><img src=\"/images/sub/txt_ilram_a08.gif\" title=\"아\"/></strong></th>\n",
              "<td>\n",
              "<ul class=\"ilram_cont_list\">\n",
              "<li><a href=\"http://db.history.go.kr/hgis/\" target=\"_blank\">역사지리정보 데이터베이스</a></li>\n",
              "<li><a href=\"/KOREA/item/level.do?itemId=cnwk&amp;types=r\">원고려기사</a></li>\n",
              "<li><a href=\"/item/level.do?itemId=ps\">유엔의 한국문제처리에 관한 미국무부의 문서</a></li>\n",
              "<li><a href=\"/item/level.do?itemId=pu\">유엔한국임시위원단 관계 문서</a></li>\n",
              "<li><a href=\"/item/level.do?itemId=uthr\">유태하 보고서</a></li>\n",
              "<li><a href=\"/item/level.do?itemId=le\">이승만서한철</a></li>\n",
              "<li><a href=\"/item/level.do?itemId=wj\">일본군 ‘위안부’·전쟁범죄 자료집</a></li>\n",
              "<li><a href=\"/item/level.do?itemId=jm\">일본육국사 한국관계기사</a></li>\n",
              "<li><a href=\"/item/level.do?itemId=ia\">일제감시대상인물카드</a></li>\n",
              "<li><a href=\"/item/level.do?itemId=gsdc\">일제강점기 경성지방법원 기록 해제</a></li>\n",
              "<li><a href=\"/item/level.do?itemId=smlb\">일제시기 희귀자료</a></li>\n",
              "<li><a href=\"/item/level.do?itemId=su\">일제침략하한국36년사</a></li>\n",
              "<li><a href=\"/item/level.do?itemId=ds\">입당구법순례행기</a></li>\n",
              "</ul>\n",
              "</td>\n",
              "</tr>\n",
              "<tr>\n",
              "<th><strong><img src=\"/images/sub/txt_ilram_a09.gif\" title=\"자\"/></strong></th>\n",
              "<td>\n",
              "<ul class=\"ilram_cont_list\">\n",
              "<li><a href=\"/item/level.do?itemId=dh\">자료대한민국사</a></li>\n",
              "<li><a href=\"/item/level.do?itemId=npfp\">자유신문</a></li>\n",
              "<li><a href=\"/item/level.do?itemId=okch\">재외동포사연표</a></li>\n",
              "<li><a href=\"/item/level.do?itemId=oksr\">재외동포사총서</a></li>\n",
              "<li><a href=\"/KOREA/item/level.do?itemId=mujw&amp;types=r\">제왕운기</a></li>\n",
              "<li><a href=\"/item/level.do?itemId=gbdh\">조선·대한제국 관보</a></li>\n",
              "<li><a href=\"/item/level.do?itemId=jssy\">조선소요사건관계서류</a></li>\n",
              "<li><a href=\"/law/\">조선시대법령자료</a></li>\n",
              "<li><a href=\"/item/level.do?itemId=npjs\">조선시보</a></li>\n",
              "<li><a href=\"http://sillok.history.go.kr\" target=\"_blank\">조선왕조실록</a></li>\n",
              "<li><a href=\"/item/level.do?itemId=npjj\">조선중앙일보</a></li>\n",
              "<li><a href=\"/item/level.do?itemId=gb\">조선총독부 관보</a></li>\n",
              "<li><a href=\"/item/level.do?itemId=ch\">주제별연표</a></li>\n",
              "<li><a href=\"/item/level.do?itemId=jh\">주한일본공사관기록 &amp; 통감부문서</a></li>\n",
              "<li><a href=\"/KOREA/item/level.do?itemId=cnkb&amp;types=r\">중국사서 고려·발해유민 기사</a></li>\n",
              "<li><a href=\"/item/level.do?itemId=jo\">중국정사조선전</a></li>\n",
              "<li><a href=\"/item/level.do?itemId=npja\">중앙일보</a></li>\n",
              "<li><a href=\"/item/level.do?itemId=npjo\">중외일보</a></li>\n",
              "<li><a href=\"/item/level.do?itemId=ju\">중추원조사자료</a></li>\n",
              "<li><a href=\"/item/level.do?itemId=jw\">직원록자료</a></li>\n",
              "</ul>\n",
              "</td>\n",
              "</tr>\n",
              "<tr>\n",
              "<th><strong><img src=\"/images/sub/txt_ilram_a10.gif\" title=\"차\"/></strong></th>\n",
              "<td>\n",
              "<ul class=\"ilram_cont_list\">\n",
              "<li><a href=\"http://sillok.history.go.kr/mc/main.do\" target=\"_blank\">청실록</a></li>\n",
              "<li><a href=\"/item/level.do?itemId=pj\">친일파관련문헌</a></li>\n",
              "</ul>\n",
              "</td>\n",
              "</tr>\n",
              "<tr>\n",
              "<th><strong><img src=\"/images/sub/txt_ilram_a12.gif\" title=\"타\"/></strong></th>\n",
              "<td>\n",
              "<ul class=\"ilram_cont_list\">\n",
              "<li><a href=\"/item/level.do?itemId=gbtg\">통감부 공보</a></li>\n",
              "</ul>\n",
              "</td>\n",
              "</tr>\n",
              "<tr>\n",
              "<th><strong><img src=\"/images/sub/txt_ilram_a13.gif\" title=\"파\"/></strong></th>\n",
              "<td>\n",
              "<ul class=\"ilram_cont_list\">\n",
              "<li><a href=\"/KOREA/item/level.do?itemId=muph&amp;types=r\">파한집</a></li>\n",
              "<li><a href=\"/item/powr/main.do\">포로신문보고서</a></li>\n",
              "</ul>\n",
              "</td>\n",
              "</tr>\n",
              "<tr>\n",
              "<th><strong><img src=\"/images/sub/txt_ilram_a14.gif\" title=\"하\"/></strong></th>\n",
              "<td>\n",
              "<ul class=\"ilram_cont_list\">\n",
              "<li><a href=\"/item/level.do?itemId=hhcs\">학술회의총서</a></li>\n",
              "<li><a href=\"/item/level.do?itemId=gskh\">한국고대금석문</a></li>\n",
              "<li><a href=\"/item/level.do?itemId=ko\">한국고대사료집성 중국편</a></li>\n",
              "<li><a href=\"/item/level.do?itemId=odi\">한국고문서입문</a></li>\n",
              "<li><a href=\"/item/level.do?itemId=om\">한국고지도목록</a></li>\n",
              "<li><a href=\"/item/level.do?itemId=mh\">한국근대사기초자료집</a></li>\n",
              "<li><a href=\"/item/level.do?itemId=hk\">한국근대사자료집성</a></li>\n",
              "<li><a href=\"/item/level.do?itemId=jnm\">한국근대지도자료</a></li>\n",
              "<li><a href=\"http://db.history.go.kr/hgis/mod_g1/main.do\" target=\"_blank\">한국근대지리정보</a></li>\n",
              "<li><a href=\"/item/level.do?itemId=jng\">한국근대지지자료</a></li>\n",
              "<li><a href=\"/item/level.do?itemId=im\">한국근현대인물자료</a></li>\n",
              "<li><a href=\"/item/level.do?itemId=ma\">한국근현대잡지자료</a></li>\n",
              "<li><a href=\"/item/level.do?itemId=hs\">한국근현대회사조합자료</a></li>\n",
              "<li><a href=\"/item/level.do?itemId=kd\">한국독립운동사자료</a></li>\n",
              "<li><a href=\"/item/level.do?itemId=mg\">한국목간자료</a></li>\n",
              "<li><a href=\"/item/level.do?itemId=oh\">한국사</a></li>\n",
              "<li><a href=\"/item/level.do?itemId=hn\">한국사론</a></li>\n",
              "<li><a href=\"/item/level.do?itemId=sa\">한국사료총서</a></li>\n",
              "<li><a href=\"/item/level.do?itemId=hb\">한국사연구휘보</a></li>\n",
              "<li><a href=\"/item/level.do?itemId=hdsr\">한민족독립운동사</a></li>\n",
              "<li><a href=\"/item/level.do?itemId=hd\">한민족독립운동사자료집</a></li>\n",
              "<li><a href=\"/item/level.do?itemId=hg\">해동고승전</a></li>\n",
              "<li><a href=\"/item/level.do?itemId=fs\">해외사료총서</a></li>\n",
              "<li><a href=\"/item/cons/main.do\">헌정사 자료 DB</a></li>\n",
              "<li><a href=\"/item/level.do?itemId=pn\">휴전회담회의록</a></li>\n",
              "</ul>\n",
              "</td>\n",
              "</tr>\n",
              "<tr>\n",
              "<th><strong><img src=\"/images/sub/txt_ilram_a15.gif\" title=\"기타\"/></strong></th>\n",
              "<td>\n",
              "<ul class=\"ilram_cont_list\">\n",
              "<li><a href=\"/item/level.do?itemId=frus\">FRUS 자료</a></li>\n",
              "<li><a href=\"/item/level.do?itemId=swncc\">SWNCC 자료</a></li>\n",
              "</ul>\n",
              "</td>\n",
              "</tr>\n",
              "</table>\n",
              "</div>\n",
              "<strong class=\"tab04\">\n",
              "<a href=\"#\"><img src=\"/images/sub/tab_ilram_03.gif\" title=\"국사편찬위원회 자료일람\"/></a>\n",
              "</strong>\n",
              "<div class=\"ilram_cont\">\n",
              "<table>\n",
              "<caption>국사편찬위원회 자료일람 목록</caption>\n",
              "<tr>\n",
              "<th><strong><img src=\"/images/sub/txt_ilram_d10.gif\" title=\"간행자료\"/></strong></th>\n",
              "<td>\n",
              "<ul class=\"ilram_cont_list\">\n",
              "<li><a href=\"/item/level.do?itemId=ks\">각사등록</a></li>\n",
              "<li><a href=\"/item/level.do?itemId=gj\">고종시대사</a></li>\n",
              "<li><a href=\"/item/level.do?itemId=kn\">국사관논총</a></li>\n",
              "<li><a href=\"/item/level.do?itemId=tcmd\">근대사연표</a></li>\n",
              "<li><a href=\"/item/level.do?itemId=ts\">대마도종가문서자료집</a></li>\n",
              "<li><a href=\"/item/level.do?itemId=tcct\">대한민국사연표</a></li>\n",
              "<li><a href=\"/item/level.do?itemId=ij\">대한민국임시정부자료집</a></li>\n",
              "<li><a href=\"/item/level.do?itemId=pm\">미군정기군정단·군정중대문서</a></li>\n",
              "<li><a href=\"/item/level.do?itemId=nkhc\">북한관계사료집</a></li>\n",
              "<li><a href=\"/item/level.do?itemId=bb\">비변사등록</a></li>\n",
              "<li><a href=\"/item/level.do?itemId=sk\">사료 고종시대사</a></li>\n",
              "<li><a href=\"/item/level.do?itemId=fl\">사진유리필름자료</a></li>\n",
              "<li><a href=\"/item/level.do?itemId=ss\">수집사료해제집</a></li>\n",
              "<li><a href=\"/item/level.do?itemId=nh\">신편한국사</a></li>\n",
              "<li><a href=\"/item/level.do?itemId=ps\">유엔의 한국문제처리에 관한 미국무부의 문서</a></li>\n",
              "<li><a href=\"/item/level.do?itemId=pu\">유엔한국임시위원단 관계 문서</a></li>\n",
              "<li><a href=\"/item/level.do?itemId=uthr\">유태하 보고서</a></li>\n",
              "<li><a href=\"/item/level.do?itemId=le\">이승만서한철</a></li>\n",
              "<li><a href=\"/item/level.do?itemId=wj\">일본군 ‘위안부’·전쟁범죄 자료집</a></li>\n",
              "<li><a href=\"/item/level.do?itemId=gsdc\">일제강점기 경성지방법원 기록 해제</a></li>\n",
              "<li><a href=\"/item/level.do?itemId=su\">일제침략하한국36년사</a></li>\n",
              "<li><a href=\"/item/level.do?itemId=dh\">자료대한민국사</a></li>\n",
              "<li><a href=\"/item/level.do?itemId=okch\">재외동포사연표</a></li>\n",
              "<li><a href=\"/item/level.do?itemId=oksr\">재외동포사총서</a></li>\n",
              "<li><a href=\"/item/level.do?itemId=jh\">주한일본공사관기록 &amp; 통감부문서</a></li>\n",
              "<li><a href=\"/item/level.do?itemId=jo\">중국정사조선전</a></li>\n",
              "<li><a href=\"/item/level.do?itemId=hhcs\">학술회의총서</a></li>\n",
              "<li><a href=\"/item/level.do?itemId=gskh\">한국고대금석문</a></li>\n",
              "<li><a href=\"/item/level.do?itemId=ko\">한국고대사료집성 중국편</a></li>\n",
              "<li><a href=\"/item/level.do?itemId=odi\">한국고문서입문</a></li>\n",
              "<li><a href=\"/item/level.do?itemId=mh\">한국근대사기초자료집</a></li>\n",
              "<li><a href=\"/item/level.do?itemId=hk\">한국근대사자료집성</a></li>\n",
              "<li><a href=\"/item/level.do?itemId=kd\">한국독립운동사자료</a></li>\n",
              "<li><a href=\"/item/level.do?itemId=oh\">한국사</a></li>\n",
              "<li><a href=\"/item/level.do?itemId=hn\">한국사론</a></li>\n",
              "<li><a href=\"/item/level.do?itemId=sa\">한국사료총서</a></li>\n",
              "<li><a href=\"/item/level.do?itemId=hb\">한국사연구휘보</a></li>\n",
              "<li><a href=\"/item/level.do?itemId=hd\">한민족독립운동사자료집</a></li>\n",
              "<li><a href=\"/item/level.do?itemId=fs\">해외사료총서</a></li>\n",
              "<li><a href=\"/item/level.do?itemId=pn\">휴전회담회의록</a></li>\n",
              "</ul>\n",
              "</td>\n",
              "</tr>\n",
              "<tr>\n",
              "<th><strong><img src=\"/images/sub/txt_ilram_d11.gif\" title=\"소장자료\"/></strong></th>\n",
              "<td>\n",
              "<ul class=\"ilram_cont_list\">\n",
              "<li><a href=\"/item/level.do?itemId=ia\">일제감시대상인물카드</a></li>\n",
              "<li><a href=\"/item/level.do?itemId=pro\">소요사건에 관한 도장관 보고철</a></li>\n",
              "<li><a href=\"/item/level.do?itemId=npgn\">경남신문계열</a></li>\n",
              "<li><a href=\"/item/level.do?itemId=had\">국내 항일운동 자료 : 경성지방법원 검사국 문서</a></li>\n",
              "<li><a href=\"/item/level.do?itemId=ts\">대마도종가문서자료집</a></li>\n",
              "<li><a href=\"/item/level.do?itemId=an\">반민특위조사기록</a></li>\n",
              "<li><a href=\"/item/level.do?itemId=fl\">사진유리필름자료</a></li>\n",
              "<li><a href=\"/item/level.do?itemId=le\">이승만서한철</a></li>\n",
              "<li><a href=\"/item/level.do?itemId=jh\">주한일본공사관기록 &amp; 통감부문서</a></li>\n",
              "<li><a href=\"/item/level.do?itemId=ju\">중추원조사자료</a></li>\n",
              "<li><a href=\"/item/level.do?itemId=hd\">한민족독립운동사자료집</a></li>\n",
              "</ul>\n",
              "</td>\n",
              "</tr>\n",
              "</table>\n",
              "</div>\n",
              "</div>\n",
              "<!-- //일람 팝업 -->\n",
              "</div>\n",
              "</div>\n",
              "<!-- container -->\n",
              "<script type=\"text/javascript\">\n",
              "\tvar parentLevelQueue = new Queue();\n",
              "\t$(document).ready(function() {\n",
              "\t\t\n",
              "\n",
              "\t\t//이전검색조건 셋 구성\n",
              "\t\t\n",
              "\t\t\n",
              "\t});\n",
              "\n",
              "\t//아이템별 중간레벨 컬럼구성\n",
              "\tfunction makeItemLevelColumn(itemLevel) {\n",
              "\t\t//# 추가될 하위레벨의 정보를 구성한다.\n",
              "\t\tvar id = itemLevel.levelId;\n",
              "\t\tvar $div = $(\"<div class='dl_liCont' id='\" + id + \"'/>\");\n",
              "\t\t//본문레벨이 아니라면 하위가 있는것으로 간주\n",
              "\t\tvar $strong = null;\n",
              "\t\tvar pos = \"-1\";\n",
              "\t\tvar itemid= \"ma\";\n",
              "\t\tif (itemLevel.isLeaf == '0') {\n",
              "\t\t\t$strong = $(\"<strong style='cursor:pointer;' class='dlP_w400 dlP_title ellip expandable' onclick='retrieveListItemLevelChild(\\\"\" + id + \"\\\");'/>\");\n",
              "\t\t} else {\n",
              "\t\t\t$strong = $(\"<strong class='dlP_w400 dlP_title ellip'/>\");\n",
              "\t\t}\n",
              "\t\t//출력될 제목 구성(서명/편명/연월일/기사명)\n",
              "\t\tvar title = itemLevel.mainTitle;\n",
              "\t\t//if (itemLevel.dateOccured != '') {\n",
              "\t\t//\ttitle = convertDateForm(itemLevel.dateOccured) + \" \" + title;\n",
              "\t\t//}\n",
              "\t\t//하위레벨 여부에 따른 처리\n",
              "\t\tif (itemLevel.isLeaf == '0') {\n",
              "\t\t\t$strong.append(title);\n",
              "\t\t\tif (itemLevel.isText == '1') {\n",
              "\t\t\t\t$strong.append(\"<a href='javascript:goItemView(\\\"\" + itemid + \"\\\", \\\"\" + id + \"\\\", \\\"\" + pos + \"\\\");' onclick='if(event.stopPropagation) {event.stopPropagation();}event.cancelBubble=true;'><img src='/images/button/btn_vlist.gif' title='도입글'/></a>\");\n",
              "\t\t\t}\n",
              "\t\t} else {\n",
              "\t\t\t$strong.append(\"<a href='javascript:goItemView(\\\"\" + itemid + \"\\\", \\\"\" + id + \"\\\", \\\"\" + pos + \"\\\");'>\" + title + \"</a>\");\n",
              "\t\t}\n",
              "\n",
              "\t\t$div.append($strong);\n",
              "\t\t//필자\n",
              "\t\t//if (itemLevel.author) {\n",
              "\t\t\t$div.append(\"<p class='dlP_w110 ellip dlP_Div'>\" + itemLevel.author + \"</p>\");\n",
              "\t\t//}\n",
              "\t\t//기사형태\n",
              "\t\tif (itemLevel.subjectClass) {\n",
              "\t\t\t$div.append(\"<p class='dlP_w110 ellip dlP_Div'>\" + itemLevel.subjectClass + \"</p>\");\n",
              "\t\t}\n",
              "\t\t//발행일(레벨2의 발행일?)\n",
              "\t\tif (itemLevel.dateIssuedStr) {\n",
              "\t\t\t$div.append(\"<p class='dlP01'>\" + itemLevel.dateIssuedStr + \"</p>\");\n",
              "\t\t}\n",
              "\n",
              "\t\t/*//PDF\n",
              "\t\tif (itemLevel.existImage == '1') {\t//PDF가 있다면 추가\n",
              "\t\t\tvar $btnOpt = $(\"<div class='btn_opt' style='margin-top: 3px;'>\");\n",
              "\t\t\tvar $a = $(\"<a href='/item/pdfViewer.do?levelId=\"+ itemLevel.levelId + \"' class='ibtn' target='_blank'><span><em class='ibtn_left'>PDF</em></span></a>\");\n",
              "\t\t\t$btnOpt.append($a);\n",
              "\t\t\t$div.append($btnOpt);\n",
              "\t\t}*/\n",
              "\t\t//원문이미지\n",
              "\t\tif (itemLevel.existImage == '1') {\t//원문이미지가 있다면 추가\n",
              "\t\t\tvar $btnOpt = $(\"<div class=\\\"btn_opt\\\" style=\\\"margin-top: 3px;\\\">\");\n",
              "\t\t\tvar $a = $(\"<a href=\\\"javascript:;\\\" class=\\\"ibtn\\\" onclick=\\\"goImageViewer('\" + itemLevel.levelId + \"'); return false;\\\"><span><em class=\\\"ibtn_left\\\">원문이미지</em></span></a>\");\n",
              "\t\t\t$btnOpt.append($a);\n",
              "\t\t\t$div.append($btnOpt);\n",
              "\t\t}\n",
              "\n",
              "\t\treturn $div;\n",
              "\t}\n",
              "</script>\n",
              "<div id=\"containerWrap\">\n",
              "<div id=\"container\">\n",
              "<!-- START 레벨 1 리스트 -->\n",
              "<!-- END 레벨 1 리스트 -->\n",
              "<!-- START 레벨 2이상 상위레벨 -->\n",
              "<!-- END 레벨 2이상 상위레벨 -->\n",
              "<!-- START 본문상세 -->\n",
              "<div class=\"cont_info\" id=\"cont_info\">\n",
              "<ul class=\"btnArea\">\n",
              "<li>\n",
              "<a href=\"javascript:goItemView('ma', 'ma_001_0010', '');\">\n",
              "<img src=\"/images/button/btn_vmtop.gif\" title=\"상위자료\"/>\n",
              "</a>\n",
              "</li>\n",
              "<li>\n",
              "<a href=\"#javascript:;\"><img src=\"/images/button/btn_vmprev_unable.gif\" title=\"이전자료없음\"/></a>\n",
              "</li>\n",
              "<li>\n",
              "<a href=\"javascript:goItemView('ma', 'ma_001_0010_0020', '');\">\n",
              "<img src=\"/images/button/btn_vmnext.gif\" title=\"다음자료\"/>\n",
              "</a>\n",
              "</li>\n",
              "</ul>\n",
              "<div class=\"hoiArea\">\n",
              "<span class=\"hoi\">ma_001_0010_0010</span>\n",
              "<ul class=\"hoiList\">\n",
              "<li><a href=\"javascript:;\" id=\"copyUrl\">URL 복사하기</a></li>\n",
              "<li><a href=\"javascript:;\" id=\"copyId\">ID 복사하기</a></li>\n",
              "<li><a href=\"javascript:;\" id=\"hoiHelp\">자료인용방법</a></li>\n",
              "</ul>\n",
              "</div>\n",
              "</div>\n",
              "<div class=\"cont_location\">\n",
              "<p>\n",
              "<a> 대한자강회월보 제1호  &gt;  </a>\n",
              "<a>大韓自强會月報序［三編］</a>\n",
              "</p>\n",
              "</div>\n",
              "<div class=\"cont_view\"><div class=\"dl_data_pru\"><table><colgroup><col width=\"20%\"/><col width=\"auto\"/></colgroup><tbody><tr><th>잡지명</th><td>대한자강회월보 제1호\n",
              "\t\t\t\t\t\t\t \n",
              "\t\t\t\t\t\t\t</td></tr><tr><th>발행일</th><td>1906년 07월 31일\n",
              "\t\t\t\t\t\t\t \n",
              "\t\t\t\t\t\t\t</td></tr><tr><th>기사제목</th><td>大韓自强會月報序［三編］  \n",
              "\t\t\t\t\t\t\t</td></tr><tr><th>기사형태</th><td>논설  \n",
              "\t\t\t\t\t\t\t</td></tr></tbody></table></div><div id=\"cont_view\" style=\"margin-left:20px;\"><div style=\"text-align:justify;word-break:break-all;\"><b>大韓自强會月報序［三編］</b><br/></div><div style=\"text-align:justify;word-break:break-all;\">日에 有客이 促膝附耳고 叩之于余 曰 <span style=\"color:#336666\" title=\"단체\">自强會</span>之名稱과 及 其 趣旨 業己公佈大世矣라. 固不容再問이어니와 必其裏情이 或有니 願一聞之노라. 余ㅣ 曰 惡라 是何言也오 君之 所謂 裏情은 表面으로 稱云自强이라고 其 內容은 浮沈渾敦야 阿私作俑을 是云者歟아 抑或外假華名고 內挾僞雜야 以營營於肥已之私 是云者歟아 抑 或 形式上으로 腐敗 攻擊되 實地 情衷은 徒藉美名고 終無事行之可能結局者 是云歟아 於 此三者에 有一焉이면 其 已强者도 必衰弱乃己어늘 況如今萎 微懦弱之吾人이 奚暇에 有自强之希望哉아 本會 趣旨 及 名稱은 表裏 均一야 無他裏情은 斷然靡間이어늘 今 君之問이 有此訝點니 是 謂自强之必無其力而恐有有初鮮終之歎歟아 此ㅣ 吾國 所以蒙未開之誚也라 君如未信커던 請訂諸本會之月報라 此 卽 本會之機關 精神也니 於是乎에 其可觀乎져 客이 唯唯曰 果然 乎哉아.</div><div style=\"text-align:justify;word-break:break-all;\"><span style=\"color:#336666\" title=\"이름\">光武</span> 十年 七月 日 會長 <span style=\"color:#336666\" title=\"이름\">尹致昊</span></div><div style=\"text-align:justify;word-break:break-all;\">●會之有報 何歟오 曰 使會員讀之也니라 其 使 會員讀之 何歟오 曰 欲其求自强之道也니라. 其 不許非會員讀之 何歟오 曰 否라 讀之 自會員始오 非不許非會員也라. 苟求自强之道면 則 普天下仁人君子ㅣ 皆將讀之니 而況爲我韓人者哉리오 然我韓之委靡至＜1＞此 皆尙文之罪也어늘 而今又使之讀書 何歟오 曰 書能令人弱이오 亦能令人强이니 愚請因是而痛論之호리라. 夫黃老之談이 足以亡晋氏오 奉天之詔ㅣ 足以復唐室니 書之感人이 其效固不淺尠矣오 且自古俊傑之士ㅣ 必要識時務니 時務者 非他也라 吾旣生今日之世니 則 當服今日之衣고 當喫今日之飯고 當讀今日之書고 當圖今日之强也라. 近見迂儒輩ㅣ 每以古昔稱道나 然不知世殊者 人亦殊고 人殊者 事亦殊고 事殊者 書亦殊니 唐虞三代之書ㅣ 果盡의 則不必更有秦漢書오 秦漢書ㅣ 果盡의 則不必更有唐宋書오 唐宋書ㅣ 果盡의 則不必更有明淸書오 明淸書ㅣ 果盡矣 則不必更有泰西書오 泰西書ㅣ 果盡의 則不必更有<span style=\"color:#336666\" title=\"단체\">自强會</span>月報書也라 夫然則會報之行이 是豈得己者耶아 吾已勉吾自强고 而又復勉公者 誠恐志不一而力分 故耳라 吾己自强고 公又復自强이면 則是得二人之自强也오 公이 又復勉公之傍人고 公之傍人이 又 復勉其傍人이면 則是得四人之自强也니 由此而至於得二千萬口之自强이면 則國家之政治 可以改善이오 世界之羈絆을 可以出脫이니 然則 諸公之讀會報ㅣ 亦豈得己者耶아 嗚呼라 鷄旣鳴의오 東方이 旣白의라 其以兩手로 擦開睡餘之眼而讀之면 非惟吾之幸이라 亦 諸公之幸也오 非惟諸公之幸이라 亦 全國之幸也라 노라.＜2＞</div><div style=\"text-align:justify;word-break:break-all;\"><span style=\"color:#336666\" title=\"이름\">南嶽居士</span><span style=\"color:#336666\" title=\"이름\">李沂</span> 識</div><div style=\"text-align:justify;word-break:break-all;\">●韓國介在乎日淸俄三國間國弱小而民未開當初受淸國壓制國勢日萎苶日淸交戰後雖脫 淸國羈絆不堪於日本警醒竊欲依俄國以避之日俄開仗俄國連敗東亞之大勢將歸於日本也愕然失色復賴於日本矣嗚呼隣强竟勢間者爲强者所左右如韓國者亦難哉雖然使韓國爲韓國豈無其道也哉然而韓國當路者少達觀乏勇斷每一逢國難左顧右盻徒欲依隣强以謀苟安故聞俄國强大冠歐洲則心動焉見日本勃興如旭日則心傾焉聞淸國尨大如眠獅子他年富强不可測則復動其意徒事大附勢陽爲信賴陰懷狐疑如斯而其國獨立者天下未嘗有之也.</div><div style=\"text-align:justify;word-break:break-all;\">蓋韓國二千萬人中豈無達者也哉余嘗結交其士君子知有老練精達之人傑見有少壯有爲之人士而今則如此何也政治法制未完備人才不得其處君民不共利害上下不同喜憂故也若君民共利害上下同喜憂施敎育進人智勸殖産開富源破四色仕路擇用人才使人心不倦有所自恃則韓國富强可期而待而已矣今也世界文明列國環視之下誰能以兵强之故擅得侵略他國哉天道無親常與正義國雖小勿自畏人雖貧勿自侮唯顧正義如何耳國旣守正義上下協力則雖不養兵練武亦足以對峙列强矣蓋小國之所以强在守正義貧國之所以富在敎育殖産上下協力守正義施敎育勸殖産＜3＞是在今日實爲韓國之急務也嗚呼韓國官民僉君子欲謀其自主獨立而列於世界文明國則在蹈其爲文明國之軏道而莫敢或反其通義通法而已矣是<span style=\"color:#336666\" title=\"단체\">大韓自强會</span>之趣旨目的而月報則 本會言動之寫眞機關也遂記一言於卷端以代序文</div><div style=\"text-align:justify;word-break:break-all;\"><span style=\"color:#336666\" title=\"이름\">金陵</span><span style=\"color:#336666\" title=\"이름\">大垣丈夫</span></div><div style=\"text-align:justify;word-break:break-all;\"><span style=\"color:#336666\" title=\"이름\">南嵩山人</span>曰誰道日本之少文章哉此篇文字明確正大其組織極精緻極宏博至其論國家正義處尤切時病令人神動意踴下頂門之一針撞警世之大鐘讀者須三復玩繹焉＜4＞</div><div style=\"text-align:justify;word-break:break-all;\">＜1-4＞</div><br/></div></div><div class=\"cont_side\"><div class=\"csdan\"><strong><img alt=\"색인어\" src=\"/images/sub/txt_cinf0_t02.gif\"/></strong><div><b>이름\n",
              "\t\t\t\t:\n",
              "\t\t\t</b><a href=\"javascript:;\" style=\"cursor:default;\"><span style=\"color:#336666\" title=\"이름\">光武</span></a>,<a href=\"javascript:;\" style=\"cursor:default;\"><span style=\"color:#336666\" title=\"이름\">尹致昊</span></a>,<a href=\"javascript:;\" style=\"cursor:default;\"><span style=\"color:#336666\" title=\"이름\">南嶽居士</span></a>,<a href=\"javascript:;\" style=\"cursor:default;\"><span style=\"color:#336666\" title=\"이름\">李沂</span></a>,<a href=\"javascript:;\" style=\"cursor:default;\"><span style=\"color:#336666\" title=\"이름\">金陵</span></a>,<a href=\"javascript:;\" style=\"cursor:default;\"><span style=\"color:#336666\" title=\"이름\">大垣丈夫</span></a>,<a href=\"javascript:;\" style=\"cursor:default;\"><span style=\"color:#336666\" title=\"이름\">南嵩山人</span></a><br/><b>단체\n",
              "\t\t\t\t:\n",
              "\t\t\t</b><a href=\"javascript:;\" style=\"cursor:default;\"><span style=\"color:#336666\" title=\"단체\">自强會</span></a>,<a href=\"javascript:;\" style=\"cursor:default;\"><span style=\"color:#336666\" title=\"단체\">自强會</span></a>,<a href=\"javascript:;\" style=\"cursor:default;\"><span style=\"color:#336666\" title=\"단체\">大韓自强會</span></a><br/></div></div></div>\n",
              "<!-- END 본문상세 -->\n",
              "<!-- START 중간레벨 동적구성 리스트 출력-->\n",
              "<!-- END 중간레벨 동적구성 리스트 출력 -->\n",
              "<div class=\"cont_top\" id=\"cont_top\" style=\"display:block;\"><a href=\"#\"><img src=\"/images/button/btn_top.gif\" title=\"위로 이동\"/></a></div>\n",
              "</div>\n",
              "</div>\n",
              "<!-- footer -->\n",
              "<div id=\"footerWrap\">\n",
              "<div id=\"footer\">\n",
              "<div class=\"ft_info\">\n",
              "<ul>\n",
              "<li><a href=\"http://www.history.go.kr/contents/contentsPage.do?groupId=000000000571&amp;menuId=000000000572&amp;pageId=000000000211&amp;itemId=&amp;action=&amp;itemIndex=&amp;condition=&amp;keyword=&amp;category=&amp;totalCount=0&amp;page=1&amp;rowPerPage=10&amp;searchKeyword=\"><img src=\"/images/common/txt_ft_info01.gif\" title=\"개인정보처리방침\"/></a></li>\n",
              "<li><a href=\"/errorReport/errorReportList.do\"><img src=\"/images/common/txt_ft_info02.gif\" title=\"오류신고 확인\"/></a></li>\n",
              "</ul>\n",
              "<address>주소.13809 경기도 과천시 교육원로 86  |  Copyright © 국사편찬위원회 All Rights Reserved</address>\n",
              "</div>\n",
              "<div class=\"ft_sltArea\">\n",
              "<select class=\"ft_slt\" id=\"ft_slt\" title=\"관련사이트 바로가기\">\n",
              "<option value=\"subject\">관련사이트 바로가기</option>\n",
              "<option class=\"input_link\" style=\"height:50px;\" value=\"http://www.history.go.kr\">국사편찬위원회</option>\n",
              "<option class=\"input_link\" style=\"height:50px;\" value=\"http://archive.history.go.kr\">국사편찬위원회 전자사료관</option>\n",
              "<option class=\"input_link\" style=\"height:50px;\" value=\"http://www.koreanhistory.or.kr\">한국역사정보통합시스템</option>\n",
              "<option class=\"input_link\" style=\"height:50px;\" value=\"http://contents.history.go.kr\">우리역사넷</option>\n",
              "<!-- <option class=\"input_link\" value=\"http://contents.koreanhistory.or.kr\" style=\"height:50px;\">한국사콘텐츠</option> -->\n",
              "<option class=\"input_link\" style=\"height: 50px;\" value=\"http://thesaurus.history.go.kr\">한국역사용어시소러스</option>\n",
              "</select>\n",
              "</div>\n",
              "</div>\n",
              "</div>\n",
              "</div>\n",
              "<form action=\"/item/level.do\" id=\"searchCommand\" method=\"get\" name=\"searchCommand\">\n",
              "<input id=\"sort\" name=\"sort\" type=\"hidden\" value=\"levelId\"/>\n",
              "<input id=\"dir\" name=\"dir\" type=\"hidden\" value=\"ASC\"/>\n",
              "<input id=\"start\" name=\"start\" type=\"hidden\" value=\"-1\"/>\n",
              "<input id=\"limit\" name=\"limit\" type=\"hidden\" value=\"20\"/>\n",
              "<input id=\"page\" name=\"page\" type=\"hidden\" value=\"1\"/>\n",
              "<input id=\"pre_page\" name=\"pre_page\" type=\"hidden\" value=\"0\"/>\n",
              "<input id=\"setId\" name=\"setId\" type=\"hidden\" value=\"-1\"/>\n",
              "<input id=\"totalCount\" name=\"totalCount\" type=\"hidden\" value=\"0\"/>\n",
              "<input id=\"prevPage\" name=\"prevPage\" type=\"hidden\" value=\"0\"/>\n",
              "<input id=\"prevLimit\" name=\"prevLimit\" type=\"hidden\" value=\"\"/>\n",
              "<input id=\"itemId\" name=\"itemId\" type=\"hidden\" value=\"ma\"/>\n",
              "<input id=\"types\" name=\"types\" type=\"hidden\" value=\"\"/>\n",
              "<input id=\"synonym\" name=\"synonym\" type=\"hidden\" value=\"off\"/>\n",
              "<input id=\"chinessChar\" name=\"chinessChar\" type=\"hidden\" value=\"on\"/>\n",
              "<!-- <input type=\"hidden\" name=\"searchTermImages\" id=\"searchTermImages\"    value=\"\" /> -->\n",
              "<input id=\"brokerPagingInfo\" name=\"brokerPagingInfo\" type=\"hidden\" value=\"\"/>\n",
              "<input id=\"levelId\" name=\"levelId\" type=\"hidden\" value=\"ma_001_0010_0010\"/>\n",
              "</form>\n",
              "<form action=\"/item/level.do\" id=\"detailCommand\" method=\"get\" name=\"detailCommand\">\n",
              "<input id=\"sort\" name=\"sort\" type=\"hidden\" value=\"levelId\"/>\n",
              "<input id=\"dir\" name=\"dir\" type=\"hidden\" value=\"ASC\"/>\n",
              "<input id=\"start\" name=\"start\" type=\"hidden\" value=\"-1\"/>\n",
              "<input id=\"limit\" name=\"limit\" type=\"hidden\" value=\"20\"/>\n",
              "<input id=\"page\" name=\"page\" type=\"hidden\" value=\"1\"/>\n",
              "<input id=\"pre_page\" name=\"pre_page\" type=\"hidden\" value=\"0\"/>\n",
              "<input id=\"setId\" name=\"setId\" type=\"hidden\" value=\"-1\"/>\n",
              "<input id=\"totalCount\" name=\"totalCount\" type=\"hidden\" value=\"0\"/>\n",
              "<input id=\"prevPage\" name=\"prevPage\" type=\"hidden\" value=\"0\"/>\n",
              "<input id=\"prevLimit\" name=\"prevLimit\" type=\"hidden\" value=\"\"/>\n",
              "<input id=\"itemId\" name=\"itemId\" type=\"hidden\" value=\"ma\"/>\n",
              "<input id=\"types\" name=\"types\" type=\"hidden\" value=\"\"/>\n",
              "<input id=\"synonym\" name=\"synonym\" type=\"hidden\" value=\"off\"/>\n",
              "<input id=\"chinessChar\" name=\"chinessChar\" type=\"hidden\" value=\"on\"/>\n",
              "<input id=\"brokerPagingInfo\" name=\"brokerPagingInfo\" type=\"hidden\" value=\"\"/>\n",
              "<!--  <input type=\"hidden\" name=\"searchTermImages\" id=\"searchTermImages\"    value=\"\" /> -->\n",
              "<input id=\"levelId\" name=\"levelId\" type=\"hidden\" value=\"ma_001_0010_0010\"/>\n",
              "</form>\n",
              "<form action=\"/search/searchResult.do\" id=\"totalSearchForm\" method=\"get\">\n",
              "<input id=\"sort\" name=\"sort\" type=\"hidden\" value=\"levelId\"/>\n",
              "<input id=\"dir\" name=\"dir\" type=\"hidden\" value=\"ASC\"/>\n",
              "<input id=\"start\" name=\"start\" type=\"hidden\" value=\"-1\"/>\n",
              "<input id=\"limit\" name=\"limit\" type=\"hidden\" value=\"20\"/>\n",
              "<input id=\"page\" name=\"page\" type=\"hidden\" value=\"1\"/>\n",
              "<input id=\"pre_page\" name=\"pre_page\" type=\"hidden\" value=\"1\"/>\n",
              "<input id=\"synonym\" name=\"synonym\" type=\"hidden\" value=\"off\"/>\n",
              "<input id=\"chinessChar\" name=\"chinessChar\" type=\"hidden\" value=\"on\"/>\n",
              "<input id=\"searchTermImages\" name=\"searchTermImages\" type=\"hidden\"/>\n",
              "</form>\n",
              "<form action=\"/search/searchResultList.do\" id=\"itemSearchForm\" method=\"get\">\n",
              "<input id=\"sort\" name=\"sort\" type=\"hidden\" value=\"levelId\"/>\n",
              "<input id=\"dir\" name=\"dir\" type=\"hidden\" value=\"ASC\"/>\n",
              "<input id=\"limit\" name=\"limit\" type=\"hidden\" value=\"20\"/>\n",
              "<input id=\"page\" name=\"page\" type=\"hidden\" value=\"1\"/>\n",
              "<input id=\"pre_page\" name=\"pre_page\" type=\"hidden\" value=\"1\"/>\n",
              "<input id=\"setId\" name=\"setId\" type=\"hidden\" value=\"-1\"/>\n",
              "<input id=\"totalCount\" name=\"totalCount\" type=\"hidden\" value=\"0\"/>\n",
              "<input id=\"synonym\" name=\"synonym\" type=\"hidden\" value=\"off\"/>\n",
              "<input id=\"chinessChar\" name=\"chinessChar\" type=\"hidden\" value=\"on\"/>\n",
              "<input id=\"searchTermImages\" name=\"searchTermImages\" type=\"hidden\"/>\n",
              "<input id=\"start\" name=\"start\" type=\"hidden\" value=\"-1\"/>\n",
              "<input id=\"kristalProtocol\" name=\"kristalProtocol\" type=\"hidden\" value=\"\"/>\n",
              "<input id=\"itemId\" name=\"itemId\" type=\"hidden\" value=\"ma\"/>\n",
              "</form>\n",
              "<form action=\"/search/thesaurus.do\" id=\"thesaurusForm\" method=\"get\">\n",
              "<input id=\"searchword\" name=\"searchword\" type=\"hidden\" value=\"\"/>\n",
              "</form>\n",
              "<form action=\"/cate/saListRange.do\" id=\"saSearchCommand\" method=\"get\" name=\"saSearchCommand\">\n",
              "<input id=\"cate\" name=\"cate\" type=\"hidden\" value=\"\"/>\n",
              "<input id=\"dir\" name=\"dir\" type=\"hidden\" value=\"ASC\"/>\n",
              "<input id=\"start\" name=\"start\" type=\"hidden\" value=\"-1\"/>\n",
              "<input id=\"limit\" name=\"limit\" type=\"hidden\" value=\"20\"/>\n",
              "<input id=\"page\" name=\"page\" type=\"hidden\" value=\"1\"/>\n",
              "<input id=\"setId\" name=\"setId\" type=\"hidden\" value=\"-1\"/>\n",
              "<input id=\"firstTag\" name=\"firstTag\" type=\"hidden\" value=\"\"/>\n",
              "<input id=\"secondTag\" name=\"secondTag\" type=\"hidden\" value=\"\"/>\n",
              "<input id=\"prevPage\" name=\"prevPage\" type=\"hidden\" value=\"0\"/>\n",
              "<input id=\"prevLimit\" name=\"prevLimit\" type=\"hidden\" value=\"\"/>\n",
              "<input id=\"itemId\" name=\"itemId\" type=\"hidden\" value=\"ma\"/>\n",
              "<input id=\"types\" name=\"types\" type=\"hidden\" value=\"\"/>\n",
              "<input id=\"synonym\" name=\"synonym\" type=\"hidden\" value=\"off\"/>\n",
              "<input id=\"chinessChar\" name=\"chinessChar\" type=\"hidden\" value=\"on\"/>\n",
              "<!--  <input type=\"hidden\" name=\"searchTermImages\" id=\"searchTermImages\"    value=\"\" /> -->\n",
              "</form>\n",
              "</body>\n",
              "</html>"
            ]
          },
          "execution_count": 21,
          "metadata": {},
          "output_type": "execute_result"
        }
      ],
      "source": [
        "# Parse the HTML document\n",
        "soup = BeautifulSoup(response.content, 'lxml')\n",
        "soup"
      ]
    },
    {
      "cell_type": "code",
      "execution_count": 22,
      "metadata": {
        "id": "GPw7JT0aT0Xl"
      },
      "outputs": [
        {
          "data": {
            "text/plain": [
              "<div class=\"cont_view\"><div class=\"dl_data_pru\"><table><colgroup><col width=\"20%\"/><col width=\"auto\"/></colgroup><tbody><tr><th>잡지명</th><td>대한자강회월보 제1호\n",
              "\t\t\t\t\t\t\t \n",
              "\t\t\t\t\t\t\t</td></tr><tr><th>발행일</th><td>1906년 07월 31일\n",
              "\t\t\t\t\t\t\t \n",
              "\t\t\t\t\t\t\t</td></tr><tr><th>기사제목</th><td>大韓自强會月報序［三編］  \n",
              "\t\t\t\t\t\t\t</td></tr><tr><th>기사형태</th><td>논설  \n",
              "\t\t\t\t\t\t\t</td></tr></tbody></table></div><div id=\"cont_view\" style=\"margin-left:20px;\"><div style=\"text-align:justify;word-break:break-all;\"><b>大韓自强會月報序［三編］</b><br/></div><div style=\"text-align:justify;word-break:break-all;\">日에 有客이 促膝附耳고 叩之于余 曰 <span style=\"color:#336666\" title=\"단체\">自强會</span>之名稱과 及 其 趣旨 業己公佈大世矣라. 固不容再問이어니와 必其裏情이 或有니 願一聞之노라. 余ㅣ 曰 惡라 是何言也오 君之 所謂 裏情은 表面으로 稱云自强이라고 其 內容은 浮沈渾敦야 阿私作俑을 是云者歟아 抑或外假華名고 內挾僞雜야 以營營於肥已之私 是云者歟아 抑 或 形式上으로 腐敗 攻擊되 實地 情衷은 徒藉美名고 終無事行之可能結局者 是云歟아 於 此三者에 有一焉이면 其 已强者도 必衰弱乃己어늘 況如今萎 微懦弱之吾人이 奚暇에 有自强之希望哉아 本會 趣旨 及 名稱은 表裏 均一야 無他裏情은 斷然靡間이어늘 今 君之問이 有此訝點니 是 謂自强之必無其力而恐有有初鮮終之歎歟아 此ㅣ 吾國 所以蒙未開之誚也라 君如未信커던 請訂諸本會之月報라 此 卽 本會之機關 精神也니 於是乎에 其可觀乎져 客이 唯唯曰 果然 乎哉아.</div><div style=\"text-align:justify;word-break:break-all;\"><span style=\"color:#336666\" title=\"이름\">光武</span> 十年 七月 日 會長 <span style=\"color:#336666\" title=\"이름\">尹致昊</span></div><div style=\"text-align:justify;word-break:break-all;\">●會之有報 何歟오 曰 使會員讀之也니라 其 使 會員讀之 何歟오 曰 欲其求自强之道也니라. 其 不許非會員讀之 何歟오 曰 否라 讀之 自會員始오 非不許非會員也라. 苟求自强之道면 則 普天下仁人君子ㅣ 皆將讀之니 而況爲我韓人者哉리오 然我韓之委靡至＜1＞此 皆尙文之罪也어늘 而今又使之讀書 何歟오 曰 書能令人弱이오 亦能令人强이니 愚請因是而痛論之호리라. 夫黃老之談이 足以亡晋氏오 奉天之詔ㅣ 足以復唐室니 書之感人이 其效固不淺尠矣오 且自古俊傑之士ㅣ 必要識時務니 時務者 非他也라 吾旣生今日之世니 則 當服今日之衣고 當喫今日之飯고 當讀今日之書고 當圖今日之强也라. 近見迂儒輩ㅣ 每以古昔稱道나 然不知世殊者 人亦殊고 人殊者 事亦殊고 事殊者 書亦殊니 唐虞三代之書ㅣ 果盡의 則不必更有秦漢書오 秦漢書ㅣ 果盡의 則不必更有唐宋書오 唐宋書ㅣ 果盡의 則不必更有明淸書오 明淸書ㅣ 果盡矣 則不必更有泰西書오 泰西書ㅣ 果盡의 則不必更有<span style=\"color:#336666\" title=\"단체\">自强會</span>月報書也라 夫然則會報之行이 是豈得己者耶아 吾已勉吾自强고 而又復勉公者 誠恐志不一而力分 故耳라 吾己自强고 公又復自强이면 則是得二人之自强也오 公이 又復勉公之傍人고 公之傍人이 又 復勉其傍人이면 則是得四人之自强也니 由此而至於得二千萬口之自强이면 則國家之政治 可以改善이오 世界之羈絆을 可以出脫이니 然則 諸公之讀會報ㅣ 亦豈得己者耶아 嗚呼라 鷄旣鳴의오 東方이 旣白의라 其以兩手로 擦開睡餘之眼而讀之면 非惟吾之幸이라 亦 諸公之幸也오 非惟諸公之幸이라 亦 全國之幸也라 노라.＜2＞</div><div style=\"text-align:justify;word-break:break-all;\"><span style=\"color:#336666\" title=\"이름\">南嶽居士</span><span style=\"color:#336666\" title=\"이름\">李沂</span> 識</div><div style=\"text-align:justify;word-break:break-all;\">●韓國介在乎日淸俄三國間國弱小而民未開當初受淸國壓制國勢日萎苶日淸交戰後雖脫 淸國羈絆不堪於日本警醒竊欲依俄國以避之日俄開仗俄國連敗東亞之大勢將歸於日本也愕然失色復賴於日本矣嗚呼隣强竟勢間者爲强者所左右如韓國者亦難哉雖然使韓國爲韓國豈無其道也哉然而韓國當路者少達觀乏勇斷每一逢國難左顧右盻徒欲依隣强以謀苟安故聞俄國强大冠歐洲則心動焉見日本勃興如旭日則心傾焉聞淸國尨大如眠獅子他年富强不可測則復動其意徒事大附勢陽爲信賴陰懷狐疑如斯而其國獨立者天下未嘗有之也.</div><div style=\"text-align:justify;word-break:break-all;\">蓋韓國二千萬人中豈無達者也哉余嘗結交其士君子知有老練精達之人傑見有少壯有爲之人士而今則如此何也政治法制未完備人才不得其處君民不共利害上下不同喜憂故也若君民共利害上下同喜憂施敎育進人智勸殖産開富源破四色仕路擇用人才使人心不倦有所自恃則韓國富强可期而待而已矣今也世界文明列國環視之下誰能以兵强之故擅得侵略他國哉天道無親常與正義國雖小勿自畏人雖貧勿自侮唯顧正義如何耳國旣守正義上下協力則雖不養兵練武亦足以對峙列强矣蓋小國之所以强在守正義貧國之所以富在敎育殖産上下協力守正義施敎育勸殖産＜3＞是在今日實爲韓國之急務也嗚呼韓國官民僉君子欲謀其自主獨立而列於世界文明國則在蹈其爲文明國之軏道而莫敢或反其通義通法而已矣是<span style=\"color:#336666\" title=\"단체\">大韓自强會</span>之趣旨目的而月報則 本會言動之寫眞機關也遂記一言於卷端以代序文</div><div style=\"text-align:justify;word-break:break-all;\"><span style=\"color:#336666\" title=\"이름\">金陵</span><span style=\"color:#336666\" title=\"이름\">大垣丈夫</span></div><div style=\"text-align:justify;word-break:break-all;\"><span style=\"color:#336666\" title=\"이름\">南嵩山人</span>曰誰道日本之少文章哉此篇文字明確正大其組織極精緻極宏博至其論國家正義處尤切時病令人神動意踴下頂門之一針撞警世之大鐘讀者須三復玩繹焉＜4＞</div><div style=\"text-align:justify;word-break:break-all;\">＜1-4＞</div><br/></div></div>"
            ]
          },
          "execution_count": 22,
          "metadata": {},
          "output_type": "execute_result"
        }
      ],
      "source": [
        "main = soup.find(class_=\"cont_view\")\n",
        "main"
      ]
    },
    {
      "cell_type": "markdown",
      "metadata": {
        "id": "Ko8Bx7TnUKKm"
      },
      "source": [
        "### 메타 데이터"
      ]
    },
    {
      "cell_type": "code",
      "execution_count": 23,
      "metadata": {
        "colab": {
          "base_uri": "https://localhost:8080/"
        },
        "id": "QM8CPdo_Rl14",
        "outputId": "5a581e9f-aad5-459d-ad2c-a2438fdd0216"
      },
      "outputs": [
        {
          "data": {
            "text/plain": [
              "{'잡지명': '대한자강회월보 제1호',\n",
              " '발행일': '1906년 07월\\xa031일',\n",
              " '기사제목': '大韓自强會月報序［三編］',\n",
              " '기사형태': '논설'}"
            ]
          },
          "execution_count": 23,
          "metadata": {},
          "output_type": "execute_result"
        }
      ],
      "source": [
        "# Find the table element\n",
        "table = main.find('table')\n",
        "\n",
        "# Extract the data from the table\n",
        "metadata = {}\n",
        "for row in table.find_all('tr'):\n",
        "    key = row.th.text\n",
        "    value = row.td.text.strip()  # Remove leading/trailing whitespace\n",
        "    metadata[key] = value\n",
        "metadata"
      ]
    },
    {
      "cell_type": "markdown",
      "metadata": {
        "id": "Vl-iEOPXUO2s"
      },
      "source": [
        "### 본문"
      ]
    },
    {
      "cell_type": "code",
      "execution_count": null,
      "metadata": {
        "colab": {
          "base_uri": "https://localhost:8080/"
        },
        "id": "j0SjQG2SRQpD",
        "outputId": "d6617684-6855-44cb-d041-b974cb2ec485"
      },
      "outputs": [
        {
          "data": {
            "text/plain": [
              "<div id=\"cont_view\" style=\"margin-left:20px;\"><div style=\"text-align:justify;word-break:break-all;\"><b>大韓自强會月報序［三編］</b><br/></div><div style=\"text-align:justify;word-break:break-all;\">日에 有客이 促膝附耳고 叩之于余 曰 <span style=\"color:#336666\" title=\"단체\">自强會</span>之名稱과 及 其 趣旨 業己公佈大世矣라. 固不容再問이어니와 必其裏情이 或有니 願一聞之노라. 余ㅣ 曰 惡라 是何言也오 君之 所謂 裏情은 表面으로 稱云自强이라고 其 內容은 浮沈渾敦야 阿私作俑을 是云者歟아 抑或外假華名고 內挾僞雜야 以營營於肥已之私 是云者歟아 抑 或 形式上으로 腐敗 攻擊되 實地 情衷은 徒藉美名고 終無事行之可能結局者 是云歟아 於 此三者에 有一焉이면 其 已强者도 必衰弱乃己어늘 況如今萎 微懦弱之吾人이 奚暇에 有自强之希望哉아 本會 趣旨 及 名稱은 表裏 均一야 無他裏情은 斷然靡間이어늘 今 君之問이 有此訝點니 是 謂自强之必無其力而恐有有初鮮終之歎歟아 此ㅣ 吾國 所以蒙未開之誚也라 君如未信커던 請訂諸本會之月報라 此 卽 本會之機關 精神也니 於是乎에 其可觀乎져 客이 唯唯曰 果然 乎哉아.</div><div style=\"text-align:justify;word-break:break-all;\"><span style=\"color:#336666\" title=\"이름\">光武</span> 十年 七月 日 會長 <span style=\"color:#336666\" title=\"이름\">尹致昊</span></div><div style=\"text-align:justify;word-break:break-all;\">●會之有報 何歟오 曰 使會員讀之也니라 其 使 會員讀之 何歟오 曰 欲其求自强之道也니라. 其 不許非會員讀之 何歟오 曰 否라 讀之 自會員始오 非不許非會員也라. 苟求自强之道면 則 普天下仁人君子ㅣ 皆將讀之니 而況爲我韓人者哉리오 然我韓之委靡至＜1＞此 皆尙文之罪也어늘 而今又使之讀書 何歟오 曰 書能令人弱이오 亦能令人强이니 愚請因是而痛論之호리라. 夫黃老之談이 足以亡晋氏오 奉天之詔ㅣ 足以復唐室니 書之感人이 其效固不淺尠矣오 且自古俊傑之士ㅣ 必要識時務니 時務者 非他也라 吾旣生今日之世니 則 當服今日之衣고 當喫今日之飯고 當讀今日之書고 當圖今日之强也라. 近見迂儒輩ㅣ 每以古昔稱道나 然不知世殊者 人亦殊고 人殊者 事亦殊고 事殊者 書亦殊니 唐虞三代之書ㅣ 果盡의 則不必更有秦漢書오 秦漢書ㅣ 果盡의 則不必更有唐宋書오 唐宋書ㅣ 果盡의 則不必更有明淸書오 明淸書ㅣ 果盡矣 則不必更有泰西書오 泰西書ㅣ 果盡의 則不必更有<span style=\"color:#336666\" title=\"단체\">自强會</span>月報書也라 夫然則會報之行이 是豈得己者耶아 吾已勉吾自强고 而又復勉公者 誠恐志不一而力分 故耳라 吾己自强고 公又復自强이면 則是得二人之自强也오 公이 又復勉公之傍人고 公之傍人이 又 復勉其傍人이면 則是得四人之自强也니 由此而至於得二千萬口之自强이면 則國家之政治 可以改善이오 世界之羈絆을 可以出脫이니 然則 諸公之讀會報ㅣ 亦豈得己者耶아 嗚呼라 鷄旣鳴의오 東方이 旣白의라 其以兩手로 擦開睡餘之眼而讀之면 非惟吾之幸이라 亦 諸公之幸也오 非惟諸公之幸이라 亦 全國之幸也라 노라.＜2＞</div><div style=\"text-align:justify;word-break:break-all;\"><span style=\"color:#336666\" title=\"이름\">南嶽居士</span><span style=\"color:#336666\" title=\"이름\">李沂</span> 識</div><div style=\"text-align:justify;word-break:break-all;\">●韓國介在乎日淸俄三國間國弱小而民未開當初受淸國壓制國勢日萎苶日淸交戰後雖脫 淸國羈絆不堪於日本警醒竊欲依俄國以避之日俄開仗俄國連敗東亞之大勢將歸於日本也愕然失色復賴於日本矣嗚呼隣强竟勢間者爲强者所左右如韓國者亦難哉雖然使韓國爲韓國豈無其道也哉然而韓國當路者少達觀乏勇斷每一逢國難左顧右盻徒欲依隣强以謀苟安故聞俄國强大冠歐洲則心動焉見日本勃興如旭日則心傾焉聞淸國尨大如眠獅子他年富强不可測則復動其意徒事大附勢陽爲信賴陰懷狐疑如斯而其國獨立者天下未嘗有之也.</div><div style=\"text-align:justify;word-break:break-all;\">蓋韓國二千萬人中豈無達者也哉余嘗結交其士君子知有老練精達之人傑見有少壯有爲之人士而今則如此何也政治法制未完備人才不得其處君民不共利害上下不同喜憂故也若君民共利害上下同喜憂施敎育進人智勸殖産開富源破四色仕路擇用人才使人心不倦有所自恃則韓國富强可期而待而已矣今也世界文明列國環視之下誰能以兵强之故擅得侵略他國哉天道無親常與正義國雖小勿自畏人雖貧勿自侮唯顧正義如何耳國旣守正義上下協力則雖不養兵練武亦足以對峙列强矣蓋小國之所以强在守正義貧國之所以富在敎育殖産上下協力守正義施敎育勸殖産＜3＞是在今日實爲韓國之急務也嗚呼韓國官民僉君子欲謀其自主獨立而列於世界文明國則在蹈其爲文明國之軏道而莫敢或反其通義通法而已矣是<span style=\"color:#336666\" title=\"단체\">大韓自强會</span>之趣旨目的而月報則 本會言動之寫眞機關也遂記一言於卷端以代序文</div><div style=\"text-align:justify;word-break:break-all;\"><span style=\"color:#336666\" title=\"이름\">金陵</span><span style=\"color:#336666\" title=\"이름\">大垣丈夫</span></div><div style=\"text-align:justify;word-break:break-all;\"><span style=\"color:#336666\" title=\"이름\">南嵩山人</span>曰誰道日本之少文章哉此篇文字明確正大其組織極精緻極宏博至其論國家正義處尤切時病令人神動意踴下頂門之一針撞警世之大鐘讀者須三復玩繹焉＜4＞</div><div style=\"text-align:justify;word-break:break-all;\">＜1-4＞</div><br/></div>"
            ]
          },
          "execution_count": 41,
          "metadata": {},
          "output_type": "execute_result"
        }
      ],
      "source": [
        "main.find(id=\"cont_view\")"
      ]
    },
    {
      "cell_type": "code",
      "execution_count": null,
      "metadata": {
        "id": "3PeKLnLbUzmE"
      },
      "outputs": [],
      "source": [
        "paragraphs = main.find(id=\"cont_view\").find_all('div')"
      ]
    },
    {
      "cell_type": "code",
      "execution_count": null,
      "metadata": {
        "colab": {
          "base_uri": "https://localhost:8080/"
        },
        "id": "SI3TBSPSW-bm",
        "outputId": "f2a33fa5-7aa0-48fd-8e60-360bc47c0387"
      },
      "outputs": [
        {
          "data": {
            "text/plain": [
              "['大韓自强會月報序［三編］',\n",
              " '日에 有客이 促膝附耳\\uf537고 叩之于余 曰 自强會之名稱과 及 其 趣旨\\ue285 業己公佈大世矣라. 固不容再問이어니와 必其裏情이 或有\\uf537니 願一聞之\\uf537노라. 余ㅣ 曰 惡라 是何言也오 君之 所謂 裏情은 表面으로 稱云自强이라\\uf537고 其 內容은 浮沈渾敦\\uf537야 阿私作俑을 是云者歟아 抑或外假華名\\uf537고 內挾僞雜\\uf537야 以營營於肥已之私\\ue470 是云者歟아 抑 或 形式上으로 腐敗\\ue470 攻擊\\uf537되 實地 情衷은 徒藉美名\\uf537고 終無事行之可能結局者\\ue470 是云歟아 於 此三者에 有一焉이면 其 已强者도 必衰弱乃己어늘 況如今萎 微懦弱之吾人이 奚暇에 有自强之希望哉아 本會 趣旨 及 名稱은 表裏 均一\\uf537야 無他裏情은 斷然靡間이어늘 今 君之問이 有此訝點\\uf537니 是\\ue285 謂自强之必無其力而恐有有初鮮終之歎歟아 此ㅣ 吾國 所以蒙未開之誚也라 君如未信커던 請訂諸本會之月報\\uf537라 此 卽 本會之機關 精神也니 於是乎에 其可觀乎\\ue0cd져 客이 唯唯曰 果然 乎哉아.',\n",
              " '光武 十年 七月 日 會長 尹致昊',\n",
              " '●會之有報\\ue285 何歟오 曰 使會員讀之也니라 其 使 會員讀之\\ue285 何歟오 曰 欲其求自强之道也니라. 其 不許非會員讀之\\ue285 何歟오 曰 否라 讀之\\ue470 自會員始오 非不許非會員也라. 苟求自强之道면 則 普天下仁人君子ㅣ 皆將讀之니 而況爲我韓人者哉리오 然我韓之委靡至＜1＞此\\ue285 皆尙文之罪也어늘 而今又使之讀書\\ue285 何歟오 曰 書能令人弱이오 亦能令人强이니 愚請因是而痛論之호리라. 夫黃老之談이 足以亡晋氏오 奉天之詔ㅣ 足以復唐室\\uf537니 書之感人이 其效固不淺尠矣오 且自古俊傑之士ㅣ 必要識時務니 時務者\\ue285 非他也라 吾旣生今日之世\\uf537니 則 當服今日之衣\\uf537고 當喫今日之飯\\uf537고 當讀今日之書\\uf537고 當圖今日之强也라. 近見迂儒輩ㅣ 每以古昔稱道나 然不知世殊者\\ue285 人亦殊\\uf537고 人殊者\\ue285 事亦殊\\uf537고 事殊者\\ue285 書亦殊\\uf537니 唐虞三代之書ㅣ 果盡의\\ue3aa 則不必更有秦漢書오 秦漢書ㅣ 果盡의\\ue3aa 則不必更有唐宋書오 唐宋書ㅣ 果盡의\\ue3aa 則不必更有明淸書오 明淸書ㅣ 果盡矣\\ue3aa 則不必更有泰西書오 泰西書ㅣ 果盡의\\ue3aa 則不必更有自强會月報書也라 夫然則會報之行이 是豈得己者耶아 吾已勉吾自强\\uf537고 而又復勉公者\\ue285 誠恐志不一而力分 故耳라 吾己自强\\uf537고 公又復自强이면 則是得二人之自强也오 公이 又復勉公之傍人\\uf537고 公之傍人이 又 復勉其傍人이면 則是得四人之自强也니 由此而至於得二千萬口之自强이면 則國家之政治\\ue470 可以改善이오 世界之羈絆을 可以出脫이니 然則 諸公之讀會報ㅣ 亦豈得己者耶아 嗚呼라 鷄旣鳴의오 東方이 旣白의라 其以兩手로 擦開睡餘之眼而讀之면 非惟吾之幸이라 亦 諸公之幸也오 非惟諸公之幸이라 亦 全國之幸也라 \\uf537노라.＜2＞',\n",
              " '南嶽居士李沂 識',\n",
              " '●韓國介在乎日淸俄三國間國弱小而民未開當初受淸國壓制國勢日萎苶日淸交戰後雖脫 淸國羈絆不堪於日本警醒竊欲依俄國以避之日俄開仗俄國連敗東亞之大勢將歸於日本也愕然失色復賴於日本矣嗚呼隣强竟勢間者爲强者所左右如韓國者亦難哉雖然使韓國爲韓國豈無其道也哉然而韓國當路者少達觀乏勇斷每一逢國難左顧右盻徒欲依隣强以謀苟安故聞俄國强大冠歐洲則心動焉見日本勃興如旭日則心傾焉聞淸國尨大如眠獅子他年富强不可測則復動其意徒事大附勢陽爲信賴陰懷狐疑如斯而其國獨立者天下未嘗有之也.',\n",
              " '蓋韓國二千萬人中豈無達者也哉余嘗結交其士君子知有老練精達之人傑見有少壯有爲之人士而今則如此何也政治法制未完備人才不得其處君民不共利害上下不同喜憂故也若君民共利害上下同喜憂施敎育進人智勸殖産開富源破四色仕路擇用人才使人心不倦有所自恃則韓國富强可期而待而已矣今也世界文明列國環視之下誰能以兵强之故擅得侵略他國哉天道無親常與正義國雖小勿自畏人雖貧勿自侮唯顧正義如何耳國旣守正義上下協力則雖不養兵練武亦足以對峙列强矣蓋小國之所以强在守正義貧國之所以富在敎育殖産上下協力守正義施敎育勸殖産＜3＞是在今日實爲韓國之急務也嗚呼韓國官民僉君子欲謀其自主獨立而列於世界文明國則在蹈其爲文明國之軏道而莫敢或反其通義通法而已矣是大韓自强會之趣旨目的而月報則 本會言動之寫眞機關也遂記一言於卷端以代序文',\n",
              " '金陵大垣丈夫',\n",
              " '南嵩山人曰誰道日本之少文章哉此篇文字明確正大其組織極精緻極宏博至其論國家正義處尤切時病令人神動意踴下頂門之一針撞警世之大鐘讀者須三復玩繹焉＜4＞',\n",
              " '＜1-4＞']"
            ]
          },
          "execution_count": 47,
          "metadata": {},
          "output_type": "execute_result"
        }
      ],
      "source": [
        "[p.text.strip() for p in paragraphs]"
      ]
    },
    {
      "cell_type": "markdown",
      "metadata": {
        "id": "i4QZr1b9Y0ru"
      },
      "source": [
        "### 색인어"
      ]
    },
    {
      "cell_type": "code",
      "execution_count": null,
      "metadata": {
        "colab": {
          "base_uri": "https://localhost:8080/"
        },
        "id": "jY9GIF8AY1i2",
        "outputId": "d76a4090-e5c6-4336-a81e-f32b8274276a"
      },
      "outputs": [
        {
          "data": {
            "text/plain": [
              "<div class=\"cont_side\"><div class=\"csdan\"><strong><img alt=\"색인어\" src=\"/images/sub/txt_cinf0_t02.gif\"/></strong><div><b>이름\n",
              "\t\t\t\t:\n",
              "\t\t\t</b><a href=\"javascript:;\" style=\"cursor:default;\"><span style=\"color:#336666\" title=\"이름\">光武</span></a>,<a href=\"javascript:;\" style=\"cursor:default;\"><span style=\"color:#336666\" title=\"이름\">尹致昊</span></a>,<a href=\"javascript:;\" style=\"cursor:default;\"><span style=\"color:#336666\" title=\"이름\">南嶽居士</span></a>,<a href=\"javascript:;\" style=\"cursor:default;\"><span style=\"color:#336666\" title=\"이름\">李沂</span></a>,<a href=\"javascript:;\" style=\"cursor:default;\"><span style=\"color:#336666\" title=\"이름\">金陵</span></a>,<a href=\"javascript:;\" style=\"cursor:default;\"><span style=\"color:#336666\" title=\"이름\">大垣丈夫</span></a>,<a href=\"javascript:;\" style=\"cursor:default;\"><span style=\"color:#336666\" title=\"이름\">南嵩山人</span></a><br/><b>단체\n",
              "\t\t\t\t:\n",
              "\t\t\t</b><a href=\"javascript:;\" style=\"cursor:default;\"><span style=\"color:#336666\" title=\"단체\">自强會</span></a>,<a href=\"javascript:;\" style=\"cursor:default;\"><span style=\"color:#336666\" title=\"단체\">自强會</span></a>,<a href=\"javascript:;\" style=\"cursor:default;\"><span style=\"color:#336666\" title=\"단체\">大韓自强會</span></a><br/></div></div></div>"
            ]
          },
          "execution_count": 49,
          "metadata": {},
          "output_type": "execute_result"
        }
      ],
      "source": [
        "index = soup.find(class_=\"cont_side\")\n",
        "index"
      ]
    },
    {
      "cell_type": "code",
      "execution_count": null,
      "metadata": {
        "colab": {
          "base_uri": "https://localhost:8080/"
        },
        "id": "lStxkcufalkh",
        "outputId": "5413165c-de1d-40a9-bf7c-71f9eb34049d"
      },
      "outputs": [
        {
          "name": "stdout",
          "output_type": "stream",
          "text": [
            "{'이름': ['光武', '尹致昊', '南嶽居士', '李沂', '金陵', '大垣丈夫', '南嵩山人'], '단체': ['自强會', '自强會', '大韓自强會']}\n"
          ]
        }
      ],
      "source": [
        "# Find all a elements with the title attribute\n",
        "links = index.find_all('a')\n",
        "\n",
        "# Create a dictionary with title as key and text as value\n",
        "result = {}\n",
        "for link in links:\n",
        "    title = link.span['title']\n",
        "    text = link.span.text\n",
        "    if title not in result:\n",
        "        result[title] = []\n",
        "    result[title].append(text)\n",
        "\n",
        "# Print the dictionary\n",
        "print(result)"
      ]
    },
    {
      "cell_type": "markdown",
      "metadata": {
        "id": "ghOZ8BiIa-RK"
      },
      "source": [
        "### 함수화"
      ]
    },
    {
      "cell_type": "code",
      "execution_count": 2,
      "metadata": {
        "id": "ZdHQsw62ny_p"
      },
      "outputs": [],
      "source": [
        "def fill_missing_keys_with_none(dict, keys):\n",
        "  \"\"\"\n",
        "  Fills missing keys in a dictionary with None.\n",
        "\n",
        "  Args:\n",
        "    dict: The dictionary to fill.\n",
        "    keys: A list of keys to check.\n",
        "\n",
        "  Returns:\n",
        "    A new dictionary with all keys filled with None if they are missing.\n",
        "  \"\"\"\n",
        "\n",
        "  new_dict = {}\n",
        "  for key in keys:\n",
        "    new_dict[key] = dict.get(key, None)\n",
        "\n",
        "  return new_dict"
      ]
    },
    {
      "cell_type": "code",
      "execution_count": 29,
      "metadata": {
        "id": "SjFZhyxHa_a-"
      },
      "outputs": [],
      "source": [
        "def extract_data(url):\n",
        "  data ={}\n",
        "  data['url'] = url\n",
        "  # Make a request using the session object\n",
        "  session = requests.Session()\n",
        "  session.verify = False\n",
        "  response = session.get(url)\n",
        "  soup = BeautifulSoup(response.content, 'lxml')\n",
        "  main = soup.find(class_=\"cont_view\")\n",
        "\n",
        "  #메타 정보\n",
        "  table = main.find('table')\n",
        "  for row in table.find_all('tr'):\n",
        "      key = row.th.text\n",
        "      value = row.td.text.strip()  # Remove leading/trailing whitespace\n",
        "      data[key] = value\n",
        "  data = fill_missing_keys_with_none(data,['url','잡지명','발행일','기사제목','필자','기사형태'])\n",
        "  \n",
        "  #본문\n",
        "  paragraphs = main.find(id=\"cont_view\").find_all('div')\n",
        "  data['paragraphs'] = [p.text.strip() for p in paragraphs]\n",
        "\n",
        "  #색인어\n",
        "  try:\n",
        "    links = soup.find(class_=\"cont_side\").find_all('a')\n",
        "    idx_dict={}\n",
        "    for link in links:\n",
        "        title = link.span['title']\n",
        "        text = link.span.text\n",
        "        if title not in idx_dict:\n",
        "            idx_dict[title] = []\n",
        "        idx_dict[title].append(text)\n",
        "    # 없는 색인어에 None 추가\n",
        "    idx_dict = fill_missing_keys_with_none(idx_dict,['이름','지명','단체','관서','기타'])\n",
        "    data.update(idx_dict)\n",
        "  except AttributeError:\n",
        "    # print('색인어 없음')\n",
        "    idx_dict = {'이름':None,'지명':None,'단체':None,'관서':None,'기타':None}\n",
        "    data.update(idx_dict)\n",
        "  return data"
      ]
    },
    {
      "cell_type": "markdown",
      "metadata": {
        "id": "-_s--ONDpuQn"
      },
      "source": [
        "### 자동 수집\n",
        "1번(대한자강회월보)부터 95번(호남평론)까지"
      ]
    },
    {
      "cell_type": "code",
      "execution_count": 33,
      "metadata": {
        "colab": {
          "base_uri": "https://localhost:8080/",
          "height": 465,
          "referenced_widgets": [
            "f0d426ede3cd48188366868530ec6f26",
            "0483ac7b9331441c87990b8891fdafed",
            "a80c262e51f346efb096bb6407c88052",
            "5cb8df32c57b43da836c29bdc42257ef",
            "f63c6c4eeaf94712b053581bf94e6c60",
            "a818eed066ee433a909949ec4ccc870a",
            "ff7a7b08836e4102b2ed4bebb150e756",
            "e3aa8678c17e4c728294f18276c46576",
            "ccd7463449784ca3a1bce4928cc64fcf",
            "95fc1b554d364df99943808cc9b58a35",
            "bad99d6833f640d2a63a24c817cbce70"
          ]
        },
        "id": "wKv38-_lpwD5",
        "outputId": "69f9e269-eaba-4338-dcd4-a6599d0220f8"
      },
      "outputs": [
        {
          "name": "stdout",
          "output_type": "stream",
          "text": [
            "1 번째 책 수집\n"
          ]
        },
        {
          "data": {
            "application/vnd.jupyter.widget-view+json": {
              "model_id": "f9f90d117abf494480782e53f2825dab",
              "version_major": 2,
              "version_minor": 0
            },
            "text/plain": [
              "  0%|          | 0/50 [00:00<?, ?it/s]"
            ]
          },
          "metadata": {},
          "output_type": "display_data"
        },
        {
          "name": "stdout",
          "output_type": "stream",
          "text": [
            "2 번째 책 수집\n"
          ]
        },
        {
          "data": {
            "application/vnd.jupyter.widget-view+json": {
              "model_id": "168ea9732d9b48e2aa0d606b0399e481",
              "version_major": 2,
              "version_minor": 0
            },
            "text/plain": [
              "  0%|          | 0/50 [00:00<?, ?it/s]"
            ]
          },
          "metadata": {},
          "output_type": "display_data"
        },
        {
          "name": "stdout",
          "output_type": "stream",
          "text": [
            "3 번째 책 수집\n"
          ]
        },
        {
          "data": {
            "application/vnd.jupyter.widget-view+json": {
              "model_id": "2be619dc14d34b49b9300e48f114fe26",
              "version_major": 2,
              "version_minor": 0
            },
            "text/plain": [
              "  0%|          | 0/50 [00:00<?, ?it/s]"
            ]
          },
          "metadata": {},
          "output_type": "display_data"
        },
        {
          "name": "stdout",
          "output_type": "stream",
          "text": [
            "4 번째 책 수집\n"
          ]
        },
        {
          "data": {
            "application/vnd.jupyter.widget-view+json": {
              "model_id": "81faa89c1b0b45f585b5b2894fe6a57a",
              "version_major": 2,
              "version_minor": 0
            },
            "text/plain": [
              "  0%|          | 0/50 [00:00<?, ?it/s]"
            ]
          },
          "metadata": {},
          "output_type": "display_data"
        },
        {
          "name": "stdout",
          "output_type": "stream",
          "text": [
            "5 번째 책 수집\n"
          ]
        },
        {
          "data": {
            "application/vnd.jupyter.widget-view+json": {
              "model_id": "41d53ec6c5e8414aa20a7da7e7588a2f",
              "version_major": 2,
              "version_minor": 0
            },
            "text/plain": [
              "  0%|          | 0/50 [00:00<?, ?it/s]"
            ]
          },
          "metadata": {},
          "output_type": "display_data"
        },
        {
          "name": "stdout",
          "output_type": "stream",
          "text": [
            "6 번째 책 수집\n"
          ]
        },
        {
          "data": {
            "application/vnd.jupyter.widget-view+json": {
              "model_id": "c425240f081e45e8bbd4a2b3a981b89a",
              "version_major": 2,
              "version_minor": 0
            },
            "text/plain": [
              "  0%|          | 0/50 [00:00<?, ?it/s]"
            ]
          },
          "metadata": {},
          "output_type": "display_data"
        },
        {
          "name": "stdout",
          "output_type": "stream",
          "text": [
            "7 번째 책 수집\n"
          ]
        },
        {
          "data": {
            "application/vnd.jupyter.widget-view+json": {
              "model_id": "8822d78653534fac8440b1e17c0fdb9d",
              "version_major": 2,
              "version_minor": 0
            },
            "text/plain": [
              "  0%|          | 0/50 [00:00<?, ?it/s]"
            ]
          },
          "metadata": {},
          "output_type": "display_data"
        },
        {
          "name": "stdout",
          "output_type": "stream",
          "text": [
            "8 번째 책 수집\n"
          ]
        },
        {
          "data": {
            "application/vnd.jupyter.widget-view+json": {
              "model_id": "32f8ca8d104d4193baaa14cba0de09b6",
              "version_major": 2,
              "version_minor": 0
            },
            "text/plain": [
              "  0%|          | 0/50 [00:00<?, ?it/s]"
            ]
          },
          "metadata": {},
          "output_type": "display_data"
        },
        {
          "name": "stdout",
          "output_type": "stream",
          "text": [
            "9 번째 책 수집\n"
          ]
        },
        {
          "data": {
            "application/vnd.jupyter.widget-view+json": {
              "model_id": "f0b6960681094d43aebcab289501898c",
              "version_major": 2,
              "version_minor": 0
            },
            "text/plain": [
              "  0%|          | 0/50 [00:00<?, ?it/s]"
            ]
          },
          "metadata": {},
          "output_type": "display_data"
        },
        {
          "name": "stdout",
          "output_type": "stream",
          "text": [
            "10 번째 책 수집\n"
          ]
        },
        {
          "data": {
            "application/vnd.jupyter.widget-view+json": {
              "model_id": "4685132c9250438db3eb113908be9826",
              "version_major": 2,
              "version_minor": 0
            },
            "text/plain": [
              "  0%|          | 0/50 [00:00<?, ?it/s]"
            ]
          },
          "metadata": {},
          "output_type": "display_data"
        },
        {
          "name": "stdout",
          "output_type": "stream",
          "text": [
            "11 번째 책 수집\n"
          ]
        },
        {
          "data": {
            "application/vnd.jupyter.widget-view+json": {
              "model_id": "7e42960194704db4bd5e193e0390adce",
              "version_major": 2,
              "version_minor": 0
            },
            "text/plain": [
              "  0%|          | 0/50 [00:00<?, ?it/s]"
            ]
          },
          "metadata": {},
          "output_type": "display_data"
        },
        {
          "name": "stdout",
          "output_type": "stream",
          "text": [
            "12 번째 책 수집\n"
          ]
        },
        {
          "data": {
            "application/vnd.jupyter.widget-view+json": {
              "model_id": "63facfbfd7f74093b01b70494e24832d",
              "version_major": 2,
              "version_minor": 0
            },
            "text/plain": [
              "  0%|          | 0/50 [00:00<?, ?it/s]"
            ]
          },
          "metadata": {},
          "output_type": "display_data"
        },
        {
          "name": "stdout",
          "output_type": "stream",
          "text": [
            "13 번째 책 수집\n"
          ]
        },
        {
          "data": {
            "application/vnd.jupyter.widget-view+json": {
              "model_id": "2c514a0617f94dc09e0edea3a4b95c07",
              "version_major": 2,
              "version_minor": 0
            },
            "text/plain": [
              "  0%|          | 0/50 [00:00<?, ?it/s]"
            ]
          },
          "metadata": {},
          "output_type": "display_data"
        },
        {
          "name": "stdout",
          "output_type": "stream",
          "text": [
            "14 번째 책 수집\n"
          ]
        },
        {
          "data": {
            "application/vnd.jupyter.widget-view+json": {
              "model_id": "56823d29655b4ad79a3c959565bb4224",
              "version_major": 2,
              "version_minor": 0
            },
            "text/plain": [
              "  0%|          | 0/50 [00:00<?, ?it/s]"
            ]
          },
          "metadata": {},
          "output_type": "display_data"
        },
        {
          "name": "stdout",
          "output_type": "stream",
          "text": [
            "15 번째 책 수집\n"
          ]
        },
        {
          "data": {
            "application/vnd.jupyter.widget-view+json": {
              "model_id": "1567a350945e4d9390a19e4954393e2c",
              "version_major": 2,
              "version_minor": 0
            },
            "text/plain": [
              "  0%|          | 0/50 [00:00<?, ?it/s]"
            ]
          },
          "metadata": {},
          "output_type": "display_data"
        },
        {
          "name": "stdout",
          "output_type": "stream",
          "text": [
            "16 번째 책 수집\n"
          ]
        },
        {
          "data": {
            "application/vnd.jupyter.widget-view+json": {
              "model_id": "3c9960348912402ea010de6efad1254a",
              "version_major": 2,
              "version_minor": 0
            },
            "text/plain": [
              "  0%|          | 0/50 [00:00<?, ?it/s]"
            ]
          },
          "metadata": {},
          "output_type": "display_data"
        },
        {
          "name": "stdout",
          "output_type": "stream",
          "text": [
            "17 번째 책 수집\n"
          ]
        },
        {
          "data": {
            "application/vnd.jupyter.widget-view+json": {
              "model_id": "98518b634baa473181bd69dc7f603063",
              "version_major": 2,
              "version_minor": 0
            },
            "text/plain": [
              "  0%|          | 0/50 [00:00<?, ?it/s]"
            ]
          },
          "metadata": {},
          "output_type": "display_data"
        },
        {
          "name": "stdout",
          "output_type": "stream",
          "text": [
            "18 번째 책 수집\n"
          ]
        },
        {
          "data": {
            "application/vnd.jupyter.widget-view+json": {
              "model_id": "d1e43790f5d74dc0bfbc80f25de79eba",
              "version_major": 2,
              "version_minor": 0
            },
            "text/plain": [
              "  0%|          | 0/50 [00:00<?, ?it/s]"
            ]
          },
          "metadata": {},
          "output_type": "display_data"
        },
        {
          "name": "stdout",
          "output_type": "stream",
          "text": [
            "19 번째 책 수집\n"
          ]
        },
        {
          "data": {
            "application/vnd.jupyter.widget-view+json": {
              "model_id": "899ee4258652451fb704fb2c8be95f46",
              "version_major": 2,
              "version_minor": 0
            },
            "text/plain": [
              "  0%|          | 0/50 [00:00<?, ?it/s]"
            ]
          },
          "metadata": {},
          "output_type": "display_data"
        },
        {
          "name": "stdout",
          "output_type": "stream",
          "text": [
            "20 번째 책 수집\n"
          ]
        },
        {
          "data": {
            "application/vnd.jupyter.widget-view+json": {
              "model_id": "4b122eebd52644c6a5c525f0c005f4d7",
              "version_major": 2,
              "version_minor": 0
            },
            "text/plain": [
              "  0%|          | 0/50 [00:00<?, ?it/s]"
            ]
          },
          "metadata": {},
          "output_type": "display_data"
        },
        {
          "name": "stdout",
          "output_type": "stream",
          "text": [
            "21 번째 책 수집\n"
          ]
        },
        {
          "data": {
            "application/vnd.jupyter.widget-view+json": {
              "model_id": "d026514a9d8c40ea89c30120d3bbda9c",
              "version_major": 2,
              "version_minor": 0
            },
            "text/plain": [
              "  0%|          | 0/50 [00:00<?, ?it/s]"
            ]
          },
          "metadata": {},
          "output_type": "display_data"
        },
        {
          "name": "stdout",
          "output_type": "stream",
          "text": [
            "22 번째 책 수집\n"
          ]
        },
        {
          "data": {
            "application/vnd.jupyter.widget-view+json": {
              "model_id": "7ac57c246cf44536ba4fb744796e6560",
              "version_major": 2,
              "version_minor": 0
            },
            "text/plain": [
              "  0%|          | 0/50 [00:00<?, ?it/s]"
            ]
          },
          "metadata": {},
          "output_type": "display_data"
        },
        {
          "name": "stdout",
          "output_type": "stream",
          "text": [
            "23 번째 책 수집\n"
          ]
        },
        {
          "data": {
            "application/vnd.jupyter.widget-view+json": {
              "model_id": "cdbc5cead982440799d6952b14194a1a",
              "version_major": 2,
              "version_minor": 0
            },
            "text/plain": [
              "  0%|          | 0/50 [00:00<?, ?it/s]"
            ]
          },
          "metadata": {},
          "output_type": "display_data"
        },
        {
          "name": "stdout",
          "output_type": "stream",
          "text": [
            "24 번째 책 수집\n"
          ]
        },
        {
          "data": {
            "application/vnd.jupyter.widget-view+json": {
              "model_id": "92ceb0cf82ea4a89bcf23e881513ddd6",
              "version_major": 2,
              "version_minor": 0
            },
            "text/plain": [
              "  0%|          | 0/50 [00:00<?, ?it/s]"
            ]
          },
          "metadata": {},
          "output_type": "display_data"
        },
        {
          "name": "stdout",
          "output_type": "stream",
          "text": [
            "25 번째 책 수집\n"
          ]
        },
        {
          "data": {
            "application/vnd.jupyter.widget-view+json": {
              "model_id": "8c633347ad654be2b96f8e672b5f45be",
              "version_major": 2,
              "version_minor": 0
            },
            "text/plain": [
              "  0%|          | 0/50 [00:00<?, ?it/s]"
            ]
          },
          "metadata": {},
          "output_type": "display_data"
        },
        {
          "name": "stdout",
          "output_type": "stream",
          "text": [
            "26 번째 책 수집\n"
          ]
        },
        {
          "data": {
            "application/vnd.jupyter.widget-view+json": {
              "model_id": "4b4f65a1e6a241f38bce56077ae73b15",
              "version_major": 2,
              "version_minor": 0
            },
            "text/plain": [
              "  0%|          | 0/50 [00:00<?, ?it/s]"
            ]
          },
          "metadata": {},
          "output_type": "display_data"
        },
        {
          "name": "stdout",
          "output_type": "stream",
          "text": [
            "27 번째 책 수집\n"
          ]
        },
        {
          "data": {
            "application/vnd.jupyter.widget-view+json": {
              "model_id": "0bcfdc73fcce4ed2ba019e993c5e48f7",
              "version_major": 2,
              "version_minor": 0
            },
            "text/plain": [
              "  0%|          | 0/50 [00:00<?, ?it/s]"
            ]
          },
          "metadata": {},
          "output_type": "display_data"
        },
        {
          "name": "stdout",
          "output_type": "stream",
          "text": [
            "28 번째 책 수집\n"
          ]
        },
        {
          "data": {
            "application/vnd.jupyter.widget-view+json": {
              "model_id": "41a4ca485e1946d78ff0ace6dcd97a54",
              "version_major": 2,
              "version_minor": 0
            },
            "text/plain": [
              "  0%|          | 0/50 [00:00<?, ?it/s]"
            ]
          },
          "metadata": {},
          "output_type": "display_data"
        },
        {
          "name": "stdout",
          "output_type": "stream",
          "text": [
            "29 번째 책 수집\n"
          ]
        },
        {
          "data": {
            "application/vnd.jupyter.widget-view+json": {
              "model_id": "670563c16aa44b6d81c87d5644b419e0",
              "version_major": 2,
              "version_minor": 0
            },
            "text/plain": [
              "  0%|          | 0/50 [00:00<?, ?it/s]"
            ]
          },
          "metadata": {},
          "output_type": "display_data"
        },
        {
          "name": "stdout",
          "output_type": "stream",
          "text": [
            "30 번째 책 수집\n"
          ]
        },
        {
          "data": {
            "application/vnd.jupyter.widget-view+json": {
              "model_id": "0d835b2029e24b08a4bfb5e891dba689",
              "version_major": 2,
              "version_minor": 0
            },
            "text/plain": [
              "  0%|          | 0/50 [00:00<?, ?it/s]"
            ]
          },
          "metadata": {},
          "output_type": "display_data"
        },
        {
          "name": "stdout",
          "output_type": "stream",
          "text": [
            "31 번째 책 수집\n"
          ]
        },
        {
          "data": {
            "application/vnd.jupyter.widget-view+json": {
              "model_id": "7a9f1717d9c2495fbf7a83d2f59b13d8",
              "version_major": 2,
              "version_minor": 0
            },
            "text/plain": [
              "  0%|          | 0/50 [00:00<?, ?it/s]"
            ]
          },
          "metadata": {},
          "output_type": "display_data"
        },
        {
          "name": "stdout",
          "output_type": "stream",
          "text": [
            "32 번째 책 수집\n"
          ]
        },
        {
          "data": {
            "application/vnd.jupyter.widget-view+json": {
              "model_id": "ca0dbd3dea0c429c83a8a22ce460e8df",
              "version_major": 2,
              "version_minor": 0
            },
            "text/plain": [
              "  0%|          | 0/50 [00:00<?, ?it/s]"
            ]
          },
          "metadata": {},
          "output_type": "display_data"
        },
        {
          "name": "stdout",
          "output_type": "stream",
          "text": [
            "33 번째 책 수집\n"
          ]
        },
        {
          "data": {
            "application/vnd.jupyter.widget-view+json": {
              "model_id": "e8839e8537f4480b8f7984bcbaa505f3",
              "version_major": 2,
              "version_minor": 0
            },
            "text/plain": [
              "  0%|          | 0/50 [00:00<?, ?it/s]"
            ]
          },
          "metadata": {},
          "output_type": "display_data"
        },
        {
          "name": "stdout",
          "output_type": "stream",
          "text": [
            "34 번째 책 수집\n"
          ]
        },
        {
          "data": {
            "application/vnd.jupyter.widget-view+json": {
              "model_id": "50c7ae19e33f4f5291c0ee652276611e",
              "version_major": 2,
              "version_minor": 0
            },
            "text/plain": [
              "  0%|          | 0/50 [00:00<?, ?it/s]"
            ]
          },
          "metadata": {},
          "output_type": "display_data"
        },
        {
          "name": "stdout",
          "output_type": "stream",
          "text": [
            "35 번째 책 수집\n"
          ]
        },
        {
          "data": {
            "application/vnd.jupyter.widget-view+json": {
              "model_id": "80c541ead35847fa92384dedc2be1345",
              "version_major": 2,
              "version_minor": 0
            },
            "text/plain": [
              "  0%|          | 0/50 [00:00<?, ?it/s]"
            ]
          },
          "metadata": {},
          "output_type": "display_data"
        },
        {
          "name": "stdout",
          "output_type": "stream",
          "text": [
            "36 번째 책 수집\n"
          ]
        },
        {
          "data": {
            "application/vnd.jupyter.widget-view+json": {
              "model_id": "abe780a1963d4ab195e0ac7702bfa750",
              "version_major": 2,
              "version_minor": 0
            },
            "text/plain": [
              "  0%|          | 0/50 [00:00<?, ?it/s]"
            ]
          },
          "metadata": {},
          "output_type": "display_data"
        },
        {
          "name": "stdout",
          "output_type": "stream",
          "text": [
            "37 번째 책 수집\n"
          ]
        },
        {
          "data": {
            "application/vnd.jupyter.widget-view+json": {
              "model_id": "5f296b0ac8bb46a3bf267cb61138088f",
              "version_major": 2,
              "version_minor": 0
            },
            "text/plain": [
              "  0%|          | 0/50 [00:00<?, ?it/s]"
            ]
          },
          "metadata": {},
          "output_type": "display_data"
        },
        {
          "name": "stdout",
          "output_type": "stream",
          "text": [
            "38 번째 책 수집\n"
          ]
        },
        {
          "data": {
            "application/vnd.jupyter.widget-view+json": {
              "model_id": "aa2c84251d174f9085abff3a1f2cbb62",
              "version_major": 2,
              "version_minor": 0
            },
            "text/plain": [
              "  0%|          | 0/50 [00:00<?, ?it/s]"
            ]
          },
          "metadata": {},
          "output_type": "display_data"
        },
        {
          "name": "stdout",
          "output_type": "stream",
          "text": [
            "39 번째 책 수집\n"
          ]
        },
        {
          "data": {
            "application/vnd.jupyter.widget-view+json": {
              "model_id": "80c33d48674d47e1b82604ab45df0cf5",
              "version_major": 2,
              "version_minor": 0
            },
            "text/plain": [
              "  0%|          | 0/50 [00:00<?, ?it/s]"
            ]
          },
          "metadata": {},
          "output_type": "display_data"
        },
        {
          "name": "stdout",
          "output_type": "stream",
          "text": [
            "40 번째 책 수집\n"
          ]
        },
        {
          "data": {
            "application/vnd.jupyter.widget-view+json": {
              "model_id": "a898321b39374fb0be63f76f14c0c334",
              "version_major": 2,
              "version_minor": 0
            },
            "text/plain": [
              "  0%|          | 0/50 [00:00<?, ?it/s]"
            ]
          },
          "metadata": {},
          "output_type": "display_data"
        },
        {
          "name": "stdout",
          "output_type": "stream",
          "text": [
            "41 번째 책 수집\n"
          ]
        },
        {
          "data": {
            "application/vnd.jupyter.widget-view+json": {
              "model_id": "543e7191351443b6b94422c96af9dd1d",
              "version_major": 2,
              "version_minor": 0
            },
            "text/plain": [
              "  0%|          | 0/50 [00:00<?, ?it/s]"
            ]
          },
          "metadata": {},
          "output_type": "display_data"
        },
        {
          "name": "stdout",
          "output_type": "stream",
          "text": [
            "42 번째 책 수집\n"
          ]
        },
        {
          "data": {
            "application/vnd.jupyter.widget-view+json": {
              "model_id": "e85e0e8bdf0945069b9238d863135c5e",
              "version_major": 2,
              "version_minor": 0
            },
            "text/plain": [
              "  0%|          | 0/50 [00:00<?, ?it/s]"
            ]
          },
          "metadata": {},
          "output_type": "display_data"
        },
        {
          "name": "stdout",
          "output_type": "stream",
          "text": [
            "43 번째 책 수집\n"
          ]
        },
        {
          "data": {
            "application/vnd.jupyter.widget-view+json": {
              "model_id": "7a2925ce71ff43858e864ae35d6c7d0e",
              "version_major": 2,
              "version_minor": 0
            },
            "text/plain": [
              "  0%|          | 0/50 [00:00<?, ?it/s]"
            ]
          },
          "metadata": {},
          "output_type": "display_data"
        },
        {
          "name": "stdout",
          "output_type": "stream",
          "text": [
            "44 번째 책 수집\n"
          ]
        },
        {
          "data": {
            "application/vnd.jupyter.widget-view+json": {
              "model_id": "5f05db4008e44bbc8a455c9cea16c9c1",
              "version_major": 2,
              "version_minor": 0
            },
            "text/plain": [
              "  0%|          | 0/50 [00:00<?, ?it/s]"
            ]
          },
          "metadata": {},
          "output_type": "display_data"
        },
        {
          "name": "stdout",
          "output_type": "stream",
          "text": [
            "45 번째 책 수집\n"
          ]
        },
        {
          "data": {
            "application/vnd.jupyter.widget-view+json": {
              "model_id": "1d46460c377a498791659eb9ecb07eb2",
              "version_major": 2,
              "version_minor": 0
            },
            "text/plain": [
              "  0%|          | 0/50 [00:00<?, ?it/s]"
            ]
          },
          "metadata": {},
          "output_type": "display_data"
        },
        {
          "name": "stdout",
          "output_type": "stream",
          "text": [
            "46 번째 책 수집\n"
          ]
        },
        {
          "data": {
            "application/vnd.jupyter.widget-view+json": {
              "model_id": "81ba8e1e1222452c8c4a09b71fdb8edd",
              "version_major": 2,
              "version_minor": 0
            },
            "text/plain": [
              "  0%|          | 0/50 [00:00<?, ?it/s]"
            ]
          },
          "metadata": {},
          "output_type": "display_data"
        },
        {
          "name": "stdout",
          "output_type": "stream",
          "text": [
            "47 번째 책 수집\n"
          ]
        },
        {
          "data": {
            "application/vnd.jupyter.widget-view+json": {
              "model_id": "4e05ad4045094a62accda3572a056621",
              "version_major": 2,
              "version_minor": 0
            },
            "text/plain": [
              "  0%|          | 0/50 [00:00<?, ?it/s]"
            ]
          },
          "metadata": {},
          "output_type": "display_data"
        },
        {
          "name": "stdout",
          "output_type": "stream",
          "text": [
            "48 번째 책 수집\n"
          ]
        },
        {
          "data": {
            "application/vnd.jupyter.widget-view+json": {
              "model_id": "f21269a7b2064b11a717587797ae9d92",
              "version_major": 2,
              "version_minor": 0
            },
            "text/plain": [
              "  0%|          | 0/50 [00:00<?, ?it/s]"
            ]
          },
          "metadata": {},
          "output_type": "display_data"
        },
        {
          "name": "stdout",
          "output_type": "stream",
          "text": [
            "49 번째 책 수집\n"
          ]
        },
        {
          "data": {
            "application/vnd.jupyter.widget-view+json": {
              "model_id": "1c73f0ddc7494ebf9c0d63d7f16cb346",
              "version_major": 2,
              "version_minor": 0
            },
            "text/plain": [
              "  0%|          | 0/50 [00:00<?, ?it/s]"
            ]
          },
          "metadata": {},
          "output_type": "display_data"
        },
        {
          "name": "stdout",
          "output_type": "stream",
          "text": [
            "50 번째 책 수집\n"
          ]
        },
        {
          "data": {
            "application/vnd.jupyter.widget-view+json": {
              "model_id": "39271c6430094ff7aac59400b6fadf04",
              "version_major": 2,
              "version_minor": 0
            },
            "text/plain": [
              "  0%|          | 0/50 [00:00<?, ?it/s]"
            ]
          },
          "metadata": {},
          "output_type": "display_data"
        },
        {
          "name": "stdout",
          "output_type": "stream",
          "text": [
            "51 번째 책 수집\n"
          ]
        },
        {
          "data": {
            "application/vnd.jupyter.widget-view+json": {
              "model_id": "b32cfdae1003496a8575786cb8f943ec",
              "version_major": 2,
              "version_minor": 0
            },
            "text/plain": [
              "  0%|          | 0/50 [00:00<?, ?it/s]"
            ]
          },
          "metadata": {},
          "output_type": "display_data"
        },
        {
          "name": "stdout",
          "output_type": "stream",
          "text": [
            "52 번째 책 수집\n"
          ]
        },
        {
          "data": {
            "application/vnd.jupyter.widget-view+json": {
              "model_id": "9096871fb8a94bc09c8f7e7eee7fb9ad",
              "version_major": 2,
              "version_minor": 0
            },
            "text/plain": [
              "  0%|          | 0/50 [00:00<?, ?it/s]"
            ]
          },
          "metadata": {},
          "output_type": "display_data"
        },
        {
          "name": "stdout",
          "output_type": "stream",
          "text": [
            "53 번째 책 수집\n"
          ]
        },
        {
          "data": {
            "application/vnd.jupyter.widget-view+json": {
              "model_id": "a4ff1aa6897f49f3a48f909f3e9f84cf",
              "version_major": 2,
              "version_minor": 0
            },
            "text/plain": [
              "  0%|          | 0/50 [00:00<?, ?it/s]"
            ]
          },
          "metadata": {},
          "output_type": "display_data"
        },
        {
          "name": "stdout",
          "output_type": "stream",
          "text": [
            "54 번째 책 수집\n"
          ]
        },
        {
          "data": {
            "application/vnd.jupyter.widget-view+json": {
              "model_id": "a1a6a777e4f64a7e8f321ea3ba90d711",
              "version_major": 2,
              "version_minor": 0
            },
            "text/plain": [
              "  0%|          | 0/50 [00:00<?, ?it/s]"
            ]
          },
          "metadata": {},
          "output_type": "display_data"
        },
        {
          "name": "stdout",
          "output_type": "stream",
          "text": [
            "55 번째 책 수집\n"
          ]
        },
        {
          "data": {
            "application/vnd.jupyter.widget-view+json": {
              "model_id": "0357dacf55524caf9669db1686b7b916",
              "version_major": 2,
              "version_minor": 0
            },
            "text/plain": [
              "  0%|          | 0/50 [00:00<?, ?it/s]"
            ]
          },
          "metadata": {},
          "output_type": "display_data"
        },
        {
          "name": "stdout",
          "output_type": "stream",
          "text": [
            "56 번째 책 수집\n"
          ]
        },
        {
          "data": {
            "application/vnd.jupyter.widget-view+json": {
              "model_id": "5503dcceef1543faaa520fb302b39c75",
              "version_major": 2,
              "version_minor": 0
            },
            "text/plain": [
              "  0%|          | 0/50 [00:00<?, ?it/s]"
            ]
          },
          "metadata": {},
          "output_type": "display_data"
        },
        {
          "name": "stdout",
          "output_type": "stream",
          "text": [
            "57 번째 책 수집\n"
          ]
        },
        {
          "data": {
            "application/vnd.jupyter.widget-view+json": {
              "model_id": "b341347e7e514a56b4513ae0891eaa9f",
              "version_major": 2,
              "version_minor": 0
            },
            "text/plain": [
              "  0%|          | 0/50 [00:00<?, ?it/s]"
            ]
          },
          "metadata": {},
          "output_type": "display_data"
        },
        {
          "name": "stdout",
          "output_type": "stream",
          "text": [
            "58 번째 책 수집\n"
          ]
        },
        {
          "data": {
            "application/vnd.jupyter.widget-view+json": {
              "model_id": "107df054f6554cac8ee70ee609f769b0",
              "version_major": 2,
              "version_minor": 0
            },
            "text/plain": [
              "  0%|          | 0/50 [00:00<?, ?it/s]"
            ]
          },
          "metadata": {},
          "output_type": "display_data"
        },
        {
          "name": "stdout",
          "output_type": "stream",
          "text": [
            "59 번째 책 수집\n"
          ]
        },
        {
          "data": {
            "application/vnd.jupyter.widget-view+json": {
              "model_id": "8a9e0f3c43b249a8b149e54e11c31130",
              "version_major": 2,
              "version_minor": 0
            },
            "text/plain": [
              "  0%|          | 0/50 [00:00<?, ?it/s]"
            ]
          },
          "metadata": {},
          "output_type": "display_data"
        },
        {
          "name": "stdout",
          "output_type": "stream",
          "text": [
            "60 번째 책 수집\n"
          ]
        },
        {
          "data": {
            "application/vnd.jupyter.widget-view+json": {
              "model_id": "fb089f97350646ec8692440f35522040",
              "version_major": 2,
              "version_minor": 0
            },
            "text/plain": [
              "  0%|          | 0/50 [00:00<?, ?it/s]"
            ]
          },
          "metadata": {},
          "output_type": "display_data"
        },
        {
          "name": "stdout",
          "output_type": "stream",
          "text": [
            "61 번째 책 수집\n"
          ]
        },
        {
          "data": {
            "application/vnd.jupyter.widget-view+json": {
              "model_id": "d138568f371e4180b20b4f81f396bbf4",
              "version_major": 2,
              "version_minor": 0
            },
            "text/plain": [
              "  0%|          | 0/50 [00:00<?, ?it/s]"
            ]
          },
          "metadata": {},
          "output_type": "display_data"
        },
        {
          "name": "stdout",
          "output_type": "stream",
          "text": [
            "62 번째 책 수집\n"
          ]
        },
        {
          "data": {
            "application/vnd.jupyter.widget-view+json": {
              "model_id": "14739aff8f814fd3a48928ea439c09fe",
              "version_major": 2,
              "version_minor": 0
            },
            "text/plain": [
              "  0%|          | 0/50 [00:00<?, ?it/s]"
            ]
          },
          "metadata": {},
          "output_type": "display_data"
        },
        {
          "name": "stdout",
          "output_type": "stream",
          "text": [
            "63 번째 책 수집\n"
          ]
        },
        {
          "data": {
            "application/vnd.jupyter.widget-view+json": {
              "model_id": "7f46dae285644909976d0992492eba1f",
              "version_major": 2,
              "version_minor": 0
            },
            "text/plain": [
              "  0%|          | 0/50 [00:00<?, ?it/s]"
            ]
          },
          "metadata": {},
          "output_type": "display_data"
        },
        {
          "name": "stdout",
          "output_type": "stream",
          "text": [
            "64 번째 책 수집\n"
          ]
        },
        {
          "data": {
            "application/vnd.jupyter.widget-view+json": {
              "model_id": "1a6919bfd1724d9191e9927633dd76f6",
              "version_major": 2,
              "version_minor": 0
            },
            "text/plain": [
              "  0%|          | 0/50 [00:00<?, ?it/s]"
            ]
          },
          "metadata": {},
          "output_type": "display_data"
        },
        {
          "name": "stdout",
          "output_type": "stream",
          "text": [
            "65 번째 책 수집\n"
          ]
        },
        {
          "data": {
            "application/vnd.jupyter.widget-view+json": {
              "model_id": "e1cbb7de5e1c4cebb87b296fc14cda99",
              "version_major": 2,
              "version_minor": 0
            },
            "text/plain": [
              "  0%|          | 0/50 [00:00<?, ?it/s]"
            ]
          },
          "metadata": {},
          "output_type": "display_data"
        },
        {
          "name": "stdout",
          "output_type": "stream",
          "text": [
            "66 번째 책 수집\n"
          ]
        },
        {
          "data": {
            "application/vnd.jupyter.widget-view+json": {
              "model_id": "e2badea1861e43aea8dcdba4fbe888ab",
              "version_major": 2,
              "version_minor": 0
            },
            "text/plain": [
              "  0%|          | 0/50 [00:00<?, ?it/s]"
            ]
          },
          "metadata": {},
          "output_type": "display_data"
        },
        {
          "name": "stdout",
          "output_type": "stream",
          "text": [
            "67 번째 책 수집\n"
          ]
        },
        {
          "data": {
            "application/vnd.jupyter.widget-view+json": {
              "model_id": "f6801cec8c9745ad88041f573f0628e8",
              "version_major": 2,
              "version_minor": 0
            },
            "text/plain": [
              "  0%|          | 0/50 [00:00<?, ?it/s]"
            ]
          },
          "metadata": {},
          "output_type": "display_data"
        },
        {
          "name": "stdout",
          "output_type": "stream",
          "text": [
            "68 번째 책 수집\n"
          ]
        },
        {
          "data": {
            "application/vnd.jupyter.widget-view+json": {
              "model_id": "89fdda1ea0774478859c2bb7ad42afcd",
              "version_major": 2,
              "version_minor": 0
            },
            "text/plain": [
              "  0%|          | 0/50 [00:00<?, ?it/s]"
            ]
          },
          "metadata": {},
          "output_type": "display_data"
        },
        {
          "name": "stdout",
          "output_type": "stream",
          "text": [
            "69 번째 책 수집\n"
          ]
        },
        {
          "data": {
            "application/vnd.jupyter.widget-view+json": {
              "model_id": "a7f654056b074f8ab8fd97d9fda17e76",
              "version_major": 2,
              "version_minor": 0
            },
            "text/plain": [
              "  0%|          | 0/50 [00:00<?, ?it/s]"
            ]
          },
          "metadata": {},
          "output_type": "display_data"
        },
        {
          "name": "stdout",
          "output_type": "stream",
          "text": [
            "70 번째 책 수집\n"
          ]
        },
        {
          "data": {
            "application/vnd.jupyter.widget-view+json": {
              "model_id": "759da010322b4914a9e8a8390c6ad5d9",
              "version_major": 2,
              "version_minor": 0
            },
            "text/plain": [
              "  0%|          | 0/50 [00:00<?, ?it/s]"
            ]
          },
          "metadata": {},
          "output_type": "display_data"
        },
        {
          "name": "stdout",
          "output_type": "stream",
          "text": [
            "71 번째 책 수집\n"
          ]
        },
        {
          "data": {
            "application/vnd.jupyter.widget-view+json": {
              "model_id": "b926c0f654cc4dac8ad281d104d7eb07",
              "version_major": 2,
              "version_minor": 0
            },
            "text/plain": [
              "  0%|          | 0/50 [00:00<?, ?it/s]"
            ]
          },
          "metadata": {},
          "output_type": "display_data"
        },
        {
          "name": "stdout",
          "output_type": "stream",
          "text": [
            "72 번째 책 수집\n"
          ]
        },
        {
          "data": {
            "application/vnd.jupyter.widget-view+json": {
              "model_id": "b7c5a2e60e8944c2b20c0cfaaa1c3c9e",
              "version_major": 2,
              "version_minor": 0
            },
            "text/plain": [
              "  0%|          | 0/50 [00:00<?, ?it/s]"
            ]
          },
          "metadata": {},
          "output_type": "display_data"
        },
        {
          "name": "stdout",
          "output_type": "stream",
          "text": [
            "73 번째 책 수집\n"
          ]
        },
        {
          "data": {
            "application/vnd.jupyter.widget-view+json": {
              "model_id": "3634c8d4fec445038112d6265ff96cda",
              "version_major": 2,
              "version_minor": 0
            },
            "text/plain": [
              "  0%|          | 0/50 [00:00<?, ?it/s]"
            ]
          },
          "metadata": {},
          "output_type": "display_data"
        },
        {
          "name": "stdout",
          "output_type": "stream",
          "text": [
            "74 번째 책 수집\n"
          ]
        },
        {
          "data": {
            "application/vnd.jupyter.widget-view+json": {
              "model_id": "b361b4b0a26049b2bf45abdc4ff55acb",
              "version_major": 2,
              "version_minor": 0
            },
            "text/plain": [
              "  0%|          | 0/50 [00:00<?, ?it/s]"
            ]
          },
          "metadata": {},
          "output_type": "display_data"
        },
        {
          "name": "stdout",
          "output_type": "stream",
          "text": [
            "75 번째 책 수집\n"
          ]
        },
        {
          "data": {
            "application/vnd.jupyter.widget-view+json": {
              "model_id": "47afab30b35946f6a6d17b548cc95aef",
              "version_major": 2,
              "version_minor": 0
            },
            "text/plain": [
              "  0%|          | 0/50 [00:00<?, ?it/s]"
            ]
          },
          "metadata": {},
          "output_type": "display_data"
        },
        {
          "name": "stdout",
          "output_type": "stream",
          "text": [
            "76 번째 책 수집\n"
          ]
        },
        {
          "data": {
            "application/vnd.jupyter.widget-view+json": {
              "model_id": "88b6bef4af5d4523a6d5b936b036d12d",
              "version_major": 2,
              "version_minor": 0
            },
            "text/plain": [
              "  0%|          | 0/50 [00:00<?, ?it/s]"
            ]
          },
          "metadata": {},
          "output_type": "display_data"
        },
        {
          "name": "stdout",
          "output_type": "stream",
          "text": [
            "77 번째 책 수집\n"
          ]
        },
        {
          "data": {
            "application/vnd.jupyter.widget-view+json": {
              "model_id": "ce7660f7dd87480ca1cbb4417f9360d1",
              "version_major": 2,
              "version_minor": 0
            },
            "text/plain": [
              "  0%|          | 0/50 [00:00<?, ?it/s]"
            ]
          },
          "metadata": {},
          "output_type": "display_data"
        },
        {
          "name": "stdout",
          "output_type": "stream",
          "text": [
            "78 번째 책 수집\n"
          ]
        },
        {
          "data": {
            "application/vnd.jupyter.widget-view+json": {
              "model_id": "26894c2003d24d508574062836d66e37",
              "version_major": 2,
              "version_minor": 0
            },
            "text/plain": [
              "  0%|          | 0/50 [00:00<?, ?it/s]"
            ]
          },
          "metadata": {},
          "output_type": "display_data"
        },
        {
          "name": "stdout",
          "output_type": "stream",
          "text": [
            "79 번째 책 수집\n"
          ]
        },
        {
          "data": {
            "application/vnd.jupyter.widget-view+json": {
              "model_id": "4ed46f5c09644f0d8b4fda8a8c35be13",
              "version_major": 2,
              "version_minor": 0
            },
            "text/plain": [
              "  0%|          | 0/50 [00:00<?, ?it/s]"
            ]
          },
          "metadata": {},
          "output_type": "display_data"
        },
        {
          "name": "stdout",
          "output_type": "stream",
          "text": [
            "80 번째 책 수집\n"
          ]
        },
        {
          "data": {
            "application/vnd.jupyter.widget-view+json": {
              "model_id": "7d60521c72ad43b189f83a8a7386340d",
              "version_major": 2,
              "version_minor": 0
            },
            "text/plain": [
              "  0%|          | 0/50 [00:00<?, ?it/s]"
            ]
          },
          "metadata": {},
          "output_type": "display_data"
        },
        {
          "name": "stdout",
          "output_type": "stream",
          "text": [
            "81 번째 책 수집\n"
          ]
        },
        {
          "data": {
            "application/vnd.jupyter.widget-view+json": {
              "model_id": "17a6e60ef18249279117bf928a888e9d",
              "version_major": 2,
              "version_minor": 0
            },
            "text/plain": [
              "  0%|          | 0/50 [00:00<?, ?it/s]"
            ]
          },
          "metadata": {},
          "output_type": "display_data"
        },
        {
          "name": "stdout",
          "output_type": "stream",
          "text": [
            "82 번째 책 수집\n"
          ]
        },
        {
          "data": {
            "application/vnd.jupyter.widget-view+json": {
              "model_id": "cd8b94643fa743ff94e2627a2bd82d0a",
              "version_major": 2,
              "version_minor": 0
            },
            "text/plain": [
              "  0%|          | 0/50 [00:00<?, ?it/s]"
            ]
          },
          "metadata": {},
          "output_type": "display_data"
        },
        {
          "name": "stdout",
          "output_type": "stream",
          "text": [
            "83 번째 책 수집\n"
          ]
        },
        {
          "data": {
            "application/vnd.jupyter.widget-view+json": {
              "model_id": "aabaef01003747a1b7dc53ed1b035b12",
              "version_major": 2,
              "version_minor": 0
            },
            "text/plain": [
              "  0%|          | 0/50 [00:00<?, ?it/s]"
            ]
          },
          "metadata": {},
          "output_type": "display_data"
        },
        {
          "name": "stdout",
          "output_type": "stream",
          "text": [
            "84 번째 책 수집\n"
          ]
        },
        {
          "data": {
            "application/vnd.jupyter.widget-view+json": {
              "model_id": "98925bbb2aa7407b83cc6195e92bc155",
              "version_major": 2,
              "version_minor": 0
            },
            "text/plain": [
              "  0%|          | 0/50 [00:00<?, ?it/s]"
            ]
          },
          "metadata": {},
          "output_type": "display_data"
        },
        {
          "name": "stdout",
          "output_type": "stream",
          "text": [
            "85 번째 책 수집\n"
          ]
        },
        {
          "data": {
            "application/vnd.jupyter.widget-view+json": {
              "model_id": "ccc404a9cf5244d9b494c0bacd13f6b1",
              "version_major": 2,
              "version_minor": 0
            },
            "text/plain": [
              "  0%|          | 0/50 [00:00<?, ?it/s]"
            ]
          },
          "metadata": {},
          "output_type": "display_data"
        },
        {
          "name": "stdout",
          "output_type": "stream",
          "text": [
            "86 번째 책 수집\n"
          ]
        },
        {
          "data": {
            "application/vnd.jupyter.widget-view+json": {
              "model_id": "aca2773a9b27435ca0783c43d592e954",
              "version_major": 2,
              "version_minor": 0
            },
            "text/plain": [
              "  0%|          | 0/50 [00:00<?, ?it/s]"
            ]
          },
          "metadata": {},
          "output_type": "display_data"
        },
        {
          "name": "stdout",
          "output_type": "stream",
          "text": [
            "87 번째 책 수집\n"
          ]
        },
        {
          "data": {
            "application/vnd.jupyter.widget-view+json": {
              "model_id": "c3cd07ccf6e543f192defb2ee81feb8f",
              "version_major": 2,
              "version_minor": 0
            },
            "text/plain": [
              "  0%|          | 0/50 [00:00<?, ?it/s]"
            ]
          },
          "metadata": {},
          "output_type": "display_data"
        },
        {
          "name": "stdout",
          "output_type": "stream",
          "text": [
            "88 번째 책 수집\n"
          ]
        },
        {
          "data": {
            "application/vnd.jupyter.widget-view+json": {
              "model_id": "1b58e0187d744be186acacf54f40b1b2",
              "version_major": 2,
              "version_minor": 0
            },
            "text/plain": [
              "  0%|          | 0/50 [00:00<?, ?it/s]"
            ]
          },
          "metadata": {},
          "output_type": "display_data"
        },
        {
          "name": "stdout",
          "output_type": "stream",
          "text": [
            "89 번째 책 수집\n"
          ]
        },
        {
          "data": {
            "application/vnd.jupyter.widget-view+json": {
              "model_id": "0abe79a0399c4b7fb5db333bbcb62453",
              "version_major": 2,
              "version_minor": 0
            },
            "text/plain": [
              "  0%|          | 0/50 [00:00<?, ?it/s]"
            ]
          },
          "metadata": {},
          "output_type": "display_data"
        },
        {
          "name": "stdout",
          "output_type": "stream",
          "text": [
            "90 번째 책 수집\n"
          ]
        },
        {
          "data": {
            "application/vnd.jupyter.widget-view+json": {
              "model_id": "873154d9c6184768962822f614d6c8fe",
              "version_major": 2,
              "version_minor": 0
            },
            "text/plain": [
              "  0%|          | 0/50 [00:00<?, ?it/s]"
            ]
          },
          "metadata": {},
          "output_type": "display_data"
        },
        {
          "name": "stdout",
          "output_type": "stream",
          "text": [
            "91 번째 책 수집\n"
          ]
        },
        {
          "data": {
            "application/vnd.jupyter.widget-view+json": {
              "model_id": "abbc6421133a4d8d8165c75a4e033d74",
              "version_major": 2,
              "version_minor": 0
            },
            "text/plain": [
              "  0%|          | 0/50 [00:00<?, ?it/s]"
            ]
          },
          "metadata": {},
          "output_type": "display_data"
        },
        {
          "name": "stdout",
          "output_type": "stream",
          "text": [
            "92 번째 책 수집\n"
          ]
        },
        {
          "data": {
            "application/vnd.jupyter.widget-view+json": {
              "model_id": "b645770d62884c289a46b6a198c78135",
              "version_major": 2,
              "version_minor": 0
            },
            "text/plain": [
              "  0%|          | 0/50 [00:00<?, ?it/s]"
            ]
          },
          "metadata": {},
          "output_type": "display_data"
        },
        {
          "name": "stdout",
          "output_type": "stream",
          "text": [
            "93 번째 책 수집\n"
          ]
        },
        {
          "data": {
            "application/vnd.jupyter.widget-view+json": {
              "model_id": "7a39720fa7a4425dbb495e6f786ff6f6",
              "version_major": 2,
              "version_minor": 0
            },
            "text/plain": [
              "  0%|          | 0/50 [00:00<?, ?it/s]"
            ]
          },
          "metadata": {},
          "output_type": "display_data"
        },
        {
          "name": "stdout",
          "output_type": "stream",
          "text": [
            "94 번째 책 수집\n"
          ]
        },
        {
          "data": {
            "application/vnd.jupyter.widget-view+json": {
              "model_id": "8bdbe45f0f6e4eb3b0354616ec7ed4be",
              "version_major": 2,
              "version_minor": 0
            },
            "text/plain": [
              "  0%|          | 0/50 [00:00<?, ?it/s]"
            ]
          },
          "metadata": {},
          "output_type": "display_data"
        },
        {
          "name": "stdout",
          "output_type": "stream",
          "text": [
            "95 번째 책 수집\n"
          ]
        },
        {
          "data": {
            "application/vnd.jupyter.widget-view+json": {
              "model_id": "e41c6cd3ad464ca4ba392b6f5883ca90",
              "version_major": 2,
              "version_minor": 0
            },
            "text/plain": [
              "  0%|          | 0/50 [00:00<?, ?it/s]"
            ]
          },
          "metadata": {},
          "output_type": "display_data"
        }
      ],
      "source": [
        "data_list = []\n",
        "for book_number in range(1, 96):\n",
        "  print(f'{book_number} 번째 책 수집')\n",
        "  for volume_number in tqdm(range(10, 510, 10)):\n",
        "    for article_number in range(10, 510, 10):\n",
        "      id = f\"ma_{book_number:03}_{volume_number:04}_{article_number:04}\"\n",
        "      url = f\"https://db.history.go.kr/id/{id}\"\n",
        "      try:\n",
        "        data_list.append(extract_data(url))\n",
        "      except AttributeError:\n",
        "        break # 다음 호수로 넘기기\n",
        "      time.sleep(0.3)"
      ]
    },
    {
      "cell_type": "code",
      "execution_count": 34,
      "metadata": {
        "colab": {
          "base_uri": "https://localhost:8080/",
          "height": 1000
        },
        "id": "C7yTriWa1dsa",
        "outputId": "4412dd72-8b66-4df3-f17e-28907a2d1119"
      },
      "outputs": [
        {
          "data": {
            "text/html": [
              "<div>\n",
              "<style scoped>\n",
              "    .dataframe tbody tr th:only-of-type {\n",
              "        vertical-align: middle;\n",
              "    }\n",
              "\n",
              "    .dataframe tbody tr th {\n",
              "        vertical-align: top;\n",
              "    }\n",
              "\n",
              "    .dataframe thead th {\n",
              "        text-align: right;\n",
              "    }\n",
              "</style>\n",
              "<table border=\"1\" class=\"dataframe\">\n",
              "  <thead>\n",
              "    <tr style=\"text-align: right;\">\n",
              "      <th></th>\n",
              "      <th>url</th>\n",
              "      <th>잡지명</th>\n",
              "      <th>발행일</th>\n",
              "      <th>기사제목</th>\n",
              "      <th>필자</th>\n",
              "      <th>기사형태</th>\n",
              "      <th>paragraphs</th>\n",
              "      <th>이름</th>\n",
              "      <th>지명</th>\n",
              "      <th>단체</th>\n",
              "      <th>관서</th>\n",
              "      <th>기타</th>\n",
              "    </tr>\n",
              "  </thead>\n",
              "  <tbody>\n",
              "    <tr>\n",
              "      <th>0</th>\n",
              "      <td>https://db.history.go.kr/id/ma_001_0010_0010</td>\n",
              "      <td>대한자강회월보 제1호</td>\n",
              "      <td>1906년 07월 31일</td>\n",
              "      <td>大韓自强會月報序［三編］</td>\n",
              "      <td>None</td>\n",
              "      <td>논설</td>\n",
              "      <td>[大韓自强會月報序［三編］, 日에 有客이 促膝附耳고 叩之于余 曰 自强會之名稱과 及 ...</td>\n",
              "      <td>[光武, 尹致昊, 南嶽居士, 李沂, 金陵, 大垣丈夫, 南嵩山人]</td>\n",
              "      <td>None</td>\n",
              "      <td>[自强會, 自强會, 大韓自强會]</td>\n",
              "      <td>None</td>\n",
              "      <td>None</td>\n",
              "    </tr>\n",
              "    <tr>\n",
              "      <th>1</th>\n",
              "      <td>https://db.history.go.kr/id/ma_001_0010_0020</td>\n",
              "      <td>대한자강회월보 제1호</td>\n",
              "      <td>1906년 07월 31일</td>\n",
              "      <td>大韓自强會月報刊行祝辭</td>\n",
              "      <td>None</td>\n",
              "      <td>논설</td>\n",
              "      <td>[大韓自强會月報刊行祝辭, 此 月에 知現世此月之事고 來月에 知現世來月之事야 有參互...</td>\n",
              "      <td>[雲庭, 尹孝定, 春湖, 金相範, 金碩桓, 海土, 尹敦求, 太原, 池錫永, 太明軾,...</td>\n",
              "      <td>None</td>\n",
              "      <td>[大韓自强會, 大韓自强會, 大韓自强會, 自强會, 自强會, 自强會, 自强會, 自强會]</td>\n",
              "      <td>None</td>\n",
              "      <td>None</td>\n",
              "    </tr>\n",
              "    <tr>\n",
              "      <th>2</th>\n",
              "      <td>https://db.history.go.kr/id/ma_001_0010_0030</td>\n",
              "      <td>대한자강회월보 제1호</td>\n",
              "      <td>1906년 07월 31일</td>\n",
              "      <td>本會會報</td>\n",
              "      <td>尹孝定 編纂</td>\n",
              "      <td>소식</td>\n",
              "      <td>[本會會報尹孝定 編纂, 光武 十年 四月 二日에 大韓自强會 趣旨書 及 規則으로 發起...</td>\n",
              "      <td>[光武, 尹孝定, 張志淵, 沈宜性, 林珍洙, 金相範, 檀, 箕, 光武, 張志淵, 尹...</td>\n",
              "      <td>[漢城, 園洞, 典洞, 桑港, 桑港, 典洞, 北京, 西郡, 桑港]</td>\n",
              "      <td>[大韓自强會, 大韓自强會, 自强會, 大韓自强會, 大韓自强會, 自强會, 大韓自强會, ...</td>\n",
              "      <td>[警務廳, 總理, 警務廳, 學部, 學部, 學部]</td>\n",
              "      <td>[耶蘇, 白蓮庵, 大韓每日申報, 儒敎]</td>\n",
              "    </tr>\n",
              "    <tr>\n",
              "      <th>3</th>\n",
              "      <td>https://db.history.go.kr/id/ma_001_0010_0040</td>\n",
              "      <td>대한자강회월보 제1호</td>\n",
              "      <td>1906년 07월 31일</td>\n",
              "      <td>大韓精神</td>\n",
              "      <td>謙谷 朴殷植</td>\n",
              "      <td>논설</td>\n",
              "      <td>[大韓精神謙谷 朴殷植, 普天之下大陸之上에 各種 人類가 野蠻土番을 除 外에 個個 ...</td>\n",
              "      <td>None</td>\n",
              "      <td>None</td>\n",
              "      <td>[大韓自强會]</td>\n",
              "      <td>None</td>\n",
              "      <td>None</td>\n",
              "    </tr>\n",
              "    <tr>\n",
              "      <th>4</th>\n",
              "      <td>https://db.history.go.kr/id/ma_001_0010_0050</td>\n",
              "      <td>대한자강회월보 제1호</td>\n",
              "      <td>1906년 07월 31일</td>\n",
              "      <td>殖産部</td>\n",
              "      <td>雲草 玄은</td>\n",
              "      <td>논설</td>\n",
              "      <td>[殖産部雲草 玄은, 夫 國家의 文明이 發達됨은 專히 富强의 實力에 係으로 現에 泰...</td>\n",
              "      <td>[堯舜, 檀, 箕]</td>\n",
              "      <td>None</td>\n",
              "      <td>None</td>\n",
              "      <td>None</td>\n",
              "      <td>[禹謨, 禹貢, 洪範, 管子, 詩經, 春秋, 高句麗]</td>\n",
              "    </tr>\n",
              "    <tr>\n",
              "      <th>...</th>\n",
              "      <td>...</td>\n",
              "      <td>...</td>\n",
              "      <td>...</td>\n",
              "      <td>...</td>\n",
              "      <td>...</td>\n",
              "      <td>...</td>\n",
              "      <td>...</td>\n",
              "      <td>...</td>\n",
              "      <td>...</td>\n",
              "      <td>...</td>\n",
              "      <td>...</td>\n",
              "      <td>...</td>\n",
              "    </tr>\n",
              "    <tr>\n",
              "      <th>39457</th>\n",
              "      <td>https://db.history.go.kr/id/ma_095_0260_0140</td>\n",
              "      <td>호남평론 제3권 제8호</td>\n",
              "      <td>1937년 08월 15일</td>\n",
              "      <td>버드나무 그늘의 少女</td>\n",
              "      <td>尹影</td>\n",
              "      <td>None</td>\n",
              "      <td>[버드나무 그늘의 少女尹影]</td>\n",
              "      <td>None</td>\n",
              "      <td>None</td>\n",
              "      <td>None</td>\n",
              "      <td>None</td>\n",
              "      <td>None</td>\n",
              "    </tr>\n",
              "    <tr>\n",
              "      <th>39458</th>\n",
              "      <td>https://db.history.go.kr/id/ma_095_0260_0150</td>\n",
              "      <td>호남평론 제3권 제8호</td>\n",
              "      <td>1937년 08월 15일</td>\n",
              "      <td>詩: 바다가에서</td>\n",
              "      <td>一石</td>\n",
              "      <td>None</td>\n",
              "      <td>[詩: 바다가에서一石]</td>\n",
              "      <td>None</td>\n",
              "      <td>None</td>\n",
              "      <td>None</td>\n",
              "      <td>None</td>\n",
              "      <td>None</td>\n",
              "    </tr>\n",
              "    <tr>\n",
              "      <th>39459</th>\n",
              "      <td>https://db.history.go.kr/id/ma_095_0260_0160</td>\n",
              "      <td>호남평론 제3권 제8호</td>\n",
              "      <td>1937년 08월 15일</td>\n",
              "      <td>戱曲: 水害後</td>\n",
              "      <td>朴東和</td>\n",
              "      <td>None</td>\n",
              "      <td>[戱曲: 水害後朴東和]</td>\n",
              "      <td>None</td>\n",
              "      <td>None</td>\n",
              "      <td>None</td>\n",
              "      <td>None</td>\n",
              "      <td>None</td>\n",
              "    </tr>\n",
              "    <tr>\n",
              "      <th>39460</th>\n",
              "      <td>https://db.history.go.kr/id/ma_095_0260_0170</td>\n",
              "      <td>호남평론 제3권 제8호</td>\n",
              "      <td>1937년 08월 15일</td>\n",
              "      <td>詩: H孃의 半生記</td>\n",
              "      <td>溝隱</td>\n",
              "      <td>None</td>\n",
              "      <td>[詩: H孃의 半生記溝隱]</td>\n",
              "      <td>None</td>\n",
              "      <td>None</td>\n",
              "      <td>None</td>\n",
              "      <td>None</td>\n",
              "      <td>None</td>\n",
              "    </tr>\n",
              "    <tr>\n",
              "      <th>39461</th>\n",
              "      <td>https://db.history.go.kr/id/ma_095_0260_0180</td>\n",
              "      <td>호남평론 제3권 제8호</td>\n",
              "      <td>1937년 08월 15일</td>\n",
              "      <td>創作: 不貞女</td>\n",
              "      <td>野人</td>\n",
              "      <td>None</td>\n",
              "      <td>[創作: 不貞女野人]</td>\n",
              "      <td>None</td>\n",
              "      <td>None</td>\n",
              "      <td>None</td>\n",
              "      <td>None</td>\n",
              "      <td>None</td>\n",
              "    </tr>\n",
              "  </tbody>\n",
              "</table>\n",
              "<p>39462 rows × 12 columns</p>\n",
              "</div>"
            ],
            "text/plain": [
              "                                                url           잡지명  \\\n",
              "0      https://db.history.go.kr/id/ma_001_0010_0010   대한자강회월보 제1호   \n",
              "1      https://db.history.go.kr/id/ma_001_0010_0020   대한자강회월보 제1호   \n",
              "2      https://db.history.go.kr/id/ma_001_0010_0030   대한자강회월보 제1호   \n",
              "3      https://db.history.go.kr/id/ma_001_0010_0040   대한자강회월보 제1호   \n",
              "4      https://db.history.go.kr/id/ma_001_0010_0050   대한자강회월보 제1호   \n",
              "...                                             ...           ...   \n",
              "39457  https://db.history.go.kr/id/ma_095_0260_0140  호남평론 제3권 제8호   \n",
              "39458  https://db.history.go.kr/id/ma_095_0260_0150  호남평론 제3권 제8호   \n",
              "39459  https://db.history.go.kr/id/ma_095_0260_0160  호남평론 제3권 제8호   \n",
              "39460  https://db.history.go.kr/id/ma_095_0260_0170  호남평론 제3권 제8호   \n",
              "39461  https://db.history.go.kr/id/ma_095_0260_0180  호남평론 제3권 제8호   \n",
              "\n",
              "                 발행일          기사제목      필자  기사형태  \\\n",
              "0      1906년 07월 31일  大韓自强會月報序［三編］    None    논설   \n",
              "1      1906년 07월 31일   大韓自强會月報刊行祝辭    None    논설   \n",
              "2      1906년 07월 31일          本會會報  尹孝定 編纂    소식   \n",
              "3      1906년 07월 31일          大韓精神  謙谷 朴殷植    논설   \n",
              "4      1906년 07월 31일           殖産部   雲草 玄은    논설   \n",
              "...              ...           ...     ...   ...   \n",
              "39457  1937년 08월 15일   버드나무 그늘의 少女      尹影  None   \n",
              "39458  1937년 08월 15일      詩: 바다가에서      一石  None   \n",
              "39459  1937년 08월 15일       戱曲: 水害後     朴東和  None   \n",
              "39460  1937년 08월 15일    詩: H孃의 半生記      溝隱  None   \n",
              "39461  1937년 08월 15일       創作: 不貞女      野人  None   \n",
              "\n",
              "                                              paragraphs  \\\n",
              "0      [大韓自强會月報序［三編］, 日에 有客이 促膝附耳고 叩之于余 曰 自强會之名稱과 及 ...   \n",
              "1      [大韓自强會月報刊行祝辭, 此 月에 知現世此月之事고 來月에 知現世來月之事야 有參互...   \n",
              "2      [本會會報尹孝定 編纂, 光武 十年 四月 二日에 大韓自强會 趣旨書 及 規則으로 發起...   \n",
              "3      [大韓精神謙谷 朴殷植, 普天之下大陸之上에 各種 人類가 野蠻土番을 除 外에 個個 ...   \n",
              "4      [殖産部雲草 玄은, 夫 國家의 文明이 發達됨은 專히 富强의 實力에 係으로 現에 泰...   \n",
              "...                                                  ...   \n",
              "39457                                    [버드나무 그늘의 少女尹影]   \n",
              "39458                                       [詩: 바다가에서一石]   \n",
              "39459                                       [戱曲: 水害後朴東和]   \n",
              "39460                                     [詩: H孃의 半生記溝隱]   \n",
              "39461                                        [創作: 不貞女野人]   \n",
              "\n",
              "                                                      이름  \\\n",
              "0                    [光武, 尹致昊, 南嶽居士, 李沂, 金陵, 大垣丈夫, 南嵩山人]   \n",
              "1      [雲庭, 尹孝定, 春湖, 金相範, 金碩桓, 海土, 尹敦求, 太原, 池錫永, 太明軾,...   \n",
              "2      [光武, 尹孝定, 張志淵, 沈宜性, 林珍洙, 金相範, 檀, 箕, 光武, 張志淵, 尹...   \n",
              "3                                                   None   \n",
              "4                                             [堯舜, 檀, 箕]   \n",
              "...                                                  ...   \n",
              "39457                                               None   \n",
              "39458                                               None   \n",
              "39459                                               None   \n",
              "39460                                               None   \n",
              "39461                                               None   \n",
              "\n",
              "                                         지명  \\\n",
              "0                                      None   \n",
              "1                                      None   \n",
              "2      [漢城, 園洞, 典洞, 桑港, 桑港, 典洞, 北京, 西郡, 桑港]   \n",
              "3                                      None   \n",
              "4                                      None   \n",
              "...                                     ...   \n",
              "39457                                  None   \n",
              "39458                                  None   \n",
              "39459                                  None   \n",
              "39460                                  None   \n",
              "39461                                  None   \n",
              "\n",
              "                                                      단체  \\\n",
              "0                                      [自强會, 自强會, 大韓自强會]   \n",
              "1         [大韓自强會, 大韓自强會, 大韓自强會, 自强會, 自强會, 自强會, 自强會, 自强會]   \n",
              "2      [大韓自强會, 大韓自强會, 自强會, 大韓自强會, 大韓自强會, 自强會, 大韓自强會, ...   \n",
              "3                                                [大韓自强會]   \n",
              "4                                                   None   \n",
              "...                                                  ...   \n",
              "39457                                               None   \n",
              "39458                                               None   \n",
              "39459                                               None   \n",
              "39460                                               None   \n",
              "39461                                               None   \n",
              "\n",
              "                               관서                             기타  \n",
              "0                            None                           None  \n",
              "1                            None                           None  \n",
              "2      [警務廳, 總理, 警務廳, 學部, 學部, 學部]          [耶蘇, 白蓮庵, 大韓每日申報, 儒敎]  \n",
              "3                            None                           None  \n",
              "4                            None  [禹謨, 禹貢, 洪範, 管子, 詩經, 春秋, 高句麗]  \n",
              "...                           ...                            ...  \n",
              "39457                        None                           None  \n",
              "39458                        None                           None  \n",
              "39459                        None                           None  \n",
              "39460                        None                           None  \n",
              "39461                        None                           None  \n",
              "\n",
              "[39462 rows x 12 columns]"
            ]
          },
          "execution_count": 34,
          "metadata": {},
          "output_type": "execute_result"
        }
      ],
      "source": [
        "df = pd.DataFrame(data_list)\n",
        "df"
      ]
    },
    {
      "cell_type": "code",
      "execution_count": 35,
      "metadata": {
        "id": "FtxI6qDx1hci"
      },
      "outputs": [],
      "source": [
        "# pickle로 저장\n",
        "df.to_pickle('./240214_한국근현대잡지자료.pkl')"
      ]
    },
    {
      "cell_type": "code",
      "execution_count": 36,
      "metadata": {},
      "outputs": [
        {
          "data": {
            "text/html": [
              "<div>\n",
              "<style scoped>\n",
              "    .dataframe tbody tr th:only-of-type {\n",
              "        vertical-align: middle;\n",
              "    }\n",
              "\n",
              "    .dataframe tbody tr th {\n",
              "        vertical-align: top;\n",
              "    }\n",
              "\n",
              "    .dataframe thead th {\n",
              "        text-align: right;\n",
              "    }\n",
              "</style>\n",
              "<table border=\"1\" class=\"dataframe\">\n",
              "  <thead>\n",
              "    <tr style=\"text-align: right;\">\n",
              "      <th></th>\n",
              "      <th>url</th>\n",
              "      <th>잡지명</th>\n",
              "      <th>발행일</th>\n",
              "      <th>기사제목</th>\n",
              "      <th>필자</th>\n",
              "      <th>기사형태</th>\n",
              "      <th>paragraphs</th>\n",
              "      <th>이름</th>\n",
              "      <th>지명</th>\n",
              "      <th>단체</th>\n",
              "      <th>관서</th>\n",
              "      <th>기타</th>\n",
              "    </tr>\n",
              "  </thead>\n",
              "  <tbody>\n",
              "    <tr>\n",
              "      <th>0</th>\n",
              "      <td>https://db.history.go.kr/id/ma_001_0010_0010</td>\n",
              "      <td>대한자강회월보 제1호</td>\n",
              "      <td>1906년 07월 31일</td>\n",
              "      <td>大韓自强會月報序［三編］</td>\n",
              "      <td>None</td>\n",
              "      <td>논설</td>\n",
              "      <td>大韓自强會月報序［三編］</td>\n",
              "      <td>[光武, 尹致昊, 南嶽居士, 李沂, 金陵, 大垣丈夫, 南嵩山人]</td>\n",
              "      <td>None</td>\n",
              "      <td>[自强會, 自强會, 大韓自强會]</td>\n",
              "      <td>None</td>\n",
              "      <td>None</td>\n",
              "    </tr>\n",
              "    <tr>\n",
              "      <th>0</th>\n",
              "      <td>https://db.history.go.kr/id/ma_001_0010_0010</td>\n",
              "      <td>대한자강회월보 제1호</td>\n",
              "      <td>1906년 07월 31일</td>\n",
              "      <td>大韓自强會月報序［三編］</td>\n",
              "      <td>None</td>\n",
              "      <td>논설</td>\n",
              "      <td>日에 有客이 促膝附耳고 叩之于余 曰 自强會之名稱과 及 其 趣旨 業己公佈大世矣라....</td>\n",
              "      <td>[光武, 尹致昊, 南嶽居士, 李沂, 金陵, 大垣丈夫, 南嵩山人]</td>\n",
              "      <td>None</td>\n",
              "      <td>[自强會, 自强會, 大韓自强會]</td>\n",
              "      <td>None</td>\n",
              "      <td>None</td>\n",
              "    </tr>\n",
              "    <tr>\n",
              "      <th>0</th>\n",
              "      <td>https://db.history.go.kr/id/ma_001_0010_0010</td>\n",
              "      <td>대한자강회월보 제1호</td>\n",
              "      <td>1906년 07월 31일</td>\n",
              "      <td>大韓自强會月報序［三編］</td>\n",
              "      <td>None</td>\n",
              "      <td>논설</td>\n",
              "      <td>光武 十年 七月 日 會長 尹致昊</td>\n",
              "      <td>[光武, 尹致昊, 南嶽居士, 李沂, 金陵, 大垣丈夫, 南嵩山人]</td>\n",
              "      <td>None</td>\n",
              "      <td>[自强會, 自强會, 大韓自强會]</td>\n",
              "      <td>None</td>\n",
              "      <td>None</td>\n",
              "    </tr>\n",
              "    <tr>\n",
              "      <th>0</th>\n",
              "      <td>https://db.history.go.kr/id/ma_001_0010_0010</td>\n",
              "      <td>대한자강회월보 제1호</td>\n",
              "      <td>1906년 07월 31일</td>\n",
              "      <td>大韓自强會月報序［三編］</td>\n",
              "      <td>None</td>\n",
              "      <td>논설</td>\n",
              "      <td>●會之有報 何歟오 曰 使會員讀之也니라 其 使 會員讀之 何歟오 曰 欲其求自强之道也...</td>\n",
              "      <td>[光武, 尹致昊, 南嶽居士, 李沂, 金陵, 大垣丈夫, 南嵩山人]</td>\n",
              "      <td>None</td>\n",
              "      <td>[自强會, 自强會, 大韓自强會]</td>\n",
              "      <td>None</td>\n",
              "      <td>None</td>\n",
              "    </tr>\n",
              "    <tr>\n",
              "      <th>0</th>\n",
              "      <td>https://db.history.go.kr/id/ma_001_0010_0010</td>\n",
              "      <td>대한자강회월보 제1호</td>\n",
              "      <td>1906년 07월 31일</td>\n",
              "      <td>大韓自强會月報序［三編］</td>\n",
              "      <td>None</td>\n",
              "      <td>논설</td>\n",
              "      <td>南嶽居士李沂 識</td>\n",
              "      <td>[光武, 尹致昊, 南嶽居士, 李沂, 金陵, 大垣丈夫, 南嵩山人]</td>\n",
              "      <td>None</td>\n",
              "      <td>[自强會, 自强會, 大韓自强會]</td>\n",
              "      <td>None</td>\n",
              "      <td>None</td>\n",
              "    </tr>\n",
              "    <tr>\n",
              "      <th>...</th>\n",
              "      <td>...</td>\n",
              "      <td>...</td>\n",
              "      <td>...</td>\n",
              "      <td>...</td>\n",
              "      <td>...</td>\n",
              "      <td>...</td>\n",
              "      <td>...</td>\n",
              "      <td>...</td>\n",
              "      <td>...</td>\n",
              "      <td>...</td>\n",
              "      <td>...</td>\n",
              "      <td>...</td>\n",
              "    </tr>\n",
              "    <tr>\n",
              "      <th>39457</th>\n",
              "      <td>https://db.history.go.kr/id/ma_095_0260_0140</td>\n",
              "      <td>호남평론 제3권 제8호</td>\n",
              "      <td>1937년 08월 15일</td>\n",
              "      <td>버드나무 그늘의 少女</td>\n",
              "      <td>尹影</td>\n",
              "      <td>None</td>\n",
              "      <td>버드나무 그늘의 少女尹影</td>\n",
              "      <td>None</td>\n",
              "      <td>None</td>\n",
              "      <td>None</td>\n",
              "      <td>None</td>\n",
              "      <td>None</td>\n",
              "    </tr>\n",
              "    <tr>\n",
              "      <th>39458</th>\n",
              "      <td>https://db.history.go.kr/id/ma_095_0260_0150</td>\n",
              "      <td>호남평론 제3권 제8호</td>\n",
              "      <td>1937년 08월 15일</td>\n",
              "      <td>詩: 바다가에서</td>\n",
              "      <td>一石</td>\n",
              "      <td>None</td>\n",
              "      <td>詩: 바다가에서一石</td>\n",
              "      <td>None</td>\n",
              "      <td>None</td>\n",
              "      <td>None</td>\n",
              "      <td>None</td>\n",
              "      <td>None</td>\n",
              "    </tr>\n",
              "    <tr>\n",
              "      <th>39459</th>\n",
              "      <td>https://db.history.go.kr/id/ma_095_0260_0160</td>\n",
              "      <td>호남평론 제3권 제8호</td>\n",
              "      <td>1937년 08월 15일</td>\n",
              "      <td>戱曲: 水害後</td>\n",
              "      <td>朴東和</td>\n",
              "      <td>None</td>\n",
              "      <td>戱曲: 水害後朴東和</td>\n",
              "      <td>None</td>\n",
              "      <td>None</td>\n",
              "      <td>None</td>\n",
              "      <td>None</td>\n",
              "      <td>None</td>\n",
              "    </tr>\n",
              "    <tr>\n",
              "      <th>39460</th>\n",
              "      <td>https://db.history.go.kr/id/ma_095_0260_0170</td>\n",
              "      <td>호남평론 제3권 제8호</td>\n",
              "      <td>1937년 08월 15일</td>\n",
              "      <td>詩: H孃의 半生記</td>\n",
              "      <td>溝隱</td>\n",
              "      <td>None</td>\n",
              "      <td>詩: H孃의 半生記溝隱</td>\n",
              "      <td>None</td>\n",
              "      <td>None</td>\n",
              "      <td>None</td>\n",
              "      <td>None</td>\n",
              "      <td>None</td>\n",
              "    </tr>\n",
              "    <tr>\n",
              "      <th>39461</th>\n",
              "      <td>https://db.history.go.kr/id/ma_095_0260_0180</td>\n",
              "      <td>호남평론 제3권 제8호</td>\n",
              "      <td>1937년 08월 15일</td>\n",
              "      <td>創作: 不貞女</td>\n",
              "      <td>野人</td>\n",
              "      <td>None</td>\n",
              "      <td>創作: 不貞女野人</td>\n",
              "      <td>None</td>\n",
              "      <td>None</td>\n",
              "      <td>None</td>\n",
              "      <td>None</td>\n",
              "      <td>None</td>\n",
              "    </tr>\n",
              "  </tbody>\n",
              "</table>\n",
              "<p>326961 rows × 12 columns</p>\n",
              "</div>"
            ],
            "text/plain": [
              "                                                url           잡지명  \\\n",
              "0      https://db.history.go.kr/id/ma_001_0010_0010   대한자강회월보 제1호   \n",
              "0      https://db.history.go.kr/id/ma_001_0010_0010   대한자강회월보 제1호   \n",
              "0      https://db.history.go.kr/id/ma_001_0010_0010   대한자강회월보 제1호   \n",
              "0      https://db.history.go.kr/id/ma_001_0010_0010   대한자강회월보 제1호   \n",
              "0      https://db.history.go.kr/id/ma_001_0010_0010   대한자강회월보 제1호   \n",
              "...                                             ...           ...   \n",
              "39457  https://db.history.go.kr/id/ma_095_0260_0140  호남평론 제3권 제8호   \n",
              "39458  https://db.history.go.kr/id/ma_095_0260_0150  호남평론 제3권 제8호   \n",
              "39459  https://db.history.go.kr/id/ma_095_0260_0160  호남평론 제3권 제8호   \n",
              "39460  https://db.history.go.kr/id/ma_095_0260_0170  호남평론 제3권 제8호   \n",
              "39461  https://db.history.go.kr/id/ma_095_0260_0180  호남평론 제3권 제8호   \n",
              "\n",
              "                 발행일          기사제목    필자  기사형태  \\\n",
              "0      1906년 07월 31일  大韓自强會月報序［三編］  None    논설   \n",
              "0      1906년 07월 31일  大韓自强會月報序［三編］  None    논설   \n",
              "0      1906년 07월 31일  大韓自强會月報序［三編］  None    논설   \n",
              "0      1906년 07월 31일  大韓自强會月報序［三編］  None    논설   \n",
              "0      1906년 07월 31일  大韓自强會月報序［三編］  None    논설   \n",
              "...              ...           ...   ...   ...   \n",
              "39457  1937년 08월 15일   버드나무 그늘의 少女    尹影  None   \n",
              "39458  1937년 08월 15일      詩: 바다가에서    一石  None   \n",
              "39459  1937년 08월 15일       戱曲: 水害後   朴東和  None   \n",
              "39460  1937년 08월 15일    詩: H孃의 半生記    溝隱  None   \n",
              "39461  1937년 08월 15일       創作: 不貞女    野人  None   \n",
              "\n",
              "                                              paragraphs  \\\n",
              "0                                           大韓自强會月報序［三編］   \n",
              "0      日에 有客이 促膝附耳고 叩之于余 曰 自强會之名稱과 及 其 趣旨 業己公佈大世矣라....   \n",
              "0                                      光武 十年 七月 日 會長 尹致昊   \n",
              "0      ●會之有報 何歟오 曰 使會員讀之也니라 其 使 會員讀之 何歟오 曰 欲其求自强之道也...   \n",
              "0                                               南嶽居士李沂 識   \n",
              "...                                                  ...   \n",
              "39457                                      버드나무 그늘의 少女尹影   \n",
              "39458                                         詩: 바다가에서一石   \n",
              "39459                                         戱曲: 水害後朴東和   \n",
              "39460                                       詩: H孃의 半生記溝隱   \n",
              "39461                                          創作: 不貞女野人   \n",
              "\n",
              "                                        이름    지명                 단체    관서  \\\n",
              "0      [光武, 尹致昊, 南嶽居士, 李沂, 金陵, 大垣丈夫, 南嵩山人]  None  [自强會, 自强會, 大韓自强會]  None   \n",
              "0      [光武, 尹致昊, 南嶽居士, 李沂, 金陵, 大垣丈夫, 南嵩山人]  None  [自强會, 自强會, 大韓自强會]  None   \n",
              "0      [光武, 尹致昊, 南嶽居士, 李沂, 金陵, 大垣丈夫, 南嵩山人]  None  [自强會, 自强會, 大韓自强會]  None   \n",
              "0      [光武, 尹致昊, 南嶽居士, 李沂, 金陵, 大垣丈夫, 南嵩山人]  None  [自强會, 自强會, 大韓自强會]  None   \n",
              "0      [光武, 尹致昊, 南嶽居士, 李沂, 金陵, 大垣丈夫, 南嵩山人]  None  [自强會, 自强會, 大韓自强會]  None   \n",
              "...                                    ...   ...                ...   ...   \n",
              "39457                                 None  None               None  None   \n",
              "39458                                 None  None               None  None   \n",
              "39459                                 None  None               None  None   \n",
              "39460                                 None  None               None  None   \n",
              "39461                                 None  None               None  None   \n",
              "\n",
              "         기타  \n",
              "0      None  \n",
              "0      None  \n",
              "0      None  \n",
              "0      None  \n",
              "0      None  \n",
              "...     ...  \n",
              "39457  None  \n",
              "39458  None  \n",
              "39459  None  \n",
              "39460  None  \n",
              "39461  None  \n",
              "\n",
              "[326961 rows x 12 columns]"
            ]
          },
          "execution_count": 36,
          "metadata": {},
          "output_type": "execute_result"
        }
      ],
      "source": [
        "# paragraphs 리스트로 묶인것 풀기(단락별)\n",
        "df_explode = df.explode('paragraphs')\n",
        "df_explode"
      ]
    },
    {
      "cell_type": "code",
      "execution_count": 37,
      "metadata": {},
      "outputs": [],
      "source": [
        "# 엑셀로 저장\n",
        "df_explode.to_excel('./240214_한국근현대잡지자료_단락.xlsx',index=None)"
      ]
    }
  ],
  "metadata": {
    "colab": {
      "include_colab_link": true,
      "provenance": []
    },
    "kernelspec": {
      "display_name": "Python 3",
      "name": "python3"
    },
    "language_info": {
      "codemirror_mode": {
        "name": "ipython",
        "version": 3
      },
      "file_extension": ".py",
      "mimetype": "text/x-python",
      "name": "python",
      "nbconvert_exporter": "python",
      "pygments_lexer": "ipython3",
      "version": "3.11.6"
    },
    "widgets": {
      "application/vnd.jupyter.widget-state+json": {
        "0483ac7b9331441c87990b8891fdafed": {
          "model_module": "@jupyter-widgets/controls",
          "model_module_version": "1.5.0",
          "model_name": "HTMLModel",
          "state": {
            "_dom_classes": [],
            "_model_module": "@jupyter-widgets/controls",
            "_model_module_version": "1.5.0",
            "_model_name": "HTMLModel",
            "_view_count": null,
            "_view_module": "@jupyter-widgets/controls",
            "_view_module_version": "1.5.0",
            "_view_name": "HTMLView",
            "description": "",
            "description_tooltip": null,
            "layout": "IPY_MODEL_a818eed066ee433a909949ec4ccc870a",
            "placeholder": "​",
            "style": "IPY_MODEL_ff7a7b08836e4102b2ed4bebb150e756",
            "value": "  8%"
          }
        },
        "5cb8df32c57b43da836c29bdc42257ef": {
          "model_module": "@jupyter-widgets/controls",
          "model_module_version": "1.5.0",
          "model_name": "HTMLModel",
          "state": {
            "_dom_classes": [],
            "_model_module": "@jupyter-widgets/controls",
            "_model_module_version": "1.5.0",
            "_model_name": "HTMLModel",
            "_view_count": null,
            "_view_module": "@jupyter-widgets/controls",
            "_view_module_version": "1.5.0",
            "_view_name": "HTMLView",
            "description": "",
            "description_tooltip": null,
            "layout": "IPY_MODEL_95fc1b554d364df99943808cc9b58a35",
            "placeholder": "​",
            "style": "IPY_MODEL_bad99d6833f640d2a63a24c817cbce70",
            "value": " 4/50 [04:23&lt;50:34, 65.96s/it]"
          }
        },
        "95fc1b554d364df99943808cc9b58a35": {
          "model_module": "@jupyter-widgets/base",
          "model_module_version": "1.2.0",
          "model_name": "LayoutModel",
          "state": {
            "_model_module": "@jupyter-widgets/base",
            "_model_module_version": "1.2.0",
            "_model_name": "LayoutModel",
            "_view_count": null,
            "_view_module": "@jupyter-widgets/base",
            "_view_module_version": "1.2.0",
            "_view_name": "LayoutView",
            "align_content": null,
            "align_items": null,
            "align_self": null,
            "border": null,
            "bottom": null,
            "display": null,
            "flex": null,
            "flex_flow": null,
            "grid_area": null,
            "grid_auto_columns": null,
            "grid_auto_flow": null,
            "grid_auto_rows": null,
            "grid_column": null,
            "grid_gap": null,
            "grid_row": null,
            "grid_template_areas": null,
            "grid_template_columns": null,
            "grid_template_rows": null,
            "height": null,
            "justify_content": null,
            "justify_items": null,
            "left": null,
            "margin": null,
            "max_height": null,
            "max_width": null,
            "min_height": null,
            "min_width": null,
            "object_fit": null,
            "object_position": null,
            "order": null,
            "overflow": null,
            "overflow_x": null,
            "overflow_y": null,
            "padding": null,
            "right": null,
            "top": null,
            "visibility": null,
            "width": null
          }
        },
        "a80c262e51f346efb096bb6407c88052": {
          "model_module": "@jupyter-widgets/controls",
          "model_module_version": "1.5.0",
          "model_name": "FloatProgressModel",
          "state": {
            "_dom_classes": [],
            "_model_module": "@jupyter-widgets/controls",
            "_model_module_version": "1.5.0",
            "_model_name": "FloatProgressModel",
            "_view_count": null,
            "_view_module": "@jupyter-widgets/controls",
            "_view_module_version": "1.5.0",
            "_view_name": "ProgressView",
            "bar_style": "danger",
            "description": "",
            "description_tooltip": null,
            "layout": "IPY_MODEL_e3aa8678c17e4c728294f18276c46576",
            "max": 50,
            "min": 0,
            "orientation": "horizontal",
            "style": "IPY_MODEL_ccd7463449784ca3a1bce4928cc64fcf",
            "value": 4
          }
        },
        "a818eed066ee433a909949ec4ccc870a": {
          "model_module": "@jupyter-widgets/base",
          "model_module_version": "1.2.0",
          "model_name": "LayoutModel",
          "state": {
            "_model_module": "@jupyter-widgets/base",
            "_model_module_version": "1.2.0",
            "_model_name": "LayoutModel",
            "_view_count": null,
            "_view_module": "@jupyter-widgets/base",
            "_view_module_version": "1.2.0",
            "_view_name": "LayoutView",
            "align_content": null,
            "align_items": null,
            "align_self": null,
            "border": null,
            "bottom": null,
            "display": null,
            "flex": null,
            "flex_flow": null,
            "grid_area": null,
            "grid_auto_columns": null,
            "grid_auto_flow": null,
            "grid_auto_rows": null,
            "grid_column": null,
            "grid_gap": null,
            "grid_row": null,
            "grid_template_areas": null,
            "grid_template_columns": null,
            "grid_template_rows": null,
            "height": null,
            "justify_content": null,
            "justify_items": null,
            "left": null,
            "margin": null,
            "max_height": null,
            "max_width": null,
            "min_height": null,
            "min_width": null,
            "object_fit": null,
            "object_position": null,
            "order": null,
            "overflow": null,
            "overflow_x": null,
            "overflow_y": null,
            "padding": null,
            "right": null,
            "top": null,
            "visibility": null,
            "width": null
          }
        },
        "bad99d6833f640d2a63a24c817cbce70": {
          "model_module": "@jupyter-widgets/controls",
          "model_module_version": "1.5.0",
          "model_name": "DescriptionStyleModel",
          "state": {
            "_model_module": "@jupyter-widgets/controls",
            "_model_module_version": "1.5.0",
            "_model_name": "DescriptionStyleModel",
            "_view_count": null,
            "_view_module": "@jupyter-widgets/base",
            "_view_module_version": "1.2.0",
            "_view_name": "StyleView",
            "description_width": ""
          }
        },
        "ccd7463449784ca3a1bce4928cc64fcf": {
          "model_module": "@jupyter-widgets/controls",
          "model_module_version": "1.5.0",
          "model_name": "ProgressStyleModel",
          "state": {
            "_model_module": "@jupyter-widgets/controls",
            "_model_module_version": "1.5.0",
            "_model_name": "ProgressStyleModel",
            "_view_count": null,
            "_view_module": "@jupyter-widgets/base",
            "_view_module_version": "1.2.0",
            "_view_name": "StyleView",
            "bar_color": null,
            "description_width": ""
          }
        },
        "e3aa8678c17e4c728294f18276c46576": {
          "model_module": "@jupyter-widgets/base",
          "model_module_version": "1.2.0",
          "model_name": "LayoutModel",
          "state": {
            "_model_module": "@jupyter-widgets/base",
            "_model_module_version": "1.2.0",
            "_model_name": "LayoutModel",
            "_view_count": null,
            "_view_module": "@jupyter-widgets/base",
            "_view_module_version": "1.2.0",
            "_view_name": "LayoutView",
            "align_content": null,
            "align_items": null,
            "align_self": null,
            "border": null,
            "bottom": null,
            "display": null,
            "flex": null,
            "flex_flow": null,
            "grid_area": null,
            "grid_auto_columns": null,
            "grid_auto_flow": null,
            "grid_auto_rows": null,
            "grid_column": null,
            "grid_gap": null,
            "grid_row": null,
            "grid_template_areas": null,
            "grid_template_columns": null,
            "grid_template_rows": null,
            "height": null,
            "justify_content": null,
            "justify_items": null,
            "left": null,
            "margin": null,
            "max_height": null,
            "max_width": null,
            "min_height": null,
            "min_width": null,
            "object_fit": null,
            "object_position": null,
            "order": null,
            "overflow": null,
            "overflow_x": null,
            "overflow_y": null,
            "padding": null,
            "right": null,
            "top": null,
            "visibility": null,
            "width": null
          }
        },
        "f0d426ede3cd48188366868530ec6f26": {
          "model_module": "@jupyter-widgets/controls",
          "model_module_version": "1.5.0",
          "model_name": "HBoxModel",
          "state": {
            "_dom_classes": [],
            "_model_module": "@jupyter-widgets/controls",
            "_model_module_version": "1.5.0",
            "_model_name": "HBoxModel",
            "_view_count": null,
            "_view_module": "@jupyter-widgets/controls",
            "_view_module_version": "1.5.0",
            "_view_name": "HBoxView",
            "box_style": "",
            "children": [
              "IPY_MODEL_0483ac7b9331441c87990b8891fdafed",
              "IPY_MODEL_a80c262e51f346efb096bb6407c88052",
              "IPY_MODEL_5cb8df32c57b43da836c29bdc42257ef"
            ],
            "layout": "IPY_MODEL_f63c6c4eeaf94712b053581bf94e6c60"
          }
        },
        "f63c6c4eeaf94712b053581bf94e6c60": {
          "model_module": "@jupyter-widgets/base",
          "model_module_version": "1.2.0",
          "model_name": "LayoutModel",
          "state": {
            "_model_module": "@jupyter-widgets/base",
            "_model_module_version": "1.2.0",
            "_model_name": "LayoutModel",
            "_view_count": null,
            "_view_module": "@jupyter-widgets/base",
            "_view_module_version": "1.2.0",
            "_view_name": "LayoutView",
            "align_content": null,
            "align_items": null,
            "align_self": null,
            "border": null,
            "bottom": null,
            "display": null,
            "flex": null,
            "flex_flow": null,
            "grid_area": null,
            "grid_auto_columns": null,
            "grid_auto_flow": null,
            "grid_auto_rows": null,
            "grid_column": null,
            "grid_gap": null,
            "grid_row": null,
            "grid_template_areas": null,
            "grid_template_columns": null,
            "grid_template_rows": null,
            "height": null,
            "justify_content": null,
            "justify_items": null,
            "left": null,
            "margin": null,
            "max_height": null,
            "max_width": null,
            "min_height": null,
            "min_width": null,
            "object_fit": null,
            "object_position": null,
            "order": null,
            "overflow": null,
            "overflow_x": null,
            "overflow_y": null,
            "padding": null,
            "right": null,
            "top": null,
            "visibility": null,
            "width": null
          }
        },
        "ff7a7b08836e4102b2ed4bebb150e756": {
          "model_module": "@jupyter-widgets/controls",
          "model_module_version": "1.5.0",
          "model_name": "DescriptionStyleModel",
          "state": {
            "_model_module": "@jupyter-widgets/controls",
            "_model_module_version": "1.5.0",
            "_model_name": "DescriptionStyleModel",
            "_view_count": null,
            "_view_module": "@jupyter-widgets/base",
            "_view_module_version": "1.2.0",
            "_view_name": "StyleView",
            "description_width": ""
          }
        }
      }
    }
  },
  "nbformat": 4,
  "nbformat_minor": 0
}
