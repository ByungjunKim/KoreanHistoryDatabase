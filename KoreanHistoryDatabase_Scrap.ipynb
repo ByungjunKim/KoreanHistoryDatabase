{
  "nbformat": 4,
  "nbformat_minor": 0,
  "metadata": {
    "colab": {
      "provenance": [],
      "include_colab_link": true
    },
    "kernelspec": {
      "name": "python3",
      "display_name": "Python 3"
    },
    "language_info": {
      "name": "python"
    },
    "widgets": {
      "application/vnd.jupyter.widget-state+json": {
        "70bdd7f411654fbca6f19a658fe642d1": {
          "model_module": "@jupyter-widgets/controls",
          "model_name": "HBoxModel",
          "model_module_version": "1.5.0",
          "state": {
            "_dom_classes": [],
            "_model_module": "@jupyter-widgets/controls",
            "_model_module_version": "1.5.0",
            "_model_name": "HBoxModel",
            "_view_count": null,
            "_view_module": "@jupyter-widgets/controls",
            "_view_module_version": "1.5.0",
            "_view_name": "HBoxView",
            "box_style": "",
            "children": [
              "IPY_MODEL_f907064aedc74226a6ea857ce64f39ed",
              "IPY_MODEL_e809a994b91f4d4fa557bd43d366015e",
              "IPY_MODEL_36a64408d4ec428cbddf7558454372d4"
            ],
            "layout": "IPY_MODEL_5affad87876a40d9b679e1d1b2bcc0f5"
          }
        },
        "f907064aedc74226a6ea857ce64f39ed": {
          "model_module": "@jupyter-widgets/controls",
          "model_name": "HTMLModel",
          "model_module_version": "1.5.0",
          "state": {
            "_dom_classes": [],
            "_model_module": "@jupyter-widgets/controls",
            "_model_module_version": "1.5.0",
            "_model_name": "HTMLModel",
            "_view_count": null,
            "_view_module": "@jupyter-widgets/controls",
            "_view_module_version": "1.5.0",
            "_view_name": "HTMLView",
            "description": "",
            "description_tooltip": null,
            "layout": "IPY_MODEL_89085dfe9e654c02b25874c40e5b401f",
            "placeholder": "​",
            "style": "IPY_MODEL_16b2cac0113d45d89e9aa446b271b881",
            "value": " 18%"
          }
        },
        "e809a994b91f4d4fa557bd43d366015e": {
          "model_module": "@jupyter-widgets/controls",
          "model_name": "FloatProgressModel",
          "model_module_version": "1.5.0",
          "state": {
            "_dom_classes": [],
            "_model_module": "@jupyter-widgets/controls",
            "_model_module_version": "1.5.0",
            "_model_name": "FloatProgressModel",
            "_view_count": null,
            "_view_module": "@jupyter-widgets/controls",
            "_view_module_version": "1.5.0",
            "_view_name": "ProgressView",
            "bar_style": "",
            "description": "",
            "description_tooltip": null,
            "layout": "IPY_MODEL_d5f2231ca5344eb2aa5eb2b6e14543ab",
            "max": 50,
            "min": 0,
            "orientation": "horizontal",
            "style": "IPY_MODEL_660f571160d74249beee9b941761c93f",
            "value": 9
          }
        },
        "36a64408d4ec428cbddf7558454372d4": {
          "model_module": "@jupyter-widgets/controls",
          "model_name": "HTMLModel",
          "model_module_version": "1.5.0",
          "state": {
            "_dom_classes": [],
            "_model_module": "@jupyter-widgets/controls",
            "_model_module_version": "1.5.0",
            "_model_name": "HTMLModel",
            "_view_count": null,
            "_view_module": "@jupyter-widgets/controls",
            "_view_module_version": "1.5.0",
            "_view_name": "HTMLView",
            "description": "",
            "description_tooltip": null,
            "layout": "IPY_MODEL_1786a2f0a57a4b64a85cdb1f2587b5e6",
            "placeholder": "​",
            "style": "IPY_MODEL_d2c3dcc41eca4f20af9c8903c6deafd5",
            "value": " 9/50 [10:30&lt;48:18, 70.69s/it]"
          }
        },
        "5affad87876a40d9b679e1d1b2bcc0f5": {
          "model_module": "@jupyter-widgets/base",
          "model_name": "LayoutModel",
          "model_module_version": "1.2.0",
          "state": {
            "_model_module": "@jupyter-widgets/base",
            "_model_module_version": "1.2.0",
            "_model_name": "LayoutModel",
            "_view_count": null,
            "_view_module": "@jupyter-widgets/base",
            "_view_module_version": "1.2.0",
            "_view_name": "LayoutView",
            "align_content": null,
            "align_items": null,
            "align_self": null,
            "border": null,
            "bottom": null,
            "display": null,
            "flex": null,
            "flex_flow": null,
            "grid_area": null,
            "grid_auto_columns": null,
            "grid_auto_flow": null,
            "grid_auto_rows": null,
            "grid_column": null,
            "grid_gap": null,
            "grid_row": null,
            "grid_template_areas": null,
            "grid_template_columns": null,
            "grid_template_rows": null,
            "height": null,
            "justify_content": null,
            "justify_items": null,
            "left": null,
            "margin": null,
            "max_height": null,
            "max_width": null,
            "min_height": null,
            "min_width": null,
            "object_fit": null,
            "object_position": null,
            "order": null,
            "overflow": null,
            "overflow_x": null,
            "overflow_y": null,
            "padding": null,
            "right": null,
            "top": null,
            "visibility": null,
            "width": null
          }
        },
        "89085dfe9e654c02b25874c40e5b401f": {
          "model_module": "@jupyter-widgets/base",
          "model_name": "LayoutModel",
          "model_module_version": "1.2.0",
          "state": {
            "_model_module": "@jupyter-widgets/base",
            "_model_module_version": "1.2.0",
            "_model_name": "LayoutModel",
            "_view_count": null,
            "_view_module": "@jupyter-widgets/base",
            "_view_module_version": "1.2.0",
            "_view_name": "LayoutView",
            "align_content": null,
            "align_items": null,
            "align_self": null,
            "border": null,
            "bottom": null,
            "display": null,
            "flex": null,
            "flex_flow": null,
            "grid_area": null,
            "grid_auto_columns": null,
            "grid_auto_flow": null,
            "grid_auto_rows": null,
            "grid_column": null,
            "grid_gap": null,
            "grid_row": null,
            "grid_template_areas": null,
            "grid_template_columns": null,
            "grid_template_rows": null,
            "height": null,
            "justify_content": null,
            "justify_items": null,
            "left": null,
            "margin": null,
            "max_height": null,
            "max_width": null,
            "min_height": null,
            "min_width": null,
            "object_fit": null,
            "object_position": null,
            "order": null,
            "overflow": null,
            "overflow_x": null,
            "overflow_y": null,
            "padding": null,
            "right": null,
            "top": null,
            "visibility": null,
            "width": null
          }
        },
        "16b2cac0113d45d89e9aa446b271b881": {
          "model_module": "@jupyter-widgets/controls",
          "model_name": "DescriptionStyleModel",
          "model_module_version": "1.5.0",
          "state": {
            "_model_module": "@jupyter-widgets/controls",
            "_model_module_version": "1.5.0",
            "_model_name": "DescriptionStyleModel",
            "_view_count": null,
            "_view_module": "@jupyter-widgets/base",
            "_view_module_version": "1.2.0",
            "_view_name": "StyleView",
            "description_width": ""
          }
        },
        "d5f2231ca5344eb2aa5eb2b6e14543ab": {
          "model_module": "@jupyter-widgets/base",
          "model_name": "LayoutModel",
          "model_module_version": "1.2.0",
          "state": {
            "_model_module": "@jupyter-widgets/base",
            "_model_module_version": "1.2.0",
            "_model_name": "LayoutModel",
            "_view_count": null,
            "_view_module": "@jupyter-widgets/base",
            "_view_module_version": "1.2.0",
            "_view_name": "LayoutView",
            "align_content": null,
            "align_items": null,
            "align_self": null,
            "border": null,
            "bottom": null,
            "display": null,
            "flex": null,
            "flex_flow": null,
            "grid_area": null,
            "grid_auto_columns": null,
            "grid_auto_flow": null,
            "grid_auto_rows": null,
            "grid_column": null,
            "grid_gap": null,
            "grid_row": null,
            "grid_template_areas": null,
            "grid_template_columns": null,
            "grid_template_rows": null,
            "height": null,
            "justify_content": null,
            "justify_items": null,
            "left": null,
            "margin": null,
            "max_height": null,
            "max_width": null,
            "min_height": null,
            "min_width": null,
            "object_fit": null,
            "object_position": null,
            "order": null,
            "overflow": null,
            "overflow_x": null,
            "overflow_y": null,
            "padding": null,
            "right": null,
            "top": null,
            "visibility": null,
            "width": null
          }
        },
        "660f571160d74249beee9b941761c93f": {
          "model_module": "@jupyter-widgets/controls",
          "model_name": "ProgressStyleModel",
          "model_module_version": "1.5.0",
          "state": {
            "_model_module": "@jupyter-widgets/controls",
            "_model_module_version": "1.5.0",
            "_model_name": "ProgressStyleModel",
            "_view_count": null,
            "_view_module": "@jupyter-widgets/base",
            "_view_module_version": "1.2.0",
            "_view_name": "StyleView",
            "bar_color": null,
            "description_width": ""
          }
        },
        "1786a2f0a57a4b64a85cdb1f2587b5e6": {
          "model_module": "@jupyter-widgets/base",
          "model_name": "LayoutModel",
          "model_module_version": "1.2.0",
          "state": {
            "_model_module": "@jupyter-widgets/base",
            "_model_module_version": "1.2.0",
            "_model_name": "LayoutModel",
            "_view_count": null,
            "_view_module": "@jupyter-widgets/base",
            "_view_module_version": "1.2.0",
            "_view_name": "LayoutView",
            "align_content": null,
            "align_items": null,
            "align_self": null,
            "border": null,
            "bottom": null,
            "display": null,
            "flex": null,
            "flex_flow": null,
            "grid_area": null,
            "grid_auto_columns": null,
            "grid_auto_flow": null,
            "grid_auto_rows": null,
            "grid_column": null,
            "grid_gap": null,
            "grid_row": null,
            "grid_template_areas": null,
            "grid_template_columns": null,
            "grid_template_rows": null,
            "height": null,
            "justify_content": null,
            "justify_items": null,
            "left": null,
            "margin": null,
            "max_height": null,
            "max_width": null,
            "min_height": null,
            "min_width": null,
            "object_fit": null,
            "object_position": null,
            "order": null,
            "overflow": null,
            "overflow_x": null,
            "overflow_y": null,
            "padding": null,
            "right": null,
            "top": null,
            "visibility": null,
            "width": null
          }
        },
        "d2c3dcc41eca4f20af9c8903c6deafd5": {
          "model_module": "@jupyter-widgets/controls",
          "model_name": "DescriptionStyleModel",
          "model_module_version": "1.5.0",
          "state": {
            "_model_module": "@jupyter-widgets/controls",
            "_model_module_version": "1.5.0",
            "_model_name": "DescriptionStyleModel",
            "_view_count": null,
            "_view_module": "@jupyter-widgets/base",
            "_view_module_version": "1.2.0",
            "_view_name": "StyleView",
            "description_width": ""
          }
        }
      }
    }
  },
  "cells": [
    {
      "cell_type": "markdown",
      "metadata": {
        "id": "view-in-github",
        "colab_type": "text"
      },
      "source": [
        "<a href=\"https://colab.research.google.com/github/ByungjunKim/KoreanHistoryDatabase/blob/master/KoreanHistoryDatabase_Scrap.ipynb\" target=\"_parent\"><img src=\"https://colab.research.google.com/assets/colab-badge.svg\" alt=\"Open In Colab\"/></a>"
      ]
    },
    {
      "cell_type": "markdown",
      "source": [
        "# 한국사데이터베이스 - 한국근현대잡지자료\n",
        "작성자 : 김병준(KAIST)"
      ],
      "metadata": {
        "id": "NPBaJcRommrz"
      }
    },
    {
      "cell_type": "markdown",
      "source": [
        "### 스크래핑 준비"
      ],
      "metadata": {
        "id": "5X2clL4-mkwG"
      }
    },
    {
      "cell_type": "code",
      "source": [
        "pip install -U requests"
      ],
      "metadata": {
        "colab": {
          "base_uri": "https://localhost:8080/"
        },
        "id": "m7k0VTzrRtsX",
        "outputId": "d07b87eb-fc98-4bb3-cbdc-8a28d3160380"
      },
      "execution_count": 7,
      "outputs": [
        {
          "output_type": "stream",
          "name": "stdout",
          "text": [
            "Requirement already satisfied: requests in /usr/local/lib/python3.10/dist-packages (2.31.0)\n",
            "Requirement already satisfied: charset-normalizer<4,>=2 in /usr/local/lib/python3.10/dist-packages (from requests) (3.3.2)\n",
            "Requirement already satisfied: idna<4,>=2.5 in /usr/local/lib/python3.10/dist-packages (from requests) (3.6)\n",
            "Requirement already satisfied: urllib3<3,>=1.21.1 in /usr/local/lib/python3.10/dist-packages (from requests) (2.0.7)\n",
            "Requirement already satisfied: certifi>=2017.4.17 in /usr/local/lib/python3.10/dist-packages (from requests) (2023.11.17)\n"
          ]
        }
      ]
    },
    {
      "cell_type": "code",
      "execution_count": 105,
      "metadata": {
        "id": "DSikDPOrQgPq"
      },
      "outputs": [],
      "source": [
        "import pandas as pd\n",
        "import numpy as np\n",
        "import requests\n",
        "from bs4 import BeautifulSoup\n",
        "import urllib3\n",
        "urllib3.disable_warnings(urllib3.exceptions.InsecureRequestWarning)\n",
        "import time\n",
        "from tqdm.auto import tqdm"
      ]
    },
    {
      "cell_type": "code",
      "source": [
        "# 한국근현대잡지자료 - 대강자강회월보\n",
        "url = 'http://db.history.go.kr/id/ma_001_0010_0010'"
      ],
      "metadata": {
        "id": "Ld5fflnRRB11"
      },
      "execution_count": 4,
      "outputs": []
    },
    {
      "cell_type": "code",
      "source": [
        "# Create a session object with SSL verification disabled\n",
        "session = requests.Session()\n",
        "session.verify = False\n",
        "\n",
        "# Make a request using the session object\n",
        "response = session.get(url)\n",
        "\n",
        "# Print the response\n",
        "# print(response.text)"
      ],
      "metadata": {
        "id": "pWkj2E-ORhuM"
      },
      "execution_count": null,
      "outputs": []
    },
    {
      "cell_type": "code",
      "source": [
        "# Parse the HTML document\n",
        "soup = BeautifulSoup(response.content, 'lxml')\n",
        "soup"
      ],
      "metadata": {
        "id": "eTPi2p2tSSD_"
      },
      "execution_count": null,
      "outputs": []
    },
    {
      "cell_type": "code",
      "source": [
        "main = soup.find(class_=\"cont_view\")\n",
        "main"
      ],
      "metadata": {
        "id": "GPw7JT0aT0Xl"
      },
      "execution_count": null,
      "outputs": []
    },
    {
      "cell_type": "markdown",
      "source": [
        "### 메타 데이터"
      ],
      "metadata": {
        "id": "Ko8Bx7TnUKKm"
      }
    },
    {
      "cell_type": "code",
      "source": [
        "# Find the table element\n",
        "table = main.find('table')\n",
        "\n",
        "# Extract the data from the table\n",
        "metadata = {}\n",
        "for row in table.find_all('tr'):\n",
        "    key = row.th.text\n",
        "    value = row.td.text.strip()  # Remove leading/trailing whitespace\n",
        "    metadata[key] = value\n",
        "metadata"
      ],
      "metadata": {
        "colab": {
          "base_uri": "https://localhost:8080/"
        },
        "id": "QM8CPdo_Rl14",
        "outputId": "5a581e9f-aad5-459d-ad2c-a2438fdd0216"
      },
      "execution_count": 40,
      "outputs": [
        {
          "output_type": "execute_result",
          "data": {
            "text/plain": [
              "{'잡지명': '대한자강회월보 제1호',\n",
              " '발행일': '1906년 07월\\xa031일',\n",
              " '기사제목': '大韓自强會月報序［三編］',\n",
              " '기사형태': '논설'}"
            ]
          },
          "metadata": {},
          "execution_count": 40
        }
      ]
    },
    {
      "cell_type": "markdown",
      "source": [
        "### 본문"
      ],
      "metadata": {
        "id": "Vl-iEOPXUO2s"
      }
    },
    {
      "cell_type": "code",
      "source": [
        "main.find(id=\"cont_view\")"
      ],
      "metadata": {
        "colab": {
          "base_uri": "https://localhost:8080/"
        },
        "id": "j0SjQG2SRQpD",
        "outputId": "d6617684-6855-44cb-d041-b974cb2ec485"
      },
      "execution_count": 41,
      "outputs": [
        {
          "output_type": "execute_result",
          "data": {
            "text/plain": [
              "<div id=\"cont_view\" style=\"margin-left:20px;\"><div style=\"text-align:justify;word-break:break-all;\"><b>大韓自强會月報序［三編］</b><br/></div><div style=\"text-align:justify;word-break:break-all;\">日에 有客이 促膝附耳고 叩之于余 曰 <span style=\"color:#336666\" title=\"단체\">自强會</span>之名稱과 及 其 趣旨 業己公佈大世矣라. 固不容再問이어니와 必其裏情이 或有니 願一聞之노라. 余ㅣ 曰 惡라 是何言也오 君之 所謂 裏情은 表面으로 稱云自强이라고 其 內容은 浮沈渾敦야 阿私作俑을 是云者歟아 抑或外假華名고 內挾僞雜야 以營營於肥已之私 是云者歟아 抑 或 形式上으로 腐敗 攻擊되 實地 情衷은 徒藉美名고 終無事行之可能結局者 是云歟아 於 此三者에 有一焉이면 其 已强者도 必衰弱乃己어늘 況如今萎 微懦弱之吾人이 奚暇에 有自强之希望哉아 本會 趣旨 及 名稱은 表裏 均一야 無他裏情은 斷然靡間이어늘 今 君之問이 有此訝點니 是 謂自强之必無其力而恐有有初鮮終之歎歟아 此ㅣ 吾國 所以蒙未開之誚也라 君如未信커던 請訂諸本會之月報라 此 卽 本會之機關 精神也니 於是乎에 其可觀乎져 客이 唯唯曰 果然 乎哉아.</div><div style=\"text-align:justify;word-break:break-all;\"><span style=\"color:#336666\" title=\"이름\">光武</span> 十年 七月 日 會長 <span style=\"color:#336666\" title=\"이름\">尹致昊</span></div><div style=\"text-align:justify;word-break:break-all;\">●會之有報 何歟오 曰 使會員讀之也니라 其 使 會員讀之 何歟오 曰 欲其求自强之道也니라. 其 不許非會員讀之 何歟오 曰 否라 讀之 自會員始오 非不許非會員也라. 苟求自强之道면 則 普天下仁人君子ㅣ 皆將讀之니 而況爲我韓人者哉리오 然我韓之委靡至＜1＞此 皆尙文之罪也어늘 而今又使之讀書 何歟오 曰 書能令人弱이오 亦能令人强이니 愚請因是而痛論之호리라. 夫黃老之談이 足以亡晋氏오 奉天之詔ㅣ 足以復唐室니 書之感人이 其效固不淺尠矣오 且自古俊傑之士ㅣ 必要識時務니 時務者 非他也라 吾旣生今日之世니 則 當服今日之衣고 當喫今日之飯고 當讀今日之書고 當圖今日之强也라. 近見迂儒輩ㅣ 每以古昔稱道나 然不知世殊者 人亦殊고 人殊者 事亦殊고 事殊者 書亦殊니 唐虞三代之書ㅣ 果盡의 則不必更有秦漢書오 秦漢書ㅣ 果盡의 則不必更有唐宋書오 唐宋書ㅣ 果盡의 則不必更有明淸書오 明淸書ㅣ 果盡矣 則不必更有泰西書오 泰西書ㅣ 果盡의 則不必更有<span style=\"color:#336666\" title=\"단체\">自强會</span>月報書也라 夫然則會報之行이 是豈得己者耶아 吾已勉吾自强고 而又復勉公者 誠恐志不一而力分 故耳라 吾己自强고 公又復自强이면 則是得二人之自强也오 公이 又復勉公之傍人고 公之傍人이 又 復勉其傍人이면 則是得四人之自强也니 由此而至於得二千萬口之自强이면 則國家之政治 可以改善이오 世界之羈絆을 可以出脫이니 然則 諸公之讀會報ㅣ 亦豈得己者耶아 嗚呼라 鷄旣鳴의오 東方이 旣白의라 其以兩手로 擦開睡餘之眼而讀之면 非惟吾之幸이라 亦 諸公之幸也오 非惟諸公之幸이라 亦 全國之幸也라 노라.＜2＞</div><div style=\"text-align:justify;word-break:break-all;\"><span style=\"color:#336666\" title=\"이름\">南嶽居士</span><span style=\"color:#336666\" title=\"이름\">李沂</span> 識</div><div style=\"text-align:justify;word-break:break-all;\">●韓國介在乎日淸俄三國間國弱小而民未開當初受淸國壓制國勢日萎苶日淸交戰後雖脫 淸國羈絆不堪於日本警醒竊欲依俄國以避之日俄開仗俄國連敗東亞之大勢將歸於日本也愕然失色復賴於日本矣嗚呼隣强竟勢間者爲强者所左右如韓國者亦難哉雖然使韓國爲韓國豈無其道也哉然而韓國當路者少達觀乏勇斷每一逢國難左顧右盻徒欲依隣强以謀苟安故聞俄國强大冠歐洲則心動焉見日本勃興如旭日則心傾焉聞淸國尨大如眠獅子他年富强不可測則復動其意徒事大附勢陽爲信賴陰懷狐疑如斯而其國獨立者天下未嘗有之也.</div><div style=\"text-align:justify;word-break:break-all;\">蓋韓國二千萬人中豈無達者也哉余嘗結交其士君子知有老練精達之人傑見有少壯有爲之人士而今則如此何也政治法制未完備人才不得其處君民不共利害上下不同喜憂故也若君民共利害上下同喜憂施敎育進人智勸殖産開富源破四色仕路擇用人才使人心不倦有所自恃則韓國富强可期而待而已矣今也世界文明列國環視之下誰能以兵强之故擅得侵略他國哉天道無親常與正義國雖小勿自畏人雖貧勿自侮唯顧正義如何耳國旣守正義上下協力則雖不養兵練武亦足以對峙列强矣蓋小國之所以强在守正義貧國之所以富在敎育殖産上下協力守正義施敎育勸殖産＜3＞是在今日實爲韓國之急務也嗚呼韓國官民僉君子欲謀其自主獨立而列於世界文明國則在蹈其爲文明國之軏道而莫敢或反其通義通法而已矣是<span style=\"color:#336666\" title=\"단체\">大韓自强會</span>之趣旨目的而月報則 本會言動之寫眞機關也遂記一言於卷端以代序文</div><div style=\"text-align:justify;word-break:break-all;\"><span style=\"color:#336666\" title=\"이름\">金陵</span><span style=\"color:#336666\" title=\"이름\">大垣丈夫</span></div><div style=\"text-align:justify;word-break:break-all;\"><span style=\"color:#336666\" title=\"이름\">南嵩山人</span>曰誰道日本之少文章哉此篇文字明確正大其組織極精緻極宏博至其論國家正義處尤切時病令人神動意踴下頂門之一針撞警世之大鐘讀者須三復玩繹焉＜4＞</div><div style=\"text-align:justify;word-break:break-all;\">＜1-4＞</div><br/></div>"
            ]
          },
          "metadata": {},
          "execution_count": 41
        }
      ]
    },
    {
      "cell_type": "code",
      "source": [
        "paragraphs = main.find(id=\"cont_view\").find_all('div')"
      ],
      "metadata": {
        "id": "3PeKLnLbUzmE"
      },
      "execution_count": 44,
      "outputs": []
    },
    {
      "cell_type": "code",
      "source": [
        "[p.text.strip() for p in paragraphs]"
      ],
      "metadata": {
        "colab": {
          "base_uri": "https://localhost:8080/"
        },
        "id": "SI3TBSPSW-bm",
        "outputId": "f2a33fa5-7aa0-48fd-8e60-360bc47c0387"
      },
      "execution_count": 47,
      "outputs": [
        {
          "output_type": "execute_result",
          "data": {
            "text/plain": [
              "['大韓自强會月報序［三編］',\n",
              " '日에 有客이 促膝附耳\\uf537고 叩之于余 曰 自强會之名稱과 及 其 趣旨\\ue285 業己公佈大世矣라. 固不容再問이어니와 必其裏情이 或有\\uf537니 願一聞之\\uf537노라. 余ㅣ 曰 惡라 是何言也오 君之 所謂 裏情은 表面으로 稱云自强이라\\uf537고 其 內容은 浮沈渾敦\\uf537야 阿私作俑을 是云者歟아 抑或外假華名\\uf537고 內挾僞雜\\uf537야 以營營於肥已之私\\ue470 是云者歟아 抑 或 形式上으로 腐敗\\ue470 攻擊\\uf537되 實地 情衷은 徒藉美名\\uf537고 終無事行之可能結局者\\ue470 是云歟아 於 此三者에 有一焉이면 其 已强者도 必衰弱乃己어늘 況如今萎 微懦弱之吾人이 奚暇에 有自强之希望哉아 本會 趣旨 及 名稱은 表裏 均一\\uf537야 無他裏情은 斷然靡間이어늘 今 君之問이 有此訝點\\uf537니 是\\ue285 謂自强之必無其力而恐有有初鮮終之歎歟아 此ㅣ 吾國 所以蒙未開之誚也라 君如未信커던 請訂諸本會之月報\\uf537라 此 卽 本會之機關 精神也니 於是乎에 其可觀乎\\ue0cd져 客이 唯唯曰 果然 乎哉아.',\n",
              " '光武 十年 七月 日 會長 尹致昊',\n",
              " '●會之有報\\ue285 何歟오 曰 使會員讀之也니라 其 使 會員讀之\\ue285 何歟오 曰 欲其求自强之道也니라. 其 不許非會員讀之\\ue285 何歟오 曰 否라 讀之\\ue470 自會員始오 非不許非會員也라. 苟求自强之道면 則 普天下仁人君子ㅣ 皆將讀之니 而況爲我韓人者哉리오 然我韓之委靡至＜1＞此\\ue285 皆尙文之罪也어늘 而今又使之讀書\\ue285 何歟오 曰 書能令人弱이오 亦能令人强이니 愚請因是而痛論之호리라. 夫黃老之談이 足以亡晋氏오 奉天之詔ㅣ 足以復唐室\\uf537니 書之感人이 其效固不淺尠矣오 且自古俊傑之士ㅣ 必要識時務니 時務者\\ue285 非他也라 吾旣生今日之世\\uf537니 則 當服今日之衣\\uf537고 當喫今日之飯\\uf537고 當讀今日之書\\uf537고 當圖今日之强也라. 近見迂儒輩ㅣ 每以古昔稱道나 然不知世殊者\\ue285 人亦殊\\uf537고 人殊者\\ue285 事亦殊\\uf537고 事殊者\\ue285 書亦殊\\uf537니 唐虞三代之書ㅣ 果盡의\\ue3aa 則不必更有秦漢書오 秦漢書ㅣ 果盡의\\ue3aa 則不必更有唐宋書오 唐宋書ㅣ 果盡의\\ue3aa 則不必更有明淸書오 明淸書ㅣ 果盡矣\\ue3aa 則不必更有泰西書오 泰西書ㅣ 果盡의\\ue3aa 則不必更有自强會月報書也라 夫然則會報之行이 是豈得己者耶아 吾已勉吾自强\\uf537고 而又復勉公者\\ue285 誠恐志不一而力分 故耳라 吾己自强\\uf537고 公又復自强이면 則是得二人之自强也오 公이 又復勉公之傍人\\uf537고 公之傍人이 又 復勉其傍人이면 則是得四人之自强也니 由此而至於得二千萬口之自强이면 則國家之政治\\ue470 可以改善이오 世界之羈絆을 可以出脫이니 然則 諸公之讀會報ㅣ 亦豈得己者耶아 嗚呼라 鷄旣鳴의오 東方이 旣白의라 其以兩手로 擦開睡餘之眼而讀之면 非惟吾之幸이라 亦 諸公之幸也오 非惟諸公之幸이라 亦 全國之幸也라 \\uf537노라.＜2＞',\n",
              " '南嶽居士李沂 識',\n",
              " '●韓國介在乎日淸俄三國間國弱小而民未開當初受淸國壓制國勢日萎苶日淸交戰後雖脫 淸國羈絆不堪於日本警醒竊欲依俄國以避之日俄開仗俄國連敗東亞之大勢將歸於日本也愕然失色復賴於日本矣嗚呼隣强竟勢間者爲强者所左右如韓國者亦難哉雖然使韓國爲韓國豈無其道也哉然而韓國當路者少達觀乏勇斷每一逢國難左顧右盻徒欲依隣强以謀苟安故聞俄國强大冠歐洲則心動焉見日本勃興如旭日則心傾焉聞淸國尨大如眠獅子他年富强不可測則復動其意徒事大附勢陽爲信賴陰懷狐疑如斯而其國獨立者天下未嘗有之也.',\n",
              " '蓋韓國二千萬人中豈無達者也哉余嘗結交其士君子知有老練精達之人傑見有少壯有爲之人士而今則如此何也政治法制未完備人才不得其處君民不共利害上下不同喜憂故也若君民共利害上下同喜憂施敎育進人智勸殖産開富源破四色仕路擇用人才使人心不倦有所自恃則韓國富强可期而待而已矣今也世界文明列國環視之下誰能以兵强之故擅得侵略他國哉天道無親常與正義國雖小勿自畏人雖貧勿自侮唯顧正義如何耳國旣守正義上下協力則雖不養兵練武亦足以對峙列强矣蓋小國之所以强在守正義貧國之所以富在敎育殖産上下協力守正義施敎育勸殖産＜3＞是在今日實爲韓國之急務也嗚呼韓國官民僉君子欲謀其自主獨立而列於世界文明國則在蹈其爲文明國之軏道而莫敢或反其通義通法而已矣是大韓自强會之趣旨目的而月報則 本會言動之寫眞機關也遂記一言於卷端以代序文',\n",
              " '金陵大垣丈夫',\n",
              " '南嵩山人曰誰道日本之少文章哉此篇文字明確正大其組織極精緻極宏博至其論國家正義處尤切時病令人神動意踴下頂門之一針撞警世之大鐘讀者須三復玩繹焉＜4＞',\n",
              " '＜1-4＞']"
            ]
          },
          "metadata": {},
          "execution_count": 47
        }
      ]
    },
    {
      "cell_type": "markdown",
      "source": [
        "### 색인어"
      ],
      "metadata": {
        "id": "i4QZr1b9Y0ru"
      }
    },
    {
      "cell_type": "code",
      "source": [
        "index = soup.find(class_=\"cont_side\")\n",
        "index"
      ],
      "metadata": {
        "colab": {
          "base_uri": "https://localhost:8080/"
        },
        "id": "jY9GIF8AY1i2",
        "outputId": "d76a4090-e5c6-4336-a81e-f32b8274276a"
      },
      "execution_count": 49,
      "outputs": [
        {
          "output_type": "execute_result",
          "data": {
            "text/plain": [
              "<div class=\"cont_side\"><div class=\"csdan\"><strong><img alt=\"색인어\" src=\"/images/sub/txt_cinf0_t02.gif\"/></strong><div><b>이름\n",
              "\t\t\t\t:\n",
              "\t\t\t</b><a href=\"javascript:;\" style=\"cursor:default;\"><span style=\"color:#336666\" title=\"이름\">光武</span></a>,<a href=\"javascript:;\" style=\"cursor:default;\"><span style=\"color:#336666\" title=\"이름\">尹致昊</span></a>,<a href=\"javascript:;\" style=\"cursor:default;\"><span style=\"color:#336666\" title=\"이름\">南嶽居士</span></a>,<a href=\"javascript:;\" style=\"cursor:default;\"><span style=\"color:#336666\" title=\"이름\">李沂</span></a>,<a href=\"javascript:;\" style=\"cursor:default;\"><span style=\"color:#336666\" title=\"이름\">金陵</span></a>,<a href=\"javascript:;\" style=\"cursor:default;\"><span style=\"color:#336666\" title=\"이름\">大垣丈夫</span></a>,<a href=\"javascript:;\" style=\"cursor:default;\"><span style=\"color:#336666\" title=\"이름\">南嵩山人</span></a><br/><b>단체\n",
              "\t\t\t\t:\n",
              "\t\t\t</b><a href=\"javascript:;\" style=\"cursor:default;\"><span style=\"color:#336666\" title=\"단체\">自强會</span></a>,<a href=\"javascript:;\" style=\"cursor:default;\"><span style=\"color:#336666\" title=\"단체\">自强會</span></a>,<a href=\"javascript:;\" style=\"cursor:default;\"><span style=\"color:#336666\" title=\"단체\">大韓自强會</span></a><br/></div></div></div>"
            ]
          },
          "metadata": {},
          "execution_count": 49
        }
      ]
    },
    {
      "cell_type": "code",
      "source": [
        "# Find all a elements with the title attribute\n",
        "links = index.find_all('a')\n",
        "\n",
        "# Create a dictionary with title as key and text as value\n",
        "result = {}\n",
        "for link in links:\n",
        "    title = link.span['title']\n",
        "    text = link.span.text\n",
        "    if title not in result:\n",
        "        result[title] = []\n",
        "    result[title].append(text)\n",
        "\n",
        "# Print the dictionary\n",
        "print(result)"
      ],
      "metadata": {
        "colab": {
          "base_uri": "https://localhost:8080/"
        },
        "id": "lStxkcufalkh",
        "outputId": "5413165c-de1d-40a9-bf7c-71f9eb34049d"
      },
      "execution_count": 54,
      "outputs": [
        {
          "output_type": "stream",
          "name": "stdout",
          "text": [
            "{'이름': ['光武', '尹致昊', '南嶽居士', '李沂', '金陵', '大垣丈夫', '南嵩山人'], '단체': ['自强會', '自强會', '大韓自强會']}\n"
          ]
        }
      ]
    },
    {
      "cell_type": "markdown",
      "source": [
        "### 함수화"
      ],
      "metadata": {
        "id": "ghOZ8BiIa-RK"
      }
    },
    {
      "cell_type": "code",
      "source": [
        "def fill_missing_keys_with_none(dict, keys):\n",
        "  \"\"\"\n",
        "  Fills missing keys in a dictionary with None.\n",
        "\n",
        "  Args:\n",
        "    dict: The dictionary to fill.\n",
        "    keys: A list of keys to check.\n",
        "\n",
        "  Returns:\n",
        "    A new dictionary with all keys filled with None if they are missing.\n",
        "  \"\"\"\n",
        "\n",
        "  new_dict = {}\n",
        "  for key in keys:\n",
        "    new_dict[key] = dict.get(key, None)\n",
        "\n",
        "  return new_dict"
      ],
      "metadata": {
        "id": "ZdHQsw62ny_p"
      },
      "execution_count": 81,
      "outputs": []
    },
    {
      "cell_type": "code",
      "source": [
        "def extract_data(url):\n",
        "  data ={}\n",
        "  data['url'] = url\n",
        "  # Make a request using the session object\n",
        "  session = requests.Session()\n",
        "  session.verify = False\n",
        "  response = session.get(url)\n",
        "  soup = BeautifulSoup(response.content, 'lxml')\n",
        "  main = soup.find(class_=\"cont_view\")\n",
        "\n",
        "  #메타 정보\n",
        "  table = main.find('table')\n",
        "  for row in table.find_all('tr'):\n",
        "      key = row.th.text\n",
        "      value = row.td.text.strip()  # Remove leading/trailing whitespace\n",
        "      data[key] = value\n",
        "  data = fill_missing_keys_with_none(data,['url','잡지명','발행일','가사제목','필자','기사형태'])\n",
        "\n",
        "  #본문\n",
        "  paragraphs = main.find(id=\"cont_view\").find_all('div')\n",
        "  data['paragraphs'] = [p.text.strip() for p in paragraphs]\n",
        "\n",
        "  #색인어\n",
        "  try:\n",
        "    index = soup.find(class_=\"cont_side\").find_all('a')\n",
        "    idx_dict={}\n",
        "    for link in links:\n",
        "        title = link.span['title']\n",
        "        text = link.span.text\n",
        "        if title not in idx_dict:\n",
        "            idx_dict[title] = []\n",
        "        idx_dict[title].append(text)\n",
        "    # 없는 색인어에 None 추가\n",
        "    idx_dict = fill_missing_keys_with_none(idx_dict,['이름','지명','단체','관서','기타'])\n",
        "    data.update(idx_dict)\n",
        "  except AttributeError:\n",
        "    # print('색인어 없음')\n",
        "    idx_dict = {'이름':None,'지명':None,'단체':None,'관서':None,'기타':None}\n",
        "    data.update(idx_dict)\n",
        "  return data"
      ],
      "metadata": {
        "id": "SjFZhyxHa_a-"
      },
      "execution_count": 96,
      "outputs": []
    },
    {
      "cell_type": "code",
      "source": [
        "extract_data('https://db.history.go.kr/id/ma_001_0010_0020')"
      ],
      "metadata": {
        "colab": {
          "base_uri": "https://localhost:8080/"
        },
        "id": "B1hLyvRzcn0_",
        "outputId": "dc354c5e-fe78-4227-86b3-3e71c733ffe6"
      },
      "execution_count": 98,
      "outputs": [
        {
          "output_type": "execute_result",
          "data": {
            "text/plain": [
              "{'url': 'http://db.history.go.kr/id/ma_001_0010_0020',\n",
              " '잡지명': '대한자강회월보 제1호',\n",
              " '발행일': '1906년 07월\\xa031일',\n",
              " '가사제목': None,\n",
              " '필자': None,\n",
              " '기사형태': '논설',\n",
              " 'paragraphs': ['大韓自强會月報刊行祝辭',\n",
              "  '此 月에 知現世此月之事\\uf537고 來月에 知現世來月之事\\uf537야 有參互應用之術則可謂識時오 識時則可謂俊傑이오 惟俊傑이 可以經理國家\\uf537\\ue283니 月報云者\\ue285 爲報現世當月之事者也라. 故로 月一發刊\\uf537야 切有望於愛讀諸君之並做識時俊傑而 經理國家者乎\\ue0cd져 余於大韓自强會月報第一號之發刊에 虔虔ㅡ炷心香으로 謹祝我全國同胞 曰 國存而會亦存\\uf537고 國不存則會亦不存\\uf537며 會存而報亦存\\uf537고 會不存則報亦不存이니 惟此會與報\\ue285 欲與國家共存廢者也라. 然則 推愛國心\\uf537야 以之愛會\\uf537고 推愛會心\\uf537야 以之愛報ㅣ 可也니 愛之\\ue470 當如何오 莫如我全國 同胞ㅣ 無一人不讀此報也로다.＜4＞試問古今天下에 可讀之書ㅣ 甚多\\uf537야 如 倫理 道德 則 聖賢之書\\ue470 可讀이며 宇內故事則歷代之史\\ue470 可讀이며 文藻詞華則諸子之作을 可讀이며 又如 學術 技藝 等 歐米文明之萬種書類\\ue470 皆可讀之어늘 而必祝其全國同胞之無一人不讀大韓自强會月報者\\ue285 何哉오 曰 惟讀此而 後에 乃能培養祖國之精神\\uf537며 推察世界之現狀\\uf537야 可達於恢復國權之正路故也로다. 同胞乎同胞乎여 競爭은 此何等時代乎며 弱昧\\ue285 我何 等 地位乎아 腔子裏一斗熱血과 腦膸中一片靈覺이 無則已矣어니와 苟具有之則以名以義에 何忍不讀此大韓自强會月報哉아 余將以此報로 認做本會天秤錘\\uf537야 測量同胞愛國心\\uf537노니 若天이 悔禍我邦이시면 尙其佑啓民衷가 頌曰 南方之强非我之强北方之强非我之强 獨立自主在我自强漢水終南証我自强於萬斯年永保自强 雲庭尹孝定',\n",
              "  '○大韓은 萬國之一帝國이오 自强會\\ue285 帝國之一團體오 月報\\ue285 又 自强會之一機關也ㅣ 니 此 三言에 可以知國如何國이며 會如何會며 報如何報나 然이나 仰之崇慕之深에 有不能自己者\\uf537야 又爲之歌\\uf537니 歌에 曰',\n",
              "  '不羈不倚兮여 惟我韓之强이로다. 不變不塞兮여 惟我會之强이로다. 寬柔以敎兮여 惟我報之强이로다 南方之强歟아 北方之强歟아 於萬斯年에＜5＞惟大韓之自强이로다. 强渽矯强哉矯여 春湖金相範',\n",
              "  '○嘗聞國之本은 在於民\\uf537고 民之本은 在於學術\\uf537\\ue283니 勿論 政治 宗敎 文學 經濟 兵備 及 農牧 商賈 工藝之 事爲國之 具에 精其學妙其術이라야 方可曰 國爲民이라\\uf537니 此\\ue285 爲國爲民之義務也요 西人有言曰 民均智識이면 爲國根基\\uf537야 其堪久永保之力이 固不可與英雄豪傑이 暴興倔起者로 同日而語也라 \\uf537니 此\\ue285 强國强民之至論也라 處今日而講究 其學術之要컨\\ue3aa 莫先於智識이니 智識이 發達이면 其於 政治 宗敎 文學 經濟 兵備及 農牧 商賈 工藝之事爲國之具에 精其學妙其術은 可謂 網擧而目張矣라. 然則 今此自强會之刊行月報가 寔由  與二千萬同胞로 擴見聞均智識\\uf537야 二千萬爲一心\\uf537야 爲國義務\\ue470 均擔於二千萬雙肩之上\\uf537야 自强不息而聯合用力이면 不啻挽回國權\\uf537고 鞏固邦 基而已라 抑亦烝烝同上\\uf537야 與環球列强으로 並驅而凌駕矣라 \\uf537노라. 金碩桓',\n",
              "  '○文以記言\\uf537며 言以經事\\uf537\\ue283니 故로 不言이면 雖有事나 莫可知也요 不文이면 雖有言이나 莫可傳也ㅣ 라. 然則 文者\\ue285 傳之爲貴며 講之爲貴여늘 況乎今日에 世運이 開明\\uf537야 人智ㅣ 日新之秋乎아 我韓 人士ㅣ 亦有開明之志\\uf537며 亦有自强之意호\\ue3a8 每恨言不通志\\uf537며 文不播傳\\uf537더니 幸有僉君子ㅣ 深憂自由之無權\\uf537며 遠慮自强之無策일가\\uf537야＜6＞乃設會立規\\uf537고 又著文爲誌\\uf537야 定爲會中月報\\uf537야 將欲傳播遠近\\uf537야 使覽者 讀者로 有所感動焉\\uf537며 有所激勵焉\\uf537야 以至乎懦夫立之境\\uf537야 鼓舞一世之文運코져\\uf537니 其 苦心熱誠이 豈不令人感服哉아 況乎遠近內外間에 雖有志 於自由自强之道\\uf537야 屬望於開明進步之域호\\ue3a8 或 有故而未叅\\uf537며 或 路遠而莫致者ㅣ心竊恨焉타가 聞自强會月報之刊出\\uf537면 必爭先購覽\\uf537야 一以審究自强之本旨\\uf537며 一以擴拓新知之前道\\uf537야 世人의 心志를 堅確\\uf537며 氣節을 梗槪케\\uf537야 見聞이 增進\\uf537며 事業이 成就케 되리니 人豈不悅之喜之哉아 然則 月報之稗益於世也ㅣ 必有勝於警世 木鐸也ㅣ 며 又有勝於家喩戶說也ㅣ 러니 可勝喜幸也ㅣ 며 可勝祝賀哉아 謹爲之蹈舞\\uf537노라 海土尹敦求',\n",
              "  '○易曰 天行健君子 以自强不息盖至誠而無息者 天行也未能無息而不息者君子之自强也 然則自强之義大哉吾同社諸益歎世道之汚下痛國權之陵夷 特設一會曰自强繼刊月報警告 一世所以自强而强人强於家而强於國敎育人材挽回國權諸君之志誠可欽也 噫天之降才不以古今東西有所豊嗇何古昔之隆洽而今時之衰替也 列邦之富强而我韓之微弱也 亶由於强與不强 此自强會之所以作而自强報之所以刊也 唯希覽此書者繼自今誓心勵衆自强於身自强於家愚者可智傾者可正竚見人材＜7＞興國權復而 將凌駕古今雄視東西未始不權輿於此苟如是 今日諸君之苦心其將有辭於天下後世係之以祝曰',\n",
              "  '山之自强 海之自强 唯我自强 與山與海 不倚是德 不息是力 不倚不息',\n",
              "  '奠我邦國 太原池錫永',\n",
              "  '○旨哉自强 大哉自强 人人自强 家家自强 心心自强 事事自强 自强自强 國乃自强 創我會報 起我自强 擴我會報 進我自强 永我會報 鞏我自强 我會之强 我報之强 耳擩目染 志强腦强 惟我同胞 一於自强 然而國家 未有不强 天地悠久 我會自强 日月長明 我報自强 太明軾',\n",
              "  '○嗚呼我韓之失其自强也久矣 衰頹萎敗迄無以自振 於是乎自强之會ㅣ 起焉同胞迷性無以開悟於是乎自强之報ㅣ 作焉然則 自强報之達其目的 卽大韓自强基礎確立之日也 此報之能達 其目的在我同胞之同心愛讀奮發其自强之心也此報之未能達其目的在我同胞之堅閉固拒狀殘其自强之力也 凡有一般愛國之心者ㅣ 莫不對此報而讚之祝之余無容贅辭矣但祝我二千萬人人人手中皆持此自强之報ㅡ冊朝披而暮覽之行吟而走誦之此報之目的於是乎可達哉.',\n",
              "  '何丁林珍洙＜8＞',\n",
              "  '＜4-8＞'],\n",
              " '이름': ['光武', '尹致昊', '南嶽居士', '李沂', '金陵', '大垣丈夫', '南嵩山人'],\n",
              " '지명': None,\n",
              " '단체': ['自强會', '自强會', '大韓自强會'],\n",
              " '관서': None,\n",
              " '기타': None}"
            ]
          },
          "metadata": {},
          "execution_count": 98
        }
      ]
    },
    {
      "cell_type": "markdown",
      "source": [
        "### 자동 수집\n",
        "1번(대한자강회월보)부터 95번(호남평론)까지"
      ],
      "metadata": {
        "id": "-_s--ONDpuQn"
      }
    },
    {
      "cell_type": "code",
      "source": [
        "data_list = []\n",
        "for book_number in range(1, 96):\n",
        "  print(f'{book_number} 번째 책 수집')\n",
        "  for volume_number in tqdm(range(10, 510, 10)):\n",
        "    for article_number in range(10, 510, 10):\n",
        "      id = f\"ma_{book_number:03}_{volume_number:04}_{article_number:04}\"\n",
        "      url = f\"https://db.history.go.kr/id/{id}\"\n",
        "      try:\n",
        "        data_list.append(extract_data(url))\n",
        "      except AttributeError:\n",
        "        break # 다음 호수로 넘기기\n",
        "      time.sleep(0.5)"
      ],
      "metadata": {
        "colab": {
          "base_uri": "https://localhost:8080/",
          "height": 68,
          "referenced_widgets": [
            "70bdd7f411654fbca6f19a658fe642d1",
            "f907064aedc74226a6ea857ce64f39ed",
            "e809a994b91f4d4fa557bd43d366015e",
            "36a64408d4ec428cbddf7558454372d4",
            "5affad87876a40d9b679e1d1b2bcc0f5",
            "89085dfe9e654c02b25874c40e5b401f",
            "16b2cac0113d45d89e9aa446b271b881",
            "d5f2231ca5344eb2aa5eb2b6e14543ab",
            "660f571160d74249beee9b941761c93f",
            "1786a2f0a57a4b64a85cdb1f2587b5e6",
            "d2c3dcc41eca4f20af9c8903c6deafd5"
          ]
        },
        "id": "wKv38-_lpwD5",
        "outputId": "d05b8759-62df-4106-f921-10582a621494"
      },
      "execution_count": null,
      "outputs": [
        {
          "output_type": "stream",
          "name": "stdout",
          "text": [
            "1 번째 책 수집\n"
          ]
        },
        {
          "output_type": "display_data",
          "data": {
            "text/plain": [
              "  0%|          | 0/50 [00:00<?, ?it/s]"
            ],
            "application/vnd.jupyter.widget-view+json": {
              "version_major": 2,
              "version_minor": 0,
              "model_id": "70bdd7f411654fbca6f19a658fe642d1"
            }
          },
          "metadata": {}
        }
      ]
    }
  ]
}